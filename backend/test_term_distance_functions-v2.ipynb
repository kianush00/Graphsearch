{
 "cells": [
  {
   "cell_type": "markdown",
   "metadata": {},
   "source": [
    "# Testing GraphSearch Distance Concepts"
   ]
  },
  {
   "cell_type": "markdown",
   "metadata": {},
   "source": [
    "## Load Libraries"
   ]
  },
  {
   "cell_type": "code",
   "execution_count": 11,
   "metadata": {},
   "outputs": [],
   "source": [
    "import srex"
   ]
  },
  {
   "cell_type": "markdown",
   "metadata": {},
   "source": [
    "## Initialize some objects / variables"
   ]
  },
  {
   "cell_type": "code",
   "execution_count": 12,
   "metadata": {},
   "outputs": [],
   "source": [
    "st = srex.PorterStemmer()"
   ]
  },
  {
   "cell_type": "code",
   "execution_count": 13,
   "metadata": {},
   "outputs": [
    {
     "name": "stderr",
     "output_type": "stream",
     "text": [
      "[nltk_data] Downloading package stopwords to\n",
      "[nltk_data]     /Users/patricio/nltk_data...\n",
      "[nltk_data]   Package stopwords is already up-to-date!\n",
      "[nltk_data] Downloading package punkt to /Users/patricio/nltk_data...\n",
      "[nltk_data]   Package punkt is already up-to-date!\n",
      "[nltk_data] Downloading package wordnet to\n",
      "[nltk_data]     /Users/patricio/nltk_data...\n",
      "[nltk_data]   Package wordnet is already up-to-date!\n"
     ]
    },
    {
     "data": {
      "text/plain": [
       "True"
      ]
     },
     "execution_count": 13,
     "metadata": {},
     "output_type": "execute_result"
    }
   ],
   "source": [
    "#Download stopword\n",
    "import nltk\n",
    "nltk.download('stopwords') \n",
    "nltk.download('punkt') # Tokenizers\n",
    "nltk.download('wordnet') # Wordnet"
   ]
  },
  {
   "cell_type": "code",
   "execution_count": 14,
   "metadata": {},
   "outputs": [],
   "source": [
    "stop_words_list = srex.stopwords.words('english') #a small one"
   ]
  },
  {
   "cell_type": "code",
   "execution_count": 15,
   "metadata": {},
   "outputs": [],
   "source": [
    "newStopWords = srex.get_stop_words('en') # a big one"
   ]
  },
  {
   "cell_type": "code",
   "execution_count": 16,
   "metadata": {},
   "outputs": [],
   "source": [
    "stop_words_list.extend(newStopWords) # all together"
   ]
  },
  {
   "cell_type": "markdown",
   "metadata": {},
   "source": [
    "# Calculo de grafos a partir de los términos en un documento"
   ]
  },
  {
   "cell_type": "markdown",
   "metadata": {},
   "source": [
    "La idea es calcular una vecindad de los términos de búsqueda, dentro de un documento. Es decir, qué palabras se encuentran cerca de los términos de busqueda en un documento determinado."
   ]
  },
  {
   "cell_type": "markdown",
   "metadata": {},
   "source": [
    "## Definición de los documentos a analizar"
   ]
  },
  {
   "cell_type": "code",
   "execution_count": 30,
   "metadata": {},
   "outputs": [],
   "source": [
    "# Articulo de revista científica IEEE Explore\n",
    "#doc = srex.get_ieee_explore_article('article_number', '8316016')\n",
    "\n",
    "# Ranking de documentos de IEEE Explore sin ponderación de documentos\n",
    "doc = srex.get_ieee_explore_ranking(\"cyber security\", 5)"
   ]
  },
  {
   "cell_type": "markdown",
   "metadata": {},
   "source": [
    "## Segmentamos el documento en un arreglo de párrafos, segun su puntuación.\n",
    "El grafo en cuestión debiera representar los términos de un concepto presente en los documentos analizados. En este caso existe un problema cuando se quiere generar un grafo con un documento compuesto por varios párrafos. En general, palabras cercanas en los extremos de dos parrafos no siempre comparten la misma idea o concepto, a pesar de ser terminos vecinos. Esto generaría una incosistencia en el grafo generado.\n",
    "Como solución se propone considerar documentos mas pequeños (unitarios) que encierren un sólo concepto o idea. Para ello, definiremos el párrafo como documento unitario, desde los cuales se pueden generar un grafo. Los grafos generados se integran al final del análisis para producir el grafo final correspondiente al documento completo. \n",
    "En la integración se pueden tambien considerar parrafos que comprendan mas de un documento, como por ejemplo un ranking de documentos.\n",
    "\n",
    "Los párrafos son generados entonces a través de los signos de puntuación: punto seguidos y punto aparte.\n",
    "\n",
    "En los calculos siguientes el documento inicial será dividido en sus párrafos generando documentos mas pequeños, que serán analizados como tales."
   ]
  },
  {
   "cell_type": "code",
   "execution_count": 33,
   "metadata": {},
   "outputs": [],
   "source": [
    "parragraphs_list = list(map(lambda x: x['abstract'], doc))"
   ]
  },
  {
   "cell_type": "markdown",
   "metadata": {},
   "source": [
    "## Aplicamos algunas funciones de procesamiento de texto \n",
    "Se utiliza el método **text_transformations()**, que contiene funciones de stop word, stemming, lemma, etc."
   ]
  },
  {
   "cell_type": "code",
   "execution_count": 35,
   "metadata": {},
   "outputs": [],
   "source": [
    "processed_parragraphs_list = list(map(lambda x: srex.text_transformations(x, stop_words_list, lema=True, stem=False), parragraphs_list))"
   ]
  },
  {
   "cell_type": "markdown",
   "metadata": {},
   "source": [
    "#### Print the modified documents (parragraphs)"
   ]
  },
  {
   "cell_type": "markdown",
   "metadata": {},
   "source": [
    "for index, doc in enumerate(processed_parragraphs_list):\n",
    "    print('parragraph',index, ':', doc)"
   ]
  },
  {
   "cell_type": "markdown",
   "metadata": {},
   "source": [
    "## Calculamos la matriz de posiciones\n",
    "Esta matriz corresponde a un arreglo de diccionarios, en donde cada elemento del arreglo corresponde a un parrafo del documento."
   ]
  },
  {
   "cell_type": "code",
   "execution_count": 36,
   "metadata": {},
   "outputs": [],
   "source": [
    "doc_pos_matrix = srex.get_documents_positions_matrix(processed_parragraphs_list)"
   ]
  },
  {
   "cell_type": "markdown",
   "metadata": {},
   "source": [
    "## Calculamos una matriz con la **vecindad** para un término especifico\n",
    "La matriz de vecindad define la distancia entre un término de referencia (busqueda) y los demás términos del documento "
   ]
  },
  {
   "cell_type": "code",
   "execution_count": 37,
   "metadata": {},
   "outputs": [],
   "source": [
    "# Get the vecinity matrix using the following parameters:\n",
    "reference_term         = 'security' "
   ]
  },
  {
   "cell_type": "code",
   "execution_count": 38,
   "metadata": {},
   "outputs": [],
   "source": [
    "# Para calcular la vecindad a un termino de búsqueda definimos una distancia límite de cálculo (limit_distance). Por ejemplo, si limit_distance=4, el cálculo de la vecindad considerará sólo hasta 4 terminos de distancia desde la posición del término de búsqueda. Con esto se evita que se realicen comparaciones cruzadas entre terminos de búsqueda que se encuentran distribuidos a lo largo del documento.\n",
    "limit_distance         = 4 "
   ]
  },
  {
   "cell_type": "code",
   "execution_count": 39,
   "metadata": {},
   "outputs": [],
   "source": [
    "# Sumarize es define la función para procesar (compilar) las distancias de los terminos de la vecinadad. Existen 3 posibles valores: 'none' no aplica ninguna función de sumarización, 'mean' calcula la media de las distancias en la vecinadad, 'median' calcula la mediana de los terminos en la vecinadad.\n",
    "sumarize               = 'none' "
   ]
  },
  {
   "cell_type": "code",
   "execution_count": 40,
   "metadata": {},
   "outputs": [],
   "source": [
    "# Define si el termino de referencia se compara consigo mismo para el cálculo de la vecindad.\n",
    "include_reference_term = False"
   ]
  },
  {
   "cell_type": "code",
   "execution_count": 41,
   "metadata": {},
   "outputs": [],
   "source": [
    "vecinity_matrix = srex.get_vecinity_matrix(doc_pos_matrix, reference_term, limit_distance, sumarize, include_reference_term)"
   ]
  },
  {
   "cell_type": "markdown",
   "metadata": {},
   "source": [
    "## Se reduce la matriz anterior a un diccionario con las distancias de la vecindad\n",
    "Este método procesa las distancia al termino de búsqueda en cada parrafo y genera un diccionario que contiene todas las distancias al termino de referencia, asociadas al documento total.\n",
    "Por ejemplo: supongamos que el documento tiene 2 párrafos. En el primer parrafo 'termA' esta a distancia 2 del término dereferencia, es decir, 'termA':[2]. En el segundo parrafo 'termA' esta a distancia 3 del término dereferencia, es decir, 'termA':[3]. Luego el resultado en el diccionario sería: 'termA':[2,3]"
   ]
  },
  {
   "cell_type": "code",
   "execution_count": 42,
   "metadata": {},
   "outputs": [],
   "source": [
    "unique_vecinity_dict = srex.get_unique_vecinity_dict(vecinity_matrix)"
   ]
  },
  {
   "cell_type": "markdown",
   "metadata": {},
   "source": [
    "## Calculamos un diccionario con los términos más frecuentes de la vecindad\n",
    "Se calcula un nuevo diccionario que contine la frequencia de los vecinos más cercanos al términos de búsqueda."
   ]
  },
  {
   "cell_type": "code",
   "execution_count": 43,
   "metadata": {},
   "outputs": [],
   "source": [
    "terms_freq_dict = {k: len(v) for k, v in unique_vecinity_dict.items()}"
   ]
  },
  {
   "cell_type": "code",
   "execution_count": 44,
   "metadata": {},
   "outputs": [
    {
     "data": {
      "text/plain": [
       "{'framework': 1,\n",
       " 'human': 1,\n",
       " 'fatigue': 1,\n",
       " 'behaviour': 1,\n",
       " 'false': 1,\n",
       " 'sense': 1,\n",
       " 'proposed': 1,\n",
       " 'maximizes': 1,\n",
       " 'attacker': 1,\n",
       " 'searching': 1,\n",
       " 'vulnerability': 4,\n",
       " 'android': 3,\n",
       " 'application': 5,\n",
       " 'exploit': 3,\n",
       " 'load': 1,\n",
       " 'technique': 1,\n",
       " 'order': 1,\n",
       " 'ass': 1,\n",
       " 'risk': 1,\n",
       " 'market': 1,\n",
       " 'suspicious': 1,\n",
       " 'deeply': 1,\n",
       " 'develop': 1,\n",
       " 'solution': 1,\n",
       " 'integration': 1,\n",
       " 'protocol': 1,\n",
       " 'demonstrate': 1,\n",
       " 'data': 1,\n",
       " 'network': 1,\n",
       " 'traffic': 1,\n",
       " 'simulation': 1,\n",
       " 'paradigm': 1,\n",
       " 'spectrum': 1,\n",
       " 'mechanism': 1,\n",
       " 'fail': 1,\n",
       " 'provide': 1,\n",
       " 'adequate': 1,\n",
       " 'neglect': 1,\n",
       " 'online': 1,\n",
       " 'fashion': 1,\n",
       " 'prost': 1,\n",
       " 'constructed': 1,\n",
       " 'based': 1,\n",
       " 'carefully': 1,\n",
       " 'designed': 1,\n",
       " 'building': 1,\n",
       " 'block': 1,\n",
       " 'support': 1,\n",
       " 'arithmetic': 1,\n",
       " 'theoretically': 1,\n",
       " 'prove': 1,\n",
       " 'realize': 1,\n",
       " 'adversary': 1,\n",
       " 'extensively': 1,\n",
       " 'evaluate': 1,\n",
       " 'performance': 1}"
      ]
     },
     "execution_count": 44,
     "metadata": {},
     "output_type": "execute_result"
    }
   ],
   "source": [
    "terms_freq_dict"
   ]
  },
  {
   "cell_type": "markdown",
   "metadata": {},
   "source": [
    "## Ordena los términos más frecuentes de la vecindad"
   ]
  },
  {
   "cell_type": "code",
   "execution_count": 45,
   "metadata": {},
   "outputs": [],
   "source": [
    "import operator\n",
    "sorted_terms_freq_dict = sorted(terms_freq_dict.items(), key=operator.itemgetter(1), reverse=True)"
   ]
  },
  {
   "cell_type": "markdown",
   "metadata": {},
   "source": [
    "## Obtiene los top-N terminos más frecuentes"
   ]
  },
  {
   "cell_type": "code",
   "execution_count": 46,
   "metadata": {},
   "outputs": [
    {
     "data": {
      "text/plain": [
       "dict_keys(['application', 'vulnerability', 'android', 'exploit', 'framework', 'human', 'fatigue', 'behaviour', 'false', 'sense'])"
      ]
     },
     "execution_count": 46,
     "metadata": {},
     "output_type": "execute_result"
    }
   ],
   "source": [
    "N=10\n",
    "first_sorted_terms_freq_dict = {k: v for k, v in list(sorted_terms_freq_dict)[:N]}\n",
    "first_sorted_terms_freq_dict.keys()"
   ]
  },
  {
   "cell_type": "markdown",
   "metadata": {},
   "source": [
    "## Calcula las distancia mediana de los vecinos más frecuentes"
   ]
  },
  {
   "cell_type": "markdown",
   "metadata": {},
   "source": [
    "Consideraremos las distancias mas frecuentes de cada término. Por ejemplo: el término 'european' se presenta cuatro veces a una distancia menor a 5, siendo el valor \"1\" la mediana de todas las distancias de este término."
   ]
  },
  {
   "cell_type": "code",
   "execution_count": 47,
   "metadata": {},
   "outputs": [],
   "source": [
    "from collections import Counter \n",
    "import numpy as np\n",
    "def most_frequent_distance(List): \n",
    "    occurence_count = Counter(List) \n",
    "    return occurence_count.most_common(1)[0][0] \n",
    "\n",
    "most_freq_distance_dict = {k: {'frequency':terms_freq_dict[k], 'distance':np.median(unique_vecinity_dict[k])} for k in first_sorted_terms_freq_dict.keys()}"
   ]
  },
  {
   "cell_type": "code",
   "execution_count": 48,
   "metadata": {},
   "outputs": [
    {
     "data": {
      "text/plain": [
       "{'application': {'frequency': 5, 'distance': 3.0},\n",
       " 'vulnerability': {'frequency': 4, 'distance': 1.5},\n",
       " 'android': {'frequency': 3, 'distance': 2.0},\n",
       " 'exploit': {'frequency': 3, 'distance': 3.0},\n",
       " 'framework': {'frequency': 1, 'distance': 2.0},\n",
       " 'human': {'frequency': 1, 'distance': 4.0},\n",
       " 'fatigue': {'frequency': 1, 'distance': 4.0},\n",
       " 'behaviour': {'frequency': 1, 'distance': 3.0},\n",
       " 'false': {'frequency': 1, 'distance': 2.0},\n",
       " 'sense': {'frequency': 1, 'distance': 1.0}}"
      ]
     },
     "execution_count": 48,
     "metadata": {},
     "output_type": "execute_result"
    }
   ],
   "source": [
    "most_freq_distance_dict"
   ]
  },
  {
   "cell_type": "markdown",
   "metadata": {},
   "source": [
    "## Genera el grafo para los términos vecinos más cercanos a la query"
   ]
  },
  {
   "cell_type": "code",
   "execution_count": 49,
   "metadata": {},
   "outputs": [],
   "source": [
    "graph = srex.getGraphViz(reference_term, most_freq_distance_dict, node_size='0.7')"
   ]
  },
  {
   "cell_type": "code",
   "execution_count": 50,
   "metadata": {},
   "outputs": [
    {
     "name": "stderr",
     "output_type": "stream",
     "text": [
      "Warning: node ''2'', graph 'G' size too small for label\n"
     ]
    },
    {
     "data": {
      "image/svg+xml": [
       "<?xml version=\"1.0\" encoding=\"UTF-8\" standalone=\"no\"?>\n",
       "<!DOCTYPE svg PUBLIC \"-//W3C//DTD SVG 1.1//EN\"\n",
       " \"http://www.w3.org/Graphics/SVG/1.1/DTD/svg11.dtd\">\n",
       "<!-- Generated by graphviz version 2.40.1 (20161225.0304)\n",
       " -->\n",
       "<!-- Title: G Pages: 1 -->\n",
       "<svg width=\"692pt\" height=\"573pt\"\n",
       " viewBox=\"0.00 0.00 692.10 573.48\" xmlns=\"http://www.w3.org/2000/svg\" xmlns:xlink=\"http://www.w3.org/1999/xlink\">\n",
       "<g id=\"graph0\" class=\"graph\" transform=\"scale(1 1) rotate(0) translate(4 569.4788)\">\n",
       "<title>G</title>\n",
       "<polygon fill=\"#ffffff\" stroke=\"transparent\" points=\"-4,4 -4,-569.4788 688.1043,-569.4788 688.1043,4 -4,4\"/>\n",
       "<!-- 0 -->\n",
       "<g id=\"node1\" class=\"node\">\n",
       "<title>0</title>\n",
       "<ellipse fill=\"none\" stroke=\"#000000\" cx=\"383.1207\" cy=\"-281.6614\" rx=\"25\" ry=\"25\"/>\n",
       "<text text-anchor=\"middle\" x=\"383.1207\" y=\"-279.1614\" font-family=\"Times,serif\" font-size=\"10.00\" fill=\"#000000\">security</text>\n",
       "</g>\n",
       "<!-- &#39;1&#39; -->\n",
       "<g id=\"node2\" class=\"node\">\n",
       "<title>&#39;1&#39;</title>\n",
       "<ellipse fill=\"none\" stroke=\"#000000\" stroke-width=\"5\" cx=\"641.9471\" cy=\"-363.1631\" rx=\"25\" ry=\"25\"/>\n",
       "<text text-anchor=\"middle\" x=\"641.9471\" y=\"-360.6631\" font-family=\"Times,serif\" font-size=\"10.00\" fill=\"#000000\">application</text>\n",
       "</g>\n",
       "<!-- 0&#45;&#45;&#39;1&#39; -->\n",
       "<g id=\"edge1\" class=\"edge\">\n",
       "<title>0&#45;&#45;&#39;1&#39;</title>\n",
       "<path fill=\"none\" stroke=\"#000000\" d=\"M407.0065,-289.1828C456.1889,-304.6698 568.29,-339.9693 617.7427,-355.5414\"/>\n",
       "<text text-anchor=\"middle\" x=\"503.3746\" y=\"-326.1621\" font-family=\"Times,serif\" font-size=\"14.00\" fill=\"#000000\">3.0</text>\n",
       "</g>\n",
       "<!-- &#39;2&#39; -->\n",
       "<g id=\"node3\" class=\"node\">\n",
       "<title>&#39;2&#39;</title>\n",
       "<ellipse fill=\"none\" stroke=\"#000000\" stroke-width=\"4\" cx=\"324.8553\" cy=\"-197.4481\" rx=\"25\" ry=\"25\"/>\n",
       "<text text-anchor=\"middle\" x=\"324.8553\" y=\"-194.9481\" font-family=\"Times,serif\" font-size=\"10.00\" fill=\"#000000\">vulnerability</text>\n",
       "</g>\n",
       "<!-- 0&#45;&#45;&#39;2&#39; -->\n",
       "<g id=\"edge2\" class=\"edge\">\n",
       "<title>0&#45;&#45;&#39;2&#39;</title>\n",
       "<path fill=\"none\" stroke=\"#000000\" d=\"M368.718,-260.8446C359.6866,-247.7911 348.0921,-231.0332 339.0923,-218.0254\"/>\n",
       "<text text-anchor=\"middle\" x=\"344.9052\" y=\"-243.235\" font-family=\"Times,serif\" font-size=\"14.00\" fill=\"#000000\">1.5</text>\n",
       "</g>\n",
       "<!-- &#39;3&#39; -->\n",
       "<g id=\"node4\" class=\"node\">\n",
       "<title>&#39;3&#39;</title>\n",
       "<ellipse fill=\"none\" stroke=\"#000000\" stroke-width=\"3\" cx=\"235.8636\" cy=\"-331.9752\" rx=\"25\" ry=\"25\"/>\n",
       "<text text-anchor=\"middle\" x=\"235.8636\" y=\"-329.4752\" font-family=\"Times,serif\" font-size=\"10.00\" fill=\"#000000\">android</text>\n",
       "</g>\n",
       "<!-- 0&#45;&#45;&#39;3&#39; -->\n",
       "<g id=\"edge3\" class=\"edge\">\n",
       "<title>0&#45;&#45;&#39;3&#39;</title>\n",
       "<path fill=\"none\" stroke=\"#000000\" d=\"M359.4613,-289.7452C332.1441,-299.0787 287.4517,-314.349 259.9535,-323.7444\"/>\n",
       "<text text-anchor=\"middle\" x=\"300.7074\" y=\"-310.5448\" font-family=\"Times,serif\" font-size=\"14.00\" fill=\"#000000\">2.0</text>\n",
       "</g>\n",
       "<!-- &#39;4&#39; -->\n",
       "<g id=\"node5\" class=\"node\">\n",
       "<title>&#39;4&#39;</title>\n",
       "<ellipse fill=\"none\" stroke=\"#000000\" stroke-width=\"3\" cx=\"470.1239\" cy=\"-540.4788\" rx=\"25\" ry=\"25\"/>\n",
       "<text text-anchor=\"middle\" x=\"470.1239\" y=\"-537.9788\" font-family=\"Times,serif\" font-size=\"10.00\" fill=\"#000000\">exploit</text>\n",
       "</g>\n",
       "<!-- 0&#45;&#45;&#39;4&#39; -->\n",
       "<g id=\"edge4\" class=\"edge\">\n",
       "<title>0&#45;&#45;&#39;4&#39;</title>\n",
       "<path fill=\"none\" stroke=\"#000000\" d=\"M391.1498,-305.5464C407.7243,-354.8522 445.5563,-467.3952 462.1142,-516.6515\"/>\n",
       "<text text-anchor=\"middle\" x=\"417.632\" y=\"-414.899\" font-family=\"Times,serif\" font-size=\"14.00\" fill=\"#000000\">3.0</text>\n",
       "</g>\n",
       "<!-- &#39;5&#39; -->\n",
       "<g id=\"node6\" class=\"node\">\n",
       "<title>&#39;5&#39;</title>\n",
       "<ellipse fill=\"none\" stroke=\"#000000\" cx=\"336.1152\" cy=\"-433.6329\" rx=\"25\" ry=\"25\"/>\n",
       "<text text-anchor=\"middle\" x=\"336.1152\" y=\"-431.1329\" font-family=\"Times,serif\" font-size=\"10.00\" fill=\"#000000\">framework</text>\n",
       "</g>\n",
       "<!-- 0&#45;&#45;&#39;5&#39; -->\n",
       "<g id=\"edge5\" class=\"edge\">\n",
       "<title>0&#45;&#45;&#39;5&#39;</title>\n",
       "<path fill=\"none\" stroke=\"#000000\" d=\"M375.6726,-305.7417C366.8709,-334.198 352.315,-381.2581 343.5285,-409.6652\"/>\n",
       "<text text-anchor=\"middle\" x=\"350.6005\" y=\"-361.5035\" font-family=\"Times,serif\" font-size=\"14.00\" fill=\"#000000\">2.0</text>\n",
       "</g>\n",
       "<!-- &#39;6&#39; -->\n",
       "<g id=\"node7\" class=\"node\">\n",
       "<title>&#39;6&#39;</title>\n",
       "<ellipse fill=\"none\" stroke=\"#000000\" cx=\"25\" cy=\"-251.0229\" rx=\"25\" ry=\"25\"/>\n",
       "<text text-anchor=\"middle\" x=\"25\" y=\"-248.5229\" font-family=\"Times,serif\" font-size=\"10.00\" fill=\"#000000\">human</text>\n",
       "</g>\n",
       "<!-- 0&#45;&#45;&#39;6&#39; -->\n",
       "<g id=\"edge6\" class=\"edge\">\n",
       "<title>0&#45;&#45;&#39;6&#39;</title>\n",
       "<path fill=\"none\" stroke=\"#000000\" d=\"M357.9384,-279.507C292.1843,-273.8815 115.8773,-258.7978 50.1545,-253.1749\"/>\n",
       "<text text-anchor=\"middle\" x=\"195.0464\" y=\"-270.141\" font-family=\"Times,serif\" font-size=\"14.00\" fill=\"#000000\">4.0</text>\n",
       "</g>\n",
       "<!-- &#39;7&#39; -->\n",
       "<g id=\"node8\" class=\"node\">\n",
       "<title>&#39;7&#39;</title>\n",
       "<ellipse fill=\"none\" stroke=\"#000000\" cx=\"659.1043\" cy=\"-33.6629\" rx=\"25\" ry=\"25\"/>\n",
       "<text text-anchor=\"middle\" x=\"659.1043\" y=\"-31.1629\" font-family=\"Times,serif\" font-size=\"10.00\" fill=\"#000000\">fatigue</text>\n",
       "</g>\n",
       "<!-- 0&#45;&#45;&#39;7&#39; -->\n",
       "<g id=\"edge7\" class=\"edge\">\n",
       "<title>0&#45;&#45;&#39;7&#39;</title>\n",
       "<path fill=\"none\" stroke=\"#000000\" d=\"M402.0902,-264.6155C452.6298,-219.2006 590.0947,-95.6748 640.367,-50.5002\"/>\n",
       "<text text-anchor=\"middle\" x=\"530.2286\" y=\"-161.3578\" font-family=\"Times,serif\" font-size=\"14.00\" fill=\"#000000\">4.0</text>\n",
       "</g>\n",
       "<!-- &#39;8&#39; -->\n",
       "<g id=\"node9\" class=\"node\">\n",
       "<title>&#39;8&#39;</title>\n",
       "<ellipse fill=\"none\" stroke=\"#000000\" cx=\"291.0459\" cy=\"-25\" rx=\"25\" ry=\"25\"/>\n",
       "<text text-anchor=\"middle\" x=\"291.0459\" y=\"-22.5\" font-family=\"Times,serif\" font-size=\"10.00\" fill=\"#000000\">behaviour</text>\n",
       "</g>\n",
       "<!-- 0&#45;&#45;&#39;8&#39; -->\n",
       "<g id=\"edge8\" class=\"edge\">\n",
       "<title>0&#45;&#45;&#39;8&#39;</title>\n",
       "<path fill=\"none\" stroke=\"#000000\" d=\"M374.6236,-257.9754C357.083,-209.0803 317.0456,-97.4748 299.5225,-48.6288\"/>\n",
       "<text text-anchor=\"middle\" x=\"328.0731\" y=\"-157.1021\" font-family=\"Times,serif\" font-size=\"14.00\" fill=\"#000000\">3.0</text>\n",
       "</g>\n",
       "<!-- &#39;9&#39; -->\n",
       "<g id=\"node10\" class=\"node\">\n",
       "<title>&#39;9&#39;</title>\n",
       "<ellipse fill=\"none\" stroke=\"#000000\" cx=\"489.3526\" cy=\"-163.3434\" rx=\"25\" ry=\"25\"/>\n",
       "<text text-anchor=\"middle\" x=\"489.3526\" y=\"-160.8434\" font-family=\"Times,serif\" font-size=\"10.00\" fill=\"#000000\">false</text>\n",
       "</g>\n",
       "<!-- 0&#45;&#45;&#39;9&#39; -->\n",
       "<g id=\"edge9\" class=\"edge\">\n",
       "<title>0&#45;&#45;&#39;9&#39;</title>\n",
       "<path fill=\"none\" stroke=\"#000000\" d=\"M399.9535,-262.9136C419.8451,-240.7588 452.7413,-204.12 472.5986,-182.0035\"/>\n",
       "<text text-anchor=\"middle\" x=\"427.276\" y=\"-226.2585\" font-family=\"Times,serif\" font-size=\"14.00\" fill=\"#000000\">2.0</text>\n",
       "</g>\n",
       "<!-- &#39;10&#39; -->\n",
       "<g id=\"node11\" class=\"node\">\n",
       "<title>&#39;10&#39;</title>\n",
       "<ellipse fill=\"none\" stroke=\"#000000\" cx=\"444.7324\" cy=\"-306.8403\" rx=\"25\" ry=\"25\"/>\n",
       "<text text-anchor=\"middle\" x=\"444.7324\" y=\"-304.3403\" font-family=\"Times,serif\" font-size=\"10.00\" fill=\"#000000\">sense</text>\n",
       "</g>\n",
       "<!-- 0&#45;&#45;&#39;10&#39; -->\n",
       "<g id=\"edge10\" class=\"edge\">\n",
       "<title>0&#45;&#45;&#39;10&#39;</title>\n",
       "<path fill=\"none\" stroke=\"#000000\" d=\"M406.4134,-291.1805C411.3205,-293.1858 416.4984,-295.3019 421.4067,-297.3078\"/>\n",
       "<text text-anchor=\"middle\" x=\"413.9101\" y=\"-283.0441\" font-family=\"Times,serif\" font-size=\"14.00\" fill=\"#000000\">1.0</text>\n",
       "</g>\n",
       "</g>\n",
       "</svg>\n"
      ],
      "text/plain": [
       "<graphviz.dot.Graph at 0x1a245e5518>"
      ]
     },
     "execution_count": 50,
     "metadata": {},
     "output_type": "execute_result"
    }
   ],
   "source": [
    "graph"
   ]
  },
  {
   "cell_type": "markdown",
   "metadata": {},
   "source": [
    "# 2. ¿Cómo operar sobre Grafos?"
   ]
  },
  {
   "cell_type": "markdown",
   "metadata": {},
   "source": [
    "En las operaciones sobre grafos hay que tomar en cuenta tambien que los grafos podrían tener ponderaciones dictintas. Es decir, podrían haber peraciones como:\n",
    "\n",
    "- 0.3\\*G1 + 0.7\\*G2 : Calculo del promedio ponderado entre G1 y G2\n",
    "\n",
    "Dado que cada nodo tiene dos componentes (distancia y frecuancia) podría usarse el factor de ponderación sobre estos dos valores. \n"
   ]
  },
  {
   "cell_type": "markdown",
   "metadata": {},
   "source": [
    "### Union"
   ]
  },
  {
   "cell_type": "markdown",
   "metadata": {},
   "source": [
    "1. Para unir dos grafos asociados a un documento hay que considerar \n",
    " 1. Que hacer con los terminos iguales\n",
    " 2. Que hacer con los terminos distintos\n",
    " 3. Etc.\n",
    " "
   ]
  },
  {
   "cell_type": "markdown",
   "metadata": {},
   "source": [
    "2. Otra alternativas es unir a nivel de documentos y luego generar los grafos. En general es lo mismo que se hace para formar documentos a partir de los parrafos. "
   ]
  },
  {
   "cell_type": "markdown",
   "metadata": {},
   "source": [
    "3) En el caso de documentos con distinta ponderación (documentos de un ranking), se podrían resaltar la importancia de los primeros documentos aumentando la frecuencia de sus nodos. Lo que equivale a multiplicar el contenido de los documentos más relevantes del ranking para generar el grafo del ranking total.\n",
    "Se probó esta alternativa con el método **get_ieee_explore_ranking(q, nr_documents, weighted)**, en donde el parametro weighted puede tener tres valores: none, lineal, inverted.\n",
    "- **none:** general el documento ranking con los abstracts sin considerar los pesos de la posición del documento en el ranking.\n",
    "- **lineal:** decrementa linealmente la relevancia del documento segun su posición en el ranking, multiplicando el contenido del documento en base a : \n",
    "*document_content * (nro_docs_in_ranking - doc_ranking_position)*\n",
    "- **inverse:** decrementa linealmente la relevancia del documento segun su posición en el ranking, multiplicando el contenido del documento en base a :\n",
    "*document_content * math.ceil(nro_docs_in_ranking/(doc_ranking_position))*\n",
    "\n",
    "**NOTA:** El uso de lineal/inverse no presenta muchas diferencias en la estructura del grafo final.\n",
    "\n",
    "<img src=\"images/functions.png\">"
   ]
  },
  {
   "cell_type": "markdown",
   "metadata": {},
   "source": [
    "### Similitud "
   ]
  },
  {
   "cell_type": "markdown",
   "metadata": {},
   "source": [
    "Tenemos que definir un indicador de similitud entre grafos. En principio se puede:\n",
    "1. Comparar las distancias entre aristas similares\n",
    "2. Comparar el tamaño de los nodos"
   ]
  },
  {
   "cell_type": "markdown",
   "metadata": {},
   "source": [
    "## Uso en Mapas Sistemáticos"
   ]
  },
  {
   "cell_type": "markdown",
   "metadata": {},
   "source": [
    "A continuación se presenta un esquema del Proceso del Mapeo Sistemático.\n",
    "SREX podría ser una herramienta útil para este proceso."
   ]
  },
  {
   "cell_type": "markdown",
   "metadata": {},
   "source": [
    "<img src=\"images/mapa_sistematico.png\">"
   ]
  },
  {
   "cell_type": "code",
   "execution_count": null,
   "metadata": {},
   "outputs": [],
   "source": []
  }
 ],
 "metadata": {
  "kernelspec": {
   "display_name": "Python 3",
   "language": "python",
   "name": "python3"
  },
  "language_info": {
   "codemirror_mode": {
    "name": "ipython",
    "version": 3
   },
   "file_extension": ".py",
   "mimetype": "text/x-python",
   "name": "python",
   "nbconvert_exporter": "python",
   "pygments_lexer": "ipython3",
   "version": "3.8.5"
  }
 },
 "nbformat": 4,
 "nbformat_minor": 4
}
