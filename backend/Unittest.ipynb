{
 "cells": [
  {
   "cell_type": "markdown",
   "metadata": {},
   "source": [
    "# Testing SREX Classes"
   ]
  },
  {
   "cell_type": "markdown",
   "metadata": {},
   "source": [
    "## Load libraries"
   ]
  },
  {
   "cell_type": "code",
   "execution_count": 1,
   "metadata": {},
   "outputs": [
    {
     "name": "stderr",
     "output_type": "stream",
     "text": [
      "[nltk_data] Downloading package stopwords to\n",
      "[nltk_data]     C:\\Users\\kianu\\AppData\\Roaming\\nltk_data...\n",
      "[nltk_data]   Package stopwords is already up-to-date!\n",
      "[nltk_data] Downloading package punkt to\n",
      "[nltk_data]     C:\\Users\\kianu\\AppData\\Roaming\\nltk_data...\n",
      "[nltk_data]   Package punkt is already up-to-date!\n",
      "[nltk_data] Downloading package wordnet to\n",
      "[nltk_data]     C:\\Users\\kianu\\AppData\\Roaming\\nltk_data...\n",
      "[nltk_data]   Package wordnet is already up-to-date!\n",
      "[nltk_data] Downloading package omw-1.4 to\n",
      "[nltk_data]     C:\\Users\\kianu\\AppData\\Roaming\\nltk_data...\n",
      "[nltk_data]   Package omw-1.4 is already up-to-date!\n"
     ]
    },
    {
     "data": {
      "text/plain": [
       "True"
      ]
     },
     "execution_count": 1,
     "metadata": {},
     "output_type": "execute_result"
    }
   ],
   "source": [
    "from app.models.srex.ranking import Ranking\n",
    "from stop_words import get_stop_words\n",
    "import nltk\n",
    "from nltk.corpus import stopwords\n",
    "\n",
    "#Download stopword\n",
    "nltk.download('stopwords') \n",
    "nltk.download('punkt') # Tokenizers\n",
    "nltk.download('wordnet') # Wordnet\n",
    "nltk.download('omw-1.4')"
   ]
  },
  {
   "cell_type": "markdown",
   "metadata": {},
   "source": [
    "# Initialize some variables"
   ]
  },
  {
   "cell_type": "code",
   "execution_count": 2,
   "metadata": {},
   "outputs": [],
   "source": [
    "# Stop Words\n",
    "stop_words_list = stopwords.words('english') #a small one\n",
    "newStopWords = get_stop_words('en') # a big one\n",
    "stop_words_list.extend(newStopWords) # all together"
   ]
  },
  {
   "cell_type": "markdown",
   "metadata": {},
   "source": [
    "## Define the documents/paragraphs and configure parameters"
   ]
  },
  {
   "cell_type": "code",
   "execution_count": 3,
   "metadata": {},
   "outputs": [],
   "source": [
    "query                    = 'network'\n",
    "ranking_weight_type      = 'linear' # it can be: 'none', 'linear' or 'inverse'\n",
    "lema                     = True\n",
    "stem                     = False\n",
    "summarize                = 'mean'   # it can be: 'mean' or 'median'\n",
    "nr_of_graph_terms        = 5\n",
    "limit_distance           = 4 \n",
    "include_reference_terms  = True\n",
    "\n",
    "text1 = 'perro hierarchical SIMkNN dual-index driven, children network we adopt hierarchical gato R-tree to store the topology of the road network and gato hierarchical topology grid model to manage the moving objects in non-uniform distribution perro'\n",
    "text2 = 'perro hierarchical SIMkNN dual-index driven, house network car adopt hierarchical gato R-tree to store the topology of the road network and gato hierarchical topology grid model to manage the moving objects in non-uniform distribution perro'\n",
    "text3 = 'perro hierarchical SIMkNN dual-index driven, echeverria network patricio adopt hierarchical gato R-tree to galeas the topology of the road network abel gato hierarchical topology grid model temuco manage galeas moving objects abel non-uniform patricio perro'\n",
    "text4 = 'ant hierarchical SIMkNN dual-index driven, echeverria network rain adopt hierarchical rain R-tree to galeas the topology of the road network abel gato hierarchical topology grid model rain manage galeas moving objects abel non-uniform patricio ant'\n",
    "title5 = 'A Scalable Method for in-Memory kNN Search over Moving Objects in Road Networks'\n",
    "abstract5 = 'Nowadays, many location-based applications require the ability of querying k-nearest neighbors over a very large scale of moving objects in road networks, e.g., taxi-calling and ride-sharing services. Traditional grid index with equal-sized cells can not adapt to the skewed distribution of moving objects in real scenarios. Thus, to obtain the fast querying response time, the grid needs to be split into more smaller cells which introduces the side-effect of higher memory cost, i.e., maintaining such a large volume of cells requires a much larger memory space at the server side. In this paper, we present SIMkNN, a scalable and in-memory kNN query processing technique. SIMkNN is dual-index driven, where we adopt a R-tree to store the topology of the road network and a hierarchical grid model to manage the moving objects in non-uniform distribution. To answer a kNN query in real time, SIMkNN adopts the strategy that incrementally enlarges the search area for network distance based nearest neighbor evaluation. It is far from trivial to perform the space expansion within the hierarchical grid index. For a given cell, we first define its neighbors in different directions, then propose a cell communication technique which allows each cell in the hierarchical grid index to be aware of its neighbors at anytime. Accordingly, an efficient space expansion algorithm to generate the estimation area is proposed. The experimental evaluation shows that SIMkNN outperforms the baseline algorithm in terms of time and memory efficiency.'\n",
    "\n",
    "list_of_articles_dicts = [{'abstract': text1}, \n",
    "                          {'abstract': text2}, \n",
    "                          {'abstract': text3}, \n",
    "                          {'abstract': text4},\n",
    "                          {'title': title5, 'abstract': abstract5}]\n",
    "\n",
    "#paragraph_text1 = 'house network cat car'\n",
    "#paragraph_text2 = 'house network cat'"
   ]
  },
  {
   "cell_type": "markdown",
   "metadata": {},
   "source": [
    "## Define sentence objects"
   ]
  },
  {
   "cell_type": "code",
   "execution_count": 4,
   "metadata": {},
   "outputs": [],
   "source": [
    "ranking = Ranking(query, ranking_weight_type=ranking_weight_type, stop_words=stop_words_list, lemmatization=lema, stemming=stem)\n",
    "ranking.calculate_article_dictionaries_list(list_of_articles_dicts)"
   ]
  },
  {
   "cell_type": "markdown",
   "metadata": {},
   "source": [
    "## Calculate the Graphs"
   ]
  },
  {
   "cell_type": "code",
   "execution_count": 5,
   "metadata": {},
   "outputs": [],
   "source": [
    "ranking.generate_all_graphs(nr_of_graph_terms, limit_distance, include_reference_terms, summarize)"
   ]
  },
  {
   "cell_type": "markdown",
   "metadata": {},
   "source": [
    "## Plot the graphs"
   ]
  },
  {
   "cell_type": "code",
   "execution_count": 6,
   "metadata": {
    "slideshow": {
     "slide_type": "fragment"
    }
   },
   "outputs": [
    {
     "name": "stdout",
     "output_type": "stream",
     "text": [
      "SUBQUERY: network\n",
      "TERM: hierarchical ; PONDERATION: 3.0 ; DISTANCE: 2.7\n",
      "TERM: gato ; PONDERATION: 3.0 ; DISTANCE: 2.7\n",
      "TERM: store ; PONDERATION: 2.0 ; DISTANCE: 3.5\n",
      "TERM: topology ; PONDERATION: 2.0 ; DISTANCE: 2.5\n",
      "TERM: simknn ; PONDERATION: 1.0 ; DISTANCE: 3.0\n",
      "TERM: driven ; PONDERATION: 1.0 ; DISTANCE: 2.0\n",
      "TERM: child ; PONDERATION: 1.0 ; DISTANCE: 1.0\n",
      "TERM: adopt ; PONDERATION: 1.0 ; DISTANCE: 1.0\n",
      "TERM: road ; PONDERATION: 1.0 ; DISTANCE: 1.0\n",
      "TERM: grid ; PONDERATION: 1.0 ; DISTANCE: 4.0\n"
     ]
    },
    {
     "data": {
      "image/svg+xml": [
       "<?xml version=\"1.0\" encoding=\"UTF-8\" standalone=\"no\"?>\n",
       "<!DOCTYPE svg PUBLIC \"-//W3C//DTD SVG 1.1//EN\"\n",
       " \"http://www.w3.org/Graphics/SVG/1.1/DTD/svg11.dtd\">\n",
       "<!-- Generated by graphviz version 10.0.1 (20240210.2158)\n",
       " -->\n",
       "<!-- Title: G Pages: 1 -->\n",
       "<svg width=\"452pt\" height=\"528pt\"\n",
       " viewBox=\"0.00 0.00 452.06 528.22\" xmlns=\"http://www.w3.org/2000/svg\" xmlns:xlink=\"http://www.w3.org/1999/xlink\">\n",
       "<g id=\"graph0\" class=\"graph\" transform=\"scale(1 1) rotate(0) translate(4 524.22)\">\n",
       "<title>G</title>\n",
       "<polygon fill=\"white\" stroke=\"none\" points=\"-4,4 -4,-524.22 448.06,-524.22 448.06,4 -4,4\"/>\n",
       "<!-- 0 -->\n",
       "<g id=\"node1\" class=\"node\">\n",
       "<title>0</title>\n",
       "<ellipse fill=\"#c1cdcd\" stroke=\"black\" cx=\"226.81\" cy=\"-245.15\" rx=\"25.2\" ry=\"25.2\"/>\n",
       "<text text-anchor=\"middle\" x=\"226.81\" y=\"-241.28\" font-family=\"Times New Roman,serif\" font-size=\"10.00\">network</text>\n",
       "</g>\n",
       "<!-- &#39;1&#39; -->\n",
       "<g id=\"node2\" class=\"node\">\n",
       "<title>&#39;1&#39;</title>\n",
       "<ellipse fill=\"none\" stroke=\"deepskyblue\" stroke-width=\"3\" cx=\"25.2\" cy=\"-166.84\" rx=\"25.2\" ry=\"25.2\"/>\n",
       "<text text-anchor=\"middle\" x=\"25.2\" y=\"-162.97\" font-family=\"Times New Roman,serif\" font-size=\"10.00\">hierarchical</text>\n",
       "</g>\n",
       "<!-- 0&#45;&#45;&#39;1&#39; -->\n",
       "<g id=\"edge1\" class=\"edge\">\n",
       "<title>0&#45;&#45;&#39;1&#39;</title>\n",
       "<path fill=\"none\" stroke=\"black\" d=\"M202.9,-235.86C164.41,-220.91 89.1,-191.66 50.03,-176.49\"/>\n",
       "<text text-anchor=\"middle\" x=\"117.84\" y=\"-208.63\" font-family=\"Times New Roman,serif\" font-size=\"14.00\">2.7</text>\n",
       "</g>\n",
       "<!-- &#39;2&#39; -->\n",
       "<g id=\"node3\" class=\"node\">\n",
       "<title>&#39;2&#39;</title>\n",
       "<ellipse fill=\"none\" stroke=\"deepskyblue\" stroke-width=\"3\" cx=\"249.4\" cy=\"-25.2\" rx=\"25.2\" ry=\"25.2\"/>\n",
       "<text text-anchor=\"middle\" x=\"249.4\" y=\"-21.32\" font-family=\"Times New Roman,serif\" font-size=\"10.00\">gato</text>\n",
       "</g>\n",
       "<!-- 0&#45;&#45;&#39;2&#39; -->\n",
       "<g id=\"edge2\" class=\"edge\">\n",
       "<title>0&#45;&#45;&#39;2&#39;</title>\n",
       "<path fill=\"none\" stroke=\"black\" d=\"M229.41,-219.92C233.71,-177.94 242.31,-94.17 246.7,-51.5\"/>\n",
       "<text text-anchor=\"middle\" x=\"229.43\" y=\"-138.16\" font-family=\"Times New Roman,serif\" font-size=\"14.00\">2.7</text>\n",
       "</g>\n",
       "<!-- &#39;3&#39; -->\n",
       "<g id=\"node4\" class=\"node\">\n",
       "<title>&#39;3&#39;</title>\n",
       "<ellipse fill=\"none\" stroke=\"deepskyblue\" stroke-width=\"2\" cx=\"383.98\" cy=\"-495.02\" rx=\"25.2\" ry=\"25.2\"/>\n",
       "<text text-anchor=\"middle\" x=\"383.98\" y=\"-491.15\" font-family=\"Times New Roman,serif\" font-size=\"10.00\">store</text>\n",
       "</g>\n",
       "<!-- 0&#45;&#45;&#39;3&#39; -->\n",
       "<g id=\"edge3\" class=\"edge\">\n",
       "<title>0&#45;&#45;&#39;3&#39;</title>\n",
       "<path fill=\"none\" stroke=\"black\" d=\"M240.49,-266.89C270.21,-314.14 340.43,-425.78 370.23,-473.16\"/>\n",
       "<text text-anchor=\"middle\" x=\"296.73\" y=\"-372.47\" font-family=\"Times New Roman,serif\" font-size=\"14.00\">3.5</text>\n",
       "</g>\n",
       "<!-- &#39;4&#39; -->\n",
       "<g id=\"node5\" class=\"node\">\n",
       "<title>&#39;4&#39;</title>\n",
       "<ellipse fill=\"none\" stroke=\"deepskyblue\" stroke-width=\"2\" cx=\"418.86\" cy=\"-210.64\" rx=\"25.2\" ry=\"25.2\"/>\n",
       "<text text-anchor=\"middle\" x=\"418.86\" y=\"-206.77\" font-family=\"Times New Roman,serif\" font-size=\"10.00\">topology</text>\n",
       "</g>\n",
       "<!-- 0&#45;&#45;&#39;4&#39; -->\n",
       "<g id=\"edge4\" class=\"edge\">\n",
       "<title>0&#45;&#45;&#39;4&#39;</title>\n",
       "<path fill=\"none\" stroke=\"black\" d=\"M251.92,-240.64C288.52,-234.06 356.18,-221.91 393.13,-215.27\"/>\n",
       "<text text-anchor=\"middle\" x=\"313.9\" y=\"-230.4\" font-family=\"Times New Roman,serif\" font-size=\"14.00\">2.5</text>\n",
       "</g>\n",
       "<!-- &#39;5&#39; -->\n",
       "<g id=\"node6\" class=\"node\">\n",
       "<title>&#39;5&#39;</title>\n",
       "<ellipse fill=\"none\" stroke=\"deepskyblue\" cx=\"73.02\" cy=\"-432.88\" rx=\"25.2\" ry=\"25.2\"/>\n",
       "<text text-anchor=\"middle\" x=\"73.02\" y=\"-429\" font-family=\"Times New Roman,serif\" font-size=\"10.00\">simknn</text>\n",
       "</g>\n",
       "<!-- 0&#45;&#45;&#39;5&#39; -->\n",
       "<g id=\"edge5\" class=\"edge\">\n",
       "<title>0&#45;&#45;&#39;5&#39;</title>\n",
       "<path fill=\"none\" stroke=\"black\" d=\"M210.65,-264.89C181.11,-300.94 118.75,-377.06 89.2,-413.13\"/>\n",
       "<text text-anchor=\"middle\" x=\"141.3\" y=\"-341.46\" font-family=\"Times New Roman,serif\" font-size=\"14.00\">3.0</text>\n",
       "</g>\n",
       "</g>\n",
       "</svg>\n"
      ],
      "text/plain": [
       "<graphviz.graphs.Graph at 0x28ddb5113d0>"
      ]
     },
     "execution_count": 6,
     "metadata": {},
     "output_type": "execute_result"
    }
   ],
   "source": [
    "g1 = ranking.get_document_by_ranking_position(1).get_graph()\n",
    "print(g1)\n",
    "visual_graph1 = g1.get_graph_viz('0.7', 'deepskyblue')\n",
    "visual_graph1"
   ]
  },
  {
   "cell_type": "code",
   "execution_count": 7,
   "metadata": {},
   "outputs": [
    {
     "name": "stdout",
     "output_type": "stream",
     "text": [
      "SUBQUERY: network\n",
      "TERM: hierarchical ; PONDERATION: 2.8 ; DISTANCE: 3.0\n",
      "TERM: gato ; PONDERATION: 2.8 ; DISTANCE: 3.0\n",
      "TERM: topology ; PONDERATION: 1.9 ; DISTANCE: 2.5\n",
      "TERM: simknn ; PONDERATION: 0.9 ; DISTANCE: 3.0\n",
      "TERM: driven ; PONDERATION: 0.9 ; DISTANCE: 2.0\n",
      "TERM: house ; PONDERATION: 0.9 ; DISTANCE: 1.0\n",
      "TERM: car ; PONDERATION: 0.9 ; DISTANCE: 1.0\n",
      "TERM: adopt ; PONDERATION: 0.9 ; DISTANCE: 2.0\n",
      "TERM: store ; PONDERATION: 0.9 ; DISTANCE: 3.0\n",
      "TERM: road ; PONDERATION: 0.9 ; DISTANCE: 1.0\n",
      "TERM: grid ; PONDERATION: 0.9 ; DISTANCE: 4.0\n"
     ]
    },
    {
     "data": {
      "image/svg+xml": [
       "<?xml version=\"1.0\" encoding=\"UTF-8\" standalone=\"no\"?>\n",
       "<!DOCTYPE svg PUBLIC \"-//W3C//DTD SVG 1.1//EN\"\n",
       " \"http://www.w3.org/Graphics/SVG/1.1/DTD/svg11.dtd\">\n",
       "<!-- Generated by graphviz version 10.0.1 (20240210.2158)\n",
       " -->\n",
       "<!-- Title: G Pages: 1 -->\n",
       "<svg width=\"537pt\" height=\"480pt\"\n",
       " viewBox=\"0.00 0.00 536.80 479.78\" xmlns=\"http://www.w3.org/2000/svg\" xmlns:xlink=\"http://www.w3.org/1999/xlink\">\n",
       "<g id=\"graph0\" class=\"graph\" transform=\"scale(1 1) rotate(0) translate(4 475.78)\">\n",
       "<title>G</title>\n",
       "<polygon fill=\"white\" stroke=\"none\" points=\"-4,4 -4,-475.78 532.8,-475.78 532.8,4 -4,4\"/>\n",
       "<!-- 0 -->\n",
       "<g id=\"node1\" class=\"node\">\n",
       "<title>0</title>\n",
       "<ellipse fill=\"#c1cdcd\" stroke=\"black\" cx=\"264.65\" cy=\"-266.89\" rx=\"25.2\" ry=\"25.2\"/>\n",
       "<text text-anchor=\"middle\" x=\"264.65\" y=\"-263.01\" font-family=\"Times New Roman,serif\" font-size=\"10.00\">network</text>\n",
       "</g>\n",
       "<!-- &#39;1&#39; -->\n",
       "<g id=\"node2\" class=\"node\">\n",
       "<title>&#39;1&#39;</title>\n",
       "<ellipse fill=\"none\" stroke=\"deepskyblue\" stroke-width=\"2.85\" cx=\"25.2\" cy=\"-185.57\" rx=\"25.2\" ry=\"25.2\"/>\n",
       "<text text-anchor=\"middle\" x=\"25.2\" y=\"-181.69\" font-family=\"Times New Roman,serif\" font-size=\"10.00\">hierarchical</text>\n",
       "</g>\n",
       "<!-- 0&#45;&#45;&#39;1&#39; -->\n",
       "<g id=\"edge1\" class=\"edge\">\n",
       "<title>0&#45;&#45;&#39;1&#39;</title>\n",
       "<path fill=\"none\" stroke=\"black\" d=\"M240.37,-258.64C194.6,-243.1 96,-209.61 49.9,-193.96\"/>\n",
       "<text text-anchor=\"middle\" x=\"136.51\" y=\"-228.75\" font-family=\"Times New Roman,serif\" font-size=\"14.00\">3.0</text>\n",
       "</g>\n",
       "<!-- &#39;2&#39; -->\n",
       "<g id=\"node3\" class=\"node\">\n",
       "<title>&#39;2&#39;</title>\n",
       "<ellipse fill=\"none\" stroke=\"deepskyblue\" stroke-width=\"2.85\" cx=\"280.63\" cy=\"-25.2\" rx=\"25.2\" ry=\"25.2\"/>\n",
       "<text text-anchor=\"middle\" x=\"280.63\" y=\"-21.32\" font-family=\"Times New Roman,serif\" font-size=\"10.00\">gato</text>\n",
       "</g>\n",
       "<!-- 0&#45;&#45;&#39;2&#39; -->\n",
       "<g id=\"edge2\" class=\"edge\">\n",
       "<title>0&#45;&#45;&#39;2&#39;</title>\n",
       "<path fill=\"none\" stroke=\"black\" d=\"M266.33,-241.48C269.39,-195.18 275.84,-97.58 278.92,-50.99\"/>\n",
       "<text text-anchor=\"middle\" x=\"264\" y=\"-148.69\" font-family=\"Times New Roman,serif\" font-size=\"14.00\">3.0</text>\n",
       "</g>\n",
       "<!-- &#39;3&#39; -->\n",
       "<g id=\"node4\" class=\"node\">\n",
       "<title>&#39;3&#39;</title>\n",
       "<ellipse fill=\"none\" stroke=\"deepskyblue\" stroke-width=\"1.9\" cx=\"363.79\" cy=\"-446.58\" rx=\"25.2\" ry=\"25.2\"/>\n",
       "<text text-anchor=\"middle\" x=\"363.79\" y=\"-442.71\" font-family=\"Times New Roman,serif\" font-size=\"10.00\">topology</text>\n",
       "</g>\n",
       "<!-- 0&#45;&#45;&#39;3&#39; -->\n",
       "<g id=\"edge3\" class=\"edge\">\n",
       "<title>0&#45;&#45;&#39;3&#39;</title>\n",
       "<path fill=\"none\" stroke=\"black\" d=\"M277,-289.28C296.05,-323.81 332.38,-389.66 351.43,-424.19\"/>\n",
       "<text text-anchor=\"middle\" x=\"305.59\" y=\"-359.18\" font-family=\"Times New Roman,serif\" font-size=\"14.00\">2.5</text>\n",
       "</g>\n",
       "<!-- &#39;4&#39; -->\n",
       "<g id=\"node5\" class=\"node\">\n",
       "<title>&#39;4&#39;</title>\n",
       "<ellipse fill=\"none\" stroke=\"deepskyblue\" stroke-width=\"0.95\" cx=\"503.6\" cy=\"-214.16\" rx=\"25.2\" ry=\"25.2\"/>\n",
       "<text text-anchor=\"middle\" x=\"503.6\" y=\"-210.29\" font-family=\"Times New Roman,serif\" font-size=\"10.00\">simknn</text>\n",
       "</g>\n",
       "<!-- 0&#45;&#45;&#39;4&#39; -->\n",
       "<g id=\"edge4\" class=\"edge\">\n",
       "<title>0&#45;&#45;&#39;4&#39;</title>\n",
       "<path fill=\"none\" stroke=\"black\" d=\"M289.32,-261.44C335.23,-251.31 433.26,-229.68 479.07,-219.58\"/>\n",
       "<text text-anchor=\"middle\" x=\"375.57\" y=\"-242.96\" font-family=\"Times New Roman,serif\" font-size=\"14.00\">3.0</text>\n",
       "</g>\n",
       "<!-- &#39;5&#39; -->\n",
       "<g id=\"node6\" class=\"node\">\n",
       "<title>&#39;5&#39;</title>\n",
       "<ellipse fill=\"none\" stroke=\"deepskyblue\" stroke-width=\"0.95\" cx=\"161.33\" cy=\"-378.39\" rx=\"25.2\" ry=\"25.2\"/>\n",
       "<text text-anchor=\"middle\" x=\"161.33\" y=\"-374.52\" font-family=\"Times New Roman,serif\" font-size=\"10.00\">driven</text>\n",
       "</g>\n",
       "<!-- 0&#45;&#45;&#39;5&#39; -->\n",
       "<g id=\"edge5\" class=\"edge\">\n",
       "<title>0&#45;&#45;&#39;5&#39;</title>\n",
       "<path fill=\"none\" stroke=\"black\" d=\"M247.36,-285.55C228.17,-306.26 197.41,-339.46 178.34,-360.04\"/>\n",
       "<text text-anchor=\"middle\" x=\"204.22\" y=\"-325.24\" font-family=\"Times New Roman,serif\" font-size=\"14.00\">2.0</text>\n",
       "</g>\n",
       "</g>\n",
       "</svg>\n"
      ],
      "text/plain": [
       "<graphviz.graphs.Graph at 0x28dddb4b800>"
      ]
     },
     "execution_count": 7,
     "metadata": {},
     "output_type": "execute_result"
    }
   ],
   "source": [
    "g2 = ranking.get_document_by_ranking_position(2).get_graph()\n",
    "print(g2)\n",
    "visual_graph2 = g2.get_graph_viz('0.7', 'deepskyblue')\n",
    "visual_graph2"
   ]
  },
  {
   "cell_type": "code",
   "execution_count": 8,
   "metadata": {},
   "outputs": [
    {
     "name": "stdout",
     "output_type": "stream",
     "text": [
      "SUBQUERY: network\n",
      "TERM: hierarchical ; PONDERATION: 2.7 ; DISTANCE: 3.3\n",
      "TERM: gato ; PONDERATION: 2.7 ; DISTANCE: 3.3\n",
      "TERM: topology ; PONDERATION: 1.8 ; DISTANCE: 3.0\n",
      "TERM: simknn ; PONDERATION: 0.9 ; DISTANCE: 3.0\n",
      "TERM: driven ; PONDERATION: 0.9 ; DISTANCE: 2.0\n",
      "TERM: echeverria ; PONDERATION: 0.9 ; DISTANCE: 1.0\n",
      "TERM: patricio ; PONDERATION: 0.9 ; DISTANCE: 1.0\n",
      "TERM: adopt ; PONDERATION: 0.9 ; DISTANCE: 2.0\n",
      "TERM: galea ; PONDERATION: 0.9 ; DISTANCE: 3.0\n",
      "TERM: road ; PONDERATION: 0.9 ; DISTANCE: 1.0\n",
      "TERM: abel ; PONDERATION: 0.9 ; DISTANCE: 1.0\n"
     ]
    },
    {
     "data": {
      "image/svg+xml": [
       "<?xml version=\"1.0\" encoding=\"UTF-8\" standalone=\"no\"?>\n",
       "<!DOCTYPE svg PUBLIC \"-//W3C//DTD SVG 1.1//EN\"\n",
       " \"http://www.w3.org/Graphics/SVG/1.1/DTD/svg11.dtd\">\n",
       "<!-- Generated by graphviz version 10.0.1 (20240210.2158)\n",
       " -->\n",
       "<!-- Title: G Pages: 1 -->\n",
       "<svg width=\"564pt\" height=\"555pt\"\n",
       " viewBox=\"0.00 0.00 563.80 555.48\" xmlns=\"http://www.w3.org/2000/svg\" xmlns:xlink=\"http://www.w3.org/1999/xlink\">\n",
       "<g id=\"graph0\" class=\"graph\" transform=\"scale(1 1) rotate(0) translate(4 551.48)\">\n",
       "<title>G</title>\n",
       "<polygon fill=\"white\" stroke=\"none\" points=\"-4,4 -4,-551.48 559.8,-551.48 559.8,4 -4,4\"/>\n",
       "<!-- 0 -->\n",
       "<g id=\"node1\" class=\"node\">\n",
       "<title>0</title>\n",
       "<ellipse fill=\"#c1cdcd\" stroke=\"black\" cx=\"297.08\" cy=\"-291.61\" rx=\"25.2\" ry=\"25.2\"/>\n",
       "<text text-anchor=\"middle\" x=\"297.08\" y=\"-287.74\" font-family=\"Times New Roman,serif\" font-size=\"10.00\">network</text>\n",
       "</g>\n",
       "<!-- &#39;1&#39; -->\n",
       "<g id=\"node2\" class=\"node\">\n",
       "<title>&#39;1&#39;</title>\n",
       "<ellipse fill=\"none\" stroke=\"deepskyblue\" stroke-width=\"2.7\" cx=\"25.2\" cy=\"-218.99\" rx=\"25.2\" ry=\"25.2\"/>\n",
       "<text text-anchor=\"middle\" x=\"25.2\" y=\"-215.11\" font-family=\"Times New Roman,serif\" font-size=\"10.00\">hierarchical</text>\n",
       "</g>\n",
       "<!-- 0&#45;&#45;&#39;1&#39; -->\n",
       "<g id=\"edge1\" class=\"edge\">\n",
       "<title>0&#45;&#45;&#39;1&#39;</title>\n",
       "<path fill=\"none\" stroke=\"black\" d=\"M272.47,-285.04C220.97,-271.28 102.3,-239.58 50.34,-225.7\"/>\n",
       "<text text-anchor=\"middle\" x=\"152.78\" y=\"-257.82\" font-family=\"Times New Roman,serif\" font-size=\"14.00\">3.3</text>\n",
       "</g>\n",
       "<!-- &#39;2&#39; -->\n",
       "<g id=\"node3\" class=\"node\">\n",
       "<title>&#39;2&#39;</title>\n",
       "<ellipse fill=\"none\" stroke=\"deepskyblue\" stroke-width=\"2.7\" cx=\"309.36\" cy=\"-25.2\" rx=\"25.2\" ry=\"25.2\"/>\n",
       "<text text-anchor=\"middle\" x=\"309.36\" y=\"-21.32\" font-family=\"Times New Roman,serif\" font-size=\"10.00\">gato</text>\n",
       "</g>\n",
       "<!-- 0&#45;&#45;&#39;2&#39; -->\n",
       "<g id=\"edge2\" class=\"edge\">\n",
       "<title>0&#45;&#45;&#39;2&#39;</title>\n",
       "<path fill=\"none\" stroke=\"black\" d=\"M298.25,-266.07C300.6,-215.27 305.81,-102.11 308.17,-51.06\"/>\n",
       "<text text-anchor=\"middle\" x=\"294.59\" y=\"-161.01\" font-family=\"Times New Roman,serif\" font-size=\"14.00\">3.3</text>\n",
       "</g>\n",
       "<!-- &#39;3&#39; -->\n",
       "<g id=\"node4\" class=\"node\">\n",
       "<title>&#39;3&#39;</title>\n",
       "<ellipse fill=\"none\" stroke=\"deepskyblue\" stroke-width=\"1.8\" cx=\"403.45\" cy=\"-522.28\" rx=\"25.2\" ry=\"25.2\"/>\n",
       "<text text-anchor=\"middle\" x=\"403.45\" y=\"-518.41\" font-family=\"Times New Roman,serif\" font-size=\"10.00\">topology</text>\n",
       "</g>\n",
       "<!-- 0&#45;&#45;&#39;3&#39; -->\n",
       "<g id=\"edge3\" class=\"edge\">\n",
       "<title>0&#45;&#45;&#39;3&#39;</title>\n",
       "<path fill=\"none\" stroke=\"black\" d=\"M307.66,-314.57C328,-358.67 372.32,-454.78 392.74,-499.07\"/>\n",
       "<text text-anchor=\"middle\" x=\"341.58\" y=\"-409.27\" font-family=\"Times New Roman,serif\" font-size=\"14.00\">3.0</text>\n",
       "</g>\n",
       "<!-- &#39;4&#39; -->\n",
       "<g id=\"node5\" class=\"node\">\n",
       "<title>&#39;4&#39;</title>\n",
       "<ellipse fill=\"none\" stroke=\"deepskyblue\" stroke-width=\"0.9\" cx=\"530.6\" cy=\"-243.14\" rx=\"25.2\" ry=\"25.2\"/>\n",
       "<text text-anchor=\"middle\" x=\"530.6\" y=\"-239.26\" font-family=\"Times New Roman,serif\" font-size=\"10.00\">simknn</text>\n",
       "</g>\n",
       "<!-- 0&#45;&#45;&#39;4&#39; -->\n",
       "<g id=\"edge4\" class=\"edge\">\n",
       "<title>0&#45;&#45;&#39;4&#39;</title>\n",
       "<path fill=\"none\" stroke=\"black\" d=\"M322.07,-286.42C367.13,-277.07 461.46,-257.49 506.14,-248.21\"/>\n",
       "<text text-anchor=\"middle\" x=\"405.48\" y=\"-269.77\" font-family=\"Times New Roman,serif\" font-size=\"14.00\">3.0</text>\n",
       "</g>\n",
       "<!-- &#39;5&#39; -->\n",
       "<g id=\"node6\" class=\"node\">\n",
       "<title>&#39;5&#39;</title>\n",
       "<ellipse fill=\"none\" stroke=\"deepskyblue\" stroke-width=\"0.9\" cx=\"197.7\" cy=\"-399.35\" rx=\"25.2\" ry=\"25.2\"/>\n",
       "<text text-anchor=\"middle\" x=\"197.7\" y=\"-395.47\" font-family=\"Times New Roman,serif\" font-size=\"10.00\">driven</text>\n",
       "</g>\n",
       "<!-- 0&#45;&#45;&#39;5&#39; -->\n",
       "<g id=\"edge5\" class=\"edge\">\n",
       "<title>0&#45;&#45;&#39;5&#39;</title>\n",
       "<path fill=\"none\" stroke=\"black\" d=\"M279.77,-310.38C261.41,-330.27 232.63,-361.48 214.48,-381.16\"/>\n",
       "<text text-anchor=\"middle\" x=\"238.5\" y=\"-348.22\" font-family=\"Times New Roman,serif\" font-size=\"14.00\">2.0</text>\n",
       "</g>\n",
       "</g>\n",
       "</svg>\n"
      ],
      "text/plain": [
       "<graphviz.graphs.Graph at 0x28ddac415e0>"
      ]
     },
     "execution_count": 8,
     "metadata": {},
     "output_type": "execute_result"
    }
   ],
   "source": [
    "g3 = ranking.get_document_by_ranking_position(3).get_graph()\n",
    "print(g3)\n",
    "visual_graph3 = g3.get_graph_viz('0.7', 'deepskyblue')\n",
    "visual_graph3"
   ]
  },
  {
   "cell_type": "code",
   "execution_count": 9,
   "metadata": {},
   "outputs": [
    {
     "name": "stdout",
     "output_type": "stream",
     "text": [
      "SUBQUERY: network\n",
      "TERM: hierarchical ; PONDERATION: 2.5 ; DISTANCE: 3.3\n",
      "TERM: rain ; PONDERATION: 2.5 ; DISTANCE: 3.0\n",
      "TERM: topology ; PONDERATION: 1.7 ; DISTANCE: 3.0\n",
      "TERM: simknn ; PONDERATION: 0.8 ; DISTANCE: 3.0\n",
      "TERM: driven ; PONDERATION: 0.8 ; DISTANCE: 2.0\n",
      "TERM: echeverria ; PONDERATION: 0.8 ; DISTANCE: 1.0\n",
      "TERM: adopt ; PONDERATION: 0.8 ; DISTANCE: 2.0\n",
      "TERM: galea ; PONDERATION: 0.8 ; DISTANCE: 3.0\n",
      "TERM: road ; PONDERATION: 0.8 ; DISTANCE: 1.0\n",
      "TERM: abel ; PONDERATION: 0.8 ; DISTANCE: 1.0\n",
      "TERM: gato ; PONDERATION: 0.8 ; DISTANCE: 2.0\n"
     ]
    },
    {
     "data": {
      "image/svg+xml": [
       "<?xml version=\"1.0\" encoding=\"UTF-8\" standalone=\"no\"?>\n",
       "<!DOCTYPE svg PUBLIC \"-//W3C//DTD SVG 1.1//EN\"\n",
       " \"http://www.w3.org/Graphics/SVG/1.1/DTD/svg11.dtd\">\n",
       "<!-- Generated by graphviz version 10.0.1 (20240210.2158)\n",
       " -->\n",
       "<!-- Title: G Pages: 1 -->\n",
       "<svg width=\"567pt\" height=\"528pt\"\n",
       " viewBox=\"0.00 0.00 566.92 527.90\" xmlns=\"http://www.w3.org/2000/svg\" xmlns:xlink=\"http://www.w3.org/1999/xlink\">\n",
       "<g id=\"graph0\" class=\"graph\" transform=\"scale(1 1) rotate(0) translate(4 523.9)\">\n",
       "<title>G</title>\n",
       "<polygon fill=\"white\" stroke=\"none\" points=\"-4,4 -4,-523.9 562.92,-523.9 562.92,4 -4,4\"/>\n",
       "<!-- 0 -->\n",
       "<g id=\"node1\" class=\"node\">\n",
       "<title>0</title>\n",
       "<ellipse fill=\"#c1cdcd\" stroke=\"black\" cx=\"298.66\" cy=\"-264.74\" rx=\"25.2\" ry=\"25.2\"/>\n",
       "<text text-anchor=\"middle\" x=\"298.66\" y=\"-260.87\" font-family=\"Times New Roman,serif\" font-size=\"10.00\">network</text>\n",
       "</g>\n",
       "<!-- &#39;1&#39; -->\n",
       "<g id=\"node2\" class=\"node\">\n",
       "<title>&#39;1&#39;</title>\n",
       "<ellipse fill=\"none\" stroke=\"deepskyblue\" stroke-width=\"2.55\" cx=\"25.2\" cy=\"-193.21\" rx=\"25.2\" ry=\"25.2\"/>\n",
       "<text text-anchor=\"middle\" x=\"25.2\" y=\"-189.33\" font-family=\"Times New Roman,serif\" font-size=\"10.00\">hierarchical</text>\n",
       "</g>\n",
       "<!-- 0&#45;&#45;&#39;1&#39; -->\n",
       "<g id=\"edge1\" class=\"edge\">\n",
       "<title>0&#45;&#45;&#39;1&#39;</title>\n",
       "<path fill=\"none\" stroke=\"black\" d=\"M273.91,-258.27C222.11,-244.72 102.75,-213.49 50.49,-199.82\"/>\n",
       "<text text-anchor=\"middle\" x=\"153.58\" y=\"-231.49\" font-family=\"Times New Roman,serif\" font-size=\"14.00\">3.3</text>\n",
       "</g>\n",
       "<!-- &#39;2&#39; -->\n",
       "<g id=\"node3\" class=\"node\">\n",
       "<title>&#39;2&#39;</title>\n",
       "<ellipse fill=\"none\" stroke=\"deepskyblue\" stroke-width=\"2.55\" cx=\"306.46\" cy=\"-25.2\" rx=\"25.2\" ry=\"25.2\"/>\n",
       "<text text-anchor=\"middle\" x=\"306.46\" y=\"-21.32\" font-family=\"Times New Roman,serif\" font-size=\"10.00\">rain</text>\n",
       "</g>\n",
       "<!-- 0&#45;&#45;&#39;2&#39; -->\n",
       "<g id=\"edge2\" class=\"edge\">\n",
       "<title>0&#45;&#45;&#39;2&#39;</title>\n",
       "<path fill=\"none\" stroke=\"black\" d=\"M299.5,-239.11C300.99,-193.24 304.1,-97.63 305.61,-51.38\"/>\n",
       "<text text-anchor=\"middle\" x=\"293.93\" y=\"-147.69\" font-family=\"Times New Roman,serif\" font-size=\"14.00\">3.0</text>\n",
       "</g>\n",
       "<!-- &#39;3&#39; -->\n",
       "<g id=\"node4\" class=\"node\">\n",
       "<title>&#39;3&#39;</title>\n",
       "<ellipse fill=\"none\" stroke=\"deepskyblue\" stroke-width=\"1.7\" cx=\"405.72\" cy=\"-494.7\" rx=\"25.2\" ry=\"25.2\"/>\n",
       "<text text-anchor=\"middle\" x=\"405.72\" y=\"-490.83\" font-family=\"Times New Roman,serif\" font-size=\"10.00\">topology</text>\n",
       "</g>\n",
       "<!-- 0&#45;&#45;&#39;3&#39; -->\n",
       "<g id=\"edge3\" class=\"edge\">\n",
       "<title>0&#45;&#45;&#39;3&#39;</title>\n",
       "<path fill=\"none\" stroke=\"black\" d=\"M309.32,-287.63C329.79,-331.6 374.39,-427.4 394.95,-471.56\"/>\n",
       "<text text-anchor=\"middle\" x=\"343.51\" y=\"-382.05\" font-family=\"Times New Roman,serif\" font-size=\"14.00\">3.0</text>\n",
       "</g>\n",
       "<!-- &#39;4&#39; -->\n",
       "<g id=\"node5\" class=\"node\">\n",
       "<title>&#39;4&#39;</title>\n",
       "<ellipse fill=\"none\" stroke=\"deepskyblue\" stroke-width=\"0.85\" cx=\"533.72\" cy=\"-214.98\" rx=\"25.2\" ry=\"25.2\"/>\n",
       "<text text-anchor=\"middle\" x=\"533.72\" y=\"-211.1\" font-family=\"Times New Roman,serif\" font-size=\"10.00\">simknn</text>\n",
       "</g>\n",
       "<!-- 0&#45;&#45;&#39;4&#39; -->\n",
       "<g id=\"edge4\" class=\"edge\">\n",
       "<title>0&#45;&#45;&#39;4&#39;</title>\n",
       "<path fill=\"none\" stroke=\"black\" d=\"M323.38,-259.51C368.64,-249.93 464.33,-229.67 509.34,-220.14\"/>\n",
       "<text text-anchor=\"middle\" x=\"407.73\" y=\"-242.27\" font-family=\"Times New Roman,serif\" font-size=\"14.00\">3.0</text>\n",
       "</g>\n",
       "<!-- &#39;5&#39; -->\n",
       "<g id=\"node6\" class=\"node\">\n",
       "<title>&#39;5&#39;</title>\n",
       "<ellipse fill=\"none\" stroke=\"deepskyblue\" stroke-width=\"0.85\" cx=\"199.96\" cy=\"-373.44\" rx=\"25.2\" ry=\"25.2\"/>\n",
       "<text text-anchor=\"middle\" x=\"199.96\" y=\"-369.57\" font-family=\"Times New Roman,serif\" font-size=\"10.00\">driven</text>\n",
       "</g>\n",
       "<!-- 0&#45;&#45;&#39;5&#39; -->\n",
       "<g id=\"edge5\" class=\"edge\">\n",
       "<title>0&#45;&#45;&#39;5&#39;</title>\n",
       "<path fill=\"none\" stroke=\"black\" d=\"M281.47,-283.68C263.24,-303.75 234.65,-335.24 216.62,-355.09\"/>\n",
       "<text text-anchor=\"middle\" x=\"240.42\" y=\"-321.83\" font-family=\"Times New Roman,serif\" font-size=\"14.00\">2.0</text>\n",
       "</g>\n",
       "</g>\n",
       "</svg>\n"
      ],
      "text/plain": [
       "<graphviz.graphs.Graph at 0x28dddb50ec0>"
      ]
     },
     "execution_count": 9,
     "metadata": {},
     "output_type": "execute_result"
    }
   ],
   "source": [
    "g4 = ranking.get_document_by_ranking_position(4).get_graph()\n",
    "print(g4)\n",
    "visual_graph4 = g4.get_graph_viz('0.7', 'deepskyblue')\n",
    "visual_graph4"
   ]
  },
  {
   "cell_type": "markdown",
   "metadata": {},
   "source": [
    "## Calculate Similarity"
   ]
  },
  {
   "cell_type": "code",
   "execution_count": 10,
   "metadata": {},
   "outputs": [
    {
     "data": {
      "text/plain": [
       "1.0000000000000002"
      ]
     },
     "execution_count": 10,
     "metadata": {},
     "output_type": "execute_result"
    }
   ],
   "source": [
    "similarity0 = g1.get_cosine_similarity(g1)\n",
    "similarity0"
   ]
  },
  {
   "cell_type": "code",
   "execution_count": 11,
   "metadata": {},
   "outputs": [
    {
     "data": {
      "text/plain": [
       "0.9319177683590795"
      ]
     },
     "execution_count": 11,
     "metadata": {},
     "output_type": "execute_result"
    }
   ],
   "source": [
    "similarity1 = g1.get_cosine_similarity(g2)\n",
    "similarity1"
   ]
  },
  {
   "cell_type": "code",
   "execution_count": 12,
   "metadata": {},
   "outputs": [
    {
     "data": {
      "text/plain": [
       "0.6815542805494744"
      ]
     },
     "execution_count": 12,
     "metadata": {},
     "output_type": "execute_result"
    }
   ],
   "source": [
    "similarity2 = g1.get_cosine_similarity(g3)\n",
    "similarity2"
   ]
  },
  {
   "cell_type": "code",
   "execution_count": 13,
   "metadata": {},
   "outputs": [
    {
     "data": {
      "text/plain": [
       "0.6388034798871659"
      ]
     },
     "execution_count": 13,
     "metadata": {},
     "output_type": "execute_result"
    }
   ],
   "source": [
    "similarity3 = g1.get_cosine_similarity(g4)\n",
    "similarity3"
   ]
  },
  {
   "cell_type": "markdown",
   "metadata": {},
   "source": [
    "## Merge graphs"
   ]
  },
  {
   "cell_type": "code",
   "execution_count": 14,
   "metadata": {},
   "outputs": [
    {
     "name": "stdout",
     "output_type": "stream",
     "text": [
      "SUBQUERY: network\n",
      "TERM: hierarchical ; PONDERATION: 11.9 ; DISTANCE: 2.9\n",
      "TERM: gato ; PONDERATION: 9.4 ; DISTANCE: 2.9\n",
      "TERM: topology ; PONDERATION: 8.2 ; DISTANCE: 2.7\n",
      "TERM: road ; PONDERATION: 6.1 ; DISTANCE: 1.0\n",
      "TERM: adopt ; PONDERATION: 4.5 ; DISTANCE: 2.1\n",
      "TERM: store ; PONDERATION: 3.8 ; DISTANCE: 3.3\n",
      "TERM: simknn ; PONDERATION: 3.7 ; DISTANCE: 3.0\n",
      "TERM: driven ; PONDERATION: 3.7 ; DISTANCE: 2.0\n",
      "TERM: grid ; PONDERATION: 2.8 ; DISTANCE: 3.4\n",
      "TERM: rain ; PONDERATION: 2.5 ; DISTANCE: 3.0\n",
      "TERM: abel ; PONDERATION: 1.8 ; DISTANCE: 1.0\n",
      "TERM: echeverria ; PONDERATION: 1.8 ; DISTANCE: 1.0\n",
      "TERM: galea ; PONDERATION: 1.8 ; DISTANCE: 3.0\n",
      "TERM: search ; PONDERATION: 1.6 ; DISTANCE: 3.0\n",
      "TERM: object ; PONDERATION: 1.6 ; DISTANCE: 2.0\n",
      "TERM: moving ; PONDERATION: 1.6 ; DISTANCE: 3.0\n",
      "TERM: child ; PONDERATION: 1.0 ; DISTANCE: 1.0\n",
      "TERM: house ; PONDERATION: 0.9 ; DISTANCE: 1.0\n",
      "TERM: car ; PONDERATION: 0.9 ; DISTANCE: 1.0\n",
      "TERM: patricio ; PONDERATION: 0.9 ; DISTANCE: 1.0\n",
      "TERM: based ; PONDERATION: 0.8 ; DISTANCE: 2.0\n",
      "TERM: area ; PONDERATION: 0.8 ; DISTANCE: 1.0\n",
      "TERM: neighbor ; PONDERATION: 0.8 ; DISTANCE: 4.0\n",
      "TERM: incrementally ; PONDERATION: 0.8 ; DISTANCE: 4.0\n",
      "TERM: distance ; PONDERATION: 0.8 ; DISTANCE: 1.0\n",
      "TERM: scale ; PONDERATION: 0.8 ; DISTANCE: 4.0\n",
      "TERM: nearest ; PONDERATION: 0.8 ; DISTANCE: 3.0\n",
      "TERM: service ; PONDERATION: 0.8 ; DISTANCE: 1.0\n",
      "TERM: manage ; PONDERATION: 0.8 ; DISTANCE: 4.0\n",
      "TERM: enlarges ; PONDERATION: 0.8 ; DISTANCE: 3.0\n",
      "TERM: model ; PONDERATION: 0.8 ; DISTANCE: 3.0\n"
     ]
    },
    {
     "data": {
      "image/svg+xml": [
       "<?xml version=\"1.0\" encoding=\"UTF-8\" standalone=\"no\"?>\n",
       "<!DOCTYPE svg PUBLIC \"-//W3C//DTD SVG 1.1//EN\"\n",
       " \"http://www.w3.org/Graphics/SVG/1.1/DTD/svg11.dtd\">\n",
       "<!-- Generated by graphviz version 10.0.1 (20240210.2158)\n",
       " -->\n",
       "<!-- Title: G Pages: 1 -->\n",
       "<svg width=\"443pt\" height=\"431pt\"\n",
       " viewBox=\"0.00 0.00 443.29 431.09\" xmlns=\"http://www.w3.org/2000/svg\" xmlns:xlink=\"http://www.w3.org/1999/xlink\">\n",
       "<g id=\"graph0\" class=\"graph\" transform=\"scale(1 1) rotate(0) translate(4 427.09)\">\n",
       "<title>G</title>\n",
       "<polygon fill=\"white\" stroke=\"none\" points=\"-4,4 -4,-427.09 439.29,-427.09 439.29,4 -4,4\"/>\n",
       "<!-- 0 -->\n",
       "<g id=\"node1\" class=\"node\">\n",
       "<title>0</title>\n",
       "<ellipse fill=\"#c1cdcd\" stroke=\"black\" cx=\"227.74\" cy=\"-251.43\" rx=\"25.2\" ry=\"25.2\"/>\n",
       "<text text-anchor=\"middle\" x=\"227.74\" y=\"-247.55\" font-family=\"Times New Roman,serif\" font-size=\"10.00\">network</text>\n",
       "</g>\n",
       "<!-- &#39;1&#39; -->\n",
       "<g id=\"node2\" class=\"node\">\n",
       "<title>&#39;1&#39;</title>\n",
       "<ellipse fill=\"none\" stroke=\"deepskyblue\" stroke-width=\"11.9\" cx=\"25.2\" cy=\"-140.17\" rx=\"25.2\" ry=\"25.2\"/>\n",
       "<text text-anchor=\"middle\" x=\"25.2\" y=\"-136.3\" font-family=\"Times New Roman,serif\" font-size=\"10.00\">hierarchical</text>\n",
       "</g>\n",
       "<!-- 0&#45;&#45;&#39;1&#39; -->\n",
       "<g id=\"edge1\" class=\"edge\">\n",
       "<title>0&#45;&#45;&#39;1&#39;</title>\n",
       "<path fill=\"none\" stroke=\"black\" d=\"M205.29,-239.1C167.7,-218.45 92.18,-176.96 51.92,-154.84\"/>\n",
       "<text text-anchor=\"middle\" x=\"119.98\" y=\"-199.42\" font-family=\"Times New Roman,serif\" font-size=\"14.00\">2.9</text>\n",
       "</g>\n",
       "<!-- &#39;2&#39; -->\n",
       "<g id=\"node3\" class=\"node\">\n",
       "<title>&#39;2&#39;</title>\n",
       "<ellipse fill=\"none\" stroke=\"deepskyblue\" stroke-width=\"9.4\" cx=\"338.84\" cy=\"-25.2\" rx=\"25.2\" ry=\"25.2\"/>\n",
       "<text text-anchor=\"middle\" x=\"338.84\" y=\"-21.32\" font-family=\"Times New Roman,serif\" font-size=\"10.00\">gato</text>\n",
       "</g>\n",
       "<!-- 0&#45;&#45;&#39;2&#39; -->\n",
       "<g id=\"edge2\" class=\"edge\">\n",
       "<title>0&#45;&#45;&#39;2&#39;</title>\n",
       "<path fill=\"none\" stroke=\"black\" d=\"M239.01,-228.49C259.75,-186.25 303.87,-96.42 325.84,-51.67\"/>\n",
       "<text text-anchor=\"middle\" x=\"273.8\" y=\"-142.53\" font-family=\"Times New Roman,serif\" font-size=\"14.00\">2.9</text>\n",
       "</g>\n",
       "<!-- &#39;3&#39; -->\n",
       "<g id=\"node4\" class=\"node\">\n",
       "<title>&#39;3&#39;</title>\n",
       "<ellipse fill=\"none\" stroke=\"deepskyblue\" stroke-width=\"8.2\" cx=\"410.09\" cy=\"-397.89\" rx=\"25.2\" ry=\"25.2\"/>\n",
       "<text text-anchor=\"middle\" x=\"410.09\" y=\"-394.01\" font-family=\"Times New Roman,serif\" font-size=\"10.00\">topology</text>\n",
       "</g>\n",
       "<!-- 0&#45;&#45;&#39;3&#39; -->\n",
       "<g id=\"edge3\" class=\"edge\">\n",
       "<title>0&#45;&#45;&#39;3&#39;</title>\n",
       "<path fill=\"none\" stroke=\"black\" d=\"M247.61,-267.38C281.76,-294.81 351.41,-350.75 387.41,-379.67\"/>\n",
       "<text text-anchor=\"middle\" x=\"308.88\" y=\"-325.97\" font-family=\"Times New Roman,serif\" font-size=\"14.00\">2.7</text>\n",
       "</g>\n",
       "<!-- &#39;4&#39; -->\n",
       "<g id=\"node5\" class=\"node\">\n",
       "<title>&#39;4&#39;</title>\n",
       "<ellipse fill=\"none\" stroke=\"deepskyblue\" stroke-width=\"6.1\" cx=\"291.93\" cy=\"-226.91\" rx=\"25.2\" ry=\"25.2\"/>\n",
       "<text text-anchor=\"middle\" x=\"291.93\" y=\"-223.03\" font-family=\"Times New Roman,serif\" font-size=\"10.00\">road</text>\n",
       "</g>\n",
       "<!-- 0&#45;&#45;&#39;4&#39; -->\n",
       "<g id=\"edge4\" class=\"edge\">\n",
       "<title>0&#45;&#45;&#39;4&#39;</title>\n",
       "<path fill=\"none\" stroke=\"black\" d=\"M251.64,-242.3C256.21,-240.55 261.01,-238.72 265.64,-236.95\"/>\n",
       "<text text-anchor=\"middle\" x=\"258.64\" y=\"-226.32\" font-family=\"Times New Roman,serif\" font-size=\"14.00\">1.0</text>\n",
       "</g>\n",
       "<!-- &#39;5&#39; -->\n",
       "<g id=\"node6\" class=\"node\">\n",
       "<title>&#39;5&#39;</title>\n",
       "<ellipse fill=\"none\" stroke=\"deepskyblue\" stroke-width=\"4.5\" cx=\"140.1\" cy=\"-384.63\" rx=\"25.2\" ry=\"25.2\"/>\n",
       "<text text-anchor=\"middle\" x=\"140.1\" y=\"-380.76\" font-family=\"Times New Roman,serif\" font-size=\"10.00\">adopt</text>\n",
       "</g>\n",
       "<!-- 0&#45;&#45;&#39;5&#39; -->\n",
       "<g id=\"edge5\" class=\"edge\">\n",
       "<title>0&#45;&#45;&#39;5&#39;</title>\n",
       "<path fill=\"none\" stroke=\"black\" d=\"M213.66,-272.83C197.6,-297.25 171.43,-337.01 155.02,-361.95\"/>\n",
       "<text text-anchor=\"middle\" x=\"175.72\" y=\"-319.84\" font-family=\"Times New Roman,serif\" font-size=\"14.00\">2.1</text>\n",
       "</g>\n",
       "</g>\n",
       "</svg>\n"
      ],
      "text/plain": [
       "<graphviz.graphs.Graph at 0x28ddb108b00>"
      ]
     },
     "execution_count": 14,
     "metadata": {},
     "output_type": "execute_result"
    }
   ],
   "source": [
    "ranking_graph = ranking.get_graph()\n",
    "print(ranking_graph)\n",
    "visual_ranking_graph = ranking_graph.get_graph_viz('0.7', 'deepskyblue')\n",
    "visual_ranking_graph"
   ]
  },
  {
   "cell_type": "code",
   "execution_count": 15,
   "metadata": {},
   "outputs": [
    {
     "name": "stdout",
     "output_type": "stream",
     "text": [
      "SUBQUERY: network\n",
      "TERM: road ; PONDERATION: 2.4 ; DISTANCE: 1.0\n",
      "TERM: search ; PONDERATION: 1.6 ; DISTANCE: 3.0\n",
      "TERM: moving ; PONDERATION: 1.6 ; DISTANCE: 3.0\n",
      "TERM: object ; PONDERATION: 1.6 ; DISTANCE: 2.0\n",
      "TERM: scale ; PONDERATION: 0.8 ; DISTANCE: 4.0\n",
      "TERM: service ; PONDERATION: 0.8 ; DISTANCE: 1.0\n",
      "TERM: adopt ; PONDERATION: 0.8 ; DISTANCE: 4.0\n",
      "TERM: hierarchical ; PONDERATION: 0.8 ; DISTANCE: 1.0\n",
      "TERM: manage ; PONDERATION: 0.8 ; DISTANCE: 4.0\n",
      "TERM: topology ; PONDERATION: 0.8 ; DISTANCE: 2.0\n",
      "TERM: store ; PONDERATION: 0.8 ; DISTANCE: 3.0\n",
      "TERM: grid ; PONDERATION: 0.8 ; DISTANCE: 2.0\n",
      "TERM: model ; PONDERATION: 0.8 ; DISTANCE: 3.0\n",
      "TERM: based ; PONDERATION: 0.8 ; DISTANCE: 2.0\n",
      "TERM: incrementally ; PONDERATION: 0.8 ; DISTANCE: 4.0\n",
      "TERM: area ; PONDERATION: 0.8 ; DISTANCE: 1.0\n",
      "TERM: neighbor ; PONDERATION: 0.8 ; DISTANCE: 4.0\n",
      "TERM: distance ; PONDERATION: 0.8 ; DISTANCE: 1.0\n",
      "TERM: nearest ; PONDERATION: 0.8 ; DISTANCE: 3.0\n",
      "TERM: enlarges ; PONDERATION: 0.8 ; DISTANCE: 3.0\n"
     ]
    },
    {
     "data": {
      "image/svg+xml": [
       "<?xml version=\"1.0\" encoding=\"UTF-8\" standalone=\"no\"?>\n",
       "<!DOCTYPE svg PUBLIC \"-//W3C//DTD SVG 1.1//EN\"\n",
       " \"http://www.w3.org/Graphics/SVG/1.1/DTD/svg11.dtd\">\n",
       "<!-- Generated by graphviz version 10.0.1 (20240210.2158)\n",
       " -->\n",
       "<!-- Title: G Pages: 1 -->\n",
       "<svg width=\"533pt\" height=\"525pt\"\n",
       " viewBox=\"0.00 0.00 532.93 525.36\" xmlns=\"http://www.w3.org/2000/svg\" xmlns:xlink=\"http://www.w3.org/1999/xlink\">\n",
       "<g id=\"graph0\" class=\"graph\" transform=\"scale(1 1) rotate(0) translate(4 521.36)\">\n",
       "<title>G</title>\n",
       "<polygon fill=\"white\" stroke=\"none\" points=\"-4,4 -4,-521.36 528.93,-521.36 528.93,4 -4,4\"/>\n",
       "<!-- 0 -->\n",
       "<g id=\"node1\" class=\"node\">\n",
       "<title>0</title>\n",
       "<ellipse fill=\"#c1cdcd\" stroke=\"black\" cx=\"358.55\" cy=\"-259.67\" rx=\"25.2\" ry=\"25.2\"/>\n",
       "<text text-anchor=\"middle\" x=\"358.55\" y=\"-255.8\" font-family=\"Times New Roman,serif\" font-size=\"10.00\">network</text>\n",
       "</g>\n",
       "<!-- &#39;1&#39; -->\n",
       "<g id=\"node2\" class=\"node\">\n",
       "<title>&#39;1&#39;</title>\n",
       "<ellipse fill=\"none\" stroke=\"deepskyblue\" stroke-width=\"2.4\" cx=\"298.35\" cy=\"-294.85\" rx=\"25.2\" ry=\"25.2\"/>\n",
       "<text text-anchor=\"middle\" x=\"298.35\" y=\"-290.97\" font-family=\"Times New Roman,serif\" font-size=\"10.00\">road</text>\n",
       "</g>\n",
       "<!-- 0&#45;&#45;&#39;1&#39; -->\n",
       "<g id=\"edge1\" class=\"edge\">\n",
       "<title>0&#45;&#45;&#39;1&#39;</title>\n",
       "<path fill=\"none\" stroke=\"black\" d=\"M336.47,-272.57C331.37,-275.55 325.94,-278.72 320.82,-281.71\"/>\n",
       "<text text-anchor=\"middle\" x=\"324.34\" y=\"-263.84\" font-family=\"Times New Roman,serif\" font-size=\"14.00\">1.0</text>\n",
       "</g>\n",
       "<!-- &#39;2&#39; -->\n",
       "<g id=\"node3\" class=\"node\">\n",
       "<title>&#39;2&#39;</title>\n",
       "<ellipse fill=\"none\" stroke=\"deepskyblue\" stroke-width=\"1.6\" cx=\"293.48\" cy=\"-25.2\" rx=\"25.2\" ry=\"25.2\"/>\n",
       "<text text-anchor=\"middle\" x=\"293.48\" y=\"-21.32\" font-family=\"Times New Roman,serif\" font-size=\"10.00\">search</text>\n",
       "</g>\n",
       "<!-- 0&#45;&#45;&#39;2&#39; -->\n",
       "<g id=\"edge2\" class=\"edge\">\n",
       "<title>0&#45;&#45;&#39;2&#39;</title>\n",
       "<path fill=\"none\" stroke=\"black\" d=\"M351.71,-235.02C339.21,-189.99 312.83,-94.92 300.33,-49.87\"/>\n",
       "<text text-anchor=\"middle\" x=\"317.39\" y=\"-144.9\" font-family=\"Times New Roman,serif\" font-size=\"14.00\">3.0</text>\n",
       "</g>\n",
       "<!-- &#39;3&#39; -->\n",
       "<g id=\"node4\" class=\"node\">\n",
       "<title>&#39;3&#39;</title>\n",
       "<ellipse fill=\"none\" stroke=\"deepskyblue\" stroke-width=\"1.6\" cx=\"453.47\" cy=\"-492.16\" rx=\"25.2\" ry=\"25.2\"/>\n",
       "<text text-anchor=\"middle\" x=\"453.47\" y=\"-488.29\" font-family=\"Times New Roman,serif\" font-size=\"10.00\">moving</text>\n",
       "</g>\n",
       "<!-- 0&#45;&#45;&#39;3&#39; -->\n",
       "<g id=\"edge3\" class=\"edge\">\n",
       "<title>0&#45;&#45;&#39;3&#39;</title>\n",
       "<path fill=\"none\" stroke=\"black\" d=\"M368.17,-283.24C386.37,-327.8 425.61,-423.92 443.82,-468.53\"/>\n",
       "<text text-anchor=\"middle\" x=\"397.37\" y=\"-378.34\" font-family=\"Times New Roman,serif\" font-size=\"14.00\">3.0</text>\n",
       "</g>\n",
       "<!-- &#39;4&#39; -->\n",
       "<g id=\"node5\" class=\"node\">\n",
       "<title>&#39;4&#39;</title>\n",
       "<ellipse fill=\"none\" stroke=\"deepskyblue\" stroke-width=\"1.6\" cx=\"499.73\" cy=\"-213.99\" rx=\"25.2\" ry=\"25.2\"/>\n",
       "<text text-anchor=\"middle\" x=\"499.73\" y=\"-210.12\" font-family=\"Times New Roman,serif\" font-size=\"10.00\">object</text>\n",
       "</g>\n",
       "<!-- 0&#45;&#45;&#39;4&#39; -->\n",
       "<g id=\"edge4\" class=\"edge\">\n",
       "<title>0&#45;&#45;&#39;4&#39;</title>\n",
       "<path fill=\"none\" stroke=\"black\" d=\"M382.82,-251.82C408.68,-243.45 449.39,-230.28 475.31,-221.9\"/>\n",
       "<text text-anchor=\"middle\" x=\"420.44\" y=\"-239.31\" font-family=\"Times New Roman,serif\" font-size=\"14.00\">2.0</text>\n",
       "</g>\n",
       "<!-- &#39;5&#39; -->\n",
       "<g id=\"node6\" class=\"node\">\n",
       "<title>&#39;5&#39;</title>\n",
       "<ellipse fill=\"none\" stroke=\"deepskyblue\" stroke-width=\"0.8\" cx=\"25.2\" cy=\"-356.33\" rx=\"25.2\" ry=\"25.2\"/>\n",
       "<text text-anchor=\"middle\" x=\"25.2\" y=\"-352.46\" font-family=\"Times New Roman,serif\" font-size=\"10.00\">scale</text>\n",
       "</g>\n",
       "<!-- 0&#45;&#45;&#39;5&#39; -->\n",
       "<g id=\"edge5\" class=\"edge\">\n",
       "<title>0&#45;&#45;&#39;5&#39;</title>\n",
       "<path fill=\"none\" stroke=\"black\" d=\"M334.04,-266.78C272.24,-284.7 110.65,-331.56 49.3,-349.34\"/>\n",
       "<text text-anchor=\"middle\" x=\"183.04\" y=\"-310.51\" font-family=\"Times New Roman,serif\" font-size=\"14.00\">4.0</text>\n",
       "</g>\n",
       "</g>\n",
       "</svg>\n"
      ],
      "text/plain": [
       "<graphviz.graphs.Graph at 0x28dddb537d0>"
      ]
     },
     "execution_count": 15,
     "metadata": {},
     "output_type": "execute_result"
    }
   ],
   "source": [
    "g5 = ranking.get_document_by_ranking_position(5).get_graph()\n",
    "print(g5)\n",
    "visual_graph5 = g5.get_graph_viz('0.7', 'deepskyblue')\n",
    "visual_graph5"
   ]
  }
 ],
 "metadata": {
  "kernelspec": {
   "display_name": "Python 3",
   "language": "python",
   "name": "python3"
  },
  "language_info": {
   "codemirror_mode": {
    "name": "ipython",
    "version": 3
   },
   "file_extension": ".py",
   "mimetype": "text/x-python",
   "name": "python",
   "nbconvert_exporter": "python",
   "pygments_lexer": "ipython3",
   "version": "3.12.2"
  }
 },
 "nbformat": 4,
 "nbformat_minor": 4
}
