{
 "cells": [
  {
   "cell_type": "markdown",
   "metadata": {},
   "source": [
    "# Testing GraphSearch Distance Concepts"
   ]
  },
  {
   "cell_type": "markdown",
   "metadata": {},
   "source": [
    "## Load Libraries"
   ]
  },
  {
   "cell_type": "code",
   "execution_count": 1,
   "metadata": {},
   "outputs": [],
   "source": [
    "import numpy as np\n",
    "import os\n",
    "import sys\n",
    "import json\n",
    "module_path = os.path.abspath(os.path.join('..'))\n",
    "if module_path not in sys.path:\n",
    "    sys.path.append(module_path)\n",
    "\n",
    "from models.srex.ranking import Ranking\n",
    "from utils.data_utils import DataUtils"
   ]
  },
  {
   "cell_type": "markdown",
   "metadata": {},
   "source": [
    "## Initialize some variables"
   ]
  },
  {
   "cell_type": "code",
   "execution_count": 2,
   "metadata": {},
   "outputs": [],
   "source": [
    "# Load Stop Words\n",
    "stop_words_list = DataUtils.load_stopwords()"
   ]
  },
  {
   "cell_type": "code",
   "execution_count": 3,
   "metadata": {},
   "outputs": [],
   "source": [
    "query                    = 'iot AND sensor'\n",
    "nr_search_results        = 3\n",
    "ranking_weight_type      = 'linear' # it can be: 'none', 'linear' or 'inverse'\n",
    "lema                     = True\n",
    "stem                     = False\n",
    "summarize                = 'mean'   # it can be: 'mean' or 'median'\n",
    "nr_of_graph_terms        = 5\n",
    "limit_distance           = 4 \n",
    "include_query_terms      = False"
   ]
  },
  {
   "cell_type": "markdown",
   "metadata": {},
   "source": [
    "## Calculate Ranking data structure"
   ]
  },
  {
   "cell_type": "code",
   "execution_count": 4,
   "metadata": {},
   "outputs": [],
   "source": [
    "document_1 = 'Furthermore, after analyzing different sensor applications, this article enlightens which IoT application requires which type of sensor'\n",
    "document_2 = 'IoT sensors are efficiently used in various IoT applications for creating a smart environment by collecting real time data.'\n",
    "document_3 = 'Internet of Things (IoT) is revolutionizing our world with trillions of sensors and actuators by creating a smart environment around us.'\n",
    "\n",
    "articles_list = [\n",
    "    {'title': document_1, 'article_number': '1'}, \n",
    "    {'title': document_2, 'article_number': '2'}, \n",
    "    {'title': document_3, 'article_number': '3'}\n",
    "]\n",
    "\n",
    "ranking = Ranking(query, nr_search_results, ranking_weight_type, stop_words_list, lema, stem)\n",
    "ranking.build_article_dictionaries_list(articles_list)"
   ]
  },
  {
   "cell_type": "markdown",
   "metadata": {},
   "source": [
    "## Generate all graphs from ranking, documents and sentences"
   ]
  },
  {
   "cell_type": "code",
   "execution_count": 5,
   "metadata": {},
   "outputs": [],
   "source": [
    "ranking.generate_all_graphs(nr_of_graph_terms, limit_distance, include_query_terms, summarize)"
   ]
  },
  {
   "cell_type": "markdown",
   "metadata": {},
   "source": [
    "## Imprimir texto crudo y texto preprocesado de cada documento"
   ]
  },
  {
   "cell_type": "code",
   "execution_count": 6,
   "metadata": {},
   "outputs": [
    {
     "name": "stdout",
     "output_type": "stream",
     "text": [
      "Document 1\n",
      "raw text: Furthermore, after analyzing different sensor applications, this article enlightens which IoT application requires which type of sensor\n",
      "preprocessed text: analyzing different sensor application article enlightens iot application requires type sensor\n",
      "\n",
      "Document 2\n",
      "raw text: IoT sensors are efficiently used in various IoT applications for creating a smart environment by collecting real time data.\n",
      "preprocessed text: iot sensor efficiently used various iot application creating smart environment collecting real time data\n",
      "\n",
      "Document 3\n",
      "raw text: Internet of Things (IoT) is revolutionizing our world with trillions of sensors and actuators by creating a smart environment around us.\n",
      "preprocessed text: internet thing iot revolutionizing world trillion sensor actuator creating smart environment around\n",
      "\n"
     ]
    }
   ],
   "source": [
    "for index, d in enumerate(ranking.documents):\n",
    "    print(f\"Document {d.doc_id}\")\n",
    "    print(f\"raw text: {d.title}\")\n",
    "    for s in d.sentences:\n",
    "        print(f\"preprocessed text: {s.preprocessed_text}\")\n",
    "    print()"
   ]
  },
  {
   "cell_type": "markdown",
   "metadata": {},
   "source": [
    "## Imprimir diccionario de posiciones de términos por cada documento"
   ]
  },
  {
   "cell_type": "code",
   "execution_count": 7,
   "metadata": {},
   "outputs": [
    {
     "name": "stdout",
     "output_type": "stream",
     "text": [
      "Document 1\n",
      "\n",
      "Posiciones sintácticas de términos\n",
      "{\n",
      "  'analyzing': [0],\n",
      "  'different': [1],\n",
      "  'sensor': [2, 10],\n",
      "  'application': [3, 7],\n",
      "  'article': [4],\n",
      "  'enlightens': [5],\n",
      "  'iot': [6],\n",
      "  'requires': [8],\n",
      "  'type': [9]\n",
      "}\n",
      "\n",
      "Posiciones sintácticas de query terms\n",
      "{\n",
      "  'iot': [6],\n",
      "  'sensor': [2, 10]\n",
      "}\n",
      "\n",
      "\n",
      "Document 2\n",
      "\n",
      "Posiciones sintácticas de términos\n",
      "{\n",
      "  'iot': [0, 5],\n",
      "  'sensor': [1],\n",
      "  'efficiently': [2],\n",
      "  'used': [3],\n",
      "  'various': [4],\n",
      "  'application': [6],\n",
      "  'creating': [7],\n",
      "  'smart': [8],\n",
      "  'environment': [9],\n",
      "  'collecting': [10],\n",
      "  'real': [11],\n",
      "  'time': [12],\n",
      "  'data': [13]\n",
      "}\n",
      "\n",
      "Posiciones sintácticas de query terms\n",
      "{\n",
      "  'iot': [0, 5],\n",
      "  'sensor': [1]\n",
      "}\n",
      "\n",
      "\n",
      "Document 3\n",
      "\n",
      "Posiciones sintácticas de términos\n",
      "{\n",
      "  'internet': [0],\n",
      "  'thing': [1],\n",
      "  'iot': [2],\n",
      "  'revolutionizing': [3],\n",
      "  'world': [4],\n",
      "  'trillion': [5],\n",
      "  'sensor': [6],\n",
      "  'actuator': [7],\n",
      "  'creating': [8],\n",
      "  'smart': [9],\n",
      "  'environment': [10],\n",
      "  'around': [11]\n",
      "}\n",
      "\n",
      "Posiciones sintácticas de query terms\n",
      "{\n",
      "  'iot': [2],\n",
      "  'sensor': [6]\n",
      "}\n",
      "\n",
      "\n"
     ]
    }
   ],
   "source": [
    "# Función personalizada para manejar el formato\n",
    "def custom_json_format(data):\n",
    "    formatted = \"{\\n\"\n",
    "    for key, value in data.items():\n",
    "        # Convierte cada par clave-valor en una línea con el formato deseado\n",
    "        formatted += f\"  '{key}': {json.dumps(value)},\\n\"\n",
    "    formatted = formatted.rstrip(\",\\n\") + \"\\n}\"  # Elimina la última coma y cierra el bloque\n",
    "    return formatted\n",
    "\n",
    "\n",
    "# Imprimir diccionario de posiciones de términos por cada documento\n",
    "for d in ranking.documents:\n",
    "    print(f\"Document {d.doc_id}\")\n",
    "    for s in d.sentences:\n",
    "        term_positions_dict = s.get_term_positions_dict()\n",
    "        query_terms = s.query_tree.get_query_terms_str_list_with_underscores()\n",
    "        query_term_positions_dict = s.get_query_term_positions_dict(term_positions_dict, query_terms)\n",
    "        \n",
    "        print('\\nPosiciones sintácticas de términos')\n",
    "        print(custom_json_format(term_positions_dict))\n",
    "        print('\\nPosiciones sintácticas de query terms')\n",
    "        print(f\"{custom_json_format(query_term_positions_dict)}\\n\")\n",
    "    print()"
   ]
  },
  {
   "cell_type": "markdown",
   "metadata": {},
   "source": [
    "## Imprimir Vicinity Matrix (MAT3D) de cada documento"
   ]
  },
  {
   "cell_type": "code",
   "execution_count": 8,
   "metadata": {},
   "outputs": [
    {
     "name": "stdout",
     "output_type": "stream",
     "text": [
      "Document 1\n",
      "{\n",
      "  'analyzing': {\"sensor\": [0, 1, 0, 0]},\n",
      "  'different': {\"sensor\": [1, 0, 0, 0]},\n",
      "  'application': {\"iot\": [1, 0, 1, 0], \"sensor\": [1, 0, 1, 0]},\n",
      "  'article': {\"iot\": [0, 1, 0, 0], \"sensor\": [0, 1, 0, 0]},\n",
      "  'enlightens': {\"iot\": [1, 0, 0, 0], \"sensor\": [0, 0, 1, 0]},\n",
      "  'requires': {\"iot\": [0, 1, 0, 0], \"sensor\": [0, 1, 0, 0]},\n",
      "  'type': {\"iot\": [0, 0, 1, 0], \"sensor\": [1, 0, 0, 0]}\n",
      "}\n",
      "\n",
      "Document 2\n",
      "{\n",
      "  'efficiently': {\"iot\": [0, 1, 1, 0], \"sensor\": [1, 0, 0, 0]},\n",
      "  'used': {\"iot\": [0, 1, 1, 0], \"sensor\": [0, 1, 0, 0]},\n",
      "  'various': {\"iot\": [1, 0, 0, 1], \"sensor\": [0, 0, 1, 0]},\n",
      "  'application': {\"iot\": [1, 0, 0, 0]},\n",
      "  'creating': {\"iot\": [0, 1, 0, 0]},\n",
      "  'smart': {\"iot\": [0, 0, 1, 0]},\n",
      "  'environment': {\"iot\": [0, 0, 0, 1]}\n",
      "}\n",
      "\n",
      "Document 3\n",
      "{\n",
      "  'internet': {\"iot\": [0, 1, 0, 0]},\n",
      "  'thing': {\"iot\": [1, 0, 0, 0]},\n",
      "  'revolutionizing': {\"iot\": [1, 0, 0, 0], \"sensor\": [0, 0, 1, 0]},\n",
      "  'world': {\"iot\": [0, 1, 0, 0], \"sensor\": [0, 1, 0, 0]},\n",
      "  'trillion': {\"iot\": [0, 0, 1, 0], \"sensor\": [1, 0, 0, 0]},\n",
      "  'actuator': {\"sensor\": [1, 0, 0, 0]},\n",
      "  'creating': {\"sensor\": [0, 1, 0, 0]},\n",
      "  'smart': {\"sensor\": [0, 0, 1, 0]},\n",
      "  'environment': {\"sensor\": [0, 0, 0, 1]}\n",
      "}\n",
      "\n"
     ]
    }
   ],
   "source": [
    "# Imprimir Vicinity Matrix (MAT3D) de cada parrafo\n",
    "for d in ranking.documents:\n",
    "    print(f\"Document {d.doc_id}\")\n",
    "    for s in d.sentences:\n",
    "        print(custom_json_format(s.vicinity_matrix))\n",
    "    print()"
   ]
  },
  {
   "cell_type": "markdown",
   "metadata": {},
   "source": [
    "## Imprimir Proximity Scores y Frequency Scores por cada término de los documentos"
   ]
  },
  {
   "cell_type": "code",
   "execution_count": 9,
   "metadata": {},
   "outputs": [
    {
     "name": "stdout",
     "output_type": "stream",
     "text": [
      "Document 1\n",
      "SUBQUERY: iot AND sensor\n",
      "TERM: application ; FREQUENCY_SCORE: 2.0 ; PROXIMITY_SCORE: 1.25 ; CRITERIA: proximity\n",
      "TERM: enlightens ; FREQUENCY_SCORE: 1.0 ; PROXIMITY_SCORE: 1.0 ; CRITERIA: proximity\n",
      "TERM: type ; FREQUENCY_SCORE: 1.0 ; PROXIMITY_SCORE: 1.0 ; CRITERIA: proximity\n",
      "TERM: different ; FREQUENCY_SCORE: 1.0 ; PROXIMITY_SCORE: 1.0 ; CRITERIA: proximity\n",
      "TERM: article ; FREQUENCY_SCORE: 1.0 ; PROXIMITY_SCORE: 0.5 ; CRITERIA: proximity\n",
      "TERM: requires ; FREQUENCY_SCORE: 1.0 ; PROXIMITY_SCORE: 0.5 ; CRITERIA: proximity\n",
      "TERM: analyzing ; FREQUENCY_SCORE: 1.0 ; PROXIMITY_SCORE: 0.5 ; CRITERIA: proximity\n",
      "\n",
      "Document 2\n",
      "SUBQUERY: iot AND sensor\n",
      "TERM: various ; FREQUENCY_SCORE: 0.75 ; PROXIMITY_SCORE: 0.84375 ; CRITERIA: proximity\n",
      "TERM: efficiently ; FREQUENCY_SCORE: 0.75 ; PROXIMITY_SCORE: 0.75 ; CRITERIA: proximity\n",
      "TERM: application ; FREQUENCY_SCORE: 0.75 ; PROXIMITY_SCORE: 0.75 ; CRITERIA: proximity\n",
      "TERM: used ; FREQUENCY_SCORE: 0.75 ; PROXIMITY_SCORE: 0.5625 ; CRITERIA: proximity\n",
      "TERM: creating ; FREQUENCY_SCORE: 0.75 ; PROXIMITY_SCORE: 0.375 ; CRITERIA: proximity\n",
      "TERM: smart ; FREQUENCY_SCORE: 0.75 ; PROXIMITY_SCORE: 0.1875 ; CRITERIA: proximity\n",
      "TERM: environment ; FREQUENCY_SCORE: 0.75 ; PROXIMITY_SCORE: 0.09375 ; CRITERIA: proximity\n",
      "TERM: collecting ; FREQUENCY_SCORE: 0.75 ; PROXIMITY_SCORE: 0.0 ; CRITERIA: frequency\n",
      "TERM: real ; FREQUENCY_SCORE: 0.75 ; PROXIMITY_SCORE: 0.0 ; CRITERIA: frequency\n",
      "TERM: time ; FREQUENCY_SCORE: 0.75 ; PROXIMITY_SCORE: 0.0 ; CRITERIA: frequency\n",
      "TERM: data ; FREQUENCY_SCORE: 0.75 ; PROXIMITY_SCORE: 0.0 ; CRITERIA: frequency\n",
      "\n",
      "Document 3\n",
      "SUBQUERY: iot AND sensor\n",
      "TERM: thing ; FREQUENCY_SCORE: 0.5 ; PROXIMITY_SCORE: 0.5 ; CRITERIA: proximity\n",
      "TERM: revolutionizing ; FREQUENCY_SCORE: 0.5 ; PROXIMITY_SCORE: 0.5 ; CRITERIA: proximity\n",
      "TERM: trillion ; FREQUENCY_SCORE: 0.5 ; PROXIMITY_SCORE: 0.5 ; CRITERIA: proximity\n",
      "TERM: actuator ; FREQUENCY_SCORE: 0.5 ; PROXIMITY_SCORE: 0.5 ; CRITERIA: proximity\n",
      "TERM: internet ; FREQUENCY_SCORE: 0.5 ; PROXIMITY_SCORE: 0.25 ; CRITERIA: proximity\n",
      "TERM: world ; FREQUENCY_SCORE: 0.5 ; PROXIMITY_SCORE: 0.25 ; CRITERIA: proximity\n",
      "TERM: creating ; FREQUENCY_SCORE: 0.5 ; PROXIMITY_SCORE: 0.25 ; CRITERIA: proximity\n",
      "TERM: smart ; FREQUENCY_SCORE: 0.5 ; PROXIMITY_SCORE: 0.125 ; CRITERIA: proximity\n",
      "TERM: environment ; FREQUENCY_SCORE: 0.5 ; PROXIMITY_SCORE: 0.0625 ; CRITERIA: proximity\n",
      "TERM: around ; FREQUENCY_SCORE: 0.5 ; PROXIMITY_SCORE: 0.0 ; CRITERIA: frequency\n",
      "\n"
     ]
    }
   ],
   "source": [
    "# Imprimir Proximity Scores y Frequency Scores por cada término de los documentos\n",
    "for d in ranking.documents:\n",
    "    print(f\"Document {d.doc_id}\")\n",
    "    for s in d.sentences:\n",
    "        print(s.get_graph())\n",
    "    print()"
   ]
  },
  {
   "cell_type": "markdown",
   "metadata": {},
   "source": [
    "## Imprimir Proximity Scores y Frequency Scores del grafo asociado al Ranking"
   ]
  },
  {
   "cell_type": "code",
   "execution_count": 10,
   "metadata": {},
   "outputs": [
    {
     "name": "stdout",
     "output_type": "stream",
     "text": [
      "SUBQUERY: iot AND sensor\n",
      "TERM: application ; FREQUENCY_SCORE: 2.75 ; PROXIMITY_SCORE: 2.0 ; CRITERIA: proximity\n",
      "TERM: enlightens ; FREQUENCY_SCORE: 1.0 ; PROXIMITY_SCORE: 1.0 ; CRITERIA: proximity\n",
      "TERM: type ; FREQUENCY_SCORE: 1.0 ; PROXIMITY_SCORE: 1.0 ; CRITERIA: proximity\n",
      "TERM: different ; FREQUENCY_SCORE: 1.0 ; PROXIMITY_SCORE: 1.0 ; CRITERIA: proximity\n",
      "TERM: various ; FREQUENCY_SCORE: 0.75 ; PROXIMITY_SCORE: 0.84375 ; CRITERIA: proximity\n",
      "TERM: efficiently ; FREQUENCY_SCORE: 0.75 ; PROXIMITY_SCORE: 0.75 ; CRITERIA: proximity\n",
      "TERM: creating ; FREQUENCY_SCORE: 1.25 ; PROXIMITY_SCORE: 0.625 ; CRITERIA: proximity\n",
      "TERM: used ; FREQUENCY_SCORE: 0.75 ; PROXIMITY_SCORE: 0.5625 ; CRITERIA: proximity\n",
      "TERM: article ; FREQUENCY_SCORE: 1.0 ; PROXIMITY_SCORE: 0.5 ; CRITERIA: proximity\n",
      "TERM: requires ; FREQUENCY_SCORE: 1.0 ; PROXIMITY_SCORE: 0.5 ; CRITERIA: proximity\n",
      "TERM: analyzing ; FREQUENCY_SCORE: 1.0 ; PROXIMITY_SCORE: 0.5 ; CRITERIA: proximity\n",
      "TERM: thing ; FREQUENCY_SCORE: 0.5 ; PROXIMITY_SCORE: 0.5 ; CRITERIA: proximity\n",
      "TERM: trillion ; FREQUENCY_SCORE: 0.5 ; PROXIMITY_SCORE: 0.5 ; CRITERIA: proximity\n",
      "TERM: revolutionizing ; FREQUENCY_SCORE: 0.5 ; PROXIMITY_SCORE: 0.5 ; CRITERIA: proximity\n",
      "TERM: actuator ; FREQUENCY_SCORE: 0.5 ; PROXIMITY_SCORE: 0.5 ; CRITERIA: proximity\n",
      "TERM: smart ; FREQUENCY_SCORE: 1.25 ; PROXIMITY_SCORE: 0.3125 ; CRITERIA: proximity\n",
      "TERM: internet ; FREQUENCY_SCORE: 0.5 ; PROXIMITY_SCORE: 0.25 ; CRITERIA: proximity\n",
      "TERM: world ; FREQUENCY_SCORE: 0.5 ; PROXIMITY_SCORE: 0.25 ; CRITERIA: proximity\n",
      "TERM: environment ; FREQUENCY_SCORE: 1.25 ; PROXIMITY_SCORE: 0.15625 ; CRITERIA: proximity\n",
      "TERM: data ; FREQUENCY_SCORE: 0.75 ; PROXIMITY_SCORE: 0.0 ; CRITERIA: frequency\n",
      "TERM: collecting ; FREQUENCY_SCORE: 0.75 ; PROXIMITY_SCORE: 0.0 ; CRITERIA: frequency\n",
      "TERM: time ; FREQUENCY_SCORE: 0.75 ; PROXIMITY_SCORE: 0.0 ; CRITERIA: frequency\n",
      "TERM: real ; FREQUENCY_SCORE: 0.75 ; PROXIMITY_SCORE: 0.0 ; CRITERIA: frequency\n",
      "TERM: around ; FREQUENCY_SCORE: 0.5 ; PROXIMITY_SCORE: 0.0 ; CRITERIA: frequency\n"
     ]
    }
   ],
   "source": [
    "print(ranking.get_graph())"
   ]
  }
 ],
 "metadata": {
  "kernelspec": {
   "display_name": "Python 3",
   "language": "python",
   "name": "python3"
  },
  "language_info": {
   "codemirror_mode": {
    "name": "ipython",
    "version": 3
   },
   "file_extension": ".py",
   "mimetype": "text/x-python",
   "name": "python",
   "nbconvert_exporter": "python",
   "pygments_lexer": "ipython3",
   "version": "3.12.2"
  }
 },
 "nbformat": 4,
 "nbformat_minor": 4
}
