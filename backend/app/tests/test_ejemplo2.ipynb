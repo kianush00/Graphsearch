{
 "cells": [
  {
   "cell_type": "markdown",
   "metadata": {},
   "source": [
    "# Testing GraphSearch Distance Concepts"
   ]
  },
  {
   "cell_type": "markdown",
   "metadata": {},
   "source": [
    "## Load Libraries"
   ]
  },
  {
   "cell_type": "code",
   "execution_count": 1,
   "metadata": {},
   "outputs": [],
   "source": [
    "import numpy as np\n",
    "import os\n",
    "import sys\n",
    "import json\n",
    "import copy\n",
    "module_path = os.path.abspath(os.path.join('..'))\n",
    "if module_path not in sys.path:\n",
    "    sys.path.append(module_path)\n",
    "\n",
    "from models.srex.ranking import Ranking\n",
    "from models.srex.vicinity_graph import VicinityGraph, VicinityNode\n",
    "from utils.data_utils import DataUtils"
   ]
  },
  {
   "cell_type": "markdown",
   "metadata": {},
   "source": [
    "## Initialize some variables"
   ]
  },
  {
   "cell_type": "code",
   "execution_count": 2,
   "metadata": {},
   "outputs": [],
   "source": [
    "# Load Stop Words\n",
    "stop_words_list = DataUtils.load_stopwords()"
   ]
  },
  {
   "cell_type": "code",
   "execution_count": 3,
   "metadata": {},
   "outputs": [],
   "source": [
    "query                    = 'iot OR sensor'\n",
    "nr_search_results        = 3\n",
    "ranking_weight_type      = 'linear' # it can be: 'none', 'linear' or 'inverse'\n",
    "lema                     = True\n",
    "stem                     = False\n",
    "summarize                = 'mean'   # it can be: 'mean' or 'median'\n",
    "nr_of_graph_terms        = 5\n",
    "limit_distance           = 4\n",
    "include_query_terms      = False"
   ]
  },
  {
   "cell_type": "markdown",
   "metadata": {},
   "source": [
    "## Calculate Ranking data structure"
   ]
  },
  {
   "cell_type": "code",
   "execution_count": 4,
   "metadata": {},
   "outputs": [],
   "source": [
    "document_1 = 'In scientific research, sensors are considered as a prospective field for innovation.'\n",
    "document_2 = 'IoT sensors are efficiently used in various IoT applications for creating a smart environment by collecting real time data.'\n",
    "document_3 = 'Internet of Things (IoT) is revolutionizing our world with trillions of sensors and actuators by creating a smart environment around us.'\n",
    "\n",
    "articles_list = [\n",
    "    {'title': document_1, 'article_number': '1'}, \n",
    "    {'title': document_2, 'article_number': '2'}, \n",
    "    {'title': document_3, 'article_number': '3'}\n",
    "]\n",
    "\n",
    "ranking = Ranking(query, nr_search_results, ranking_weight_type, stop_words_list, lema, stem)\n",
    "ranking.calculate_article_dictionaries_list(articles_list)"
   ]
  },
  {
   "cell_type": "markdown",
   "metadata": {},
   "source": [
    "## Generate all graphs from ranking, documents and sentences"
   ]
  },
  {
   "cell_type": "code",
   "execution_count": 5,
   "metadata": {},
   "outputs": [],
   "source": [
    "ranking.generate_all_graphs(nr_of_graph_terms, limit_distance, include_query_terms, summarize)"
   ]
  },
  {
   "cell_type": "markdown",
   "metadata": {},
   "source": [
    "## Imprimir texto crudo y texto preprocesado de cada documento"
   ]
  },
  {
   "cell_type": "code",
   "execution_count": 6,
   "metadata": {},
   "outputs": [
    {
     "name": "stdout",
     "output_type": "stream",
     "text": [
      "Document 1\n",
      "raw text: In scientific research, sensors are considered as a prospective field for innovation.\n",
      "preprocessed text: scientific research sensor considered prospective field innovation\n",
      "\n",
      "Document 2\n",
      "raw text: IoT sensors are efficiently used in various IoT applications for creating a smart environment by collecting real time data.\n",
      "preprocessed text: iot sensor efficiently used various iot application creating smart environment collecting real time data\n",
      "\n",
      "Document 3\n",
      "raw text: Internet of Things (IoT) is revolutionizing our world with trillions of sensors and actuators by creating a smart environment around us.\n",
      "preprocessed text: internet thing iot revolutionizing world trillion sensor actuator creating smart environment around\n",
      "\n"
     ]
    }
   ],
   "source": [
    "for index, d in enumerate(ranking.get_documents()):\n",
    "    print(f\"Document {d.get_doc_id()}\")\n",
    "    print(f\"raw text: {d.get_title()}\")\n",
    "    for s in d.get_sentences():\n",
    "        print(f\"preprocessed text: {s.get_preprocessed_text()}\")\n",
    "    print()"
   ]
  },
  {
   "cell_type": "markdown",
   "metadata": {},
   "source": [
    "## Imprimir diccionario de posiciones de términos por cada documento"
   ]
  },
  {
   "cell_type": "code",
   "execution_count": 7,
   "metadata": {},
   "outputs": [
    {
     "name": "stdout",
     "output_type": "stream",
     "text": [
      "Document 1\n",
      "\n",
      "Posiciones sintácticas de términos\n",
      "{\n",
      "  'scientific': [0],\n",
      "  'research': [1],\n",
      "  'sensor': [2],\n",
      "  'considered': [3],\n",
      "  'prospective': [4],\n",
      "  'field': [5],\n",
      "  'innovation': [6]\n",
      "}\n",
      "\n",
      "Posiciones sintácticas de query terms\n",
      "{\n",
      "  'sensor': [2]\n",
      "}\n",
      "\n",
      "\n",
      "Document 2\n",
      "\n",
      "Posiciones sintácticas de términos\n",
      "{\n",
      "  'iot': [0, 5],\n",
      "  'sensor': [1],\n",
      "  'efficiently': [2],\n",
      "  'used': [3],\n",
      "  'various': [4],\n",
      "  'application': [6],\n",
      "  'creating': [7],\n",
      "  'smart': [8],\n",
      "  'environment': [9],\n",
      "  'collecting': [10],\n",
      "  'real': [11],\n",
      "  'time': [12],\n",
      "  'data': [13]\n",
      "}\n",
      "\n",
      "Posiciones sintácticas de query terms\n",
      "{\n",
      "  'iot': [0, 5],\n",
      "  'sensor': [1]\n",
      "}\n",
      "\n",
      "\n",
      "Document 3\n",
      "\n",
      "Posiciones sintácticas de términos\n",
      "{\n",
      "  'internet': [0],\n",
      "  'thing': [1],\n",
      "  'iot': [2],\n",
      "  'revolutionizing': [3],\n",
      "  'world': [4],\n",
      "  'trillion': [5],\n",
      "  'sensor': [6],\n",
      "  'actuator': [7],\n",
      "  'creating': [8],\n",
      "  'smart': [9],\n",
      "  'environment': [10],\n",
      "  'around': [11]\n",
      "}\n",
      "\n",
      "Posiciones sintácticas de query terms\n",
      "{\n",
      "  'iot': [2],\n",
      "  'sensor': [6]\n",
      "}\n",
      "\n",
      "\n"
     ]
    }
   ],
   "source": [
    "# Función personalizada para manejar el formato\n",
    "def custom_json_format(data):\n",
    "    formatted = \"{\\n\"\n",
    "    for key, value in data.items():\n",
    "        # Convierte cada par clave-valor en una línea con el formato deseado\n",
    "        formatted += f\"  '{key}': {json.dumps(value)},\\n\"\n",
    "    formatted = formatted.rstrip(\",\\n\") + \"\\n}\"  # Elimina la última coma y cierra el bloque\n",
    "    return formatted\n",
    "\n",
    "\n",
    "# Imprimir diccionario de posiciones de términos por cada documento\n",
    "for d in ranking.get_documents():\n",
    "    print(f\"Document {d.get_doc_id()}\")\n",
    "    for s in d.get_sentences():\n",
    "        term_positions_dict = s.get_term_positions_dict()\n",
    "        query_terms = s.get_query_tree().get_query_terms_str_list_with_underscores()\n",
    "        query_term_positions_dict = s.get_query_term_positions_dict(term_positions_dict, query_terms)\n",
    "        \n",
    "        print('\\nPosiciones sintácticas de términos')\n",
    "        print(custom_json_format(term_positions_dict))\n",
    "        print('\\nPosiciones sintácticas de query terms')\n",
    "        print(f\"{custom_json_format(query_term_positions_dict)}\\n\")\n",
    "    print()"
   ]
  },
  {
   "cell_type": "markdown",
   "metadata": {},
   "source": [
    "## Imprimir Vicinity Matrix (MAT3D) de cada documento"
   ]
  },
  {
   "cell_type": "code",
   "execution_count": 8,
   "metadata": {},
   "outputs": [
    {
     "name": "stdout",
     "output_type": "stream",
     "text": [
      "Document 1\n",
      "{\n",
      "  'scientific': {\"sensor\": [0, 1, 0, 0]},\n",
      "  'research': {\"sensor\": [1, 0, 0, 0]},\n",
      "  'considered': {\"sensor\": [1, 0, 0, 0]},\n",
      "  'prospective': {\"sensor\": [0, 1, 0, 0]},\n",
      "  'field': {\"sensor\": [0, 0, 1, 0]},\n",
      "  'innovation': {\"sensor\": [0, 0, 0, 1]}\n",
      "}\n",
      "\n",
      "Document 2\n",
      "{\n",
      "  'efficiently': {\"iot\": [0, 1, 1, 0], \"sensor\": [1, 0, 0, 0]},\n",
      "  'used': {\"iot\": [0, 1, 1, 0], \"sensor\": [0, 1, 0, 0]},\n",
      "  'various': {\"iot\": [1, 0, 0, 1], \"sensor\": [0, 0, 1, 0]},\n",
      "  'application': {\"iot\": [1, 0, 0, 0]},\n",
      "  'creating': {\"iot\": [0, 1, 0, 0]},\n",
      "  'smart': {\"iot\": [0, 0, 1, 0]},\n",
      "  'environment': {\"iot\": [0, 0, 0, 1]}\n",
      "}\n",
      "\n",
      "Document 3\n",
      "{\n",
      "  'internet': {\"iot\": [0, 1, 0, 0]},\n",
      "  'thing': {\"iot\": [1, 0, 0, 0]},\n",
      "  'revolutionizing': {\"iot\": [1, 0, 0, 0], \"sensor\": [0, 0, 1, 0]},\n",
      "  'world': {\"iot\": [0, 1, 0, 0], \"sensor\": [0, 1, 0, 0]},\n",
      "  'trillion': {\"iot\": [0, 0, 1, 0], \"sensor\": [1, 0, 0, 0]},\n",
      "  'actuator': {\"sensor\": [1, 0, 0, 0]},\n",
      "  'creating': {\"sensor\": [0, 1, 0, 0]},\n",
      "  'smart': {\"sensor\": [0, 0, 1, 0]},\n",
      "  'environment': {\"sensor\": [0, 0, 0, 1]}\n",
      "}\n",
      "\n"
     ]
    }
   ],
   "source": [
    "# Imprimir Vicinity Matrix (MAT3D) de cada parrafo\n",
    "for d in ranking.get_documents():\n",
    "    print(f\"Document {d.get_doc_id()}\")\n",
    "    for s in d.get_sentences():\n",
    "        print(custom_json_format(s.get_vicinity_matrix()))\n",
    "    print()"
   ]
  },
  {
   "cell_type": "markdown",
   "metadata": {},
   "source": [
    "## Imprimir Proximity Scores y Frequency Scores por cada término de los documentos"
   ]
  },
  {
   "cell_type": "code",
   "execution_count": 9,
   "metadata": {},
   "outputs": [
    {
     "name": "stdout",
     "output_type": "stream",
     "text": [
      "Document 1\n",
      "SUBQUERY: iot OR sensor\n",
      "TERM: research ; FREQUENCY_SCORE: 1.0 ; PROXIMITY_SCORE: 1.0 ; CRITERIA: proximity\n",
      "TERM: considered ; FREQUENCY_SCORE: 1.0 ; PROXIMITY_SCORE: 1.0 ; CRITERIA: proximity\n",
      "TERM: prospective ; FREQUENCY_SCORE: 1.0 ; PROXIMITY_SCORE: 0.5 ; CRITERIA: proximity\n",
      "TERM: scientific ; FREQUENCY_SCORE: 1.0 ; PROXIMITY_SCORE: 0.5 ; CRITERIA: proximity\n",
      "TERM: field ; FREQUENCY_SCORE: 1.0 ; PROXIMITY_SCORE: 0.25 ; CRITERIA: proximity\n",
      "TERM: innovation ; FREQUENCY_SCORE: 1.0 ; PROXIMITY_SCORE: 0.125 ; CRITERIA: proximity\n",
      "\n",
      "Document 2\n",
      "SUBQUERY: iot OR sensor\n",
      "TERM: various ; FREQUENCY_SCORE: 0.75 ; PROXIMITY_SCORE: 0.84375 ; CRITERIA: proximity\n",
      "TERM: efficiently ; FREQUENCY_SCORE: 0.75 ; PROXIMITY_SCORE: 0.75 ; CRITERIA: proximity\n",
      "TERM: application ; FREQUENCY_SCORE: 0.75 ; PROXIMITY_SCORE: 0.75 ; CRITERIA: proximity\n",
      "TERM: used ; FREQUENCY_SCORE: 0.75 ; PROXIMITY_SCORE: 0.5625 ; CRITERIA: proximity\n",
      "TERM: creating ; FREQUENCY_SCORE: 0.75 ; PROXIMITY_SCORE: 0.375 ; CRITERIA: proximity\n",
      "TERM: smart ; FREQUENCY_SCORE: 0.75 ; PROXIMITY_SCORE: 0.1875 ; CRITERIA: proximity\n",
      "TERM: environment ; FREQUENCY_SCORE: 0.75 ; PROXIMITY_SCORE: 0.09375 ; CRITERIA: proximity\n",
      "TERM: collecting ; FREQUENCY_SCORE: 0.75 ; PROXIMITY_SCORE: 0.0 ; CRITERIA: frequency\n",
      "TERM: real ; FREQUENCY_SCORE: 0.75 ; PROXIMITY_SCORE: 0.0 ; CRITERIA: frequency\n",
      "TERM: time ; FREQUENCY_SCORE: 0.75 ; PROXIMITY_SCORE: 0.0 ; CRITERIA: frequency\n",
      "TERM: data ; FREQUENCY_SCORE: 0.75 ; PROXIMITY_SCORE: 0.0 ; CRITERIA: frequency\n",
      "\n",
      "Document 3\n",
      "SUBQUERY: iot OR sensor\n",
      "TERM: thing ; FREQUENCY_SCORE: 0.5 ; PROXIMITY_SCORE: 0.5 ; CRITERIA: proximity\n",
      "TERM: revolutionizing ; FREQUENCY_SCORE: 0.5 ; PROXIMITY_SCORE: 0.5 ; CRITERIA: proximity\n",
      "TERM: trillion ; FREQUENCY_SCORE: 0.5 ; PROXIMITY_SCORE: 0.5 ; CRITERIA: proximity\n",
      "TERM: actuator ; FREQUENCY_SCORE: 0.5 ; PROXIMITY_SCORE: 0.5 ; CRITERIA: proximity\n",
      "TERM: internet ; FREQUENCY_SCORE: 0.5 ; PROXIMITY_SCORE: 0.25 ; CRITERIA: proximity\n",
      "TERM: world ; FREQUENCY_SCORE: 0.5 ; PROXIMITY_SCORE: 0.25 ; CRITERIA: proximity\n",
      "TERM: creating ; FREQUENCY_SCORE: 0.5 ; PROXIMITY_SCORE: 0.25 ; CRITERIA: proximity\n",
      "TERM: smart ; FREQUENCY_SCORE: 0.5 ; PROXIMITY_SCORE: 0.125 ; CRITERIA: proximity\n",
      "TERM: environment ; FREQUENCY_SCORE: 0.5 ; PROXIMITY_SCORE: 0.0625 ; CRITERIA: proximity\n",
      "TERM: around ; FREQUENCY_SCORE: 0.5 ; PROXIMITY_SCORE: 0.0 ; CRITERIA: frequency\n",
      "\n"
     ]
    }
   ],
   "source": [
    "# Imprimir Proximity Scores y Frequency Scores por cada término de los documentos\n",
    "for d in ranking.get_documents():\n",
    "    print(f\"Document {d.get_doc_id()}\")\n",
    "    for s in d.get_sentences():\n",
    "        print(s.get_graph_by_subquery('iot OR sensor'))\n",
    "    print()"
   ]
  },
  {
   "cell_type": "markdown",
   "metadata": {},
   "source": [
    "## Imprimir Proximity Scores y Frequency Scores del grafo asociado al Ranking"
   ]
  },
  {
   "cell_type": "code",
   "execution_count": 10,
   "metadata": {},
   "outputs": [
    {
     "name": "stdout",
     "output_type": "stream",
     "text": [
      "SUBQUERY: iot OR sensor\n",
      "TERM: research ; FREQUENCY_SCORE: 1.0 ; PROXIMITY_SCORE: 1.0 ; CRITERIA: proximity\n",
      "TERM: considered ; FREQUENCY_SCORE: 1.0 ; PROXIMITY_SCORE: 1.0 ; CRITERIA: proximity\n",
      "TERM: various ; FREQUENCY_SCORE: 0.75 ; PROXIMITY_SCORE: 0.84375 ; CRITERIA: proximity\n",
      "TERM: application ; FREQUENCY_SCORE: 0.75 ; PROXIMITY_SCORE: 0.75 ; CRITERIA: proximity\n",
      "TERM: efficiently ; FREQUENCY_SCORE: 0.75 ; PROXIMITY_SCORE: 0.75 ; CRITERIA: proximity\n",
      "TERM: creating ; FREQUENCY_SCORE: 1.25 ; PROXIMITY_SCORE: 0.625 ; CRITERIA: proximity\n",
      "TERM: used ; FREQUENCY_SCORE: 0.75 ; PROXIMITY_SCORE: 0.5625 ; CRITERIA: proximity\n",
      "TERM: prospective ; FREQUENCY_SCORE: 1.0 ; PROXIMITY_SCORE: 0.5 ; CRITERIA: proximity\n",
      "TERM: scientific ; FREQUENCY_SCORE: 1.0 ; PROXIMITY_SCORE: 0.5 ; CRITERIA: proximity\n",
      "TERM: trillion ; FREQUENCY_SCORE: 0.5 ; PROXIMITY_SCORE: 0.5 ; CRITERIA: proximity\n",
      "TERM: thing ; FREQUENCY_SCORE: 0.5 ; PROXIMITY_SCORE: 0.5 ; CRITERIA: proximity\n",
      "TERM: actuator ; FREQUENCY_SCORE: 0.5 ; PROXIMITY_SCORE: 0.5 ; CRITERIA: proximity\n",
      "TERM: revolutionizing ; FREQUENCY_SCORE: 0.5 ; PROXIMITY_SCORE: 0.5 ; CRITERIA: proximity\n",
      "TERM: smart ; FREQUENCY_SCORE: 1.25 ; PROXIMITY_SCORE: 0.3125 ; CRITERIA: proximity\n",
      "TERM: field ; FREQUENCY_SCORE: 1.0 ; PROXIMITY_SCORE: 0.25 ; CRITERIA: proximity\n",
      "TERM: internet ; FREQUENCY_SCORE: 0.5 ; PROXIMITY_SCORE: 0.25 ; CRITERIA: proximity\n",
      "TERM: world ; FREQUENCY_SCORE: 0.5 ; PROXIMITY_SCORE: 0.25 ; CRITERIA: proximity\n",
      "TERM: environment ; FREQUENCY_SCORE: 1.25 ; PROXIMITY_SCORE: 0.15625 ; CRITERIA: proximity\n",
      "TERM: innovation ; FREQUENCY_SCORE: 1.0 ; PROXIMITY_SCORE: 0.125 ; CRITERIA: proximity\n",
      "TERM: time ; FREQUENCY_SCORE: 0.75 ; PROXIMITY_SCORE: 0.0 ; CRITERIA: frequency\n",
      "TERM: data ; FREQUENCY_SCORE: 0.75 ; PROXIMITY_SCORE: 0.0 ; CRITERIA: frequency\n",
      "TERM: collecting ; FREQUENCY_SCORE: 0.75 ; PROXIMITY_SCORE: 0.0 ; CRITERIA: frequency\n",
      "TERM: real ; FREQUENCY_SCORE: 0.75 ; PROXIMITY_SCORE: 0.0 ; CRITERIA: frequency\n",
      "TERM: around ; FREQUENCY_SCORE: 0.5 ; PROXIMITY_SCORE: 0.0 ; CRITERIA: frequency\n"
     ]
    }
   ],
   "source": [
    "print(ranking.get_graph())"
   ]
  },
  {
   "cell_type": "markdown",
   "metadata": {},
   "source": [
    "## Comparar Grafo del Usuario con los documentos del ránking"
   ]
  },
  {
   "cell_type": "markdown",
   "metadata": {},
   "source": [
    "### Generar Grafo del Usuario"
   ]
  },
  {
   "cell_type": "code",
   "execution_count": 11,
   "metadata": {},
   "outputs": [
    {
     "name": "stdout",
     "output_type": "stream",
     "text": [
      "SUBQUERY: iot OR sensor\n",
      "TERM: environment ; FREQUENCY_SCORE: 1.0 ; PROXIMITY_SCORE: 1.0 ; CRITERIA: proximity\n",
      "TERM: smart ; FREQUENCY_SCORE: 1.0 ; PROXIMITY_SCORE: 1.0 ; CRITERIA: proximity\n",
      "TERM: scientific ; FREQUENCY_SCORE: 1.0 ; PROXIMITY_SCORE: 1.0 ; CRITERIA: proximity\n"
     ]
    }
   ],
   "source": [
    "# Este grafo es el resultado del Grafo de Usuario que éste modificó, a partir del Grafo Inicial construido a partir del ránking inicial\n",
    "\n",
    "user_graph = VicinityGraph(query, nr_of_graph_terms, limit_distance, include_query_terms, summarize)\n",
    "vicinity_node_1 = VicinityNode(term='environment', frequency_score=1.0, proximity_score=1.0, criteria='proximity')\n",
    "vicinity_node_2 = VicinityNode(term='smart', frequency_score=1.0, proximity_score=1.0, criteria='proximity')\n",
    "vicinity_node_3 = VicinityNode(term='scientific', frequency_score=1.0, proximity_score=1.0, criteria='proximity')\n",
    "user_graph.add_node(vicinity_node_1)\n",
    "user_graph.add_node(vicinity_node_2)\n",
    "user_graph.add_node(vicinity_node_3)\n",
    "print(user_graph)"
   ]
  },
  {
   "cell_type": "markdown",
   "metadata": {},
   "source": [
    "### Comparar Documento 1 con Grafo del Usuario"
   ]
  },
  {
   "cell_type": "code",
   "execution_count": 12,
   "metadata": {},
   "outputs": [
    {
     "name": "stdout",
     "output_type": "stream",
     "text": [
      "cosine_of_prox_angle: 0.1797866299901979\n",
      "cosine_of_freq_angle: 0.0\n",
      "0.1797866299901979\n"
     ]
    }
   ],
   "source": [
    "doc1_graph = ranking.get_document_by_id('1').get_graph()\n",
    "doc1_similarity_score = user_graph.get_similarity_score_as_base_graph(doc1_graph)\n",
    "print(doc1_similarity_score)"
   ]
  },
  {
   "cell_type": "markdown",
   "metadata": {},
   "source": [
    "### Comparar Documento 2 con Grafo del Usuario"
   ]
  },
  {
   "cell_type": "code",
   "execution_count": 13,
   "metadata": {},
   "outputs": [
    {
     "name": "stdout",
     "output_type": "stream",
     "text": [
      "cosine_of_prox_angle: 0.10619884881071831\n",
      "cosine_of_freq_angle: 0.0\n",
      "0.10619884881071832\n"
     ]
    }
   ],
   "source": [
    "doc2_graph = ranking.get_document_by_id('2').get_graph()\n",
    "doc2_similarity_score = user_graph.get_similarity_score_as_base_graph(doc2_graph)\n",
    "print(doc2_similarity_score)"
   ]
  },
  {
   "cell_type": "markdown",
   "metadata": {},
   "source": [
    "### Comparar Documento 3 con Grafo del Usuario"
   ]
  },
  {
   "cell_type": "code",
   "execution_count": 14,
   "metadata": {},
   "outputs": [
    {
     "name": "stdout",
     "output_type": "stream",
     "text": [
      "cosine_of_prox_angle: 0.09853292781642932\n",
      "cosine_of_freq_angle: 0.0\n",
      "0.09853292781642932\n"
     ]
    }
   ],
   "source": [
    "doc3_graph = ranking.get_document_by_id('3').get_graph()\n",
    "doc3_similarity_score = user_graph.get_similarity_score_as_base_graph(doc3_graph)\n",
    "print(doc3_similarity_score)"
   ]
  }
 ],
 "metadata": {
  "kernelspec": {
   "display_name": "Python 3",
   "language": "python",
   "name": "python3"
  },
  "language_info": {
   "codemirror_mode": {
    "name": "ipython",
    "version": 3
   },
   "file_extension": ".py",
   "mimetype": "text/x-python",
   "name": "python",
   "nbconvert_exporter": "python",
   "pygments_lexer": "ipython3",
   "version": "3.12.2"
  }
 },
 "nbformat": 4,
 "nbformat_minor": 4
}
