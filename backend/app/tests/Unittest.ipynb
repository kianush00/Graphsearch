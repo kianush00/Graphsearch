{
 "cells": [
  {
   "cell_type": "markdown",
   "metadata": {},
   "source": [
    "# Testing SREX Classes"
   ]
  },
  {
   "cell_type": "markdown",
   "metadata": {},
   "source": [
    "## Load libraries"
   ]
  },
  {
   "cell_type": "code",
   "execution_count": 1,
   "metadata": {},
   "outputs": [],
   "source": [
    "import json\n",
    "import os\n",
    "import sys\n",
    "module_path = os.path.abspath(os.path.join('..'))\n",
    "if module_path not in sys.path:\n",
    "    sys.path.append(module_path)\n",
    "\n",
    "from models.srex.ranking import Ranking\n",
    "from utils.data_utils import DataUtils"
   ]
  },
  {
   "cell_type": "markdown",
   "metadata": {},
   "source": [
    "# Initialize some variables"
   ]
  },
  {
   "cell_type": "code",
   "execution_count": 2,
   "metadata": {},
   "outputs": [],
   "source": [
    "# Load Stop Words\n",
    "stop_words_list = DataUtils.load_stopwords()"
   ]
  },
  {
   "cell_type": "markdown",
   "metadata": {},
   "source": [
    "## Define the documents/paragraphs and configure parameters"
   ]
  },
  {
   "cell_type": "code",
   "execution_count": 3,
   "metadata": {},
   "outputs": [],
   "source": [
    "query                    = 'network'\n",
    "ranking_weight_type      = 'linear' # it can be: 'none', 'linear' or 'inverse'\n",
    "lema                     = True\n",
    "stem                     = False\n",
    "summarize                = 'mean'   # it can be: 'mean' or 'median'\n",
    "nr_of_graph_terms        = 5\n",
    "limit_distance           = 4 \n",
    "include_reference_terms  = True\n",
    "\n",
    "text1 = 'perro hierarchical SIMkNN dual-index driven, children network we adopt hierarchical gato R-tree to store the topology of the road network and gato hierarchical topology grid model to manage the moving objects in non-uniform distribution perro'\n",
    "text2 = 'perro hierarchical SIMkNN dual-index driven, house network car adopt hierarchical gato R-tree to store the topology of the road network and gato hierarchical topology grid model to manage the moving objects in non-uniform distribution perro'\n",
    "text3 = 'perro hierarchical SIMkNN dual-index driven, echeverria network patricio adopt hierarchical gato R-tree to galeas the topology of the road network abel gato hierarchical topology grid model temuco manage galeas moving objects abel non-uniform patricio perro'\n",
    "text4 = 'ant hierarchical SIMkNN dual-index driven, echeverria network rain adopt hierarchical rain R-tree to galeas the topology of the road network abel gato hierarchical topology grid model rain manage galeas moving objects abel non-uniform patricio ant'\n",
    "title5 = 'A Scalable Method for in-Memory kNN Search over Moving Objects in Road Networks'\n",
    "abstract5 = 'Nowadays, many location-based applications require the ability of querying k-nearest neighbors over a very large scale of moving objects in road networks, e.g., taxi-calling and ride-sharing services. Traditional grid index with equal-sized cells can not adapt to the skewed distribution of moving objects in real scenarios. Thus, to obtain the fast querying response time, the grid needs to be split into more smaller cells which introduces the side-effect of higher memory cost, i.e., maintaining such a large volume of cells requires a much larger memory space at the server side. In this paper, we present SIMkNN, a scalable and in-memory kNN query processing technique. SIMkNN is dual-index driven, where we adopt a R-tree to store the topology of the road network and a hierarchical grid model to manage the moving objects in non-uniform distribution. To answer a kNN query in real time, SIMkNN adopts the strategy that incrementally enlarges the search area for network distance based nearest neighbor evaluation. It is far from trivial to perform the space expansion within the hierarchical grid index. For a given cell, we first define its neighbors in different directions, then propose a cell communication technique which allows each cell in the hierarchical grid index to be aware of its neighbors at anytime. Accordingly, an efficient space expansion algorithm to generate the estimation area is proposed. The experimental evaluation shows that SIMkNN outperforms the baseline algorithm in terms of time and memory efficiency.'\n",
    "\n",
    "list_of_articles_dicts = [{'abstract': text1}, \n",
    "                          {'abstract': text2}, \n",
    "                          {'abstract': text3}, \n",
    "                          {'abstract': text4},\n",
    "                          {'title': title5, 'abstract': abstract5}]\n",
    "\n",
    "#paragraph_text1 = 'house network cat car'\n",
    "#paragraph_text2 = 'house network cat'"
   ]
  },
  {
   "cell_type": "markdown",
   "metadata": {},
   "source": [
    "## Define sentence objects"
   ]
  },
  {
   "cell_type": "code",
   "execution_count": 4,
   "metadata": {},
   "outputs": [],
   "source": [
    "ranking = Ranking(query, ranking_weight_type=ranking_weight_type, stop_words=stop_words_list, lemmatization=lema, stemming=stem)\n",
    "ranking.calculate_article_dictionaries_list(list_of_articles_dicts)"
   ]
  },
  {
   "cell_type": "markdown",
   "metadata": {},
   "source": [
    "## Calculate the Graphs"
   ]
  },
  {
   "cell_type": "code",
   "execution_count": 5,
   "metadata": {},
   "outputs": [],
   "source": [
    "ranking.generate_all_graphs(nr_of_graph_terms, limit_distance, include_reference_terms, summarize)"
   ]
  },
  {
   "cell_type": "markdown",
   "metadata": {},
   "source": [
    "## Plot the graphs"
   ]
  },
  {
   "cell_type": "code",
   "execution_count": 6,
   "metadata": {
    "slideshow": {
     "slide_type": "fragment"
    }
   },
   "outputs": [
    {
     "name": "stdout",
     "output_type": "stream",
     "text": [
      "SUBQUERY: network\n",
      "TERM: hierarchical ; PONDERATION: 1.3 ; DISTANCE: 2.0\n",
      "TERM: gato ; PONDERATION: 1.3 ; DISTANCE: 2.0\n",
      "TERM: topology ; PONDERATION: 1.3 ; DISTANCE: 2.5\n",
      "TERM: dual ; PONDERATION: 1.0 ; DISTANCE: 4.0\n",
      "TERM: index ; PONDERATION: 1.0 ; DISTANCE: 3.0\n",
      "TERM: driven ; PONDERATION: 1.0 ; DISTANCE: 2.0\n",
      "TERM: child ; PONDERATION: 1.0 ; DISTANCE: 1.0\n",
      "TERM: adopt ; PONDERATION: 1.0 ; DISTANCE: 1.0\n",
      "TERM: r ; PONDERATION: 1.0 ; DISTANCE: 4.0\n",
      "TERM: tree ; PONDERATION: 1.0 ; DISTANCE: 4.0\n",
      "TERM: store ; PONDERATION: 1.0 ; DISTANCE: 3.0\n",
      "TERM: road ; PONDERATION: 1.0 ; DISTANCE: 1.0\n",
      "TERM: grid ; PONDERATION: 1.0 ; DISTANCE: 4.0\n"
     ]
    },
    {
     "data": {
      "image/svg+xml": [
       "<?xml version=\"1.0\" encoding=\"UTF-8\" standalone=\"no\"?>\n",
       "<!DOCTYPE svg PUBLIC \"-//W3C//DTD SVG 1.1//EN\"\n",
       " \"http://www.w3.org/Graphics/SVG/1.1/DTD/svg11.dtd\">\n",
       "<!-- Generated by graphviz version 10.0.1 (20240210.2158)\n",
       " -->\n",
       "<!-- Title: G Pages: 1 -->\n",
       "<svg width=\"553pt\" height=\"397pt\"\n",
       " viewBox=\"0.00 0.00 552.77 396.98\" xmlns=\"http://www.w3.org/2000/svg\" xmlns:xlink=\"http://www.w3.org/1999/xlink\">\n",
       "<g id=\"graph0\" class=\"graph\" transform=\"scale(1 1) rotate(0) translate(4 392.98)\">\n",
       "<title>G</title>\n",
       "<polygon fill=\"white\" stroke=\"none\" points=\"-4,4 -4,-392.98 548.77,-392.98 548.77,4 -4,4\"/>\n",
       "<!-- 0 -->\n",
       "<g id=\"node1\" class=\"node\">\n",
       "<title>0</title>\n",
       "<ellipse fill=\"#c1cdcd\" stroke=\"black\" cx=\"188.07\" cy=\"-174.68\" rx=\"25.2\" ry=\"25.2\"/>\n",
       "<text text-anchor=\"middle\" x=\"188.07\" y=\"-170.8\" font-family=\"Times New Roman,serif\" font-size=\"10.00\">network</text>\n",
       "</g>\n",
       "<!-- &#39;1&#39; -->\n",
       "<g id=\"node2\" class=\"node\">\n",
       "<title>&#39;1&#39;</title>\n",
       "<ellipse fill=\"none\" stroke=\"deepskyblue\" stroke-width=\"1.3\" cx=\"44.96\" cy=\"-110.43\" rx=\"25.2\" ry=\"25.2\"/>\n",
       "<text text-anchor=\"middle\" x=\"44.96\" y=\"-106.56\" font-family=\"Times New Roman,serif\" font-size=\"10.00\">hierarchical</text>\n",
       "</g>\n",
       "<!-- 0&#45;&#45;&#39;1&#39; -->\n",
       "<g id=\"edge1\" class=\"edge\">\n",
       "<title>0&#45;&#45;&#39;1&#39;</title>\n",
       "<path fill=\"none\" stroke=\"black\" d=\"M164.76,-164.21C138.14,-152.26 94.87,-132.84 68.26,-120.89\"/>\n",
       "<text text-anchor=\"middle\" x=\"107.88\" y=\"-145\" font-family=\"Times New Roman,serif\" font-size=\"14.00\">2.0</text>\n",
       "</g>\n",
       "<!-- &#39;2&#39; -->\n",
       "<g id=\"node3\" class=\"node\">\n",
       "<title>&#39;2&#39;</title>\n",
       "<ellipse fill=\"none\" stroke=\"deepskyblue\" stroke-width=\"1.3\" cx=\"224.4\" cy=\"-25.2\" rx=\"25.2\" ry=\"25.2\"/>\n",
       "<text text-anchor=\"middle\" x=\"224.4\" y=\"-21.32\" font-family=\"Times New Roman,serif\" font-size=\"10.00\">gato</text>\n",
       "</g>\n",
       "<!-- 0&#45;&#45;&#39;2&#39; -->\n",
       "<g id=\"edge2\" class=\"edge\">\n",
       "<title>0&#45;&#45;&#39;2&#39;</title>\n",
       "<path fill=\"none\" stroke=\"black\" d=\"M194.07,-149.99C200.8,-122.3 211.66,-77.63 218.39,-49.92\"/>\n",
       "<text text-anchor=\"middle\" x=\"197.61\" y=\"-102.41\" font-family=\"Times New Roman,serif\" font-size=\"14.00\">2.0</text>\n",
       "</g>\n",
       "<!-- &#39;3&#39; -->\n",
       "<g id=\"node4\" class=\"node\">\n",
       "<title>&#39;3&#39;</title>\n",
       "<ellipse fill=\"none\" stroke=\"deepskyblue\" stroke-width=\"1.3\" cx=\"300.85\" cy=\"-332.68\" rx=\"25.2\" ry=\"25.2\"/>\n",
       "<text text-anchor=\"middle\" x=\"300.85\" y=\"-328.81\" font-family=\"Times New Roman,serif\" font-size=\"10.00\">topology</text>\n",
       "</g>\n",
       "<!-- 0&#45;&#45;&#39;3&#39; -->\n",
       "<g id=\"edge3\" class=\"edge\">\n",
       "<title>0&#45;&#45;&#39;3&#39;</title>\n",
       "<path fill=\"none\" stroke=\"black\" d=\"M202.81,-195.33C224.43,-225.61 264.48,-281.74 286.1,-312.02\"/>\n",
       "<text text-anchor=\"middle\" x=\"235.83\" y=\"-256.13\" font-family=\"Times New Roman,serif\" font-size=\"14.00\">2.5</text>\n",
       "</g>\n",
       "<!-- &#39;4&#39; -->\n",
       "<g id=\"node5\" class=\"node\">\n",
       "<title>&#39;4&#39;</title>\n",
       "<ellipse fill=\"none\" stroke=\"deepskyblue\" cx=\"519.57\" cy=\"-82.32\" rx=\"25.2\" ry=\"25.2\"/>\n",
       "<text text-anchor=\"middle\" x=\"519.57\" y=\"-78.45\" font-family=\"Times New Roman,serif\" font-size=\"10.00\">dual</text>\n",
       "</g>\n",
       "<!-- 0&#45;&#45;&#39;4&#39; -->\n",
       "<g id=\"edge4\" class=\"edge\">\n",
       "<title>0&#45;&#45;&#39;4&#39;</title>\n",
       "<path fill=\"none\" stroke=\"black\" d=\"M212.71,-167.81C274.23,-150.67 434,-106.16 495.21,-89.11\"/>\n",
       "<text text-anchor=\"middle\" x=\"345.34\" y=\"-130.91\" font-family=\"Times New Roman,serif\" font-size=\"14.00\">4.0</text>\n",
       "</g>\n",
       "<!-- &#39;5&#39; -->\n",
       "<g id=\"node6\" class=\"node\">\n",
       "<title>&#39;5&#39;</title>\n",
       "<ellipse fill=\"none\" stroke=\"deepskyblue\" cx=\"25.2\" cy=\"-363.78\" rx=\"25.2\" ry=\"25.2\"/>\n",
       "<text text-anchor=\"middle\" x=\"25.2\" y=\"-359.91\" font-family=\"Times New Roman,serif\" font-size=\"10.00\">index</text>\n",
       "</g>\n",
       "<!-- 0&#45;&#45;&#39;5&#39; -->\n",
       "<g id=\"edge5\" class=\"edge\">\n",
       "<title>0&#45;&#45;&#39;5&#39;</title>\n",
       "<path fill=\"none\" stroke=\"black\" d=\"M171.55,-193.85C140.34,-230.09 73.01,-308.27 41.76,-344.56\"/>\n",
       "<text text-anchor=\"middle\" x=\"98.03\" y=\"-271.65\" font-family=\"Times New Roman,serif\" font-size=\"14.00\">3.0</text>\n",
       "</g>\n",
       "</g>\n",
       "</svg>\n"
      ],
      "text/plain": [
       "<graphviz.graphs.Graph at 0x23bfebe6f60>"
      ]
     },
     "execution_count": 6,
     "metadata": {},
     "output_type": "execute_result"
    }
   ],
   "source": [
    "g1 = ranking.get_document_by_ranking_position(1).get_graph()\n",
    "print(g1)\n",
    "visual_graph1 = g1.get_graph_viz('0.7', 'deepskyblue')\n",
    "visual_graph1"
   ]
  },
  {
   "cell_type": "code",
   "execution_count": 7,
   "metadata": {},
   "outputs": [
    {
     "name": "stdout",
     "output_type": "stream",
     "text": [
      "SUBQUERY: network\n",
      "TERM: hierarchical ; PONDERATION: 1.2 ; DISTANCE: 2.5\n",
      "TERM: gato ; PONDERATION: 1.2 ; DISTANCE: 2.5\n",
      "TERM: topology ; PONDERATION: 1.2 ; DISTANCE: 2.5\n",
      "TERM: dual ; PONDERATION: 0.9 ; DISTANCE: 4.0\n",
      "TERM: index ; PONDERATION: 0.9 ; DISTANCE: 3.0\n",
      "TERM: driven ; PONDERATION: 0.9 ; DISTANCE: 2.0\n",
      "TERM: house ; PONDERATION: 0.9 ; DISTANCE: 1.0\n",
      "TERM: car ; PONDERATION: 0.9 ; DISTANCE: 1.0\n",
      "TERM: adopt ; PONDERATION: 0.9 ; DISTANCE: 2.0\n",
      "TERM: tree ; PONDERATION: 0.9 ; DISTANCE: 4.0\n",
      "TERM: store ; PONDERATION: 0.9 ; DISTANCE: 3.0\n",
      "TERM: road ; PONDERATION: 0.9 ; DISTANCE: 1.0\n",
      "TERM: grid ; PONDERATION: 0.9 ; DISTANCE: 4.0\n"
     ]
    },
    {
     "data": {
      "image/svg+xml": [
       "<?xml version=\"1.0\" encoding=\"UTF-8\" standalone=\"no\"?>\n",
       "<!DOCTYPE svg PUBLIC \"-//W3C//DTD SVG 1.1//EN\"\n",
       " \"http://www.w3.org/Graphics/SVG/1.1/DTD/svg11.dtd\">\n",
       "<!-- Generated by graphviz version 10.0.1 (20240210.2158)\n",
       " -->\n",
       "<!-- Title: G Pages: 1 -->\n",
       "<svg width=\"579pt\" height=\"450pt\"\n",
       " viewBox=\"0.00 0.00 579.00 449.85\" xmlns=\"http://www.w3.org/2000/svg\" xmlns:xlink=\"http://www.w3.org/1999/xlink\">\n",
       "<g id=\"graph0\" class=\"graph\" transform=\"scale(1 1) rotate(0) translate(4 445.85)\">\n",
       "<title>G</title>\n",
       "<polygon fill=\"white\" stroke=\"none\" points=\"-4,4 -4,-445.85 575,-445.85 575,4 -4,4\"/>\n",
       "<!-- 0 -->\n",
       "<g id=\"node1\" class=\"node\">\n",
       "<title>0</title>\n",
       "<ellipse fill=\"#c1cdcd\" stroke=\"black\" cx=\"207.88\" cy=\"-217.93\" rx=\"25.2\" ry=\"25.2\"/>\n",
       "<text text-anchor=\"middle\" x=\"207.88\" y=\"-214.05\" font-family=\"Times New Roman,serif\" font-size=\"10.00\">network</text>\n",
       "</g>\n",
       "<!-- &#39;1&#39; -->\n",
       "<g id=\"node2\" class=\"node\">\n",
       "<title>&#39;1&#39;</title>\n",
       "<ellipse fill=\"none\" stroke=\"deepskyblue\" stroke-width=\"1.17\" cx=\"25.2\" cy=\"-139.29\" rx=\"25.2\" ry=\"25.2\"/>\n",
       "<text text-anchor=\"middle\" x=\"25.2\" y=\"-135.41\" font-family=\"Times New Roman,serif\" font-size=\"10.00\">hierarchical</text>\n",
       "</g>\n",
       "<!-- 0&#45;&#45;&#39;1&#39; -->\n",
       "<g id=\"edge1\" class=\"edge\">\n",
       "<title>0&#45;&#45;&#39;1&#39;</title>\n",
       "<path fill=\"none\" stroke=\"black\" d=\"M184.37,-207.81C149.3,-192.71 83.64,-164.45 48.62,-149.37\"/>\n",
       "<text text-anchor=\"middle\" x=\"107.87\" y=\"-181.04\" font-family=\"Times New Roman,serif\" font-size=\"14.00\">2.5</text>\n",
       "</g>\n",
       "<!-- &#39;2&#39; -->\n",
       "<g id=\"node3\" class=\"node\">\n",
       "<title>&#39;2&#39;</title>\n",
       "<ellipse fill=\"none\" stroke=\"deepskyblue\" stroke-width=\"1.17\" cx=\"241.91\" cy=\"-25.2\" rx=\"25.2\" ry=\"25.2\"/>\n",
       "<text text-anchor=\"middle\" x=\"241.91\" y=\"-21.32\" font-family=\"Times New Roman,serif\" font-size=\"10.00\">gato</text>\n",
       "</g>\n",
       "<!-- 0&#45;&#45;&#39;2&#39; -->\n",
       "<g id=\"edge2\" class=\"edge\">\n",
       "<title>0&#45;&#45;&#39;2&#39;</title>\n",
       "<path fill=\"none\" stroke=\"black\" d=\"M212.33,-192.73C218.85,-155.8 230.94,-87.34 237.46,-50.4\"/>\n",
       "<text text-anchor=\"middle\" x=\"216.27\" y=\"-124.02\" font-family=\"Times New Roman,serif\" font-size=\"14.00\">2.5</text>\n",
       "</g>\n",
       "<!-- &#39;3&#39; -->\n",
       "<g id=\"node4\" class=\"node\">\n",
       "<title>&#39;3&#39;</title>\n",
       "<ellipse fill=\"none\" stroke=\"deepskyblue\" stroke-width=\"1.17\" cx=\"321.17\" cy=\"-372.71\" rx=\"25.2\" ry=\"25.2\"/>\n",
       "<text text-anchor=\"middle\" x=\"321.17\" y=\"-368.84\" font-family=\"Times New Roman,serif\" font-size=\"10.00\">topology</text>\n",
       "</g>\n",
       "<!-- 0&#45;&#45;&#39;3&#39; -->\n",
       "<g id=\"edge3\" class=\"edge\">\n",
       "<title>0&#45;&#45;&#39;3&#39;</title>\n",
       "<path fill=\"none\" stroke=\"black\" d=\"M222.92,-238.48C244.59,-268.09 284.36,-322.42 306.06,-352.07\"/>\n",
       "<text text-anchor=\"middle\" x=\"255.87\" y=\"-297.73\" font-family=\"Times New Roman,serif\" font-size=\"14.00\">2.5</text>\n",
       "</g>\n",
       "<!-- &#39;4&#39; -->\n",
       "<g id=\"node5\" class=\"node\">\n",
       "<title>&#39;4&#39;</title>\n",
       "<ellipse fill=\"none\" stroke=\"deepskyblue\" stroke-width=\"0.9\" cx=\"545.8\" cy=\"-150.67\" rx=\"25.2\" ry=\"25.2\"/>\n",
       "<text text-anchor=\"middle\" x=\"545.8\" y=\"-146.8\" font-family=\"Times New Roman,serif\" font-size=\"10.00\">dual</text>\n",
       "</g>\n",
       "<!-- 0&#45;&#45;&#39;4&#39; -->\n",
       "<g id=\"edge4\" class=\"edge\">\n",
       "<title>0&#45;&#45;&#39;4&#39;</title>\n",
       "<path fill=\"none\" stroke=\"black\" d=\"M233,-212.93C295.87,-200.42 459.37,-167.88 521.43,-155.53\"/>\n",
       "<text text-anchor=\"middle\" x=\"368.59\" y=\"-186.68\" font-family=\"Times New Roman,serif\" font-size=\"14.00\">4.0</text>\n",
       "</g>\n",
       "<!-- &#39;5&#39; -->\n",
       "<g id=\"node6\" class=\"node\">\n",
       "<title>&#39;5&#39;</title>\n",
       "<ellipse fill=\"none\" stroke=\"deepskyblue\" stroke-width=\"0.9\" cx=\"57.41\" cy=\"-416.65\" rx=\"25.2\" ry=\"25.2\"/>\n",
       "<text text-anchor=\"middle\" x=\"57.41\" y=\"-412.77\" font-family=\"Times New Roman,serif\" font-size=\"10.00\">index</text>\n",
       "</g>\n",
       "<!-- 0&#45;&#45;&#39;5&#39; -->\n",
       "<g id=\"edge5\" class=\"edge\">\n",
       "<title>0&#45;&#45;&#39;5&#39;</title>\n",
       "<path fill=\"none\" stroke=\"black\" d=\"M192.62,-238.07C163.71,-276.26 101.25,-358.74 72.48,-396.74\"/>\n",
       "<text text-anchor=\"middle\" x=\"123.93\" y=\"-319.86\" font-family=\"Times New Roman,serif\" font-size=\"14.00\">3.0</text>\n",
       "</g>\n",
       "</g>\n",
       "</svg>\n"
      ],
      "text/plain": [
       "<graphviz.graphs.Graph at 0x23bff1537a0>"
      ]
     },
     "execution_count": 7,
     "metadata": {},
     "output_type": "execute_result"
    }
   ],
   "source": [
    "g2 = ranking.get_document_by_ranking_position(2).get_graph()\n",
    "print(g2)\n",
    "visual_graph2 = g2.get_graph_viz('0.7', 'deepskyblue')\n",
    "visual_graph2"
   ]
  },
  {
   "cell_type": "code",
   "execution_count": 8,
   "metadata": {},
   "outputs": [
    {
     "name": "stdout",
     "output_type": "stream",
     "text": [
      "SUBQUERY: network\n",
      "TERM: hierarchical ; PONDERATION: 1.0 ; DISTANCE: 3.0\n",
      "TERM: gato ; PONDERATION: 1.0 ; DISTANCE: 3.0\n",
      "TERM: topology ; PONDERATION: 1.0 ; DISTANCE: 3.0\n",
      "TERM: dual ; PONDERATION: 0.8 ; DISTANCE: 4.0\n",
      "TERM: index ; PONDERATION: 0.8 ; DISTANCE: 3.0\n",
      "TERM: driven ; PONDERATION: 0.8 ; DISTANCE: 2.0\n",
      "TERM: echeverria ; PONDERATION: 0.8 ; DISTANCE: 1.0\n",
      "TERM: patricio ; PONDERATION: 0.8 ; DISTANCE: 1.0\n",
      "TERM: adopt ; PONDERATION: 0.8 ; DISTANCE: 2.0\n",
      "TERM: tree ; PONDERATION: 0.8 ; DISTANCE: 4.0\n",
      "TERM: galea ; PONDERATION: 0.8 ; DISTANCE: 3.0\n",
      "TERM: road ; PONDERATION: 0.8 ; DISTANCE: 1.0\n",
      "TERM: abel ; PONDERATION: 0.8 ; DISTANCE: 1.0\n"
     ]
    },
    {
     "data": {
      "image/svg+xml": [
       "<?xml version=\"1.0\" encoding=\"UTF-8\" standalone=\"no\"?>\n",
       "<!DOCTYPE svg PUBLIC \"-//W3C//DTD SVG 1.1//EN\"\n",
       " \"http://www.w3.org/Graphics/SVG/1.1/DTD/svg11.dtd\">\n",
       "<!-- Generated by graphviz version 10.0.1 (20240210.2158)\n",
       " -->\n",
       "<!-- Title: G Pages: 1 -->\n",
       "<svg width=\"613pt\" height=\"492pt\"\n",
       " viewBox=\"0.00 0.00 612.78 492.46\" xmlns=\"http://www.w3.org/2000/svg\" xmlns:xlink=\"http://www.w3.org/1999/xlink\">\n",
       "<g id=\"graph0\" class=\"graph\" transform=\"scale(1 1) rotate(0) translate(4 488.46)\">\n",
       "<title>G</title>\n",
       "<polygon fill=\"white\" stroke=\"none\" points=\"-4,4 -4,-488.46 608.78,-488.46 608.78,4 -4,4\"/>\n",
       "<!-- 0 -->\n",
       "<g id=\"node1\" class=\"node\">\n",
       "<title>0</title>\n",
       "<ellipse fill=\"#c1cdcd\" stroke=\"black\" cx=\"248.92\" cy=\"-261.23\" rx=\"25.2\" ry=\"25.2\"/>\n",
       "<text text-anchor=\"middle\" x=\"248.92\" y=\"-257.36\" font-family=\"Times New Roman,serif\" font-size=\"10.00\">network</text>\n",
       "</g>\n",
       "<!-- &#39;1&#39; -->\n",
       "<g id=\"node2\" class=\"node\">\n",
       "<title>&#39;1&#39;</title>\n",
       "<ellipse fill=\"none\" stroke=\"deepskyblue\" stroke-width=\"1.04\" cx=\"25.2\" cy=\"-165.3\" rx=\"25.2\" ry=\"25.2\"/>\n",
       "<text text-anchor=\"middle\" x=\"25.2\" y=\"-161.43\" font-family=\"Times New Roman,serif\" font-size=\"10.00\">hierarchical</text>\n",
       "</g>\n",
       "<!-- 0&#45;&#45;&#39;1&#39; -->\n",
       "<g id=\"edge1\" class=\"edge\">\n",
       "<title>0&#45;&#45;&#39;1&#39;</title>\n",
       "<path fill=\"none\" stroke=\"black\" d=\"M225.4,-251.15C182.43,-232.72 91.72,-193.83 48.74,-175.4\"/>\n",
       "<text text-anchor=\"middle\" x=\"128.44\" y=\"-215.72\" font-family=\"Times New Roman,serif\" font-size=\"14.00\">3.0</text>\n",
       "</g>\n",
       "<!-- &#39;2&#39; -->\n",
       "<g id=\"node3\" class=\"node\">\n",
       "<title>&#39;2&#39;</title>\n",
       "<ellipse fill=\"none\" stroke=\"deepskyblue\" stroke-width=\"1.04\" cx=\"277.91\" cy=\"-25.2\" rx=\"25.2\" ry=\"25.2\"/>\n",
       "<text text-anchor=\"middle\" x=\"277.91\" y=\"-21.32\" font-family=\"Times New Roman,serif\" font-size=\"10.00\">gato</text>\n",
       "</g>\n",
       "<!-- 0&#45;&#45;&#39;2&#39; -->\n",
       "<g id=\"edge2\" class=\"edge\">\n",
       "<title>0&#45;&#45;&#39;2&#39;</title>\n",
       "<path fill=\"none\" stroke=\"black\" d=\"M252.02,-235.97C257.59,-190.66 269.21,-96.07 274.79,-50.63\"/>\n",
       "<text text-anchor=\"middle\" x=\"254.78\" y=\"-145.75\" font-family=\"Times New Roman,serif\" font-size=\"14.00\">3.0</text>\n",
       "</g>\n",
       "<!-- &#39;3&#39; -->\n",
       "<g id=\"node4\" class=\"node\">\n",
       "<title>&#39;3&#39;</title>\n",
       "<ellipse fill=\"none\" stroke=\"deepskyblue\" stroke-width=\"1.04\" cx=\"379.7\" cy=\"-459.26\" rx=\"25.2\" ry=\"25.2\"/>\n",
       "<text text-anchor=\"middle\" x=\"379.7\" y=\"-455.38\" font-family=\"Times New Roman,serif\" font-size=\"10.00\">topology</text>\n",
       "</g>\n",
       "<!-- 0&#45;&#45;&#39;3&#39; -->\n",
       "<g id=\"edge3\" class=\"edge\">\n",
       "<title>0&#45;&#45;&#39;3&#39;</title>\n",
       "<path fill=\"none\" stroke=\"black\" d=\"M262.91,-282.43C288.02,-320.44 340.43,-399.8 365.61,-437.92\"/>\n",
       "<text text-anchor=\"middle\" x=\"305.64\" y=\"-362.62\" font-family=\"Times New Roman,serif\" font-size=\"14.00\">3.0</text>\n",
       "</g>\n",
       "<!-- &#39;4&#39; -->\n",
       "<g id=\"node5\" class=\"node\">\n",
       "<title>&#39;4&#39;</title>\n",
       "<ellipse fill=\"none\" stroke=\"deepskyblue\" stroke-width=\"0.8\" cx=\"579.58\" cy=\"-188.78\" rx=\"25.2\" ry=\"25.2\"/>\n",
       "<text text-anchor=\"middle\" x=\"579.58\" y=\"-184.9\" font-family=\"Times New Roman,serif\" font-size=\"10.00\">dual</text>\n",
       "</g>\n",
       "<!-- 0&#45;&#45;&#39;4&#39; -->\n",
       "<g id=\"edge4\" class=\"edge\">\n",
       "<title>0&#45;&#45;&#39;4&#39;</title>\n",
       "<path fill=\"none\" stroke=\"black\" d=\"M273.77,-255.79C335.35,-242.29 494.4,-207.44 555.33,-194.09\"/>\n",
       "<text text-anchor=\"middle\" x=\"405.93\" y=\"-227.39\" font-family=\"Times New Roman,serif\" font-size=\"14.00\">4.0</text>\n",
       "</g>\n",
       "<!-- &#39;5&#39; -->\n",
       "<g id=\"node6\" class=\"node\">\n",
       "<title>&#39;5&#39;</title>\n",
       "<ellipse fill=\"none\" stroke=\"deepskyblue\" stroke-width=\"0.8\" cx=\"94.96\" cy=\"-449.99\" rx=\"25.2\" ry=\"25.2\"/>\n",
       "<text text-anchor=\"middle\" x=\"94.96\" y=\"-446.12\" font-family=\"Times New Roman,serif\" font-size=\"10.00\">index</text>\n",
       "</g>\n",
       "<!-- 0&#45;&#45;&#39;5&#39; -->\n",
       "<g id=\"edge5\" class=\"edge\">\n",
       "<title>0&#45;&#45;&#39;5&#39;</title>\n",
       "<path fill=\"none\" stroke=\"black\" d=\"M232.73,-281.08C203.01,-317.52 140.09,-394.67 110.7,-430.7\"/>\n",
       "<text text-anchor=\"middle\" x=\"163.09\" y=\"-358.34\" font-family=\"Times New Roman,serif\" font-size=\"14.00\">3.0</text>\n",
       "</g>\n",
       "</g>\n",
       "</svg>\n"
      ],
      "text/plain": [
       "<graphviz.graphs.Graph at 0x23be3cb02f0>"
      ]
     },
     "execution_count": 8,
     "metadata": {},
     "output_type": "execute_result"
    }
   ],
   "source": [
    "g3 = ranking.get_document_by_ranking_position(3).get_graph()\n",
    "print(g3)\n",
    "visual_graph3 = g3.get_graph_viz('0.7', 'deepskyblue')\n",
    "visual_graph3"
   ]
  },
  {
   "cell_type": "code",
   "execution_count": 9,
   "metadata": {},
   "outputs": [
    {
     "name": "stdout",
     "output_type": "stream",
     "text": [
      "SUBQUERY: network\n",
      "TERM: hierarchical ; PONDERATION: 0.9 ; DISTANCE: 3.0\n",
      "TERM: rain ; PONDERATION: 0.9 ; DISTANCE: 2.5\n",
      "TERM: topology ; PONDERATION: 0.9 ; DISTANCE: 3.0\n",
      "TERM: dual ; PONDERATION: 0.7 ; DISTANCE: 4.0\n",
      "TERM: index ; PONDERATION: 0.7 ; DISTANCE: 3.0\n",
      "TERM: driven ; PONDERATION: 0.7 ; DISTANCE: 2.0\n",
      "TERM: echeverria ; PONDERATION: 0.7 ; DISTANCE: 1.0\n",
      "TERM: adopt ; PONDERATION: 0.7 ; DISTANCE: 2.0\n",
      "TERM: tree ; PONDERATION: 0.7 ; DISTANCE: 4.0\n",
      "TERM: galea ; PONDERATION: 0.7 ; DISTANCE: 3.0\n",
      "TERM: road ; PONDERATION: 0.7 ; DISTANCE: 1.0\n",
      "TERM: abel ; PONDERATION: 0.7 ; DISTANCE: 1.0\n",
      "TERM: gato ; PONDERATION: 0.7 ; DISTANCE: 2.0\n"
     ]
    },
    {
     "data": {
      "image/svg+xml": [
       "<?xml version=\"1.0\" encoding=\"UTF-8\" standalone=\"no\"?>\n",
       "<!DOCTYPE svg PUBLIC \"-//W3C//DTD SVG 1.1//EN\"\n",
       " \"http://www.w3.org/Graphics/SVG/1.1/DTD/svg11.dtd\">\n",
       "<!-- Generated by graphviz version 10.0.1 (20240210.2158)\n",
       " -->\n",
       "<!-- Title: G Pages: 1 -->\n",
       "<svg width=\"612pt\" height=\"443pt\"\n",
       " viewBox=\"0.00 0.00 612.31 442.65\" xmlns=\"http://www.w3.org/2000/svg\" xmlns:xlink=\"http://www.w3.org/1999/xlink\">\n",
       "<g id=\"graph0\" class=\"graph\" transform=\"scale(1 1) rotate(0) translate(4 438.65)\">\n",
       "<title>G</title>\n",
       "<polygon fill=\"white\" stroke=\"none\" points=\"-4,4 -4,-438.65 608.31,-438.65 608.31,4 -4,4\"/>\n",
       "<!-- 0 -->\n",
       "<g id=\"node1\" class=\"node\">\n",
       "<title>0</title>\n",
       "<ellipse fill=\"#c1cdcd\" stroke=\"black\" cx=\"249.11\" cy=\"-213.89\" rx=\"25.2\" ry=\"25.2\"/>\n",
       "<text text-anchor=\"middle\" x=\"249.11\" y=\"-210.02\" font-family=\"Times New Roman,serif\" font-size=\"10.00\">network</text>\n",
       "</g>\n",
       "<!-- &#39;1&#39; -->\n",
       "<g id=\"node2\" class=\"node\">\n",
       "<title>&#39;1&#39;</title>\n",
       "<ellipse fill=\"none\" stroke=\"deepskyblue\" stroke-width=\"0.91\" cx=\"25.2\" cy=\"-108.9\" rx=\"25.2\" ry=\"25.2\"/>\n",
       "<text text-anchor=\"middle\" x=\"25.2\" y=\"-105.02\" font-family=\"Times New Roman,serif\" font-size=\"10.00\">hierarchical</text>\n",
       "</g>\n",
       "<!-- 0&#45;&#45;&#39;1&#39; -->\n",
       "<g id=\"edge1\" class=\"edge\">\n",
       "<title>0&#45;&#45;&#39;1&#39;</title>\n",
       "<path fill=\"none\" stroke=\"black\" d=\"M225.99,-203.05C182.86,-182.83 90.64,-139.58 47.86,-119.52\"/>\n",
       "<text text-anchor=\"middle\" x=\"128.3\" y=\"-163.74\" font-family=\"Times New Roman,serif\" font-size=\"14.00\">3.0</text>\n",
       "</g>\n",
       "<!-- &#39;2&#39; -->\n",
       "<g id=\"node3\" class=\"node\">\n",
       "<title>&#39;2&#39;</title>\n",
       "<ellipse fill=\"none\" stroke=\"deepskyblue\" stroke-width=\"0.91\" cx=\"278.9\" cy=\"-25.2\" rx=\"25.2\" ry=\"25.2\"/>\n",
       "<text text-anchor=\"middle\" x=\"278.9\" y=\"-21.32\" font-family=\"Times New Roman,serif\" font-size=\"10.00\">rain</text>\n",
       "</g>\n",
       "<!-- 0&#45;&#45;&#39;2&#39; -->\n",
       "<g id=\"edge2\" class=\"edge\">\n",
       "<title>0&#45;&#45;&#39;2&#39;</title>\n",
       "<path fill=\"none\" stroke=\"black\" d=\"M253.07,-188.83C258.78,-152.64 269.28,-86.14 274.98,-50.06\"/>\n",
       "<text text-anchor=\"middle\" x=\"255.4\" y=\"-121.9\" font-family=\"Times New Roman,serif\" font-size=\"14.00\">2.5</text>\n",
       "</g>\n",
       "<!-- &#39;3&#39; -->\n",
       "<g id=\"node4\" class=\"node\">\n",
       "<title>&#39;3&#39;</title>\n",
       "<ellipse fill=\"none\" stroke=\"deepskyblue\" stroke-width=\"0.91\" cx=\"384.57\" cy=\"-409.45\" rx=\"25.2\" ry=\"25.2\"/>\n",
       "<text text-anchor=\"middle\" x=\"384.57\" y=\"-405.57\" font-family=\"Times New Roman,serif\" font-size=\"10.00\">topology</text>\n",
       "</g>\n",
       "<!-- 0&#45;&#45;&#39;3&#39; -->\n",
       "<g id=\"edge3\" class=\"edge\">\n",
       "<title>0&#45;&#45;&#39;3&#39;</title>\n",
       "<path fill=\"none\" stroke=\"black\" d=\"M263.61,-234.82C289.75,-272.56 344.47,-351.55 370.38,-388.97\"/>\n",
       "<text text-anchor=\"middle\" x=\"308.37\" y=\"-314.34\" font-family=\"Times New Roman,serif\" font-size=\"14.00\">3.0</text>\n",
       "</g>\n",
       "<!-- &#39;4&#39; -->\n",
       "<g id=\"node5\" class=\"node\">\n",
       "<title>&#39;4&#39;</title>\n",
       "<ellipse fill=\"none\" stroke=\"deepskyblue\" stroke-width=\"0.7\" cx=\"579.11\" cy=\"-121.35\" rx=\"25.2\" ry=\"25.2\"/>\n",
       "<text text-anchor=\"middle\" x=\"579.11\" y=\"-117.48\" font-family=\"Times New Roman,serif\" font-size=\"10.00\">dual</text>\n",
       "</g>\n",
       "<!-- 0&#45;&#45;&#39;4&#39; -->\n",
       "<g id=\"edge4\" class=\"edge\">\n",
       "<title>0&#45;&#45;&#39;4&#39;</title>\n",
       "<path fill=\"none\" stroke=\"black\" d=\"M273.64,-207.01C334.89,-189.84 493.92,-145.24 554.86,-128.15\"/>\n",
       "<text text-anchor=\"middle\" x=\"405.63\" y=\"-170.03\" font-family=\"Times New Roman,serif\" font-size=\"14.00\">4.0</text>\n",
       "</g>\n",
       "<!-- &#39;5&#39; -->\n",
       "<g id=\"node6\" class=\"node\">\n",
       "<title>&#39;5&#39;</title>\n",
       "<ellipse fill=\"none\" stroke=\"deepskyblue\" stroke-width=\"0.7\" cx=\"96.51\" cy=\"-401.4\" rx=\"25.2\" ry=\"25.2\"/>\n",
       "<text text-anchor=\"middle\" x=\"96.51\" y=\"-397.52\" font-family=\"Times New Roman,serif\" font-size=\"10.00\">index</text>\n",
       "</g>\n",
       "<!-- 0&#45;&#45;&#39;5&#39; -->\n",
       "<g id=\"edge5\" class=\"edge\">\n",
       "<title>0&#45;&#45;&#39;5&#39;</title>\n",
       "<path fill=\"none\" stroke=\"black\" d=\"M233.07,-233.6C203.68,-269.71 141.56,-346.04 112.34,-381.95\"/>\n",
       "<text text-anchor=\"middle\" x=\"164.08\" y=\"-310.22\" font-family=\"Times New Roman,serif\" font-size=\"14.00\">3.0</text>\n",
       "</g>\n",
       "</g>\n",
       "</svg>\n"
      ],
      "text/plain": [
       "<graphviz.graphs.Graph at 0x23bcd4ce840>"
      ]
     },
     "execution_count": 9,
     "metadata": {},
     "output_type": "execute_result"
    }
   ],
   "source": [
    "g4 = ranking.get_document_by_ranking_position(4).get_graph()\n",
    "print(g4)\n",
    "visual_graph4 = g4.get_graph_viz('0.7', 'deepskyblue')\n",
    "visual_graph4"
   ]
  },
  {
   "cell_type": "markdown",
   "metadata": {},
   "source": [
    "## Calculate Similarity"
   ]
  },
  {
   "cell_type": "code",
   "execution_count": 10,
   "metadata": {},
   "outputs": [
    {
     "data": {
      "text/plain": [
       "0.0"
      ]
     },
     "execution_count": 10,
     "metadata": {},
     "output_type": "execute_result"
    }
   ],
   "source": [
    "similarity0 = g1.get_euclidean_distance_as_base_graph(g1)\n",
    "similarity0"
   ]
  },
  {
   "cell_type": "code",
   "execution_count": 11,
   "metadata": {},
   "outputs": [
    {
     "data": {
      "text/plain": [
       "0.2041241452319315"
      ]
     },
     "execution_count": 11,
     "metadata": {},
     "output_type": "execute_result"
    }
   ],
   "source": [
    "similarity1 = g1.get_euclidean_distance_as_base_graph(g2)\n",
    "similarity1"
   ]
  },
  {
   "cell_type": "code",
   "execution_count": 12,
   "metadata": {},
   "outputs": [
    {
     "data": {
      "text/plain": [
       "0.30046260628866567"
      ]
     },
     "execution_count": 12,
     "metadata": {},
     "output_type": "execute_result"
    }
   ],
   "source": [
    "similarity2 = g1.get_euclidean_distance_as_base_graph(g3)\n",
    "similarity2"
   ]
  },
  {
   "cell_type": "code",
   "execution_count": 13,
   "metadata": {},
   "outputs": [
    {
     "data": {
      "text/plain": [
       "0.24999999999999992"
      ]
     },
     "execution_count": 13,
     "metadata": {},
     "output_type": "execute_result"
    }
   ],
   "source": [
    "similarity3 = g1.get_euclidean_distance_as_base_graph(g4)\n",
    "similarity3"
   ]
  },
  {
   "cell_type": "markdown",
   "metadata": {},
   "source": [
    "## Merge graphs"
   ]
  },
  {
   "cell_type": "code",
   "execution_count": 14,
   "metadata": {},
   "outputs": [
    {
     "name": "stdout",
     "output_type": "stream",
     "text": [
      "SUBQUERY: network\n",
      "TERM: road ; PONDERATION: 5.2 ; DISTANCE: 1.0\n",
      "TERM: hierarchical ; PONDERATION: 5.0 ; DISTANCE: 2.4\n",
      "TERM: topology ; PONDERATION: 5.0 ; DISTANCE: 2.6\n",
      "TERM: gato ; PONDERATION: 4.2 ; DISTANCE: 2.4\n",
      "TERM: tree ; PONDERATION: 4.0 ; DISTANCE: 4.0\n",
      "TERM: dual ; PONDERATION: 3.4 ; DISTANCE: 4.0\n",
      "TERM: index ; PONDERATION: 3.4 ; DISTANCE: 3.0\n",
      "TERM: driven ; PONDERATION: 3.4 ; DISTANCE: 2.0\n",
      "TERM: adopt ; PONDERATION: 3.4 ; DISTANCE: 1.7\n",
      "TERM: store ; PONDERATION: 2.5 ; DISTANCE: 3.0\n",
      "TERM: grid ; PONDERATION: 2.5 ; DISTANCE: 3.5\n",
      "TERM: echeverria ; PONDERATION: 1.5 ; DISTANCE: 1.0\n",
      "TERM: galea ; PONDERATION: 1.5 ; DISTANCE: 3.0\n",
      "TERM: abel ; PONDERATION: 1.5 ; DISTANCE: 1.0\n",
      "TERM: search ; PONDERATION: 1.2 ; DISTANCE: 3.0\n",
      "TERM: moving ; PONDERATION: 1.2 ; DISTANCE: 3.0\n",
      "TERM: object ; PONDERATION: 1.2 ; DISTANCE: 2.0\n",
      "TERM: child ; PONDERATION: 1.0 ; DISTANCE: 1.0\n",
      "TERM: r ; PONDERATION: 1.0 ; DISTANCE: 4.0\n",
      "TERM: rain ; PONDERATION: 0.9 ; DISTANCE: 2.5\n",
      "TERM: house ; PONDERATION: 0.9 ; DISTANCE: 1.0\n",
      "TERM: car ; PONDERATION: 0.9 ; DISTANCE: 1.0\n",
      "TERM: patricio ; PONDERATION: 0.8 ; DISTANCE: 1.0\n",
      "TERM: eg ; PONDERATION: 0.6 ; DISTANCE: 1.0\n",
      "TERM: ride ; PONDERATION: 0.6 ; DISTANCE: 4.0\n",
      "TERM: based ; PONDERATION: 0.6 ; DISTANCE: 2.0\n",
      "TERM: incrementally ; PONDERATION: 0.6 ; DISTANCE: 4.0\n",
      "TERM: model ; PONDERATION: 0.6 ; DISTANCE: 3.0\n",
      "TERM: area ; PONDERATION: 0.6 ; DISTANCE: 1.0\n",
      "TERM: taxi ; PONDERATION: 0.6 ; DISTANCE: 2.0\n",
      "TERM: manage ; PONDERATION: 0.6 ; DISTANCE: 4.0\n",
      "TERM: calling ; PONDERATION: 0.6 ; DISTANCE: 3.0\n",
      "TERM: distance ; PONDERATION: 0.6 ; DISTANCE: 1.0\n",
      "TERM: neighbor ; PONDERATION: 0.6 ; DISTANCE: 4.0\n",
      "TERM: scale ; PONDERATION: 0.6 ; DISTANCE: 4.0\n",
      "TERM: nearest ; PONDERATION: 0.6 ; DISTANCE: 3.0\n",
      "TERM: enlarges ; PONDERATION: 0.6 ; DISTANCE: 3.0\n"
     ]
    },
    {
     "data": {
      "image/svg+xml": [
       "<?xml version=\"1.0\" encoding=\"UTF-8\" standalone=\"no\"?>\n",
       "<!DOCTYPE svg PUBLIC \"-//W3C//DTD SVG 1.1//EN\"\n",
       " \"http://www.w3.org/Graphics/SVG/1.1/DTD/svg11.dtd\">\n",
       "<!-- Generated by graphviz version 10.0.1 (20240210.2158)\n",
       " -->\n",
       "<!-- Title: G Pages: 1 -->\n",
       "<svg width=\"568pt\" height=\"444pt\"\n",
       " viewBox=\"0.00 0.00 568.19 444.31\" xmlns=\"http://www.w3.org/2000/svg\" xmlns:xlink=\"http://www.w3.org/1999/xlink\">\n",
       "<g id=\"graph0\" class=\"graph\" transform=\"scale(1 1) rotate(0) translate(4 440.31)\">\n",
       "<title>G</title>\n",
       "<polygon fill=\"white\" stroke=\"none\" points=\"-4,4 -4,-440.31 564.19,-440.31 564.19,4 -4,4\"/>\n",
       "<!-- 0 -->\n",
       "<g id=\"node1\" class=\"node\">\n",
       "<title>0</title>\n",
       "<ellipse fill=\"#c1cdcd\" stroke=\"black\" cx=\"360.53\" cy=\"-207.67\" rx=\"25.2\" ry=\"25.2\"/>\n",
       "<text text-anchor=\"middle\" x=\"360.53\" y=\"-203.79\" font-family=\"Times New Roman,serif\" font-size=\"10.00\">network</text>\n",
       "</g>\n",
       "<!-- &#39;1&#39; -->\n",
       "<g id=\"node2\" class=\"node\">\n",
       "<title>&#39;1&#39;</title>\n",
       "<ellipse fill=\"none\" stroke=\"deepskyblue\" stroke-width=\"5.2\" cx=\"299.88\" cy=\"-242.61\" rx=\"25.2\" ry=\"25.2\"/>\n",
       "<text text-anchor=\"middle\" x=\"299.88\" y=\"-238.73\" font-family=\"Times New Roman,serif\" font-size=\"10.00\">road</text>\n",
       "</g>\n",
       "<!-- 0&#45;&#45;&#39;1&#39; -->\n",
       "<g id=\"edge1\" class=\"edge\">\n",
       "<title>0&#45;&#45;&#39;1&#39;</title>\n",
       "<path fill=\"none\" stroke=\"black\" d=\"M338.29,-220.48C333.56,-223.21 328.54,-226.1 323.75,-228.86\"/>\n",
       "<text text-anchor=\"middle\" x=\"326.71\" y=\"-211.37\" font-family=\"Times New Roman,serif\" font-size=\"14.00\">1.0</text>\n",
       "</g>\n",
       "<!-- &#39;2&#39; -->\n",
       "<g id=\"node3\" class=\"node\">\n",
       "<title>&#39;2&#39;</title>\n",
       "<ellipse fill=\"none\" stroke=\"deepskyblue\" stroke-width=\"5.02\" cx=\"297.07\" cy=\"-25.2\" rx=\"25.2\" ry=\"25.2\"/>\n",
       "<text text-anchor=\"middle\" x=\"297.07\" y=\"-21.32\" font-family=\"Times New Roman,serif\" font-size=\"10.00\">hierarchical</text>\n",
       "</g>\n",
       "<!-- 0&#45;&#45;&#39;2&#39; -->\n",
       "<g id=\"edge2\" class=\"edge\">\n",
       "<title>0&#45;&#45;&#39;2&#39;</title>\n",
       "<path fill=\"none\" stroke=\"black\" d=\"M352.1,-183.44C340.17,-149.12 318.43,-86.61 306.15,-51.3\"/>\n",
       "<text text-anchor=\"middle\" x=\"320.5\" y=\"-119.82\" font-family=\"Times New Roman,serif\" font-size=\"14.00\">2.4</text>\n",
       "</g>\n",
       "<!-- &#39;3&#39; -->\n",
       "<g id=\"node4\" class=\"node\">\n",
       "<title>&#39;3&#39;</title>\n",
       "<ellipse fill=\"none\" stroke=\"deepskyblue\" stroke-width=\"5.02\" cx=\"433.67\" cy=\"-411.11\" rx=\"25.2\" ry=\"25.2\"/>\n",
       "<text text-anchor=\"middle\" x=\"433.67\" y=\"-407.23\" font-family=\"Times New Roman,serif\" font-size=\"10.00\">topology</text>\n",
       "</g>\n",
       "<!-- 0&#45;&#45;&#39;3&#39; -->\n",
       "<g id=\"edge3\" class=\"edge\">\n",
       "<title>0&#45;&#45;&#39;3&#39;</title>\n",
       "<path fill=\"none\" stroke=\"black\" d=\"M369.21,-231.81C383.06,-270.33 410.05,-345.4 424.31,-385.08\"/>\n",
       "<text text-anchor=\"middle\" x=\"388.14\" y=\"-310.89\" font-family=\"Times New Roman,serif\" font-size=\"14.00\">2.6</text>\n",
       "</g>\n",
       "<!-- &#39;4&#39; -->\n",
       "<g id=\"node5\" class=\"node\">\n",
       "<title>&#39;4&#39;</title>\n",
       "<ellipse fill=\"none\" stroke=\"deepskyblue\" stroke-width=\"4.21\" cx=\"534.99\" cy=\"-150.13\" rx=\"25.2\" ry=\"25.2\"/>\n",
       "<text text-anchor=\"middle\" x=\"534.99\" y=\"-146.26\" font-family=\"Times New Roman,serif\" font-size=\"10.00\">gato</text>\n",
       "</g>\n",
       "<!-- 0&#45;&#45;&#39;4&#39; -->\n",
       "<g id=\"edge4\" class=\"edge\">\n",
       "<title>0&#45;&#45;&#39;4&#39;</title>\n",
       "<path fill=\"none\" stroke=\"black\" d=\"M384.79,-199.67C417.56,-188.86 475.71,-169.68 509.23,-158.63\"/>\n",
       "<text text-anchor=\"middle\" x=\"438.39\" y=\"-181.6\" font-family=\"Times New Roman,serif\" font-size=\"14.00\">2.4</text>\n",
       "</g>\n",
       "<!-- &#39;5&#39; -->\n",
       "<g id=\"node6\" class=\"node\">\n",
       "<title>&#39;5&#39;</title>\n",
       "<ellipse fill=\"none\" stroke=\"deepskyblue\" stroke-width=\"4\" cx=\"25.2\" cy=\"-307.19\" rx=\"25.2\" ry=\"25.2\"/>\n",
       "<text text-anchor=\"middle\" x=\"25.2\" y=\"-303.32\" font-family=\"Times New Roman,serif\" font-size=\"10.00\">tree</text>\n",
       "</g>\n",
       "<!-- 0&#45;&#45;&#39;5&#39; -->\n",
       "<g id=\"edge5\" class=\"edge\">\n",
       "<title>0&#45;&#45;&#39;5&#39;</title>\n",
       "<path fill=\"none\" stroke=\"black\" d=\"M336.14,-214.91C274.65,-233.16 113.71,-280.92 50.87,-299.58\"/>\n",
       "<text text-anchor=\"middle\" x=\"184.88\" y=\"-259.69\" font-family=\"Times New Roman,serif\" font-size=\"14.00\">4.0</text>\n",
       "</g>\n",
       "</g>\n",
       "</svg>\n"
      ],
      "text/plain": [
       "<graphviz.graphs.Graph at 0x23bff5707a0>"
      ]
     },
     "execution_count": 14,
     "metadata": {},
     "output_type": "execute_result"
    }
   ],
   "source": [
    "ranking_graph = ranking.get_graph()\n",
    "print(ranking_graph)\n",
    "visual_ranking_graph = ranking_graph.get_graph_viz('0.7', 'deepskyblue')\n",
    "visual_ranking_graph"
   ]
  },
  {
   "cell_type": "code",
   "execution_count": 15,
   "metadata": {},
   "outputs": [
    {
     "name": "stdout",
     "output_type": "stream",
     "text": [
      "SUBQUERY: network\n",
      "TERM: road ; PONDERATION: 1.8 ; DISTANCE: 1.0\n",
      "TERM: search ; PONDERATION: 1.2 ; DISTANCE: 3.0\n",
      "TERM: moving ; PONDERATION: 1.2 ; DISTANCE: 3.0\n",
      "TERM: object ; PONDERATION: 1.2 ; DISTANCE: 2.0\n",
      "TERM: eg ; PONDERATION: 0.6 ; DISTANCE: 1.0\n",
      "TERM: ride ; PONDERATION: 0.6 ; DISTANCE: 4.0\n",
      "TERM: taxi ; PONDERATION: 0.6 ; DISTANCE: 2.0\n",
      "TERM: calling ; PONDERATION: 0.6 ; DISTANCE: 3.0\n",
      "TERM: scale ; PONDERATION: 0.6 ; DISTANCE: 4.0\n",
      "TERM: topology ; PONDERATION: 0.6 ; DISTANCE: 2.0\n",
      "TERM: model ; PONDERATION: 0.6 ; DISTANCE: 3.0\n",
      "TERM: manage ; PONDERATION: 0.6 ; DISTANCE: 4.0\n",
      "TERM: store ; PONDERATION: 0.6 ; DISTANCE: 3.0\n",
      "TERM: hierarchical ; PONDERATION: 0.6 ; DISTANCE: 1.0\n",
      "TERM: tree ; PONDERATION: 0.6 ; DISTANCE: 4.0\n",
      "TERM: grid ; PONDERATION: 0.6 ; DISTANCE: 2.0\n",
      "TERM: based ; PONDERATION: 0.6 ; DISTANCE: 2.0\n",
      "TERM: incrementally ; PONDERATION: 0.6 ; DISTANCE: 4.0\n",
      "TERM: area ; PONDERATION: 0.6 ; DISTANCE: 1.0\n",
      "TERM: distance ; PONDERATION: 0.6 ; DISTANCE: 1.0\n",
      "TERM: neighbor ; PONDERATION: 0.6 ; DISTANCE: 4.0\n",
      "TERM: nearest ; PONDERATION: 0.6 ; DISTANCE: 3.0\n",
      "TERM: enlarges ; PONDERATION: 0.6 ; DISTANCE: 3.0\n"
     ]
    },
    {
     "data": {
      "image/svg+xml": [
       "<?xml version=\"1.0\" encoding=\"UTF-8\" standalone=\"no\"?>\n",
       "<!DOCTYPE svg PUBLIC \"-//W3C//DTD SVG 1.1//EN\"\n",
       " \"http://www.w3.org/Graphics/SVG/1.1/DTD/svg11.dtd\">\n",
       "<!-- Generated by graphviz version 10.0.1 (20240210.2158)\n",
       " -->\n",
       "<!-- Title: G Pages: 1 -->\n",
       "<svg width=\"344pt\" height=\"504pt\"\n",
       " viewBox=\"0.00 0.00 344.34 504.21\" xmlns=\"http://www.w3.org/2000/svg\" xmlns:xlink=\"http://www.w3.org/1999/xlink\">\n",
       "<g id=\"graph0\" class=\"graph\" transform=\"scale(1 1) rotate(0) translate(4 500.21)\">\n",
       "<title>G</title>\n",
       "<polygon fill=\"white\" stroke=\"none\" points=\"-4,4 -4,-500.21 340.34,-500.21 340.34,4 -4,4\"/>\n",
       "<!-- 0 -->\n",
       "<g id=\"node1\" class=\"node\">\n",
       "<title>0</title>\n",
       "<ellipse fill=\"#c1cdcd\" stroke=\"black\" cx=\"161.8\" cy=\"-242.62\" rx=\"25.2\" ry=\"25.2\"/>\n",
       "<text text-anchor=\"middle\" x=\"161.8\" y=\"-238.75\" font-family=\"Times New Roman,serif\" font-size=\"10.00\">network</text>\n",
       "</g>\n",
       "<!-- &#39;1&#39; -->\n",
       "<g id=\"node2\" class=\"node\">\n",
       "<title>&#39;1&#39;</title>\n",
       "<ellipse fill=\"none\" stroke=\"deepskyblue\" stroke-width=\"1.8\" cx=\"194.73\" cy=\"-177.22\" rx=\"25.2\" ry=\"25.2\"/>\n",
       "<text text-anchor=\"middle\" x=\"194.73\" y=\"-173.34\" font-family=\"Times New Roman,serif\" font-size=\"10.00\">road</text>\n",
       "</g>\n",
       "<!-- 0&#45;&#45;&#39;1&#39; -->\n",
       "<g id=\"edge1\" class=\"edge\">\n",
       "<title>0&#45;&#45;&#39;1&#39;</title>\n",
       "<path fill=\"none\" stroke=\"black\" d=\"M173.32,-219.75C176.58,-213.26 180.13,-206.21 183.39,-199.75\"/>\n",
       "<text text-anchor=\"middle\" x=\"186.98\" y=\"-212.2\" font-family=\"Times New Roman,serif\" font-size=\"14.00\">1.0</text>\n",
       "</g>\n",
       "<!-- &#39;2&#39; -->\n",
       "<g id=\"node3\" class=\"node\">\n",
       "<title>&#39;2&#39;</title>\n",
       "<ellipse fill=\"none\" stroke=\"deepskyblue\" stroke-width=\"1.2\" cx=\"25.2\" cy=\"-25.2\" rx=\"25.2\" ry=\"25.2\"/>\n",
       "<text text-anchor=\"middle\" x=\"25.2\" y=\"-21.32\" font-family=\"Times New Roman,serif\" font-size=\"10.00\">search</text>\n",
       "</g>\n",
       "<!-- 0&#45;&#45;&#39;2&#39; -->\n",
       "<g id=\"edge2\" class=\"edge\">\n",
       "<title>0&#45;&#45;&#39;2&#39;</title>\n",
       "<path fill=\"none\" stroke=\"black\" d=\"M148.2,-220.98C122.02,-179.31 64.88,-88.36 38.74,-46.75\"/>\n",
       "<text text-anchor=\"middle\" x=\"84.85\" y=\"-136.32\" font-family=\"Times New Roman,serif\" font-size=\"14.00\">3.0</text>\n",
       "</g>\n",
       "<!-- &#39;3&#39; -->\n",
       "<g id=\"node4\" class=\"node\">\n",
       "<title>&#39;3&#39;</title>\n",
       "<ellipse fill=\"none\" stroke=\"deepskyblue\" stroke-width=\"1.2\" cx=\"59.88\" cy=\"-471.01\" rx=\"25.2\" ry=\"25.2\"/>\n",
       "<text text-anchor=\"middle\" x=\"59.88\" y=\"-467.13\" font-family=\"Times New Roman,serif\" font-size=\"10.00\">moving</text>\n",
       "</g>\n",
       "<!-- 0&#45;&#45;&#39;3&#39; -->\n",
       "<g id=\"edge3\" class=\"edge\">\n",
       "<title>0&#45;&#45;&#39;3&#39;</title>\n",
       "<path fill=\"none\" stroke=\"black\" d=\"M151.46,-265.78C131.93,-309.55 89.8,-403.97 70.24,-447.79\"/>\n",
       "<text text-anchor=\"middle\" x=\"102.23\" y=\"-359.23\" font-family=\"Times New Roman,serif\" font-size=\"14.00\">3.0</text>\n",
       "</g>\n",
       "<!-- &#39;4&#39; -->\n",
       "<g id=\"node5\" class=\"node\">\n",
       "<title>&#39;4&#39;</title>\n",
       "<ellipse fill=\"none\" stroke=\"deepskyblue\" stroke-width=\"1.2\" cx=\"311.14\" cy=\"-299\" rx=\"25.2\" ry=\"25.2\"/>\n",
       "<text text-anchor=\"middle\" x=\"311.14\" y=\"-295.13\" font-family=\"Times New Roman,serif\" font-size=\"10.00\">object</text>\n",
       "</g>\n",
       "<!-- 0&#45;&#45;&#39;4&#39; -->\n",
       "<g id=\"edge4\" class=\"edge\">\n",
       "<title>0&#45;&#45;&#39;4&#39;</title>\n",
       "<path fill=\"none\" stroke=\"black\" d=\"M185.79,-251.68C213.66,-262.2 259.36,-279.46 287.2,-289.97\"/>\n",
       "<text text-anchor=\"middle\" x=\"227.87\" y=\"-273.27\" font-family=\"Times New Roman,serif\" font-size=\"14.00\">2.0</text>\n",
       "</g>\n",
       "<!-- &#39;5&#39; -->\n",
       "<g id=\"node6\" class=\"node\">\n",
       "<title>&#39;5&#39;</title>\n",
       "<ellipse fill=\"none\" stroke=\"deepskyblue\" stroke-width=\"0.6\" cx=\"91.58\" cy=\"-259.46\" rx=\"25.2\" ry=\"25.2\"/>\n",
       "<text text-anchor=\"middle\" x=\"91.58\" y=\"-255.59\" font-family=\"Times New Roman,serif\" font-size=\"10.00\">eg</text>\n",
       "</g>\n",
       "<!-- 0&#45;&#45;&#39;5&#39; -->\n",
       "<g id=\"edge5\" class=\"edge\">\n",
       "<title>0&#45;&#45;&#39;5&#39;</title>\n",
       "<path fill=\"none\" stroke=\"black\" d=\"M136.84,-248.61C130.06,-250.23 122.73,-251.99 115.98,-253.61\"/>\n",
       "<text text-anchor=\"middle\" x=\"126.41\" y=\"-237.81\" font-family=\"Times New Roman,serif\" font-size=\"14.00\">1.0</text>\n",
       "</g>\n",
       "</g>\n",
       "</svg>\n"
      ],
      "text/plain": [
       "<graphviz.graphs.Graph at 0x23b80dc2660>"
      ]
     },
     "execution_count": 15,
     "metadata": {},
     "output_type": "execute_result"
    }
   ],
   "source": [
    "g5 = ranking.get_document_by_ranking_position(5).get_graph()\n",
    "print(g5)\n",
    "visual_graph5 = g5.get_graph_viz('0.7', 'deepskyblue')\n",
    "visual_graph5"
   ]
  }
 ],
 "metadata": {
  "kernelspec": {
   "display_name": "Python 3",
   "language": "python",
   "name": "python3"
  },
  "language_info": {
   "codemirror_mode": {
    "name": "ipython",
    "version": 3
   },
   "file_extension": ".py",
   "mimetype": "text/x-python",
   "name": "python",
   "nbconvert_exporter": "python",
   "pygments_lexer": "ipython3",
   "version": "3.12.2"
  }
 },
 "nbformat": 4,
 "nbformat_minor": 4
}
