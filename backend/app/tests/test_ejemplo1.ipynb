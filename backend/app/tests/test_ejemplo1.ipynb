{
 "cells": [
  {
   "cell_type": "markdown",
   "metadata": {},
   "source": [
    "# Testing GraphSearch Distance Concepts"
   ]
  },
  {
   "cell_type": "markdown",
   "metadata": {},
   "source": [
    "## Load Libraries"
   ]
  },
  {
   "cell_type": "code",
   "execution_count": 1,
   "metadata": {},
   "outputs": [],
   "source": [
    "import numpy as np\n",
    "import os\n",
    "import sys\n",
    "import json\n",
    "import copy\n",
    "module_path = os.path.abspath(os.path.join('..'))\n",
    "if module_path not in sys.path:\n",
    "    sys.path.append(module_path)\n",
    "\n",
    "from models.srex.ranking import Ranking\n",
    "from models.srex.vicinity_graph import VicinityGraph, VicinityNode\n",
    "from utils.data_utils import DataUtils"
   ]
  },
  {
   "cell_type": "markdown",
   "metadata": {},
   "source": [
    "## Initialize some variables"
   ]
  },
  {
   "cell_type": "code",
   "execution_count": 2,
   "metadata": {},
   "outputs": [],
   "source": [
    "# Load Stop Words\n",
    "stop_words_list = DataUtils.load_stopwords()"
   ]
  },
  {
   "cell_type": "code",
   "execution_count": 3,
   "metadata": {},
   "outputs": [],
   "source": [
    "query                    = 'iot'\n",
    "nr_search_results        = 3\n",
    "ranking_weight_type      = 'linear' # it can be: 'none', 'linear' or 'inverse'\n",
    "lema                     = True\n",
    "stem                     = False\n",
    "summarize                = 'mean'   # it can be: 'mean' or 'median'\n",
    "nr_of_graph_terms        = 5\n",
    "limit_distance           = 4 \n",
    "include_query_terms      = False"
   ]
  },
  {
   "cell_type": "markdown",
   "metadata": {},
   "source": [
    "## Calculate Ranking data structure"
   ]
  },
  {
   "cell_type": "code",
   "execution_count": 4,
   "metadata": {},
   "outputs": [],
   "source": [
    "document_1 = 'Securing IoT Devices and Connecting the Dots Using REST API and Middleware'\n",
    "document_2 = 'Therefore it is required to introduce a secure IoT system which doesnt allow attackers infiltration in the network through IoT devices and also to secure data in transit from IoT devices to cloud.'\n",
    "document_3 = 'Internet of Things (IoT) is a fairly disruptive technology with inconceivable growth, impact, and capability.'\n",
    "\n",
    "articles_list = [\n",
    "    {'title': document_1, 'article_number': '1'}, \n",
    "    {'title': document_2, 'article_number': '2'}, \n",
    "    {'title': document_3, 'article_number': '3'}\n",
    "]\n",
    "\n",
    "ranking = Ranking(query, nr_search_results, ranking_weight_type, stop_words_list, lema, stem)\n",
    "ranking.build_article_dictionaries_list(articles_list)"
   ]
  },
  {
   "cell_type": "markdown",
   "metadata": {},
   "source": [
    "## Generate all graphs from ranking, documents and sentences"
   ]
  },
  {
   "cell_type": "code",
   "execution_count": 5,
   "metadata": {},
   "outputs": [],
   "source": [
    "ranking.generate_all_graphs(nr_of_graph_terms, limit_distance, include_query_terms, summarize)"
   ]
  },
  {
   "cell_type": "markdown",
   "metadata": {},
   "source": [
    "## Imprimir texto crudo y texto preprocesado de cada documento"
   ]
  },
  {
   "cell_type": "code",
   "execution_count": 6,
   "metadata": {},
   "outputs": [
    {
     "name": "stdout",
     "output_type": "stream",
     "text": [
      "Document 1\n",
      "raw text: Securing IoT Devices and Connecting the Dots Using REST API and Middleware\n",
      "preprocessed text: securing iot device connecting dot rest api middleware\n",
      "\n",
      "Document 2\n",
      "raw text: Therefore it is required to introduce a secure IoT system which doesnt allow attackers infiltration in the network through IoT devices and also to secure data in transit from IoT devices to cloud.\n",
      "preprocessed text: required introduce secure iot system allow attacker infiltration network iot device secure data transit iot device cloud\n",
      "\n",
      "Document 3\n",
      "raw text: Internet of Things (IoT) is a fairly disruptive technology with inconceivable growth, impact, and capability.\n",
      "preprocessed text: internet thing iot fairly disruptive technology inconceivable growth impact capability\n",
      "\n"
     ]
    }
   ],
   "source": [
    "for index, d in enumerate(ranking.documents):\n",
    "    print(f\"Document {d.doc_id}\")\n",
    "    print(f\"raw text: {d.title}\")\n",
    "    for s in d.sentences:\n",
    "        print(f\"preprocessed text: {s.preprocessed_text}\")\n",
    "    print()"
   ]
  },
  {
   "cell_type": "markdown",
   "metadata": {},
   "source": [
    "## Imprimir diccionario de posiciones de términos por cada documento"
   ]
  },
  {
   "cell_type": "code",
   "execution_count": 7,
   "metadata": {},
   "outputs": [
    {
     "name": "stdout",
     "output_type": "stream",
     "text": [
      "Document 1\n",
      "\n",
      "Posiciones sintácticas de términos\n",
      "{\n",
      "  'securing': [0],\n",
      "  'iot': [1],\n",
      "  'device': [2],\n",
      "  'connecting': [3],\n",
      "  'dot': [4],\n",
      "  'rest': [5],\n",
      "  'api': [6],\n",
      "  'middleware': [7]\n",
      "}\n",
      "\n",
      "Posiciones sintácticas de query terms\n",
      "{\n",
      "  'iot': [1]\n",
      "}\n",
      "\n",
      "\n",
      "Document 2\n",
      "\n",
      "Posiciones sintácticas de términos\n",
      "{\n",
      "  'required': [0],\n",
      "  'introduce': [1],\n",
      "  'secure': [2, 11],\n",
      "  'iot': [3, 9, 14],\n",
      "  'system': [4],\n",
      "  'allow': [5],\n",
      "  'attacker': [6],\n",
      "  'infiltration': [7],\n",
      "  'network': [8],\n",
      "  'device': [10, 15],\n",
      "  'data': [12],\n",
      "  'transit': [13],\n",
      "  'cloud': [16]\n",
      "}\n",
      "\n",
      "Posiciones sintácticas de query terms\n",
      "{\n",
      "  'iot': [3, 9, 14]\n",
      "}\n",
      "\n",
      "\n",
      "Document 3\n",
      "\n",
      "Posiciones sintácticas de términos\n",
      "{\n",
      "  'internet': [0],\n",
      "  'thing': [1],\n",
      "  'iot': [2],\n",
      "  'fairly': [3],\n",
      "  'disruptive': [4],\n",
      "  'technology': [5],\n",
      "  'inconceivable': [6],\n",
      "  'growth': [7],\n",
      "  'impact': [8],\n",
      "  'capability': [9]\n",
      "}\n",
      "\n",
      "Posiciones sintácticas de query terms\n",
      "{\n",
      "  'iot': [2]\n",
      "}\n",
      "\n",
      "\n"
     ]
    }
   ],
   "source": [
    "# Función personalizada para manejar el formato\n",
    "def custom_json_format(data):\n",
    "    formatted = \"{\\n\"\n",
    "    for key, value in data.items():\n",
    "        # Convierte cada par clave-valor en una línea con el formato deseado\n",
    "        formatted += f\"  '{key}': {json.dumps(value)},\\n\"\n",
    "    formatted = formatted.rstrip(\",\\n\") + \"\\n}\"  # Elimina la última coma y cierra el bloque\n",
    "    return formatted\n",
    "\n",
    "\n",
    "# Imprimir diccionario de posiciones de términos por cada documento\n",
    "for d in ranking.documents:\n",
    "    print(f\"Document {d.doc_id}\")\n",
    "    for s in d.sentences:\n",
    "        term_positions_dict = s.get_term_positions_dict()\n",
    "        query_terms = s.query_tree.get_query_terms_str_list_with_underscores()\n",
    "        query_term_positions_dict = s.get_query_term_positions_dict(term_positions_dict, query_terms)\n",
    "        \n",
    "        print('\\nPosiciones sintácticas de términos')\n",
    "        print(custom_json_format(term_positions_dict))\n",
    "        print('\\nPosiciones sintácticas de query terms')\n",
    "        print(f\"{custom_json_format(query_term_positions_dict)}\\n\")\n",
    "    print()"
   ]
  },
  {
   "cell_type": "markdown",
   "metadata": {},
   "source": [
    "## Imprimir Vicinity Matrix (MAT3D) de cada documento"
   ]
  },
  {
   "cell_type": "code",
   "execution_count": 8,
   "metadata": {},
   "outputs": [
    {
     "name": "stdout",
     "output_type": "stream",
     "text": [
      "Document 1\n",
      "{\n",
      "  'securing': {\"iot\": [1, 0, 0, 0]},\n",
      "  'device': {\"iot\": [1, 0, 0, 0]},\n",
      "  'connecting': {\"iot\": [0, 1, 0, 0]},\n",
      "  'dot': {\"iot\": [0, 0, 1, 0]},\n",
      "  'rest': {\"iot\": [0, 0, 0, 1]}\n",
      "}\n",
      "\n",
      "Document 2\n",
      "{\n",
      "  'required': {\"iot\": [0, 0, 1, 0]},\n",
      "  'introduce': {\"iot\": [0, 1, 0, 0]},\n",
      "  'secure': {\"iot\": [1, 1, 1, 0]},\n",
      "  'system': {\"iot\": [1, 0, 0, 0]},\n",
      "  'allow': {\"iot\": [0, 1, 0, 1]},\n",
      "  'attacker': {\"iot\": [0, 0, 2, 0]},\n",
      "  'infiltration': {\"iot\": [0, 1, 0, 1]},\n",
      "  'network': {\"iot\": [1, 0, 0, 0]},\n",
      "  'device': {\"iot\": [2, 0, 0, 1]},\n",
      "  'data': {\"iot\": [0, 1, 1, 0]},\n",
      "  'transit': {\"iot\": [1, 0, 0, 1]},\n",
      "  'cloud': {\"iot\": [0, 1, 0, 0]}\n",
      "}\n",
      "\n",
      "Document 3\n",
      "{\n",
      "  'internet': {\"iot\": [0, 1, 0, 0]},\n",
      "  'thing': {\"iot\": [1, 0, 0, 0]},\n",
      "  'fairly': {\"iot\": [1, 0, 0, 0]},\n",
      "  'disruptive': {\"iot\": [0, 1, 0, 0]},\n",
      "  'technology': {\"iot\": [0, 0, 1, 0]},\n",
      "  'inconceivable': {\"iot\": [0, 0, 0, 1]}\n",
      "}\n",
      "\n"
     ]
    }
   ],
   "source": [
    "# Imprimir Vicinity Matrix (MAT3D) de cada parrafo\n",
    "for d in ranking.documents:\n",
    "    print(f\"Document {d.doc_id}\")\n",
    "    for s in d.sentences:\n",
    "        print(custom_json_format(s.vicinity_matrix))\n",
    "    print()"
   ]
  },
  {
   "cell_type": "markdown",
   "metadata": {},
   "source": [
    "## Imprimir Proximity Scores y Frequency Scores por cada término de los documentos"
   ]
  },
  {
   "cell_type": "code",
   "execution_count": 9,
   "metadata": {},
   "outputs": [
    {
     "name": "stdout",
     "output_type": "stream",
     "text": [
      "Document 1\n",
      "SUBQUERY: iot\n",
      "TERM: securing ; FREQUENCY_SCORE: 1.0 ; PROXIMITY_SCORE: 1.0 ; CRITERIA: proximity\n",
      "TERM: device ; FREQUENCY_SCORE: 1.0 ; PROXIMITY_SCORE: 1.0 ; CRITERIA: proximity\n",
      "TERM: connecting ; FREQUENCY_SCORE: 1.0 ; PROXIMITY_SCORE: 0.5 ; CRITERIA: proximity\n",
      "TERM: dot ; FREQUENCY_SCORE: 1.0 ; PROXIMITY_SCORE: 0.25 ; CRITERIA: proximity\n",
      "TERM: rest ; FREQUENCY_SCORE: 1.0 ; PROXIMITY_SCORE: 0.125 ; CRITERIA: proximity\n",
      "TERM: api ; FREQUENCY_SCORE: 1.0 ; PROXIMITY_SCORE: 0.0 ; CRITERIA: frequency\n",
      "TERM: middleware ; FREQUENCY_SCORE: 1.0 ; PROXIMITY_SCORE: 0.0 ; CRITERIA: frequency\n",
      "\n",
      "Document 2\n",
      "SUBQUERY: iot\n",
      "TERM: device ; FREQUENCY_SCORE: 1.5 ; PROXIMITY_SCORE: 1.59375 ; CRITERIA: proximity\n",
      "TERM: secure ; FREQUENCY_SCORE: 1.5 ; PROXIMITY_SCORE: 1.3125 ; CRITERIA: proximity\n",
      "TERM: transit ; FREQUENCY_SCORE: 0.75 ; PROXIMITY_SCORE: 0.84375 ; CRITERIA: proximity\n",
      "TERM: system ; FREQUENCY_SCORE: 0.75 ; PROXIMITY_SCORE: 0.75 ; CRITERIA: proximity\n",
      "TERM: network ; FREQUENCY_SCORE: 0.75 ; PROXIMITY_SCORE: 0.75 ; CRITERIA: proximity\n",
      "TERM: data ; FREQUENCY_SCORE: 0.75 ; PROXIMITY_SCORE: 0.5625 ; CRITERIA: proximity\n",
      "TERM: allow ; FREQUENCY_SCORE: 0.75 ; PROXIMITY_SCORE: 0.46875 ; CRITERIA: proximity\n",
      "TERM: infiltration ; FREQUENCY_SCORE: 0.75 ; PROXIMITY_SCORE: 0.46875 ; CRITERIA: proximity\n",
      "TERM: introduce ; FREQUENCY_SCORE: 0.75 ; PROXIMITY_SCORE: 0.375 ; CRITERIA: proximity\n",
      "TERM: attacker ; FREQUENCY_SCORE: 0.75 ; PROXIMITY_SCORE: 0.375 ; CRITERIA: proximity\n",
      "TERM: cloud ; FREQUENCY_SCORE: 0.75 ; PROXIMITY_SCORE: 0.375 ; CRITERIA: proximity\n",
      "TERM: required ; FREQUENCY_SCORE: 0.75 ; PROXIMITY_SCORE: 0.1875 ; CRITERIA: proximity\n",
      "\n",
      "Document 3\n",
      "SUBQUERY: iot\n",
      "TERM: thing ; FREQUENCY_SCORE: 0.5 ; PROXIMITY_SCORE: 0.5 ; CRITERIA: proximity\n",
      "TERM: fairly ; FREQUENCY_SCORE: 0.5 ; PROXIMITY_SCORE: 0.5 ; CRITERIA: proximity\n",
      "TERM: internet ; FREQUENCY_SCORE: 0.5 ; PROXIMITY_SCORE: 0.25 ; CRITERIA: proximity\n",
      "TERM: disruptive ; FREQUENCY_SCORE: 0.5 ; PROXIMITY_SCORE: 0.25 ; CRITERIA: proximity\n",
      "TERM: technology ; FREQUENCY_SCORE: 0.5 ; PROXIMITY_SCORE: 0.125 ; CRITERIA: proximity\n",
      "TERM: inconceivable ; FREQUENCY_SCORE: 0.5 ; PROXIMITY_SCORE: 0.0625 ; CRITERIA: proximity\n",
      "TERM: growth ; FREQUENCY_SCORE: 0.5 ; PROXIMITY_SCORE: 0.0 ; CRITERIA: frequency\n",
      "TERM: impact ; FREQUENCY_SCORE: 0.5 ; PROXIMITY_SCORE: 0.0 ; CRITERIA: frequency\n",
      "TERM: capability ; FREQUENCY_SCORE: 0.5 ; PROXIMITY_SCORE: 0.0 ; CRITERIA: frequency\n",
      "\n"
     ]
    }
   ],
   "source": [
    "# Imprimir Proximity Scores y Frequency Scores por cada término de los documentos\n",
    "for d in ranking.documents:\n",
    "    print(f\"Document {d.doc_id}\")\n",
    "    for s in d.sentences:\n",
    "        print(s.get_graph())\n",
    "    print()"
   ]
  },
  {
   "cell_type": "markdown",
   "metadata": {},
   "source": [
    "## Imprimir Proximity Scores y Frequency Scores del grafo asociado al Ranking"
   ]
  },
  {
   "cell_type": "code",
   "execution_count": 10,
   "metadata": {},
   "outputs": [
    {
     "name": "stdout",
     "output_type": "stream",
     "text": [
      "SUBQUERY: iot\n",
      "TERM: device ; FREQUENCY_SCORE: 2.5 ; PROXIMITY_SCORE: 2.59375 ; CRITERIA: proximity\n",
      "TERM: secure ; FREQUENCY_SCORE: 1.5 ; PROXIMITY_SCORE: 1.3125 ; CRITERIA: proximity\n",
      "TERM: securing ; FREQUENCY_SCORE: 1.0 ; PROXIMITY_SCORE: 1.0 ; CRITERIA: proximity\n",
      "TERM: transit ; FREQUENCY_SCORE: 0.75 ; PROXIMITY_SCORE: 0.84375 ; CRITERIA: proximity\n",
      "TERM: network ; FREQUENCY_SCORE: 0.75 ; PROXIMITY_SCORE: 0.75 ; CRITERIA: proximity\n",
      "TERM: system ; FREQUENCY_SCORE: 0.75 ; PROXIMITY_SCORE: 0.75 ; CRITERIA: proximity\n",
      "TERM: data ; FREQUENCY_SCORE: 0.75 ; PROXIMITY_SCORE: 0.5625 ; CRITERIA: proximity\n",
      "TERM: connecting ; FREQUENCY_SCORE: 1.0 ; PROXIMITY_SCORE: 0.5 ; CRITERIA: proximity\n",
      "TERM: thing ; FREQUENCY_SCORE: 0.5 ; PROXIMITY_SCORE: 0.5 ; CRITERIA: proximity\n",
      "TERM: fairly ; FREQUENCY_SCORE: 0.5 ; PROXIMITY_SCORE: 0.5 ; CRITERIA: proximity\n",
      "TERM: infiltration ; FREQUENCY_SCORE: 0.75 ; PROXIMITY_SCORE: 0.46875 ; CRITERIA: proximity\n",
      "TERM: allow ; FREQUENCY_SCORE: 0.75 ; PROXIMITY_SCORE: 0.46875 ; CRITERIA: proximity\n",
      "TERM: attacker ; FREQUENCY_SCORE: 0.75 ; PROXIMITY_SCORE: 0.375 ; CRITERIA: proximity\n",
      "TERM: introduce ; FREQUENCY_SCORE: 0.75 ; PROXIMITY_SCORE: 0.375 ; CRITERIA: proximity\n",
      "TERM: cloud ; FREQUENCY_SCORE: 0.75 ; PROXIMITY_SCORE: 0.375 ; CRITERIA: proximity\n",
      "TERM: dot ; FREQUENCY_SCORE: 1.0 ; PROXIMITY_SCORE: 0.25 ; CRITERIA: proximity\n",
      "TERM: disruptive ; FREQUENCY_SCORE: 0.5 ; PROXIMITY_SCORE: 0.25 ; CRITERIA: proximity\n",
      "TERM: internet ; FREQUENCY_SCORE: 0.5 ; PROXIMITY_SCORE: 0.25 ; CRITERIA: proximity\n",
      "TERM: required ; FREQUENCY_SCORE: 0.75 ; PROXIMITY_SCORE: 0.1875 ; CRITERIA: proximity\n",
      "TERM: rest ; FREQUENCY_SCORE: 1.0 ; PROXIMITY_SCORE: 0.125 ; CRITERIA: proximity\n",
      "TERM: technology ; FREQUENCY_SCORE: 0.5 ; PROXIMITY_SCORE: 0.125 ; CRITERIA: proximity\n",
      "TERM: inconceivable ; FREQUENCY_SCORE: 0.5 ; PROXIMITY_SCORE: 0.0625 ; CRITERIA: proximity\n",
      "TERM: api ; FREQUENCY_SCORE: 1.0 ; PROXIMITY_SCORE: 0.0 ; CRITERIA: frequency\n",
      "TERM: middleware ; FREQUENCY_SCORE: 1.0 ; PROXIMITY_SCORE: 0.0 ; CRITERIA: frequency\n",
      "TERM: growth ; FREQUENCY_SCORE: 0.5 ; PROXIMITY_SCORE: 0.0 ; CRITERIA: frequency\n",
      "TERM: capability ; FREQUENCY_SCORE: 0.5 ; PROXIMITY_SCORE: 0.0 ; CRITERIA: frequency\n",
      "TERM: impact ; FREQUENCY_SCORE: 0.5 ; PROXIMITY_SCORE: 0.0 ; CRITERIA: frequency\n"
     ]
    }
   ],
   "source": [
    "print(ranking.get_graph())"
   ]
  },
  {
   "cell_type": "markdown",
   "metadata": {},
   "source": [
    "## Comparar Grafo del Usuario con los documentos del ránking"
   ]
  },
  {
   "cell_type": "markdown",
   "metadata": {},
   "source": [
    "### Generar Grafo del Usuario"
   ]
  },
  {
   "cell_type": "code",
   "execution_count": 11,
   "metadata": {},
   "outputs": [
    {
     "name": "stdout",
     "output_type": "stream",
     "text": [
      "SUBQUERY: iot\n",
      "TERM: technology ; FREQUENCY_SCORE: 1.0 ; PROXIMITY_SCORE: 1.0 ; CRITERIA: proximity\n",
      "TERM: device ; FREQUENCY_SCORE: 1.0 ; PROXIMITY_SCORE: 1.0 ; CRITERIA: proximity\n",
      "TERM: disruptive ; FREQUENCY_SCORE: 1.0 ; PROXIMITY_SCORE: 1.0 ; CRITERIA: frequency\n"
     ]
    }
   ],
   "source": [
    "# Este grafo es el resultado del Grafo de Usuario que éste modificó, a partir del Grafo Inicial construido a partir del ránking inicial\n",
    "\n",
    "user_graph = VicinityGraph(query, nr_of_graph_terms, limit_distance, include_query_terms, summarize)\n",
    "vicinity_node_1 = VicinityNode(term='technology', frequency_score=1.0, proximity_score=1.0, criteria='proximity')\n",
    "vicinity_node_2 = VicinityNode(term='device', frequency_score=1.0, proximity_score=1.0, criteria='proximity')\n",
    "vicinity_node_3 = VicinityNode(term='disruptive', frequency_score=1.0, proximity_score=1.0, criteria='frequency')\n",
    "user_graph.add_node(vicinity_node_1)\n",
    "user_graph.add_node(vicinity_node_2)\n",
    "user_graph.add_node(vicinity_node_3)\n",
    "print(user_graph)"
   ]
  },
  {
   "cell_type": "markdown",
   "metadata": {},
   "source": [
    "### Comparar Documento 1 con Grafo del Usuario"
   ]
  },
  {
   "cell_type": "code",
   "execution_count": 12,
   "metadata": {},
   "outputs": [
    {
     "name": "stdout",
     "output_type": "stream",
     "text": [
      "0.30895170472719585\n"
     ]
    }
   ],
   "source": [
    "doc1_graph = ranking.get_document_by_id('1').get_graph()\n",
    "doc1_similarity_score = user_graph.get_similarity_score_as_base_graph(doc1_graph)\n",
    "print(doc1_similarity_score)"
   ]
  },
  {
   "cell_type": "markdown",
   "metadata": {},
   "source": [
    "### Comparar Documento 2 con Grafo del Usuario"
   ]
  },
  {
   "cell_type": "code",
   "execution_count": 13,
   "metadata": {},
   "outputs": [
    {
     "name": "stdout",
     "output_type": "stream",
     "text": [
      "0.2778311914457607\n"
     ]
    }
   ],
   "source": [
    "doc2_graph = ranking.get_document_by_id('2').get_graph()\n",
    "doc2_similarity_score = user_graph.get_similarity_score_as_base_graph(doc2_graph)\n",
    "print(doc2_similarity_score)"
   ]
  },
  {
   "cell_type": "markdown",
   "metadata": {},
   "source": [
    "### Comparar Documento 3 con Grafo del Usuario"
   ]
  },
  {
   "cell_type": "code",
   "execution_count": 14,
   "metadata": {},
   "outputs": [
    {
     "name": "stdout",
     "output_type": "stream",
     "text": [
      "0.1845086954528685\n"
     ]
    }
   ],
   "source": [
    "doc3_graph = ranking.get_document_by_id('3').get_graph()\n",
    "doc3_similarity_score = user_graph.get_similarity_score_as_base_graph(doc3_graph)\n",
    "print(doc3_similarity_score)"
   ]
  }
 ],
 "metadata": {
  "kernelspec": {
   "display_name": "Python 3",
   "language": "python",
   "name": "python3"
  },
  "language_info": {
   "codemirror_mode": {
    "name": "ipython",
    "version": 3
   },
   "file_extension": ".py",
   "mimetype": "text/x-python",
   "name": "python",
   "nbconvert_exporter": "python",
   "pygments_lexer": "ipython3",
   "version": "3.12.2"
  }
 },
 "nbformat": 4,
 "nbformat_minor": 4
}
