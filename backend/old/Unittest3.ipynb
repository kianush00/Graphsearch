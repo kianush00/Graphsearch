{
 "cells": [
  {
   "cell_type": "markdown",
   "metadata": {},
   "source": [
    "# Testing SREX Classes"
   ]
  },
  {
   "cell_type": "markdown",
   "metadata": {},
   "source": [
    "## Import libraries"
   ]
  },
  {
   "cell_type": "code",
   "execution_count": 1,
   "metadata": {},
   "outputs": [
    {
     "ename": "ModuleNotFoundError",
     "evalue": "No module named 'many_stop_words'",
     "output_type": "error",
     "traceback": [
      "\u001b[0;31m---------------------------------------------------------------------------\u001b[0m",
      "\u001b[0;31mModuleNotFoundError\u001b[0m                       Traceback (most recent call last)",
      "\u001b[0;32m<ipython-input-1-fb0df2ce3286>\u001b[0m in \u001b[0;36m<module>\u001b[0;34m\u001b[0m\n\u001b[0;32m----> 1\u001b[0;31m \u001b[0;32mimport\u001b[0m \u001b[0msrex\u001b[0m\u001b[0;34m\u001b[0m\u001b[0;34m\u001b[0m\u001b[0m\n\u001b[0m\u001b[1;32m      2\u001b[0m \u001b[0;32mimport\u001b[0m \u001b[0mcopy\u001b[0m\u001b[0;34m\u001b[0m\u001b[0;34m\u001b[0m\u001b[0m\n\u001b[1;32m      3\u001b[0m \u001b[0;32mimport\u001b[0m \u001b[0msrex_classes\u001b[0m\u001b[0;34m\u001b[0m\u001b[0;34m\u001b[0m\u001b[0m\n",
      "\u001b[0;32m~/Mi unidad/PROYECTOS/ACTIVOS/SREX/jupyter/srex.py\u001b[0m in \u001b[0;36m<module>\u001b[0;34m\u001b[0m\n\u001b[1;32m      8\u001b[0m \u001b[0;32mfrom\u001b[0m \u001b[0mnltk\u001b[0m\u001b[0;34m.\u001b[0m\u001b[0mcorpus\u001b[0m \u001b[0;32mimport\u001b[0m \u001b[0mstopwords\u001b[0m\u001b[0;34m\u001b[0m\u001b[0;34m\u001b[0m\u001b[0m\n\u001b[1;32m      9\u001b[0m \u001b[0;34m\u001b[0m\u001b[0m\n\u001b[0;32m---> 10\u001b[0;31m \u001b[0;32mfrom\u001b[0m \u001b[0mmany_stop_words\u001b[0m \u001b[0;32mimport\u001b[0m \u001b[0mget_stop_words\u001b[0m\u001b[0;34m\u001b[0m\u001b[0;34m\u001b[0m\u001b[0m\n\u001b[0m\u001b[1;32m     11\u001b[0m \u001b[0;34m\u001b[0m\u001b[0m\n\u001b[1;32m     12\u001b[0m \u001b[0;32mfrom\u001b[0m \u001b[0mnltk\u001b[0m\u001b[0;34m.\u001b[0m\u001b[0mstem\u001b[0m \u001b[0;32mimport\u001b[0m \u001b[0mPorterStemmer\u001b[0m \u001b[0;31m#Stemmer\u001b[0m\u001b[0;34m\u001b[0m\u001b[0;34m\u001b[0m\u001b[0m\n",
      "\u001b[0;31mModuleNotFoundError\u001b[0m: No module named 'many_stop_words'"
     ]
    }
   ],
   "source": [
    "#import srex\n",
    "#import copy\n",
    "#import srex_classes"
   ]
  },
  {
   "cell_type": "markdown",
   "metadata": {},
   "source": [
    "## Define the documents/paragraphs"
   ]
  },
  {
   "cell_type": "code",
   "execution_count": null,
   "metadata": {},
   "outputs": [],
   "source": []
  },
  {
   "cell_type": "markdown",
   "metadata": {},
   "source": [
    "## Configure parameters"
   ]
  },
  {
   "cell_type": "code",
   "execution_count": null,
   "metadata": {},
   "outputs": [],
   "source": [
    "docId = 101\n",
    "url = docId\n",
    "ranking = 1\n",
    "\n",
    "title = 'A Scalable Method for in-Memory kNN Search over Moving Objects in Road Networks'\n",
    "\n",
    "document_content = 'Nowadays, many location-based applications require the ability of querying k-nearest neighbors over a very large scale of moving objects in road networks, e.g., taxi-calling and ride-sharing services. Traditional grid index with equal-sized cells can not adapt to the skewed distribution of moving objects in real scenarios. Thus, to obtain the fast querying response time, the grid needs to be split into more smaller cells which introduces the side-effect of higher memory cost, i.e., maintaining such a large volume of cells requires a much larger memory space at the server side. In this paper, we present SIMkNN, a scalable and in-memory kNN query processing technique. SIMkNN is dual-index driven, where we adopt a R-tree to store the topology of the road network and a hierarchical grid model to manage the moving objects in non-uniform distribution. To answer a kNN query in real time, SIMkNN adopts the strategy that incrementally enlarges the search area for network distance based nearest neighbor evaluation. It is far from trivial to perform the space expansion within the hierarchical grid index. For a given cell, we first define its neighbors in different directions, then propose a cell communication technique which allows each cell in the hierarchical grid index to be aware of its neighbors at anytime. Accordingly, an efficient space expansion algorithm to generate the estimation area is proposed. The experimental evaluation shows that SIMkNN outperforms the baseline algorithm in terms of time and memory efficiency.'\n",
    "\n",
    "reference_term = 'network'\n",
    "\n",
    "limit_distance         = 3 \n",
    "sumarize               = 'none' \n",
    "include_reference_term = False\n",
    "range_of_normalization = [1,20]\n",
    "nr_of_graph_terms      = 5\n",
    "\n",
    "# stopWords\n",
    "stop_words = srex.stopwords.words('english') # a small one\n",
    "newStopWords = srex.get_stop_words('en') # a big one\n",
    "stop_words.extend(newStopWords) # all together\n",
    "\n",
    "lema = True\n",
    "stem = False"
   ]
  },
  {
   "cell_type": "markdown",
   "metadata": {},
   "source": [
    "## Define two paragraph objects"
   ]
  },
  {
   "cell_type": "code",
   "execution_count": null,
   "metadata": {},
   "outputs": [],
   "source": [
    "d1 = srex_classes.Document(docId, url, ranking, title, document_content, reference_term, limit_distance, sumarize, include_reference_term, range_of_normalization, nr_of_graph_terms, stop_words, lema, stem)"
   ]
  },
  {
   "cell_type": "markdown",
   "metadata": {},
   "source": [
    "## Calculate the Graphs"
   ]
  },
  {
   "cell_type": "code",
   "execution_count": null,
   "metadata": {},
   "outputs": [],
   "source": [
    "graphs_array = d1.getGraphs()"
   ]
  },
  {
   "cell_type": "code",
   "execution_count": null,
   "metadata": {},
   "outputs": [],
   "source": [
    "graphs_array"
   ]
  },
  {
   "cell_type": "markdown",
   "metadata": {},
   "source": [
    "## Plot the graphs"
   ]
  },
  {
   "cell_type": "code",
   "execution_count": null,
   "metadata": {
    "slideshow": {
     "slide_type": "fragment"
    }
   },
   "outputs": [],
   "source": [
    "for g in graphs_array:\n",
    "    print(g)"
   ]
  },
  {
   "cell_type": "markdown",
   "metadata": {},
   "source": [
    "## Merge graphs"
   ]
  },
  {
   "cell_type": "code",
   "execution_count": 6,
   "metadata": {},
   "outputs": [],
   "source": [
    "from functools import reduce\n",
    "result = reduce(lambda n1, n2: n1.merge(n2), graphs_array)"
   ]
  },
  {
   "cell_type": "code",
   "execution_count": 7,
   "metadata": {},
   "outputs": [
    {
     "name": "stdout",
     "output_type": "stream",
     "text": [
      "REF-TERM:network\n",
      "NODES:{'moving': {'frequency': 1, 'distances': [3]}, 'object': {'frequency': 1, 'distances': [2]}, 'road': {'frequency': 2, 'distances': [1, 1]}, 'store': {'frequency': 1, 'distances': [3]}, 'topology': {'frequency': 1, 'distances': [2]}, 'hierarchical': {'frequency': 1, 'distances': [1]}, 'grid': {'frequency': 1, 'distances': [2]}, 'enlarges': {'frequency': 1, 'distances': [3]}, 'search': {'frequency': 1, 'distances': [2]}, 'area': {'frequency': 1, 'distances': [1]}, 'distance': {'frequency': 1, 'distances': [1]}, 'based': {'frequency': 1, 'distances': [2]}}\n"
     ]
    }
   ],
   "source": [
    "print(result)"
   ]
  },
  {
   "cell_type": "code",
   "execution_count": 8,
   "metadata": {},
   "outputs": [
    {
     "data": {
      "image/svg+xml": [
       "<?xml version=\"1.0\" encoding=\"UTF-8\" standalone=\"no\"?>\n",
       "<!DOCTYPE svg PUBLIC \"-//W3C//DTD SVG 1.1//EN\"\n",
       " \"http://www.w3.org/Graphics/SVG/1.1/DTD/svg11.dtd\">\n",
       "<!-- Generated by graphviz version 2.40.1 (20161225.0304)\n",
       " -->\n",
       "<!-- Title: G Pages: 1 -->\n",
       "<svg width=\"598pt\" height=\"508pt\"\n",
       " viewBox=\"0.00 0.00 598.09 507.70\" xmlns=\"http://www.w3.org/2000/svg\" xmlns:xlink=\"http://www.w3.org/1999/xlink\">\n",
       "<g id=\"graph0\" class=\"graph\" transform=\"scale(1 1) rotate(0) translate(4 503.6988)\">\n",
       "<title>G</title>\n",
       "<polygon fill=\"#ffffff\" stroke=\"transparent\" points=\"-4,4 -4,-503.6988 594.0915,-503.6988 594.0915,4 -4,4\"/>\n",
       "<!-- 0 -->\n",
       "<g id=\"node1\" class=\"node\">\n",
       "<title>0</title>\n",
       "<ellipse fill=\"#c1cdcd\" stroke=\"#000000\" cx=\"295.369\" cy=\"-202.936\" rx=\"25\" ry=\"25\"/>\n",
       "<text text-anchor=\"middle\" x=\"295.369\" y=\"-200.436\" font-family=\"Times,serif\" font-size=\"10.00\" fill=\"#000000\">network</text>\n",
       "</g>\n",
       "<!-- &#39;1&#39; -->\n",
       "<g id=\"node2\" class=\"node\">\n",
       "<title>&#39;1&#39;</title>\n",
       "<ellipse fill=\"none\" stroke=\"#00bfff\" cx=\"565.0915\" cy=\"-252.7664\" rx=\"25\" ry=\"25\"/>\n",
       "<text text-anchor=\"middle\" x=\"565.0915\" y=\"-250.2664\" font-family=\"Times,serif\" font-size=\"10.00\" fill=\"#000000\">moving</text>\n",
       "</g>\n",
       "<!-- 0&#45;&#45;&#39;1&#39; -->\n",
       "<g id=\"edge1\" class=\"edge\">\n",
       "<title>0&#45;&#45;&#39;1&#39;</title>\n",
       "<path fill=\"none\" stroke=\"#000000\" d=\"M320.2604,-207.5346C371.6436,-217.0275 488.9286,-238.6956 540.2603,-248.1789\"/>\n",
       "<text text-anchor=\"middle\" x=\"421.2604\" y=\"-231.6568\" font-family=\"Times,serif\" font-size=\"14.00\" fill=\"#000000\">3.0</text>\n",
       "</g>\n",
       "<!-- &#39;2&#39; -->\n",
       "<g id=\"node3\" class=\"node\">\n",
       "<title>&#39;2&#39;</title>\n",
       "<ellipse fill=\"none\" stroke=\"#00bfff\" cx=\"185.3771\" cy=\"-61.0728\" rx=\"25\" ry=\"25\"/>\n",
       "<text text-anchor=\"middle\" x=\"185.3771\" y=\"-58.5728\" font-family=\"Times,serif\" font-size=\"10.00\" fill=\"#000000\">object</text>\n",
       "</g>\n",
       "<!-- 0&#45;&#45;&#39;2&#39; -->\n",
       "<g id=\"edge2\" class=\"edge\">\n",
       "<title>0&#45;&#45;&#39;2&#39;</title>\n",
       "<path fill=\"none\" stroke=\"#000000\" d=\"M279.8431,-182.9114C258.8801,-155.8741 221.7462,-107.9803 200.824,-80.9956\"/>\n",
       "<text text-anchor=\"middle\" x=\"231.3335\" y=\"-135.7535\" font-family=\"Times,serif\" font-size=\"14.00\" fill=\"#000000\">2.0</text>\n",
       "</g>\n",
       "<!-- &#39;3&#39; -->\n",
       "<g id=\"node4\" class=\"node\">\n",
       "<title>&#39;3&#39;</title>\n",
       "<ellipse fill=\"none\" stroke=\"#00bfff\" stroke-width=\"2\" cx=\"301.8175\" cy=\"-272.928\" rx=\"25\" ry=\"25\"/>\n",
       "<text text-anchor=\"middle\" x=\"301.8175\" y=\"-270.428\" font-family=\"Times,serif\" font-size=\"10.00\" fill=\"#000000\">road</text>\n",
       "</g>\n",
       "<!-- 0&#45;&#45;&#39;3&#39; -->\n",
       "<g id=\"edge3\" class=\"edge\">\n",
       "<title>0&#45;&#45;&#39;3&#39;</title>\n",
       "<path fill=\"none\" stroke=\"#000000\" d=\"M297.6971,-228.2047C298.2887,-234.6265 298.9241,-241.5229 299.5145,-247.931\"/>\n",
       "<text text-anchor=\"middle\" x=\"289.6058\" y=\"-226.8679\" font-family=\"Times,serif\" font-size=\"14.00\" fill=\"#000000\">1.0</text>\n",
       "</g>\n",
       "<!-- &#39;4&#39; -->\n",
       "<g id=\"node5\" class=\"node\">\n",
       "<title>&#39;4&#39;</title>\n",
       "<ellipse fill=\"none\" stroke=\"#00bfff\" cx=\"249.9736\" cy=\"-474.6988\" rx=\"25\" ry=\"25\"/>\n",
       "<text text-anchor=\"middle\" x=\"249.9736\" y=\"-472.1988\" font-family=\"Times,serif\" font-size=\"10.00\" fill=\"#000000\">store</text>\n",
       "</g>\n",
       "<!-- 0&#45;&#45;&#39;4&#39; -->\n",
       "<g id=\"edge4\" class=\"edge\">\n",
       "<title>0&#45;&#45;&#39;4&#39;</title>\n",
       "<path fill=\"none\" stroke=\"#000000\" d=\"M291.1797,-228.0157C282.5317,-279.7876 262.7922,-397.9597 254.1528,-449.6798\"/>\n",
       "<text text-anchor=\"middle\" x=\"263.6663\" y=\"-342.6477\" font-family=\"Times,serif\" font-size=\"14.00\" fill=\"#000000\">3.0</text>\n",
       "</g>\n",
       "<!-- &#39;5&#39; -->\n",
       "<g id=\"node6\" class=\"node\">\n",
       "<title>&#39;5&#39;</title>\n",
       "<ellipse fill=\"none\" stroke=\"#00bfff\" cx=\"154.3759\" cy=\"-310.7037\" rx=\"25\" ry=\"25\"/>\n",
       "<text text-anchor=\"middle\" x=\"154.3759\" y=\"-308.2037\" font-family=\"Times,serif\" font-size=\"10.00\" fill=\"#000000\">topology</text>\n",
       "</g>\n",
       "<!-- 0&#45;&#45;&#39;5&#39; -->\n",
       "<g id=\"edge5\" class=\"edge\">\n",
       "<title>0&#45;&#45;&#39;5&#39;</title>\n",
       "<path fill=\"none\" stroke=\"#000000\" d=\"M275.4672,-218.1479C248.7476,-238.571 201.5329,-274.6594 174.6331,-295.2202\"/>\n",
       "<text text-anchor=\"middle\" x=\"216.0501\" y=\"-260.4841\" font-family=\"Times,serif\" font-size=\"14.00\" fill=\"#000000\">2.0</text>\n",
       "</g>\n",
       "<!-- &#39;6&#39; -->\n",
       "<g id=\"node7\" class=\"node\">\n",
       "<title>&#39;6&#39;</title>\n",
       "<ellipse fill=\"none\" stroke=\"#00bfff\" cx=\"277.7055\" cy=\"-138.1173\" rx=\"25\" ry=\"25\"/>\n",
       "<text text-anchor=\"middle\" x=\"277.7055\" y=\"-135.6173\" font-family=\"Times,serif\" font-size=\"10.00\" fill=\"#000000\">hierarchical</text>\n",
       "</g>\n",
       "<!-- 0&#45;&#45;&#39;6&#39; -->\n",
       "<g id=\"edge6\" class=\"edge\">\n",
       "<title>0&#45;&#45;&#39;6&#39;</title>\n",
       "<path fill=\"none\" stroke=\"#000000\" d=\"M288.7918,-178.7999C287.3401,-173.4728 285.8014,-167.8261 284.3472,-162.4897\"/>\n",
       "<text text-anchor=\"middle\" x=\"277.5695\" y=\"-174.4448\" font-family=\"Times,serif\" font-size=\"14.00\" fill=\"#000000\">1.0</text>\n",
       "</g>\n",
       "<!-- &#39;7&#39; -->\n",
       "<g id=\"node8\" class=\"node\">\n",
       "<title>&#39;7&#39;</title>\n",
       "<ellipse fill=\"none\" stroke=\"#00bfff\" cx=\"444.9863\" cy=\"-106.9201\" rx=\"25\" ry=\"25\"/>\n",
       "<text text-anchor=\"middle\" x=\"444.9863\" y=\"-104.4201\" font-family=\"Times,serif\" font-size=\"10.00\" fill=\"#000000\">grid</text>\n",
       "</g>\n",
       "<!-- 0&#45;&#45;&#39;7&#39; -->\n",
       "<g id=\"edge7\" class=\"edge\">\n",
       "<title>0&#45;&#45;&#39;7&#39;</title>\n",
       "<path fill=\"none\" stroke=\"#000000\" d=\"M316.4882,-189.3829C344.8421,-171.187 394.9448,-139.0339 423.4901,-120.7151\"/>\n",
       "<text text-anchor=\"middle\" x=\"360.9891\" y=\"-158.849\" font-family=\"Times,serif\" font-size=\"14.00\" fill=\"#000000\">2.0</text>\n",
       "</g>\n",
       "<!-- &#39;8&#39; -->\n",
       "<g id=\"node9\" class=\"node\">\n",
       "<title>&#39;8&#39;</title>\n",
       "<ellipse fill=\"none\" stroke=\"#00bfff\" cx=\"25\" cy=\"-153.3819\" rx=\"25\" ry=\"25\"/>\n",
       "<text text-anchor=\"middle\" x=\"25\" y=\"-150.8819\" font-family=\"Times,serif\" font-size=\"10.00\" fill=\"#000000\">enlarges</text>\n",
       "</g>\n",
       "<!-- 0&#45;&#45;&#39;8&#39; -->\n",
       "<g id=\"edge8\" class=\"edge\">\n",
       "<title>0&#45;&#45;&#39;8&#39;</title>\n",
       "<path fill=\"none\" stroke=\"#000000\" d=\"M270.418,-198.3629C218.9116,-188.9227 101.3455,-167.3748 49.8907,-157.944\"/>\n",
       "<text text-anchor=\"middle\" x=\"151.1543\" y=\"-181.9534\" font-family=\"Times,serif\" font-size=\"14.00\" fill=\"#000000\">3.0</text>\n",
       "</g>\n",
       "<!-- &#39;9&#39; -->\n",
       "<g id=\"node10\" class=\"node\">\n",
       "<title>&#39;9&#39;</title>\n",
       "<ellipse fill=\"none\" stroke=\"#00bfff\" cx=\"333.4822\" cy=\"-25\" rx=\"25\" ry=\"25\"/>\n",
       "<text text-anchor=\"middle\" x=\"333.4822\" y=\"-22.5\" font-family=\"Times,serif\" font-size=\"10.00\" fill=\"#000000\">search</text>\n",
       "</g>\n",
       "<!-- 0&#45;&#45;&#39;9&#39; -->\n",
       "<g id=\"edge9\" class=\"edge\">\n",
       "<title>0&#45;&#45;&#39;9&#39;</title>\n",
       "<path fill=\"none\" stroke=\"#000000\" d=\"M300.6685,-178.1948C307.9501,-144.1996 320.9698,-83.4155 328.2278,-49.5311\"/>\n",
       "<text text-anchor=\"middle\" x=\"305.4481\" y=\"-102.6629\" font-family=\"Times,serif\" font-size=\"14.00\" fill=\"#000000\">2.0</text>\n",
       "</g>\n",
       "<!-- &#39;10&#39; -->\n",
       "<g id=\"node11\" class=\"node\">\n",
       "<title>&#39;10&#39;</title>\n",
       "<ellipse fill=\"none\" stroke=\"#00bfff\" cx=\"364.3495\" cy=\"-198.5727\" rx=\"25\" ry=\"25\"/>\n",
       "<text text-anchor=\"middle\" x=\"364.3495\" y=\"-196.0727\" font-family=\"Times,serif\" font-size=\"10.00\" fill=\"#000000\">area</text>\n",
       "</g>\n",
       "<!-- 0&#45;&#45;&#39;10&#39; -->\n",
       "<g id=\"edge10\" class=\"edge\">\n",
       "<title>0&#45;&#45;&#39;10&#39;</title>\n",
       "<path fill=\"none\" stroke=\"#000000\" d=\"M320.6631,-201.3361C326.6615,-200.9566 333.0602,-200.5519 339.0585,-200.1725\"/>\n",
       "<text text-anchor=\"middle\" x=\"329.8608\" y=\"-189.5543\" font-family=\"Times,serif\" font-size=\"14.00\" fill=\"#000000\">1.0</text>\n",
       "</g>\n",
       "<!-- &#39;11&#39; -->\n",
       "<g id=\"node12\" class=\"node\">\n",
       "<title>&#39;11&#39;</title>\n",
       "<ellipse fill=\"none\" stroke=\"#00bfff\" cx=\"225.7402\" cy=\"-215.8253\" rx=\"25\" ry=\"25\"/>\n",
       "<text text-anchor=\"middle\" x=\"225.7402\" y=\"-213.3253\" font-family=\"Times,serif\" font-size=\"10.00\" fill=\"#000000\">distance</text>\n",
       "</g>\n",
       "<!-- 0&#45;&#45;&#39;11&#39; -->\n",
       "<g id=\"edge11\" class=\"edge\">\n",
       "<title>0&#45;&#45;&#39;11&#39;</title>\n",
       "<path fill=\"none\" stroke=\"#000000\" d=\"M270.6244,-207.5166C264.0576,-208.7322 256.9677,-210.0447 250.4051,-211.2595\"/>\n",
       "<text text-anchor=\"middle\" x=\"260.5148\" y=\"-198.188\" font-family=\"Times,serif\" font-size=\"14.00\" fill=\"#000000\">1.0</text>\n",
       "</g>\n",
       "<!-- &#39;12&#39; -->\n",
       "<g id=\"node13\" class=\"node\">\n",
       "<title>&#39;12&#39;</title>\n",
       "<ellipse fill=\"none\" stroke=\"#00bfff\" cx=\"398.466\" cy=\"-345.3343\" rx=\"25\" ry=\"25\"/>\n",
       "<text text-anchor=\"middle\" x=\"398.466\" y=\"-342.8343\" font-family=\"Times,serif\" font-size=\"10.00\" fill=\"#000000\">based</text>\n",
       "</g>\n",
       "<!-- 0&#45;&#45;&#39;12&#39; -->\n",
       "<g id=\"edge12\" class=\"edge\">\n",
       "<title>0&#45;&#45;&#39;12&#39;</title>\n",
       "<path fill=\"none\" stroke=\"#000000\" d=\"M310.1403,-223.3382C329.739,-250.4081 364.1372,-297.9191 383.7221,-324.9699\"/>\n",
       "<text text-anchor=\"middle\" x=\"337.9312\" y=\"-277.9541\" font-family=\"Times,serif\" font-size=\"14.00\" fill=\"#000000\">2.0</text>\n",
       "</g>\n",
       "</g>\n",
       "</svg>\n"
      ],
      "text/plain": [
       "<graphviz.dot.Graph at 0x1a20a92f10>"
      ]
     },
     "execution_count": 8,
     "metadata": {},
     "output_type": "execute_result"
    }
   ],
   "source": [
    "result.plotGraph()"
   ]
  },
  {
   "cell_type": "code",
   "execution_count": null,
   "metadata": {},
   "outputs": [],
   "source": []
  }
 ],
 "metadata": {
  "kernelspec": {
   "display_name": "Python 3",
   "language": "python",
   "name": "python3"
  },
  "language_info": {
   "codemirror_mode": {
    "name": "ipython",
    "version": 3
   },
   "file_extension": ".py",
   "mimetype": "text/x-python",
   "name": "python",
   "nbconvert_exporter": "python",
   "pygments_lexer": "ipython3",
   "version": "3.8.5"
  }
 },
 "nbformat": 4,
 "nbformat_minor": 4
}
