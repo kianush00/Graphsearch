{
 "cells": [
  {
   "cell_type": "markdown",
   "metadata": {},
   "source": [
    "# Testing GraphSearch Distance Concepts"
   ]
  },
  {
   "cell_type": "markdown",
   "metadata": {},
   "source": [
    "## Load Libraries"
   ]
  },
  {
   "cell_type": "markdown",
   "metadata": {},
   "source": [
    "import srex"
   ]
  },
  {
   "cell_type": "markdown",
   "metadata": {},
   "source": [
    "## Initialize some objects / variables"
   ]
  },
  {
   "cell_type": "markdown",
   "metadata": {},
   "source": [
    "st = srex.PorterStemmer()"
   ]
  },
  {
   "cell_type": "markdown",
   "metadata": {},
   "source": [
    "#Download stopword\n",
    "import nltk\n",
    "nltk.download('stopwords') \n",
    "nltk.download('punkt') # Tokenizers\n",
    "nltk.download('wordnet') # Wordnet"
   ]
  },
  {
   "cell_type": "markdown",
   "metadata": {},
   "source": [
    "stop_words_list = srex.stopwords.words('english') #a small one\n",
    "newStopWords = srex.get_stop_words('en') # a big one\n",
    "stop_words_list.extend(newStopWords) # all together"
   ]
  },
  {
   "cell_type": "markdown",
   "metadata": {},
   "source": [
    "# Calculo de grafos a partir de los términos en un documento"
   ]
  },
  {
   "cell_type": "markdown",
   "metadata": {},
   "source": [
    "La idea es calcular una vecindad de los términos de búsqueda, dentro de un documento. Es decir, qué palabras se encuentran cerca de los términos de busqueda en un documento determinado."
   ]
  },
  {
   "cell_type": "markdown",
   "metadata": {},
   "source": [
    "## Definición de los documentos a analizar"
   ]
  },
  {
   "cell_type": "markdown",
   "metadata": {},
   "source": [
    "# Articulo de revista científica IEEE Explore\n",
    "#doc = srex.get_ieee_explore_article('article_number', '8316016')\n",
    "\n",
    "# Ranking de documentos de IEEE Explore sin ponderación de documentos\n",
    "doc = srex.get_ieee_explore_ranking(\"cyber security\", 5)"
   ]
  },
  {
   "cell_type": "markdown",
   "metadata": {},
   "source": [
    "## Segmentamos el documento en un arreglo de párrafos, segun su puntuación.\n",
    "El grafo en cuestión debiera representar los términos de un concepto presente en los documentos analizados. En este caso existe un problema cuando se quiere generar un grafo con un documento compuesto por varios párrafos. En general, palabras cercanas en los extremos de dos parrafos no siempre comparten la misma idea o concepto, a pesar de ser terminos vecinos. Esto generaría una incosistencia en el grafo generado.\n",
    "Como solución se propone considerar documentos mas pequeños (unitarios) que encierren un sólo concepto o idea. Para ello, definiremos el párrafo como documento unitario, desde los cuales se pueden generar un grafo. Los grafos generados se integran al final del análisis para producir el grafo final correspondiente al documento completo. \n",
    "En la integración se pueden tambien considerar parrafos que comprendan mas de un documento, como por ejemplo un ranking de documentos.\n",
    "\n",
    "Los párrafos son generados entonces a través de los signos de puntuación: punto seguidos y punto aparte.\n",
    "\n",
    "En los calculos siguientes el documento inicial será dividido en sus párrafos generando documentos mas pequeños, que serán analizados como tales."
   ]
  },
  {
   "cell_type": "markdown",
   "metadata": {},
   "source": [
    "parragraphs_list = list(map(lambda x: x['abstract'], doc))"
   ]
  },
  {
   "cell_type": "markdown",
   "metadata": {},
   "source": [
    "## Aplicamos algunas funciones de procesamiento de texto \n",
    "Se utiliza el método **text_transformations()**, que contiene funciones de stop word, stemming, lemma, etc."
   ]
  },
  {
   "cell_type": "markdown",
   "metadata": {},
   "source": [
    "processed_parragraphs_list = list(map(lambda x: srex.text_transformations(x, stop_words_list, lema=True, stem=False), parragraphs_list))"
   ]
  },
  {
   "cell_type": "markdown",
   "metadata": {},
   "source": [
    "#### Print the modified documents (parragraphs)"
   ]
  },
  {
   "cell_type": "markdown",
   "metadata": {},
   "source": [
    "for index, doc in enumerate(processed_parragraphs_list):\n",
    "    print('parragraph',index, ':', doc)"
   ]
  },
  {
   "cell_type": "markdown",
   "metadata": {},
   "source": [
    "## Calculamos la matriz de posiciones\n",
    "Esta matriz corresponde a un arreglo de diccionarios, en donde cada elemento del arreglo corresponde a un parrafo del documento."
   ]
  },
  {
   "cell_type": "markdown",
   "metadata": {},
   "source": [
    "doc_pos_matrix = srex.get_documents_positions_matrix(processed_parragraphs_list)"
   ]
  },
  {
   "cell_type": "markdown",
   "metadata": {},
   "source": [
    "## Calculamos una matriz con la **vecindad** para un término especifico\n",
    "La matriz de vecindad define la distancia entre un término de referencia (busqueda) y los demás términos del documento "
   ]
  },
  {
   "cell_type": "code",
   "execution_count": 37,
   "metadata": {},
   "outputs": [],
   "source": [
    "# Get the vecinity matrix using the following parameters:\n",
    "reference_term         = 'security' "
   ]
  },
  {
   "cell_type": "code",
   "execution_count": 38,
   "metadata": {},
   "outputs": [],
   "source": [
    "# Para calcular la vecindad a un termino de búsqueda definimos una distancia límite de cálculo (limit_distance). Por ejemplo, si limit_distance=4, el cálculo de la vecindad considerará sólo hasta 4 terminos de distancia desde la posición del término de búsqueda. Con esto se evita que se realicen comparaciones cruzadas entre terminos de búsqueda que se encuentran distribuidos a lo largo del documento.\n",
    "limit_distance         = 4 "
   ]
  },
  {
   "cell_type": "code",
   "execution_count": 39,
   "metadata": {},
   "outputs": [],
   "source": [
    "# Sumarize es define la función para procesar (compilar) las distancias de los terminos de la vecinadad. Existen 3 posibles valores: 'none' no aplica ninguna función de sumarización, 'mean' calcula la media de las distancias en la vecinadad, 'median' calcula la mediana de los terminos en la vecinadad.\n",
    "sumarize               = 'none' "
   ]
  },
  {
   "cell_type": "code",
   "execution_count": 40,
   "metadata": {},
   "outputs": [],
   "source": [
    "# Define si el termino de referencia se compara consigo mismo para el cálculo de la vecindad.\n",
    "include_reference_term = False"
   ]
  },
  {
   "cell_type": "markdown",
   "metadata": {},
   "source": [
    "vecinity_matrix = srex.get_vecinity_matrix(doc_pos_matrix, reference_term, limit_distance, sumarize, include_reference_term)"
   ]
  },
  {
   "cell_type": "markdown",
   "metadata": {},
   "source": [
    "## Se reduce la matriz anterior a un diccionario con las distancias de la vecindad\n",
    "Este método procesa las distancia al termino de búsqueda en cada parrafo y genera un diccionario que contiene todas las distancias al termino de referencia, asociadas al documento total.\n",
    "Por ejemplo: supongamos que el documento tiene 2 párrafos. En el primer parrafo 'termA' esta a distancia 2 del término dereferencia, es decir, 'termA':[2]. En el segundo parrafo 'termA' esta a distancia 3 del término dereferencia, es decir, 'termA':[3]. Luego el resultado en el diccionario sería: 'termA':[2,3]"
   ]
  },
  {
   "cell_type": "markdown",
   "metadata": {},
   "source": [
    "unique_vecinity_dict = srex.get_unique_vecinity_dict(vecinity_matrix)"
   ]
  },
  {
   "cell_type": "markdown",
   "metadata": {},
   "source": [
    "## Calculamos un diccionario con los términos más frecuentes de la vecindad\n",
    "Se calcula un nuevo diccionario que contine la frequencia de los vecinos más cercanos al términos de búsqueda."
   ]
  },
  {
   "cell_type": "markdown",
   "metadata": {},
   "source": [
    "terms_freq_dict = {k: len(v) for k, v in unique_vecinity_dict.items()}\n",
    "terms_freq_dict"
   ]
  },
  {
   "cell_type": "markdown",
   "metadata": {},
   "source": [
    "## Ordena los términos más frecuentes de la vecindad"
   ]
  },
  {
   "cell_type": "markdown",
   "metadata": {},
   "source": [
    "import operator\n",
    "sorted_terms_freq_dict = sorted(terms_freq_dict.items(), key=operator.itemgetter(1), reverse=True)"
   ]
  },
  {
   "cell_type": "markdown",
   "metadata": {},
   "source": [
    "## Obtiene los top-N terminos más frecuentes"
   ]
  },
  {
   "cell_type": "markdown",
   "metadata": {},
   "source": [
    "N=10\n",
    "first_sorted_terms_freq_dict = {k: v for k, v in list(sorted_terms_freq_dict)[:N]}\n",
    "first_sorted_terms_freq_dict.keys()"
   ]
  },
  {
   "cell_type": "markdown",
   "metadata": {},
   "source": [
    "## Calcula las distancia mediana de los vecinos más frecuentes"
   ]
  },
  {
   "cell_type": "markdown",
   "metadata": {},
   "source": [
    "Consideraremos las distancias mas frecuentes de cada término. Por ejemplo: el término 'european' se presenta cuatro veces a una distancia menor a 5, siendo el valor \"1\" la mediana de todas las distancias de este término."
   ]
  },
  {
   "cell_type": "markdown",
   "metadata": {},
   "source": [
    "from collections import Counter \n",
    "import numpy as np\n",
    "def most_frequent_distance(List): \n",
    "    occurence_count = Counter(List) \n",
    "    return occurence_count.most_common(1)[0][0] \n",
    "\n",
    "most_freq_distance_dict = {k: {'frequency':terms_freq_dict[k], 'distance':np.median(unique_vecinity_dict[k])} for k in first_sorted_terms_freq_dict.keys()}\n",
    "most_freq_distance_dict"
   ]
  },
  {
   "cell_type": "markdown",
   "metadata": {},
   "source": [
    "## Genera el grafo para los términos vecinos más cercanos a la query"
   ]
  },
  {
   "cell_type": "markdown",
   "metadata": {},
   "source": [
    "graph = srex.getGraphViz(reference_term, most_freq_distance_dict, node_size='0.7')\n",
    "graph"
   ]
  },
  {
   "cell_type": "markdown",
   "metadata": {},
   "source": [
    "# 2. ¿Cómo operar sobre Grafos?"
   ]
  },
  {
   "cell_type": "markdown",
   "metadata": {},
   "source": [
    "En las operaciones sobre grafos hay que tomar en cuenta tambien que los grafos podrían tener ponderaciones dictintas. Es decir, podrían haber peraciones como:\n",
    "\n",
    "- 0.3\\*G1 + 0.7\\*G2 : Calculo del promedio ponderado entre G1 y G2\n",
    "\n",
    "Dado que cada nodo tiene dos componentes (distancia y frecuancia) podría usarse el factor de ponderación sobre estos dos valores. \n"
   ]
  },
  {
   "cell_type": "markdown",
   "metadata": {},
   "source": [
    "### Union"
   ]
  },
  {
   "cell_type": "markdown",
   "metadata": {},
   "source": [
    "1. Para unir dos grafos asociados a un documento hay que considerar \n",
    " 1. Que hacer con los terminos iguales\n",
    " 2. Que hacer con los terminos distintos\n",
    " 3. Etc.\n",
    " "
   ]
  },
  {
   "cell_type": "markdown",
   "metadata": {},
   "source": [
    "2. Otra alternativas es unir a nivel de documentos y luego generar los grafos. En general es lo mismo que se hace para formar documentos a partir de los parrafos. "
   ]
  },
  {
   "cell_type": "markdown",
   "metadata": {},
   "source": [
    "3) En el caso de documentos con distinta ponderación (documentos de un ranking), se podrían resaltar la importancia de los primeros documentos aumentando la frecuencia de sus nodos. Lo que equivale a multiplicar el contenido de los documentos más relevantes del ranking para generar el grafo del ranking total.\n",
    "Se probó esta alternativa con el método **get_ieee_explore_ranking(q, nr_documents, weighted)**, en donde el parametro weighted puede tener tres valores: none, lineal, inverted.\n",
    "- **none:** general el documento ranking con los abstracts sin considerar los pesos de la posición del documento en el ranking.\n",
    "- **lineal:** decrementa linealmente la relevancia del documento segun su posición en el ranking, multiplicando el contenido del documento en base a : \n",
    "*document_content * (nro_docs_in_ranking - doc_ranking_position)*\n",
    "- **inverse:** decrementa linealmente la relevancia del documento segun su posición en el ranking, multiplicando el contenido del documento en base a :\n",
    "*document_content * math.ceil(nro_docs_in_ranking/(doc_ranking_position))*\n",
    "\n",
    "**NOTA:** El uso de lineal/inverse no presenta muchas diferencias en la estructura del grafo final.\n",
    "\n",
    "<img src=\"images/functions.png\">"
   ]
  },
  {
   "cell_type": "markdown",
   "metadata": {},
   "source": [
    "### Similitud "
   ]
  },
  {
   "cell_type": "markdown",
   "metadata": {},
   "source": [
    "Tenemos que definir un indicador de similitud entre grafos. En principio se puede:\n",
    "1. Comparar las distancias entre aristas similares\n",
    "2. Comparar el tamaño de los nodos"
   ]
  },
  {
   "cell_type": "markdown",
   "metadata": {},
   "source": [
    "## Uso en Mapas Sistemáticos"
   ]
  },
  {
   "cell_type": "markdown",
   "metadata": {},
   "source": [
    "A continuación se presenta un esquema del Proceso del Mapeo Sistemático.\n",
    "SREX podría ser una herramienta útil para este proceso."
   ]
  },
  {
   "cell_type": "markdown",
   "metadata": {},
   "source": [
    "<img src=\"images/mapa_sistematico.png\">"
   ]
  },
  {
   "cell_type": "code",
   "execution_count": null,
   "metadata": {},
   "outputs": [],
   "source": []
  }
 ],
 "metadata": {
  "kernelspec": {
   "display_name": "Python 3",
   "language": "python",
   "name": "python3"
  },
  "language_info": {
   "codemirror_mode": {
    "name": "ipython",
    "version": 3
   },
   "file_extension": ".py",
   "mimetype": "text/x-python",
   "name": "python",
   "nbconvert_exporter": "python",
   "pygments_lexer": "ipython3",
   "version": "3.8.5"
  }
 },
 "nbformat": 4,
 "nbformat_minor": 4
}
