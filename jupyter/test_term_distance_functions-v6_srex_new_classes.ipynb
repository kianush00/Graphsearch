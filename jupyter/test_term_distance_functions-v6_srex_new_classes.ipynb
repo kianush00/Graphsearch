{
 "cells": [
  {
   "cell_type": "markdown",
   "metadata": {},
   "source": [
    "# Testing GraphSearch Distance Concepts"
   ]
  },
  {
   "cell_type": "markdown",
   "metadata": {},
   "source": [
    "## Load Libraries"
   ]
  },
  {
   "cell_type": "code",
   "execution_count": 1,
   "metadata": {},
   "outputs": [
    {
     "name": "stderr",
     "output_type": "stream",
     "text": [
      "[nltk_data] Downloading package stopwords to\n",
      "[nltk_data]     C:\\Users\\kianu\\AppData\\Roaming\\nltk_data...\n",
      "[nltk_data]   Package stopwords is already up-to-date!\n",
      "[nltk_data] Downloading package punkt to\n",
      "[nltk_data]     C:\\Users\\kianu\\AppData\\Roaming\\nltk_data...\n",
      "[nltk_data]   Package punkt is already up-to-date!\n",
      "[nltk_data] Downloading package wordnet to\n",
      "[nltk_data]     C:\\Users\\kianu\\AppData\\Roaming\\nltk_data...\n",
      "[nltk_data]   Package wordnet is already up-to-date!\n"
     ]
    },
    {
     "data": {
      "text/plain": [
       "True"
      ]
     },
     "execution_count": 1,
     "metadata": {},
     "output_type": "execute_result"
    }
   ],
   "source": [
    "import srex_new_classes\n",
    "from stop_words import get_stop_words\n",
    "import nltk\n",
    "from nltk.corpus import stopwords\n",
    "\n",
    "#Download stopword\n",
    "nltk.download('stopwords') \n",
    "nltk.download('punkt') # Tokenizers\n",
    "nltk.download('wordnet') # Wordnet"
   ]
  },
  {
   "cell_type": "markdown",
   "metadata": {},
   "source": [
    "## Initialize some variables"
   ]
  },
  {
   "cell_type": "code",
   "execution_count": 2,
   "metadata": {},
   "outputs": [],
   "source": [
    "# Stop Words\n",
    "stop_words_list = stopwords.words('english') #a small one\n",
    "newStopWords = get_stop_words('en') # a big one\n",
    "stop_words_list.extend(newStopWords) # all together"
   ]
  },
  {
   "cell_type": "code",
   "execution_count": 3,
   "metadata": {},
   "outputs": [],
   "source": [
    "query                    = 'internet of things'\n",
    "reference_terms          = ['iot', 'internet of things']\n",
    "nr_search_results        = 10\n",
    "\n",
    "ranking_weight_type      = 'linear' # it can be: 'none', 'linear' or 'inverse'\n",
    "limit_distance           = 4 \n",
    "sumarize                 = 'none' \n",
    "include_reference_term   = True\n",
    "nr_of_graph_terms        = 5\n",
    "format_adjacent_refterms = True\n",
    "lema = True\n",
    "stem = False\n"
   ]
  },
  {
   "cell_type": "code",
   "execution_count": 4,
   "metadata": {},
   "outputs": [],
   "source": [
    "ranking = srex_new_classes.Ranking(query_text=query, reference_terms=reference_terms, nr_search_results=nr_search_results, ranking_weight_type=ranking_weight_type,\n",
    "                                   stop_words=stop_words_list, lema=lema, stem=stem)"
   ]
  },
  {
   "cell_type": "code",
   "execution_count": 14,
   "metadata": {},
   "outputs": [
    {
     "name": "stdout",
     "output_type": "stream",
     "text": [
      "Internet of Things Security - Multilayered Method For End to End Data Communications Over Cellular Networks\n",
      "AssIUT IOT: A Remotely Accessible Testbed for Internet of Things\n",
      "Tornado: Enabling Blockchain in Heterogeneous Internet of Things Through a Space-Structured Approach\n",
      "Internet of Things Environment Automation: A Smart Lab Practical Approach\n",
      "Edge-based Anomaly Data Detection Approach for Wireless Sensor Network-based Internet of Things\n",
      "Intelligent Internet of things service based on artificial intelligence technology\n",
      "Making Internet of Things Real\n",
      "Opportunistic cyberphysical services: A novel paradigm for the future Internet of Things\n",
      "Practical Application of Machine Learning based Online Intrusion Detection to Internet of Things Networks\n",
      "A framework for Security and protection in Internet of things (IoT) devices\n"
     ]
    }
   ],
   "source": [
    "for d in ranking.get_ranking():\n",
    "    print(d.get_title())"
   ]
  }
 ],
 "metadata": {
  "kernelspec": {
   "display_name": "Python 3",
   "language": "python",
   "name": "python3"
  },
  "language_info": {
   "codemirror_mode": {
    "name": "ipython",
    "version": 3
   },
   "file_extension": ".py",
   "mimetype": "text/x-python",
   "name": "python",
   "nbconvert_exporter": "python",
   "pygments_lexer": "ipython3",
   "version": "3.12.2"
  }
 },
 "nbformat": 4,
 "nbformat_minor": 4
}
