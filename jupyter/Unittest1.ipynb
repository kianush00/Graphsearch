{
 "cells": [
  {
   "cell_type": "code",
   "execution_count": 1,
   "metadata": {},
   "outputs": [
    {
     "name": "stderr",
     "output_type": "stream",
     "text": [
      "test_calculate_termpositions_distances (__main__.TestSREX) ... ok\n",
      "test_merge_dictionaries (__main__.TestSREX) ... ok\n",
      "test_merge_graph_dictionaries (__main__.TestSREX) ... ok\n",
      "test_term_positions_dict (__main__.TestSREX) ... ok\n",
      "\n",
      "----------------------------------------------------------------------\n",
      "Ran 4 tests in 0.002s\n",
      "\n",
      "OK\n"
     ]
    },
    {
     "data": {
      "text/plain": [
       "<unittest.main.TestProgram at 0x111b5b4d0>"
      ]
     },
     "execution_count": 1,
     "metadata": {},
     "output_type": "execute_result"
    }
   ],
   "source": [
    "import unittest\n",
    "import srex\n",
    "\n",
    "class TestSREX(unittest.TestCase):\n",
    "    \n",
    "    def test_merge_graph_dictionaries(self):\n",
    "        d1 = {'x': {'frequency':2, 'distances':[3,4]}, 'y': {'frequency':3, 'distances':[1,3,5]}}\n",
    "        d2 = {'x': {'frequency':2, 'distances':[1,2]}, 'y': {'frequency':4, 'distances':[11,23,52,3]}, 'z': {'frequency':4, 'distances':[11,23,52,3]}}\n",
    "        r = {'x': {'frequency': 4, 'distances': [1, 2, 3, 4]}, 'y': {'frequency': 7, 'distances': [11, 23, 52, 3, 1, 3, 5]}, 'z': {'frequency': 4, 'distances': [11, 23, 52, 3]}}\n",
    "        self.assertEqual(srex.merge_graph_dictionaries(d1, d2), r)\n",
    "        \n",
    "    def test_calculate_termpositions_distances(self):\n",
    "        tp1 = [0,2,4,6]\n",
    "        tp2 = [1,3,5,7]\n",
    "        limit_distance = 7\n",
    "        r = [1,3,5,7,1,1,3,5,3,1,1,3,5,3,1,1]        \n",
    "        limit_distance = 7\n",
    "        self.assertCountEqual(srex.calculate_term_positions_distances(tp1, tp2, limit_distance), r)\n",
    "        \n",
    "    def test_merge_dictionaries(self):\n",
    "        d1 = {'a':[1,2],'b':[3,4,5],'c':[6],'d':[3,4]}\n",
    "        d2 = {'b':[2,1],'c':[2,6],'e':[3,7],'f':[1,3]}\n",
    "        r = {'b': [2, 1, 3, 4, 5], 'c': [2, 6, 6], 'e': [3, 7], 'f': [1, 3], 'a': [1, 2], 'd': [3, 4]}\n",
    "        self.assertEqual(srex.merge_dictionaries(d1, d2), r)\n",
    "        \n",
    "    def test_term_positions_dict(self):\n",
    "        document = 'hierarchical SIMkNN driven dual index driven hierarchical network adopt hierarchical Rtree driven store adopt topology driven hierarchical road network adopt network hierarchical topology'\n",
    "        r = {'hierarchical': [0, 6, 9, 16, 21], 'SIMkNN': [1], 'driven': [2, 5, 11, 15], 'dual': [3], 'index': [4], 'network': [7, 18, 20], 'adopt': [8, 13, 19], 'Rtree': [10], 'store': [12], 'topology': [14, 22], 'road': [17]}\n",
    "        self.assertEqual(srex.get_term_positions_dict(document), r)\n",
    "\n",
    "unittest.main(argv=[''], verbosity=2, exit=False)"
   ]
  },
  {
   "cell_type": "code",
   "execution_count": null,
   "metadata": {},
   "outputs": [],
   "source": []
  }
 ],
 "metadata": {
  "kernelspec": {
   "display_name": "srex",
   "language": "python",
   "name": "srex"
  },
  "language_info": {
   "codemirror_mode": {
    "name": "ipython",
    "version": 3
   },
   "file_extension": ".py",
   "mimetype": "text/x-python",
   "name": "python",
   "nbconvert_exporter": "python",
   "pygments_lexer": "ipython3",
   "version": "3.8.5"
  }
 },
 "nbformat": 4,
 "nbformat_minor": 4
}
