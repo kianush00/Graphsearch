{
 "cells": [
  {
   "cell_type": "markdown",
   "metadata": {},
   "source": [
    "# Testing GraphSearch Distance Concepts"
   ]
  },
  {
   "cell_type": "markdown",
   "metadata": {},
   "source": [
    "## Load Libraries"
   ]
  },
  {
   "cell_type": "code",
   "execution_count": 1,
   "metadata": {},
   "outputs": [],
   "source": [
    "import srex\n",
    "import operator\n",
    "import nltk\n",
    "\n",
    "#Download stopword\n",
    "if(0):\n",
    "    nltk.download('stopwords') \n",
    "    nltk.download('punkt') # Tokenizers\n",
    "    nltk.download('wordnet') # Wordnet"
   ]
  },
  {
   "cell_type": "markdown",
   "metadata": {},
   "source": [
    "## Initialize some variables"
   ]
  },
  {
   "cell_type": "code",
   "execution_count": 2,
   "metadata": {},
   "outputs": [],
   "source": [
    "# Stemmer\n",
    "st = srex.PorterStemmer()"
   ]
  },
  {
   "cell_type": "code",
   "execution_count": 3,
   "metadata": {},
   "outputs": [],
   "source": [
    "# Stop Words\n",
    "stop_words_list = srex.stopwords.words('english') #a small one"
   ]
  },
  {
   "cell_type": "code",
   "execution_count": 4,
   "metadata": {},
   "outputs": [],
   "source": [
    "newStopWords = srex.get_stop_words('en') # a big one"
   ]
  },
  {
   "cell_type": "code",
   "execution_count": 5,
   "metadata": {},
   "outputs": [],
   "source": [
    "stop_words_list.extend(newStopWords) # all together"
   ]
  },
  {
   "cell_type": "code",
   "execution_count": 6,
   "metadata": {},
   "outputs": [],
   "source": [
    "query                  = 'internet of things'\n",
    "reference_term         = 'iot'\n",
    "nr_search_results      = 10\n",
    "\n",
    "ranking_weight_type    = 'none' # it can be: 'none', 'linear' or 'inverse'\n",
    "limit_distance         = 4 \n",
    "sumarize               = 'none' \n",
    "include_reference_term = False\n",
    "nr_of_graph_terms      = 5\n"
   ]
  },
  {
   "cell_type": "code",
   "execution_count": 7,
   "metadata": {},
   "outputs": [],
   "source": [
    "# Articulo de revista científica IEEE Explore\n",
    "#doc = srex.get_ieee_explore_article('article_number', '8316016')\n",
    "\n",
    "# Ranking de documentos de IEEE Explore CON ponderación de documentos\n",
    "results = srex.get_ieee_explore_ranking(query, nr_search_results)\n",
    "\n",
    "# Ranking de documentos de IEEE Explore SIN ponderación de documentos\n",
    "#results = srex.get_ieee_explore_ranking(\"search engine\", 10)"
   ]
  },
  {
   "cell_type": "code",
   "execution_count": 8,
   "metadata": {},
   "outputs": [],
   "source": [
    "doc_weighted = srex.get_ranking_as_string(results, ranking_weight_type)"
   ]
  },
  {
   "cell_type": "code",
   "execution_count": 9,
   "metadata": {},
   "outputs": [],
   "source": [
    "parragraphs_list = doc_weighted.split('.')"
   ]
  },
  {
   "cell_type": "markdown",
   "metadata": {},
   "source": [
    "## Text transformations\n",
    "\n",
    "Remove stopwords, punctuation, stemming, lematization"
   ]
  },
  {
   "cell_type": "code",
   "execution_count": 10,
   "metadata": {},
   "outputs": [],
   "source": [
    "processed_parragraphs_list = list(map(lambda x: srex.text_transformations(x, stop_words_list, lema=True, stem=False), parragraphs_list))"
   ]
  },
  {
   "cell_type": "markdown",
   "metadata": {},
   "source": [
    "## Calculate word positions"
   ]
  },
  {
   "cell_type": "code",
   "execution_count": 11,
   "metadata": {},
   "outputs": [],
   "source": [
    "doc_pos_matrix = srex.get_documents_positions_matrix(processed_parragraphs_list)"
   ]
  },
  {
   "cell_type": "markdown",
   "metadata": {},
   "source": [
    "## Calculate vecinity matrix"
   ]
  },
  {
   "cell_type": "code",
   "execution_count": 12,
   "metadata": {},
   "outputs": [],
   "source": [
    "vecinity_matrix = srex.get_vecinity_matrix(doc_pos_matrix, reference_term, limit_distance, sumarize, include_reference_term)"
   ]
  },
  {
   "cell_type": "code",
   "execution_count": 13,
   "metadata": {},
   "outputs": [],
   "source": [
    "unique_vecinity_dict = srex.get_unique_vecinity_dict(vecinity_matrix)"
   ]
  },
  {
   "cell_type": "code",
   "execution_count": 14,
   "metadata": {},
   "outputs": [],
   "source": [
    "terms_freq_dict = {k: len(v) for k, v in unique_vecinity_dict.items()}"
   ]
  },
  {
   "cell_type": "code",
   "execution_count": 23,
   "metadata": {},
   "outputs": [],
   "source": [
    "foo = srex.normalize_dictionary_values(terms_freq_dict, [1,20])"
   ]
  },
  {
   "cell_type": "code",
   "execution_count": 24,
   "metadata": {},
   "outputs": [
    {
     "data": {
      "text/plain": [
       "{'demonstration': 1.0,\n",
       " 'platform': 1.0,\n",
       " 'stem': 1.0,\n",
       " 'popularization': 1.0,\n",
       " 'education': 1.0,\n",
       " 'intelligence': 1.0,\n",
       " 'big': 1.0,\n",
       " 'data': 20.0,\n",
       " 'internet': 20.0,\n",
       " 'robotics': 1.0,\n",
       " 'mcu': 1.0,\n",
       " 'smart': 1.0,\n",
       " 'enlightens': 1.0,\n",
       " 'pas': 1.0,\n",
       " 'society': 1.0,\n",
       " 'application': 7.333333333333333,\n",
       " 'healthcare': 1.0,\n",
       " 'monitoring': 1.0,\n",
       " 'system': 7.333333333333333,\n",
       " 'jammer': 13.666666666666666,\n",
       " 'power': 7.333333333333333,\n",
       " 'enhance': 1.0,\n",
       " 'performance': 1.0,\n",
       " 'network': 20.0,\n",
       " 'reinforcement': 1.0,\n",
       " 'learning': 1.0,\n",
       " 'framework': 1.0,\n",
       " 'enables': 1.0,\n",
       " 'device': 20.0,\n",
       " 'optimal': 1.0,\n",
       " 'defense': 1.0,\n",
       " 'policy': 1.0,\n",
       " 'channel': 1.0,\n",
       " 'transmitting': 1.0,\n",
       " 'fake': 1.0,\n",
       " 'transmission': 1.0,\n",
       " 'undermine': 1.0,\n",
       " 'harvest': 1.0,\n",
       " 'proposed': 1.0,\n",
       " 'strategy': 1.0,\n",
       " 'defeat': 7.333333333333333,\n",
       " 'powerful': 1.0,\n",
       " 'reactive': 13.666666666666666,\n",
       " 'jamming': 1.0,\n",
       " 'attack': 1.0,\n",
       " 'art': 1.0,\n",
       " 'defeating': 1.0,\n",
       " 'centralized': 1.0,\n",
       " 'security': 7.333333333333333,\n",
       " 'connectivity': 1.0,\n",
       " 'play': 1.0,\n",
       " 'role': 1.0,\n",
       " 'insurability': 1.0,\n",
       " 'distributed': 1.0,\n",
       " 'strategic': 1.0,\n",
       " 'interaction': 1.0,\n",
       " 'apt': 1.0,\n",
       " 'attacker': 1.0,\n",
       " 'defender': 1.0,\n",
       " 'cyber': 13.666666666666666,\n",
       " 'insurance': 1.0,\n",
       " 'insurer': 1.0,\n",
       " 'systemic': 1.0,\n",
       " 'risk': 7.333333333333333,\n",
       " 'interconnected': 1.0,\n",
       " 'mechanism': 1.0,\n",
       " 'mitigate': 1.0,\n",
       " 'achieving': 1.0,\n",
       " 'perfect': 1.0,\n",
       " 'impossible': 1.0,\n",
       " 'highly': 1.0,\n",
       " 'vulnerable': 1.0,\n",
       " 'emerging': 1.0,\n",
       " 'advanced': 1.0,\n",
       " 'provide': 1.0,\n",
       " 'varied': 1.0,\n",
       " 'organization': 1.0,\n",
       " 'utilize': 1.0,\n",
       " 'stream': 1.0,\n",
       " 'development': 1.0,\n",
       " 'purpose': 1.0,\n",
       " 'formed': 1.0,\n",
       " 'layer': 1.0,\n",
       " 'built': 1.0}"
      ]
     },
     "execution_count": 24,
     "metadata": {},
     "output_type": "execute_result"
    }
   ],
   "source": [
    "foo"
   ]
  },
  {
   "cell_type": "code",
   "execution_count": 25,
   "metadata": {},
   "outputs": [],
   "source": [
    "sorted_terms_freq_dict = sorted(terms_freq_dict.items(), key=operator.itemgetter(1), reverse=True)"
   ]
  },
  {
   "cell_type": "code",
   "execution_count": 26,
   "metadata": {},
   "outputs": [
    {
     "data": {
      "text/plain": [
       "[('data', 20.0),\n",
       " ('internet', 20.0),\n",
       " ('network', 20.0),\n",
       " ('device', 20.0),\n",
       " ('jammer', 13.666666666666666),\n",
       " ('reactive', 13.666666666666666),\n",
       " ('cyber', 13.666666666666666),\n",
       " ('application', 7.333333333333333),\n",
       " ('system', 7.333333333333333),\n",
       " ('power', 7.333333333333333),\n",
       " ('defeat', 7.333333333333333),\n",
       " ('security', 7.333333333333333),\n",
       " ('risk', 7.333333333333333),\n",
       " ('demonstration', 1.0),\n",
       " ('platform', 1.0),\n",
       " ('stem', 1.0),\n",
       " ('popularization', 1.0),\n",
       " ('education', 1.0),\n",
       " ('intelligence', 1.0),\n",
       " ('big', 1.0),\n",
       " ('robotics', 1.0),\n",
       " ('mcu', 1.0),\n",
       " ('smart', 1.0),\n",
       " ('enlightens', 1.0),\n",
       " ('pas', 1.0),\n",
       " ('society', 1.0),\n",
       " ('healthcare', 1.0),\n",
       " ('monitoring', 1.0),\n",
       " ('enhance', 1.0),\n",
       " ('performance', 1.0),\n",
       " ('reinforcement', 1.0),\n",
       " ('learning', 1.0),\n",
       " ('framework', 1.0),\n",
       " ('enables', 1.0),\n",
       " ('optimal', 1.0),\n",
       " ('defense', 1.0),\n",
       " ('policy', 1.0),\n",
       " ('channel', 1.0),\n",
       " ('transmitting', 1.0),\n",
       " ('fake', 1.0),\n",
       " ('transmission', 1.0),\n",
       " ('undermine', 1.0),\n",
       " ('harvest', 1.0),\n",
       " ('proposed', 1.0),\n",
       " ('strategy', 1.0),\n",
       " ('powerful', 1.0),\n",
       " ('jamming', 1.0),\n",
       " ('attack', 1.0),\n",
       " ('art', 1.0),\n",
       " ('defeating', 1.0),\n",
       " ('centralized', 1.0),\n",
       " ('connectivity', 1.0),\n",
       " ('play', 1.0),\n",
       " ('role', 1.0),\n",
       " ('insurability', 1.0),\n",
       " ('distributed', 1.0),\n",
       " ('strategic', 1.0),\n",
       " ('interaction', 1.0),\n",
       " ('apt', 1.0),\n",
       " ('attacker', 1.0),\n",
       " ('defender', 1.0),\n",
       " ('insurance', 1.0),\n",
       " ('insurer', 1.0),\n",
       " ('systemic', 1.0),\n",
       " ('interconnected', 1.0),\n",
       " ('mechanism', 1.0),\n",
       " ('mitigate', 1.0),\n",
       " ('achieving', 1.0),\n",
       " ('perfect', 1.0),\n",
       " ('impossible', 1.0),\n",
       " ('highly', 1.0),\n",
       " ('vulnerable', 1.0),\n",
       " ('emerging', 1.0),\n",
       " ('advanced', 1.0),\n",
       " ('provide', 1.0),\n",
       " ('varied', 1.0),\n",
       " ('organization', 1.0),\n",
       " ('utilize', 1.0),\n",
       " ('stream', 1.0),\n",
       " ('development', 1.0),\n",
       " ('purpose', 1.0),\n",
       " ('formed', 1.0),\n",
       " ('layer', 1.0),\n",
       " ('built', 1.0)]"
      ]
     },
     "execution_count": 26,
     "metadata": {},
     "output_type": "execute_result"
    }
   ],
   "source": [
    "sorted_terms_freq_dict"
   ]
  },
  {
   "cell_type": "code",
   "execution_count": 27,
   "metadata": {},
   "outputs": [],
   "source": [
    "first_sorted_terms_freq_dict = {k: v for k, v in list(sorted_terms_freq_dict)[:nr_of_graph_terms]}"
   ]
  },
  {
   "cell_type": "code",
   "execution_count": 28,
   "metadata": {},
   "outputs": [],
   "source": [
    "most_freq_distance_dict = {k: {'frequency':terms_freq_dict[k], 'distance':srex.np.median(unique_vecinity_dict[k])} for k in first_sorted_terms_freq_dict.keys()}"
   ]
  },
  {
   "cell_type": "code",
   "execution_count": 29,
   "metadata": {},
   "outputs": [],
   "source": [
    "graph = srex.getGraphViz(reference_term, most_freq_distance_dict, '0.7', 'deepskyblue')"
   ]
  },
  {
   "cell_type": "code",
   "execution_count": 30,
   "metadata": {},
   "outputs": [
    {
     "data": {
      "image/svg+xml": [
       "<?xml version=\"1.0\" encoding=\"UTF-8\" standalone=\"no\"?>\n",
       "<!DOCTYPE svg PUBLIC \"-//W3C//DTD SVG 1.1//EN\"\n",
       " \"http://www.w3.org/Graphics/SVG/1.1/DTD/svg11.dtd\">\n",
       "<!-- Generated by graphviz version 8.0.5 (20230430.1635)\n",
       " -->\n",
       "<!-- Title: G Pages: 1 -->\n",
       "<svg width=\"227pt\" height=\"314pt\"\n",
       " viewBox=\"0.00 0.00 226.77 314.01\" xmlns=\"http://www.w3.org/2000/svg\" xmlns:xlink=\"http://www.w3.org/1999/xlink\">\n",
       "<g id=\"graph0\" class=\"graph\" transform=\"scale(1 1) rotate(0) translate(4 310.01)\">\n",
       "<title>G</title>\n",
       "<polygon fill=\"white\" stroke=\"none\" points=\"-4,4 -4,-310.01 222.77,-310.01 222.77,4 -4,4\"/>\n",
       "<!-- 0 -->\n",
       "<g id=\"node1\" class=\"node\">\n",
       "<title>0</title>\n",
       "<ellipse fill=\"#c1cdcd\" stroke=\"black\" cx=\"97.82\" cy=\"-107.77\" rx=\"25.2\" ry=\"25.2\"/>\n",
       "<text text-anchor=\"middle\" x=\"97.82\" y=\"-103.89\" font-family=\"Times,serif\" font-size=\"10.00\">iot</text>\n",
       "</g>\n",
       "<!-- &#39;1&#39; -->\n",
       "<g id=\"node2\" class=\"node\">\n",
       "<title>&#39;1&#39;</title>\n",
       "<ellipse fill=\"none\" stroke=\"deepskyblue\" stroke-width=\"20\" cx=\"193.57\" cy=\"-25.2\" rx=\"25.2\" ry=\"25.2\"/>\n",
       "<text text-anchor=\"middle\" x=\"193.57\" y=\"-21.32\" font-family=\"Times,serif\" font-size=\"10.00\">data</text>\n",
       "</g>\n",
       "<!-- 0&#45;&#45;&#39;1&#39; -->\n",
       "<g id=\"edge1\" class=\"edge\">\n",
       "<title>0&#45;&#45;&#39;1&#39;</title>\n",
       "<path fill=\"none\" stroke=\"black\" d=\"M117.19,-91.06C131.51,-78.71 151.18,-61.76 166.97,-48.14\"/>\n",
       "<text text-anchor=\"middle\" x=\"133.46\" y=\"-72.8\" font-family=\"Times,serif\" font-size=\"14.00\">1.5</text>\n",
       "</g>\n",
       "<!-- &#39;2&#39; -->\n",
       "<g id=\"node3\" class=\"node\">\n",
       "<title>&#39;2&#39;</title>\n",
       "<ellipse fill=\"none\" stroke=\"deepskyblue\" stroke-width=\"20\" cx=\"61.1\" cy=\"-38.98\" rx=\"25.2\" ry=\"25.2\"/>\n",
       "<text text-anchor=\"middle\" x=\"61.1\" y=\"-35.1\" font-family=\"Times,serif\" font-size=\"10.00\">internet</text>\n",
       "</g>\n",
       "<!-- 0&#45;&#45;&#39;2&#39; -->\n",
       "<g id=\"edge2\" class=\"edge\">\n",
       "<title>0&#45;&#45;&#39;2&#39;</title>\n",
       "<path fill=\"none\" stroke=\"black\" d=\"M85.79,-85.24C83.12,-80.23 80.23,-74.83 77.42,-69.55\"/>\n",
       "<text text-anchor=\"middle\" x=\"90.23\" y=\"-64.1\" font-family=\"Times,serif\" font-size=\"14.00\">1.0</text>\n",
       "</g>\n",
       "<!-- &#39;3&#39; -->\n",
       "<g id=\"node4\" class=\"node\">\n",
       "<title>&#39;3&#39;</title>\n",
       "<ellipse fill=\"none\" stroke=\"deepskyblue\" stroke-width=\"20\" cx=\"25.2\" cy=\"-135.21\" rx=\"25.2\" ry=\"25.2\"/>\n",
       "<text text-anchor=\"middle\" x=\"25.2\" y=\"-131.33\" font-family=\"Times,serif\" font-size=\"10.00\">network</text>\n",
       "</g>\n",
       "<!-- 0&#45;&#45;&#39;3&#39; -->\n",
       "<g id=\"edge3\" class=\"edge\">\n",
       "<title>0&#45;&#45;&#39;3&#39;</title>\n",
       "<path fill=\"none\" stroke=\"black\" d=\"M74.04,-116.75C68.91,-118.69 63.4,-120.77 58,-122.81\"/>\n",
       "<text text-anchor=\"middle\" x=\"61.7\" y=\"-106.48\" font-family=\"Times,serif\" font-size=\"14.00\">1.0</text>\n",
       "</g>\n",
       "<!-- &#39;4&#39; -->\n",
       "<g id=\"node5\" class=\"node\">\n",
       "<title>&#39;4&#39;</title>\n",
       "<ellipse fill=\"none\" stroke=\"deepskyblue\" stroke-width=\"20\" cx=\"161.28\" cy=\"-147.18\" rx=\"25.2\" ry=\"25.2\"/>\n",
       "<text text-anchor=\"middle\" x=\"161.28\" y=\"-143.31\" font-family=\"Times,serif\" font-size=\"10.00\">device</text>\n",
       "</g>\n",
       "<!-- 0&#45;&#45;&#39;4&#39; -->\n",
       "<g id=\"edge4\" class=\"edge\">\n",
       "<title>0&#45;&#45;&#39;4&#39;</title>\n",
       "<path fill=\"none\" stroke=\"black\" d=\"M119.3,-121.11C123.33,-123.61 127.6,-126.27 131.82,-128.89\"/>\n",
       "<text text-anchor=\"middle\" x=\"134.19\" y=\"-111.7\" font-family=\"Times,serif\" font-size=\"14.00\">1.0</text>\n",
       "</g>\n",
       "<!-- &#39;5&#39; -->\n",
       "<g id=\"node6\" class=\"node\">\n",
       "<title>&#39;5&#39;</title>\n",
       "<ellipse fill=\"none\" stroke=\"deepskyblue\" stroke-width=\"13.67\" cx=\"91.85\" cy=\"-280.81\" rx=\"25.2\" ry=\"25.2\"/>\n",
       "<text text-anchor=\"middle\" x=\"91.85\" y=\"-276.94\" font-family=\"Times,serif\" font-size=\"10.00\">jammer</text>\n",
       "</g>\n",
       "<!-- 0&#45;&#45;&#39;5&#39; -->\n",
       "<g id=\"edge5\" class=\"edge\">\n",
       "<title>0&#45;&#45;&#39;5&#39;</title>\n",
       "<path fill=\"none\" stroke=\"black\" d=\"M96.94,-133.3C95.87,-164.14 94.08,-216 92.93,-249.3\"/>\n",
       "<text text-anchor=\"middle\" x=\"86.31\" y=\"-194.5\" font-family=\"Times,serif\" font-size=\"14.00\">2.0</text>\n",
       "</g>\n",
       "</g>\n",
       "</svg>\n"
      ],
      "text/plain": [
       "<graphviz.dot.Graph at 0x7fa52889d280>"
      ]
     },
     "execution_count": 30,
     "metadata": {},
     "output_type": "execute_result"
    }
   ],
   "source": [
    "graph"
   ]
  },
  {
   "cell_type": "code",
   "execution_count": null,
   "metadata": {},
   "outputs": [],
   "source": []
  },
  {
   "cell_type": "code",
   "execution_count": null,
   "metadata": {},
   "outputs": [],
   "source": []
  }
 ],
 "metadata": {
  "kernelspec": {
   "display_name": "srex",
   "language": "python",
   "name": "srex"
  },
  "language_info": {
   "codemirror_mode": {
    "name": "ipython",
    "version": 3
   },
   "file_extension": ".py",
   "mimetype": "text/x-python",
   "name": "python",
   "nbconvert_exporter": "python",
   "pygments_lexer": "ipython3",
   "version": "3.8.5"
  }
 },
 "nbformat": 4,
 "nbformat_minor": 4
}
