{
 "cells": [
  {
   "cell_type": "markdown",
   "metadata": {},
   "source": [
    "# Testing GraphSearch Distance Concepts"
   ]
  },
  {
   "cell_type": "markdown",
   "metadata": {},
   "source": [
    "## Load Libraries"
   ]
  },
  {
   "cell_type": "code",
   "execution_count": 14,
   "metadata": {},
   "outputs": [],
   "source": [
    "import srex\n",
    "import operator\n",
    "import nltk\n",
    "\n",
    "#Download stopword\n",
    "if(0):\n",
    "    nltk.download('stopwords') \n",
    "    nltk.download('punkt') # Tokenizers\n",
    "    nltk.download('wordnet') # Wordnet"
   ]
  },
  {
   "cell_type": "markdown",
   "metadata": {},
   "source": [
    "## Initialize some variables"
   ]
  },
  {
   "cell_type": "code",
   "execution_count": 15,
   "metadata": {},
   "outputs": [],
   "source": [
    "# Stemmer\n",
    "st = srex.PorterStemmer()"
   ]
  },
  {
   "cell_type": "code",
   "execution_count": 16,
   "metadata": {},
   "outputs": [],
   "source": [
    "# Stop Words\n",
    "stop_words_list = srex.stopwords.words('english') #a small one"
   ]
  },
  {
   "cell_type": "code",
   "execution_count": 17,
   "metadata": {},
   "outputs": [],
   "source": [
    "newStopWords = srex.get_stop_words('en') # a big one"
   ]
  },
  {
   "cell_type": "code",
   "execution_count": 18,
   "metadata": {},
   "outputs": [],
   "source": [
    "stop_words_list.extend(newStopWords) # all together"
   ]
  },
  {
   "cell_type": "code",
   "execution_count": 19,
   "metadata": {},
   "outputs": [],
   "source": [
    "query                  = 'internet of things iot'\n",
    "reference_term         = 'iot'\n",
    "nr_search_results      = 10\n",
    "\n",
    "ranking_weight_type    = 'none' # it can be: 'none', 'linear' or 'inverse'\n",
    "limit_distance         = 4 \n",
    "sumarize               = 'none' \n",
    "include_reference_term = False\n",
    "nr_of_graph_terms      = 15\n"
   ]
  },
  {
   "cell_type": "code",
   "execution_count": 22,
   "metadata": {},
   "outputs": [],
   "source": [
    "# Articulo de revista científica IEEE Explore\n",
    "#doc = srex.get_ieee_explore_article('article_number', '8316016')\n",
    "\n",
    "# Ranking de documentos de IEEE Explore CON ponderación de documentos\n",
    "results = srex.get_ieee_explore_ranking(query, nr_search_results)\n",
    "\n",
    "# Ranking de documentos de IEEE Explore SIN ponderación de documentos\n",
    "#results = srex.get_ieee_explore_ranking(\"search engine\", 10)"
   ]
  },
  {
   "cell_type": "code",
   "execution_count": 23,
   "metadata": {},
   "outputs": [],
   "source": [
    "doc_weighted = srex.get_ranking_as_string(results, ranking_weight_type)"
   ]
  },
  {
   "cell_type": "code",
   "execution_count": 24,
   "metadata": {},
   "outputs": [],
   "source": [
    "parragraphs_list = doc_weighted.split('.')"
   ]
  },
  {
   "cell_type": "markdown",
   "metadata": {},
   "source": [
    "## Text transformations\n",
    "\n",
    "Remove stopwords, punctuation, stemming, lematization"
   ]
  },
  {
   "cell_type": "code",
   "execution_count": 25,
   "metadata": {},
   "outputs": [],
   "source": [
    "processed_parragraphs_list = list(map(lambda x: srex.text_transformations(x, stop_words_list, lema=True, stem=False), parragraphs_list))"
   ]
  },
  {
   "cell_type": "markdown",
   "metadata": {},
   "source": [
    "## Calculate word positions"
   ]
  },
  {
   "cell_type": "code",
   "execution_count": 26,
   "metadata": {},
   "outputs": [],
   "source": [
    "doc_pos_matrix = srex.get_documents_positions_matrix(processed_parragraphs_list)"
   ]
  },
  {
   "cell_type": "markdown",
   "metadata": {},
   "source": [
    "## Calculate vecinity matrix"
   ]
  },
  {
   "cell_type": "code",
   "execution_count": 27,
   "metadata": {},
   "outputs": [],
   "source": [
    "vecinity_matrix = srex.get_vecinity_matrix(doc_pos_matrix, reference_term, limit_distance, sumarize, include_reference_term)"
   ]
  },
  {
   "cell_type": "code",
   "execution_count": 28,
   "metadata": {},
   "outputs": [],
   "source": [
    "unique_vecinity_dict = srex.get_unique_vecinity_dict(vecinity_matrix)"
   ]
  },
  {
   "cell_type": "code",
   "execution_count": 29,
   "metadata": {},
   "outputs": [],
   "source": [
    "terms_freq_dict = {k: len(v) for k, v in unique_vecinity_dict.items()}"
   ]
  },
  {
   "cell_type": "code",
   "execution_count": 30,
   "metadata": {},
   "outputs": [],
   "source": [
    "foo = srex.normalize_dictionary_values(terms_freq_dict, [1,20])"
   ]
  },
  {
   "cell_type": "code",
   "execution_count": 31,
   "metadata": {},
   "outputs": [],
   "source": [
    "sorted_terms_freq_dict = sorted(terms_freq_dict.items(), key=operator.itemgetter(1), reverse=True)"
   ]
  },
  {
   "cell_type": "code",
   "execution_count": 32,
   "metadata": {},
   "outputs": [],
   "source": [
    "first_sorted_terms_freq_dict = {k: v for k, v in list(sorted_terms_freq_dict)[:nr_of_graph_terms]}"
   ]
  },
  {
   "cell_type": "code",
   "execution_count": 33,
   "metadata": {},
   "outputs": [],
   "source": [
    "most_freq_distance_dict = {k: {'frequency':terms_freq_dict[k], 'distance':srex.np.median(unique_vecinity_dict[k])} for k in first_sorted_terms_freq_dict.keys()}"
   ]
  },
  {
   "cell_type": "code",
   "execution_count": 34,
   "metadata": {},
   "outputs": [
    {
     "data": {
      "text/plain": [
       "{'device': {'frequency': 20.0, 'distance': 1.0},\n",
       " 'internet': {'frequency': 14.571428571428573, 'distance': 1.0},\n",
       " 'threat': {'frequency': 11.857142857142858, 'distance': 1.0},\n",
       " 'data': {'frequency': 9.142857142857142, 'distance': 1.5},\n",
       " 'network': {'frequency': 9.142857142857142, 'distance': 1.0},\n",
       " 'security': {'frequency': 6.428571428571429, 'distance': 1.0},\n",
       " 'jammer': {'frequency': 6.428571428571429, 'distance': 2.0},\n",
       " 'reactive': {'frequency': 6.428571428571429, 'distance': 3.0},\n",
       " 'cyber': {'frequency': 6.428571428571429, 'distance': 2.0},\n",
       " 'interaction': {'frequency': 3.7142857142857144, 'distance': 2.0},\n",
       " 'expert': {'frequency': 3.7142857142857144, 'distance': 3.0},\n",
       " 'perceive': {'frequency': 3.7142857142857144, 'distance': 3.0},\n",
       " 'consumer': {'frequency': 3.7142857142857144, 'distance': 1.0},\n",
       " 'smart': {'frequency': 3.7142857142857144, 'distance': 1.0},\n",
       " 'application': {'frequency': 3.7142857142857144, 'distance': 1.0}}"
      ]
     },
     "execution_count": 34,
     "metadata": {},
     "output_type": "execute_result"
    }
   ],
   "source": [
    "most_freq_distance_dict"
   ]
  },
  {
   "cell_type": "code",
   "execution_count": 20,
   "metadata": {},
   "outputs": [],
   "source": [
    "graph = srex.getGraphViz(reference_term, most_freq_distance_dict, '0.7', 'deepskyblue')"
   ]
  },
  {
   "cell_type": "code",
   "execution_count": 21,
   "metadata": {},
   "outputs": [
    {
     "data": {
      "image/svg+xml": [
       "<?xml version=\"1.0\" encoding=\"UTF-8\" standalone=\"no\"?>\n",
       "<!DOCTYPE svg PUBLIC \"-//W3C//DTD SVG 1.1//EN\"\n",
       " \"http://www.w3.org/Graphics/SVG/1.1/DTD/svg11.dtd\">\n",
       "<!-- Generated by graphviz version 8.0.5 (20230430.1635)\n",
       " -->\n",
       "<!-- Title: G Pages: 1 -->\n",
       "<svg width=\"526pt\" height=\"433pt\"\n",
       " viewBox=\"0.00 0.00 525.56 432.55\" xmlns=\"http://www.w3.org/2000/svg\" xmlns:xlink=\"http://www.w3.org/1999/xlink\">\n",
       "<g id=\"graph0\" class=\"graph\" transform=\"scale(1 1) rotate(0) translate(4 428.55)\">\n",
       "<title>G</title>\n",
       "<polygon fill=\"white\" stroke=\"none\" points=\"-4,4 -4,-428.55 521.56,-428.55 521.56,4 -4,4\"/>\n",
       "<!-- 0 -->\n",
       "<g id=\"node1\" class=\"node\">\n",
       "<title>0</title>\n",
       "<ellipse fill=\"#c1cdcd\" stroke=\"black\" cx=\"283.72\" cy=\"-199.81\" rx=\"25.2\" ry=\"25.2\"/>\n",
       "<text text-anchor=\"middle\" x=\"283.72\" y=\"-195.93\" font-family=\"Times,serif\" font-size=\"10.00\">iot</text>\n",
       "</g>\n",
       "<!-- &#39;1&#39; -->\n",
       "<g id=\"node2\" class=\"node\">\n",
       "<title>&#39;1&#39;</title>\n",
       "<ellipse fill=\"none\" stroke=\"deepskyblue\" stroke-width=\"20\" cx=\"359.24\" cy=\"-188.22\" rx=\"25.2\" ry=\"25.2\"/>\n",
       "<text text-anchor=\"middle\" x=\"359.24\" y=\"-184.34\" font-family=\"Times,serif\" font-size=\"10.00\">device</text>\n",
       "</g>\n",
       "<!-- 0&#45;&#45;&#39;1&#39; -->\n",
       "<g id=\"edge1\" class=\"edge\">\n",
       "<title>0&#45;&#45;&#39;1&#39;</title>\n",
       "<path fill=\"none\" stroke=\"black\" d=\"M308.87,-195.95C313.93,-195.17 319.33,-194.34 324.65,-193.52\"/>\n",
       "<text text-anchor=\"middle\" x=\"325.39\" y=\"-197.94\" font-family=\"Times,serif\" font-size=\"14.00\">1.0</text>\n",
       "</g>\n",
       "<!-- &#39;2&#39; -->\n",
       "<g id=\"node3\" class=\"node\">\n",
       "<title>&#39;2&#39;</title>\n",
       "<ellipse fill=\"none\" stroke=\"deepskyblue\" stroke-width=\"14.57\" cx=\"266.67\" cy=\"-126.48\" rx=\"25.2\" ry=\"25.2\"/>\n",
       "<text text-anchor=\"middle\" x=\"266.67\" y=\"-122.61\" font-family=\"Times,serif\" font-size=\"10.00\">internet</text>\n",
       "</g>\n",
       "<!-- 0&#45;&#45;&#39;2&#39; -->\n",
       "<g id=\"edge2\" class=\"edge\">\n",
       "<title>0&#45;&#45;&#39;2&#39;</title>\n",
       "<path fill=\"none\" stroke=\"black\" d=\"M277.95,-174.98C276.65,-169.41 275.26,-163.44 273.92,-157.65\"/>\n",
       "<text text-anchor=\"middle\" x=\"284.56\" y=\"-153.02\" font-family=\"Times,serif\" font-size=\"14.00\">1.0</text>\n",
       "</g>\n",
       "<!-- &#39;3&#39; -->\n",
       "<g id=\"node4\" class=\"node\">\n",
       "<title>&#39;3&#39;</title>\n",
       "<ellipse fill=\"none\" stroke=\"deepskyblue\" stroke-width=\"11.86\" cx=\"228.83\" cy=\"-259.27\" rx=\"25.2\" ry=\"25.2\"/>\n",
       "<text text-anchor=\"middle\" x=\"228.83\" y=\"-255.39\" font-family=\"Times,serif\" font-size=\"10.00\">threat</text>\n",
       "</g>\n",
       "<!-- 0&#45;&#45;&#39;3&#39; -->\n",
       "<g id=\"edge3\" class=\"edge\">\n",
       "<title>0&#45;&#45;&#39;3&#39;</title>\n",
       "<path fill=\"none\" stroke=\"black\" d=\"M266.35,-218.62C260.95,-224.47 254.94,-230.98 249.34,-237.04\"/>\n",
       "<text text-anchor=\"middle\" x=\"249.22\" y=\"-214.53\" font-family=\"Times,serif\" font-size=\"14.00\">1.0</text>\n",
       "</g>\n",
       "<!-- &#39;4&#39; -->\n",
       "<g id=\"node5\" class=\"node\">\n",
       "<title>&#39;4&#39;</title>\n",
       "<ellipse fill=\"none\" stroke=\"deepskyblue\" stroke-width=\"9.14\" cx=\"308.83\" cy=\"-338.81\" rx=\"25.2\" ry=\"25.2\"/>\n",
       "<text text-anchor=\"middle\" x=\"308.83\" y=\"-334.94\" font-family=\"Times,serif\" font-size=\"10.00\">data</text>\n",
       "</g>\n",
       "<!-- 0&#45;&#45;&#39;4&#39; -->\n",
       "<g id=\"edge4\" class=\"edge\">\n",
       "<title>0&#45;&#45;&#39;4&#39;</title>\n",
       "<path fill=\"none\" stroke=\"black\" d=\"M288.26,-224.98C292.59,-248.92 299.09,-284.9 303.62,-309.98\"/>\n",
       "<text text-anchor=\"middle\" x=\"287.32\" y=\"-270.68\" font-family=\"Times,serif\" font-size=\"14.00\">1.5</text>\n",
       "</g>\n",
       "<!-- &#39;5&#39; -->\n",
       "<g id=\"node6\" class=\"node\">\n",
       "<title>&#39;5&#39;</title>\n",
       "<ellipse fill=\"none\" stroke=\"deepskyblue\" stroke-width=\"9.14\" cx=\"203.12\" cy=\"-211.65\" rx=\"25.2\" ry=\"25.2\"/>\n",
       "<text text-anchor=\"middle\" x=\"203.12\" y=\"-207.78\" font-family=\"Times,serif\" font-size=\"10.00\">network</text>\n",
       "</g>\n",
       "<!-- 0&#45;&#45;&#39;5&#39; -->\n",
       "<g id=\"edge5\" class=\"edge\">\n",
       "<title>0&#45;&#45;&#39;5&#39;</title>\n",
       "<path fill=\"none\" stroke=\"black\" d=\"M258.66,-203.49C250.34,-204.71 241.01,-206.08 232.4,-207.35\"/>\n",
       "<text text-anchor=\"middle\" x=\"236.91\" y=\"-192.12\" font-family=\"Times,serif\" font-size=\"14.00\">1.0</text>\n",
       "</g>\n",
       "<!-- &#39;6&#39; -->\n",
       "<g id=\"node7\" class=\"node\">\n",
       "<title>&#39;6&#39;</title>\n",
       "<ellipse fill=\"none\" stroke=\"deepskyblue\" stroke-width=\"6.43\" cx=\"216.47\" cy=\"-158.6\" rx=\"25.2\" ry=\"25.2\"/>\n",
       "<text text-anchor=\"middle\" x=\"216.47\" y=\"-154.73\" font-family=\"Times,serif\" font-size=\"10.00\">security</text>\n",
       "</g>\n",
       "<!-- 0&#45;&#45;&#39;6&#39; -->\n",
       "<g id=\"edge6\" class=\"edge\">\n",
       "<title>0&#45;&#45;&#39;6&#39;</title>\n",
       "<path fill=\"none\" stroke=\"black\" d=\"M262.07,-186.54C255.16,-182.31 247.47,-177.6 240.41,-173.27\"/>\n",
       "<text text-anchor=\"middle\" x=\"251.24\" y=\"-166.61\" font-family=\"Times,serif\" font-size=\"14.00\">1.0</text>\n",
       "</g>\n",
       "<!-- &#39;7&#39; -->\n",
       "<g id=\"node8\" class=\"node\">\n",
       "<title>&#39;7&#39;</title>\n",
       "<ellipse fill=\"none\" stroke=\"deepskyblue\" stroke-width=\"6.43\" cx=\"469.97\" cy=\"-167.98\" rx=\"25.2\" ry=\"25.2\"/>\n",
       "<text text-anchor=\"middle\" x=\"469.97\" y=\"-164.1\" font-family=\"Times,serif\" font-size=\"10.00\">jammer</text>\n",
       "</g>\n",
       "<!-- 0&#45;&#45;&#39;7&#39; -->\n",
       "<g id=\"edge7\" class=\"edge\">\n",
       "<title>0&#45;&#45;&#39;7&#39;</title>\n",
       "<path fill=\"none\" stroke=\"black\" d=\"M308.84,-195.51C343.59,-189.57 406.12,-178.89 442.22,-172.72\"/>\n",
       "<text text-anchor=\"middle\" x=\"384.15\" y=\"-187.32\" font-family=\"Times,serif\" font-size=\"14.00\">2.0</text>\n",
       "</g>\n",
       "<!-- &#39;8&#39; -->\n",
       "<g id=\"node9\" class=\"node\">\n",
       "<title>&#39;8&#39;</title>\n",
       "<ellipse fill=\"none\" stroke=\"deepskyblue\" stroke-width=\"6.43\" cx=\"25.2\" cy=\"-118.76\" rx=\"25.2\" ry=\"25.2\"/>\n",
       "<text text-anchor=\"middle\" x=\"25.2\" y=\"-114.89\" font-family=\"Times,serif\" font-size=\"10.00\">reactive</text>\n",
       "</g>\n",
       "<!-- 0&#45;&#45;&#39;8&#39; -->\n",
       "<g id=\"edge8\" class=\"edge\">\n",
       "<title>0&#45;&#45;&#39;8&#39;</title>\n",
       "<path fill=\"none\" stroke=\"black\" d=\"M259.4,-192.18C210.88,-176.97 102.41,-142.96 51.95,-127.15\"/>\n",
       "<text text-anchor=\"middle\" x=\"147.05\" y=\"-162.86\" font-family=\"Times,serif\" font-size=\"14.00\">3.0</text>\n",
       "</g>\n",
       "<!-- &#39;9&#39; -->\n",
       "<g id=\"node10\" class=\"node\">\n",
       "<title>&#39;9&#39;</title>\n",
       "<ellipse fill=\"none\" stroke=\"deepskyblue\" stroke-width=\"6.43\" cx=\"378.79\" cy=\"-35.51\" rx=\"25.2\" ry=\"25.2\"/>\n",
       "<text text-anchor=\"middle\" x=\"378.79\" y=\"-31.63\" font-family=\"Times,serif\" font-size=\"10.00\">cyber</text>\n",
       "</g>\n",
       "<!-- 0&#45;&#45;&#39;9&#39; -->\n",
       "<g id=\"edge9\" class=\"edge\">\n",
       "<title>0&#45;&#45;&#39;9&#39;</title>\n",
       "<path fill=\"none\" stroke=\"black\" d=\"M296.54,-177.65C314.33,-146.9 346.38,-91.51 364.78,-59.71\"/>\n",
       "<text text-anchor=\"middle\" x=\"322.03\" y=\"-105.38\" font-family=\"Times,serif\" font-size=\"14.00\">2.0</text>\n",
       "</g>\n",
       "<!-- &#39;10&#39; -->\n",
       "<g id=\"node11\" class=\"node\">\n",
       "<title>&#39;10&#39;</title>\n",
       "<ellipse fill=\"none\" stroke=\"deepskyblue\" stroke-width=\"3.71\" cx=\"215.44\" cy=\"-25.2\" rx=\"25.2\" ry=\"25.2\"/>\n",
       "<text text-anchor=\"middle\" x=\"215.44\" y=\"-21.32\" font-family=\"Times,serif\" font-size=\"10.00\">interaction</text>\n",
       "</g>\n",
       "<!-- 0&#45;&#45;&#39;10&#39; -->\n",
       "<g id=\"edge10\" class=\"edge\">\n",
       "<title>0&#45;&#45;&#39;10&#39;</title>\n",
       "<path fill=\"none\" stroke=\"black\" d=\"M274.37,-175.89C261.44,-142.83 238.22,-83.45 225.12,-49.95\"/>\n",
       "<text text-anchor=\"middle\" x=\"241.12\" y=\"-99.62\" font-family=\"Times,serif\" font-size=\"14.00\">2.0</text>\n",
       "</g>\n",
       "<!-- &#39;11&#39; -->\n",
       "<g id=\"node12\" class=\"node\">\n",
       "<title>&#39;11&#39;</title>\n",
       "<ellipse fill=\"none\" stroke=\"deepskyblue\" stroke-width=\"3.71\" cx=\"99.76\" cy=\"-399.35\" rx=\"25.2\" ry=\"25.2\"/>\n",
       "<text text-anchor=\"middle\" x=\"99.76\" y=\"-395.47\" font-family=\"Times,serif\" font-size=\"10.00\">expert</text>\n",
       "</g>\n",
       "<!-- 0&#45;&#45;&#39;11&#39; -->\n",
       "<g id=\"edge11\" class=\"edge\">\n",
       "<title>0&#45;&#45;&#39;11&#39;</title>\n",
       "<path fill=\"none\" stroke=\"black\" d=\"M266.41,-218.58C231.53,-256.41 153.09,-341.49 117.69,-379.89\"/>\n",
       "<text text-anchor=\"middle\" x=\"183.43\" y=\"-302.43\" font-family=\"Times,serif\" font-size=\"14.00\">3.0</text>\n",
       "</g>\n",
       "<!-- &#39;12&#39; -->\n",
       "<g id=\"node13\" class=\"node\">\n",
       "<title>&#39;12&#39;</title>\n",
       "<ellipse fill=\"none\" stroke=\"deepskyblue\" stroke-width=\"3.71\" cx=\"492.36\" cy=\"-379.2\" rx=\"25.2\" ry=\"25.2\"/>\n",
       "<text text-anchor=\"middle\" x=\"492.36\" y=\"-375.32\" font-family=\"Times,serif\" font-size=\"10.00\">perceive</text>\n",
       "</g>\n",
       "<!-- 0&#45;&#45;&#39;12&#39; -->\n",
       "<g id=\"edge12\" class=\"edge\">\n",
       "<title>0&#45;&#45;&#39;12&#39;</title>\n",
       "<path fill=\"none\" stroke=\"black\" d=\"M302.97,-216.36C342.41,-250.28 432.06,-327.36 472.23,-361.89\"/>\n",
       "<text text-anchor=\"middle\" x=\"378.98\" y=\"-292.33\" font-family=\"Times,serif\" font-size=\"14.00\">3.0</text>\n",
       "</g>\n",
       "<!-- &#39;13&#39; -->\n",
       "<g id=\"node14\" class=\"node\">\n",
       "<title>&#39;13&#39;</title>\n",
       "<ellipse fill=\"none\" stroke=\"deepskyblue\" stroke-width=\"3.71\" cx=\"347.92\" cy=\"-244.69\" rx=\"25.2\" ry=\"25.2\"/>\n",
       "<text text-anchor=\"middle\" x=\"347.92\" y=\"-240.81\" font-family=\"Times,serif\" font-size=\"10.00\">consumer</text>\n",
       "</g>\n",
       "<!-- 0&#45;&#45;&#39;13&#39; -->\n",
       "<g id=\"edge13\" class=\"edge\">\n",
       "<title>0&#45;&#45;&#39;13&#39;</title>\n",
       "<path fill=\"none\" stroke=\"black\" d=\"M304.74,-214.5C311.62,-219.31 319.26,-224.65 326.19,-229.5\"/>\n",
       "<text text-anchor=\"middle\" x=\"306.84\" y=\"-225.2\" font-family=\"Times,serif\" font-size=\"14.00\">1.0</text>\n",
       "</g>\n",
       "<!-- &#39;14&#39; -->\n",
       "<g id=\"node15\" class=\"node\">\n",
       "<title>&#39;14&#39;</title>\n",
       "<ellipse fill=\"none\" stroke=\"deepskyblue\" stroke-width=\"3.71\" cx=\"287\" cy=\"-270.86\" rx=\"25.2\" ry=\"25.2\"/>\n",
       "<text text-anchor=\"middle\" x=\"287\" y=\"-266.98\" font-family=\"Times,serif\" font-size=\"10.00\">smart</text>\n",
       "</g>\n",
       "<!-- 0&#45;&#45;&#39;14&#39; -->\n",
       "<g id=\"edge14\" class=\"edge\">\n",
       "<title>0&#45;&#45;&#39;14&#39;</title>\n",
       "<path fill=\"none\" stroke=\"black\" d=\"M284.9,-225.46C285.19,-231.66 285.5,-238.3 285.78,-244.53\"/>\n",
       "<text text-anchor=\"middle\" x=\"276.72\" y=\"-238.19\" font-family=\"Times,serif\" font-size=\"14.00\">1.0</text>\n",
       "</g>\n",
       "<!-- &#39;15&#39; -->\n",
       "<g id=\"node16\" class=\"node\">\n",
       "<title>&#39;15&#39;</title>\n",
       "<ellipse fill=\"none\" stroke=\"deepskyblue\" stroke-width=\"3.71\" cx=\"326.37\" cy=\"-137.36\" rx=\"25.2\" ry=\"25.2\"/>\n",
       "<text text-anchor=\"middle\" x=\"326.37\" y=\"-133.49\" font-family=\"Times,serif\" font-size=\"10.00\">application</text>\n",
       "</g>\n",
       "<!-- 0&#45;&#45;&#39;15&#39; -->\n",
       "<g id=\"edge15\" class=\"edge\">\n",
       "<title>0&#45;&#45;&#39;15&#39;</title>\n",
       "<path fill=\"none\" stroke=\"black\" d=\"M298.16,-178.67C302.41,-172.44 307.07,-165.61 311.36,-159.34\"/>\n",
       "<text text-anchor=\"middle\" x=\"313.39\" y=\"-172.2\" font-family=\"Times,serif\" font-size=\"14.00\">1.0</text>\n",
       "</g>\n",
       "</g>\n",
       "</svg>\n"
      ],
      "text/plain": [
       "<graphviz.dot.Graph at 0x7fce90850bb0>"
      ]
     },
     "execution_count": 21,
     "metadata": {},
     "output_type": "execute_result"
    }
   ],
   "source": [
    "graph"
   ]
  },
  {
   "cell_type": "code",
   "execution_count": null,
   "metadata": {},
   "outputs": [],
   "source": []
  },
  {
   "cell_type": "code",
   "execution_count": null,
   "metadata": {},
   "outputs": [],
   "source": []
  }
 ],
 "metadata": {
  "kernelspec": {
   "display_name": "srex",
   "language": "python",
   "name": "srex"
  },
  "language_info": {
   "codemirror_mode": {
    "name": "ipython",
    "version": 3
   },
   "file_extension": ".py",
   "mimetype": "text/x-python",
   "name": "python",
   "nbconvert_exporter": "python",
   "pygments_lexer": "ipython3",
   "version": "3.8.5"
  }
 },
 "nbformat": 4,
 "nbformat_minor": 4
}
