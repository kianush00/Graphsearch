{
 "cells": [
  {
   "cell_type": "markdown",
   "metadata": {},
   "source": [
    "# Testing GraphSearch Distance Concepts"
   ]
  },
  {
   "cell_type": "markdown",
   "metadata": {},
   "source": [
    "## Load Libraries"
   ]
  },
  {
   "cell_type": "code",
   "execution_count": 1,
   "metadata": {},
   "outputs": [
    {
     "name": "stderr",
     "output_type": "stream",
     "text": [
      "[nltk_data] Downloading package stopwords to\n",
      "[nltk_data]     C:\\Users\\kianu\\AppData\\Roaming\\nltk_data...\n",
      "[nltk_data]   Package stopwords is already up-to-date!\n",
      "[nltk_data] Downloading package punkt to\n",
      "[nltk_data]     C:\\Users\\kianu\\AppData\\Roaming\\nltk_data...\n",
      "[nltk_data]   Package punkt is already up-to-date!\n",
      "[nltk_data] Downloading package wordnet to\n",
      "[nltk_data]     C:\\Users\\kianu\\AppData\\Roaming\\nltk_data...\n",
      "[nltk_data]   Package wordnet is already up-to-date!\n"
     ]
    },
    {
     "data": {
      "text/plain": [
       "True"
      ]
     },
     "execution_count": 1,
     "metadata": {},
     "output_type": "execute_result"
    }
   ],
   "source": [
    "import srex_new\n",
    "import operator\n",
    "from stop_words import get_stop_words\n",
    "import nltk\n",
    "from nltk.corpus import stopwords\n",
    "\n",
    "#Download stopword\n",
    "nltk.download('stopwords') \n",
    "nltk.download('punkt') # Tokenizers\n",
    "nltk.download('wordnet') # Wordnet"
   ]
  },
  {
   "cell_type": "markdown",
   "metadata": {},
   "source": [
    "## Initialize some variables"
   ]
  },
  {
   "cell_type": "code",
   "execution_count": 2,
   "metadata": {},
   "outputs": [],
   "source": [
    "# Stop Words\n",
    "stop_words_list = stopwords.words('english') #a small one\n",
    "newStopWords = get_stop_words('en') # a big one\n",
    "stop_words_list.extend(newStopWords) # all together"
   ]
  },
  {
   "cell_type": "code",
   "execution_count": 3,
   "metadata": {},
   "outputs": [],
   "source": [
    "query                    = 'internet of things'\n",
    "reference_terms          = ['iot', 'internet of things']\n",
    "nr_search_results        = 10\n",
    "\n",
    "ranking_weight_type      = 'none' # it can be: 'none', 'linear' or 'inverse'\n",
    "limit_distance           = 4 \n",
    "sumarize                 = 'none' \n",
    "include_reference_term   = False\n",
    "nr_of_graph_terms        = 5\n",
    "format_adjacent_refterms = True\n"
   ]
  },
  {
   "cell_type": "code",
   "execution_count": 4,
   "metadata": {},
   "outputs": [],
   "source": [
    "# Articulo de revista científica IEEE Explore\n",
    "#doc = srex_new.get_ieee_explore_article('article_number', '8316016')\n",
    "\n",
    "# Ranking de documentos de IEEE Explore CON ponderación de documentos\n",
    "results = srex_new.get_ieee_explore_ranking(query, nr_search_results)\n",
    "#results\n",
    "\n",
    "# Ranking de documentos de IEEE Explore SIN ponderación de documentos\n",
    "#results = srex_new.get_ieee_explore_ranking(\"search engine\", 10)"
   ]
  },
  {
   "cell_type": "code",
   "execution_count": 5,
   "metadata": {},
   "outputs": [],
   "source": [
    "list_of_documents = srex_new.get_ranking_as_weighted_documents(results, ranking_weight_type)\n",
    "#list_of_documents"
   ]
  },
  {
   "cell_type": "code",
   "execution_count": 6,
   "metadata": {},
   "outputs": [],
   "source": [
    "sentences_list = srex_new.get_sentences_list_from_documents(list_of_documents)\n",
    "#sentences_list"
   ]
  },
  {
   "cell_type": "markdown",
   "metadata": {},
   "source": [
    "## Text transformations\n",
    "\n",
    "Remove stopwords, punctuation, stemming, lematization"
   ]
  },
  {
   "cell_type": "code",
   "execution_count": 7,
   "metadata": {},
   "outputs": [],
   "source": [
    "processed_sentences_list = srex_new.do_text_transformations_by_document(sentences_list, stop_words_list, lema=True, stem=False)\n",
    "reference_terms = srex_new.do_text_transformations_by_string_in_list(reference_terms, stop_words_list, lema=True, stem=False)\n",
    "\n",
    "#processed_sentences_list\n",
    "#reference_terms"
   ]
  },
  {
   "cell_type": "markdown",
   "metadata": {},
   "source": [
    "## Delete sentences that do not contain a reference term"
   ]
  },
  {
   "cell_type": "code",
   "execution_count": 8,
   "metadata": {},
   "outputs": [],
   "source": [
    "processed_sentences_list_with_refterms = srex_new.delete_sentences_without_refterms(processed_sentences_list, reference_terms)\n",
    "#processed_sentences_list_with_refterms"
   ]
  },
  {
   "cell_type": "markdown",
   "metadata": {},
   "source": [
    "## Calculate word positions"
   ]
  },
  {
   "cell_type": "code",
   "execution_count": 9,
   "metadata": {},
   "outputs": [],
   "source": [
    "doc_pos_matrix = srex_new.get_documents_positions_matrix(processed_sentences_list)\n",
    "#doc_pos_matrix\n",
    "#len(doc_pos_matrix)"
   ]
  },
  {
   "cell_type": "markdown",
   "metadata": {},
   "source": [
    "## Calculate vecinity matrix"
   ]
  },
  {
   "cell_type": "code",
   "execution_count": 10,
   "metadata": {},
   "outputs": [],
   "source": [
    "vecinity_matrix = srex_new.get_vecinity_matrix(doc_pos_matrix, reference_terms, limit_distance, include_reference_term, format_adjacent_refterms)\n",
    "#vecinity_matrix\n",
    "#len(vecinity_matrix)"
   ]
  },
  {
   "cell_type": "code",
   "execution_count": 11,
   "metadata": {},
   "outputs": [
    {
     "data": {
      "text/plain": [
       "[{'text': {'device': {'internet': [0, 1, 0, 0], 'thing': [1, 0, 0, 0]},\n",
       "   'data': {'internet': [0, 0, 0, 1]},\n",
       "   'method': {'internet': [0, 0, 0, 1], 'thing': [0, 0, 1, 0]},\n",
       "   'multilayered': {'internet': [0, 0, 1, 0], 'thing': [0, 1, 0, 0]},\n",
       "   'host': {'internet': [0, 0, 1, 0], 'thing': [0, 1, 0, 0]},\n",
       "   'connected': {'internet': [1, 0, 0, 0], 'thing': [0, 1, 0, 0]},\n",
       "   'security': {'internet': [0, 1, 0, 0], 'thing': [1, 0, 0, 0]},\n",
       "   'network': {'thing': [0, 0, 0, 1]},\n",
       "   'transport': {'internet': [0, 0, 1, 0], 'thing': [0, 0, 0, 1]},\n",
       "   'end': {'thing': [0, 0, 0, 1]},\n",
       "   'cellular': {'internet': [0, 1, 0, 1], 'thing': [0, 0, 2, 0]}},\n",
       "  'weight': 1.0},\n",
       " {'text': {'introduce': {'iot': [0, 0, 0, 1]},\n",
       "   'assiut': {'iot': [2, 0, 0, 0]},\n",
       "   'accessible': {'thing': [0, 0, 1, 0],\n",
       "    'internet': [0, 1, 0, 0],\n",
       "    'iot': [0, 2, 1, 0]},\n",
       "   'architecture': {'iot': [0, 1, 0, 0]},\n",
       "   'application': {'iot': [2, 0, 0, 0]},\n",
       "   'implement': {'iot': [0, 0, 1, 0]},\n",
       "   'testbed': {'thing': [0, 1, 0, 0],\n",
       "    'internet': [1, 0, 0, 0],\n",
       "    'iot': [0, 1, 2, 0]},\n",
       "   'experiment': {'iot': [0, 1, 0, 0]},\n",
       "   'related': {'iot': [1, 0, 0, 0]},\n",
       "   'designed': {'iot': [1, 0, 0, 1]},\n",
       "   'remotely': {'thing': [0, 0, 0, 1],\n",
       "    'internet': [0, 0, 1, 0],\n",
       "    'iot': [2, 0, 0, 2]},\n",
       "   'basic': {'iot': [0, 0, 1, 0]}},\n",
       "  'weight': 1.0},\n",
       " {'text': {'huge': {'iot': [0, 1, 0, 0]},\n",
       "   'heterogeneous': {'internet': [1, 0, 0, 0], 'thing': [0, 1, 0, 0]},\n",
       "   'data': {'iot': [0, 0, 0, 1]},\n",
       "   'enable': {'iot': [0, 1, 0, 0]},\n",
       "   'device': {'iot': [2, 0, 0, 0]},\n",
       "   'heterogeneity': {'iot': [1, 0, 0, 0]},\n",
       "   'mechanism': {'iot': [0, 0, 1, 0]},\n",
       "   'healthcare': {'iot': [0, 0, 0, 1]},\n",
       "   'resource': {'iot': [0, 1, 0, 0]},\n",
       "   'widespread': {'iot': [0, 0, 0, 1],\n",
       "    'internet': [0, 1, 0, 0],\n",
       "    'thing': [0, 0, 1, 0]},\n",
       "   'smart': {'iot': [1, 0, 0, 0],\n",
       "    'internet': [0, 0, 1, 0],\n",
       "    'thing': [0, 1, 0, 0]},\n",
       "   'tornado': {'internet': [0, 0, 0, 1]},\n",
       "   'address': {'iot': [0, 0, 1, 0]},\n",
       "   'blockchain': {'thing': [0, 0, 1, 0],\n",
       "    'internet': [0, 1, 0, 0],\n",
       "    'iot': [1, 0, 0, 1]},\n",
       "   'consensus': {'iot': [0, 1, 0, 0]},\n",
       "   'corresponding': {'iot': [0, 0, 0, 1]},\n",
       "   'named': {'iot': [0, 0, 0, 1]},\n",
       "   'scenario': {'iot': [1, 0, 0, 0]},\n",
       "   'business': {'iot': [0, 0, 1, 0], 'thing': [0, 0, 0, 1]},\n",
       "   'improving': {'iot': [0, 0, 1, 0]},\n",
       "   'brawny': {'iot': [1, 0, 0, 0]},\n",
       "   'accommodate': {'iot': [0, 0, 1, 0]},\n",
       "   'novel': {'iot': [1, 0, 0, 0]},\n",
       "   'efficiency': {'iot': [1, 0, 0, 0]},\n",
       "   'protocol': {'iot': [0, 0, 0, 1]},\n",
       "   'deployment': {'iot': [1, 0, 0, 0]},\n",
       "   'city': {'iot': [0, 1, 0, 0],\n",
       "    'internet': [0, 0, 0, 1],\n",
       "    'thing': [0, 0, 1, 0]},\n",
       "   'restrict': {'iot': [0, 1, 0, 0]},\n",
       "   'application': {'iot': [0, 0, 1, 0],\n",
       "    'internet': [1, 0, 0, 0],\n",
       "    'thing': [0, 1, 0, 0]},\n",
       "   'approach': {'internet': [0, 1, 0, 0], 'thing': [1, 0, 0, 0]},\n",
       "   'enabling': {'internet': [0, 0, 1, 0], 'thing': [0, 0, 0, 1]},\n",
       "   'wimpy': {'iot': [0, 1, 0, 0]},\n",
       "   'processing': {'iot': [0, 0, 1, 0]},\n",
       "   'algorithm': {'iot': [0, 0, 1, 0]}},\n",
       "  'weight': 1.0},\n",
       " {'text': {'environment': {'internet': [0, 1, 0, 0], 'thing': [1, 0, 0, 0]},\n",
       "   'automation': {'internet': [0, 0, 1, 0], 'thing': [0, 1, 0, 0]},\n",
       "   'smart': {'internet': [0, 0, 0, 1], 'thing': [0, 0, 1, 0]},\n",
       "   'lab': {'thing': [0, 0, 0, 1]}},\n",
       "  'weight': 1.0},\n",
       " {'text': {'wireless': {'internet': [0, 1, 0, 0], 'thing': [0, 0, 1, 0]},\n",
       "   'apt': {'iot': [0, 0, 1, 0]},\n",
       "   'data': {'iot': [1, 0, 0, 0]},\n",
       "   'deception': {'iot': [1, 0, 0, 0]},\n",
       "   'employed': {'iot': [0, 1, 0, 0],\n",
       "    'internet': [0, 0, 0, 1],\n",
       "    'thing': [0, 0, 1, 0]},\n",
       "   'imperfect': {'iot': [0, 0, 0, 1]},\n",
       "   'harsh': {'iot': [0, 0, 0, 1]},\n",
       "   'environmental': {'iot': [0, 0, 1, 0]},\n",
       "   'application': {'iot': [0, 0, 0, 1]},\n",
       "   'widely': {'iot': [1, 0, 0, 0],\n",
       "    'internet': [0, 0, 1, 0],\n",
       "    'thing': [0, 1, 0, 0]},\n",
       "   'different': {'iot': [0, 0, 1, 0], 'thing': [0, 0, 0, 1]},\n",
       "   'approach': {'internet': [0, 0, 1, 0], 'thing': [0, 0, 0, 1]},\n",
       "   'detection': {'internet': [0, 0, 0, 1]},\n",
       "   'sensor': {'internet': [1, 0, 0, 0], 'thing': [0, 1, 0, 0]},\n",
       "   'normally': {'iot': [0, 1, 0, 0]},\n",
       "   'nowadays': {'iot': [0, 0, 1, 0],\n",
       "    'internet': [1, 0, 0, 0],\n",
       "    'thing': [0, 1, 0, 0]},\n",
       "   'interference': {'iot': [0, 1, 0, 0]}},\n",
       "  'weight': 1.0},\n",
       " {'text': {'artificial': {'internet': [0, 0, 0, 1], 'thing': [0, 0, 1, 0]},\n",
       "   'shift': {'internet': [0, 1, 0, 0], 'thing': [0, 0, 1, 0]},\n",
       "   'connection': {'internet': [1, 1, 1, 0], 'thing': [1, 1, 0, 1]},\n",
       "   'intelligence': {'thing': [0, 0, 0, 1]},\n",
       "   'alleviated': {'internet': [0, 1, 0, 0], 'thing': [1, 0, 0, 0]},\n",
       "   'effect': {'internet': [0, 0, 0, 1], 'thing': [0, 0, 1, 0]},\n",
       "   'intelligent': {'internet': [1, 0, 0, 0], 'thing': [0, 1, 0, 0]},\n",
       "   'negative': {'internet': [0, 0, 1, 0], 'thing': [0, 1, 0, 0]},\n",
       "   'based': {'internet': [0, 0, 1, 0], 'thing': [0, 1, 0, 0]},\n",
       "   'service': {'internet': [0, 1, 0, 0], 'thing': [1, 0, 0, 0]},\n",
       "   'application': {'internet': [1, 0, 0, 0], 'thing': [0, 1, 0, 0]},\n",
       "   'epidemic': {'thing': [0, 0, 0, 1]}},\n",
       "  'weight': 1.0},\n",
       " {'text': {'fresh': {'iot': [0, 1, 0, 0]},\n",
       "   'considered': {'iot': [0, 0, 0, 1]},\n",
       "   'wave': {'iot': [0, 0, 1, 0], 'thing': [0, 0, 0, 1]},\n",
       "   'revolution': {'iot': [1, 1, 0, 0]},\n",
       "   'take': {'iot': [0, 0, 1, 0]},\n",
       "   'technology': {'iot': [0, 0, 0, 1]},\n",
       "   'business': {'iot': [2, 0, 0, 0]},\n",
       "   'look': {'iot': [1, 0, 0, 0]},\n",
       "   'article': {'iot': [0, 0, 0, 1]},\n",
       "   'real': {'internet': [0, 1, 0, 0], 'thing': [1, 0, 0, 0]},\n",
       "   'driving': {'iot': [1, 0, 0, 0],\n",
       "    'internet': [0, 0, 1, 0],\n",
       "    'thing': [0, 1, 0, 0]},\n",
       "   'choice': {'iot': [0, 0, 1, 0]},\n",
       "   'making': {'internet': [1, 0, 0, 0], 'thing': [0, 1, 0, 0]},\n",
       "   'made': {'iot': [0, 1, 0, 0]},\n",
       "   'major': {'iot': [0, 0, 0, 1]},\n",
       "   'next': {'iot': [0, 1, 0, 0],\n",
       "    'internet': [0, 0, 0, 1],\n",
       "    'thing': [0, 0, 1, 0]},\n",
       "   'innovation': {'iot': [0, 0, 0, 1]},\n",
       "   'called': {'iot': [0, 1, 0, 0]},\n",
       "   'driven': {'iot': [0, 0, 1, 0]},\n",
       "   'adoption': {'iot': [1, 0, 0, 0]},\n",
       "   'promise': {'iot': [0, 0, 1, 0]}},\n",
       "  'weight': 1.0},\n",
       " {'text': {'dense': {'iot': [1, 0, 0, 0],\n",
       "    'internet': [0, 0, 1, 0],\n",
       "    'thing': [0, 1, 0, 0]},\n",
       "   'according': {'iot': [0, 0, 0, 1]},\n",
       "   'modeling': {'iot': [0, 0, 1, 0]},\n",
       "   'cyberphysical': {'iot': [0, 0, 1, 0], 'thing': [0, 0, 0, 1]},\n",
       "   'opportunistic': {'iot': [1, 0, 0, 0]},\n",
       "   'smart': {'iot': [1, 0, 0, 0]},\n",
       "   'scenario': {'iot': [0, 0, 1, 0]},\n",
       "   'paper': {'iot': [0, 0, 0, 1]},\n",
       "   'importance': {'internet': [0, 0, 0, 1]},\n",
       "   'novel': {'internet': [0, 0, 1, 0], 'thing': [0, 0, 0, 1]},\n",
       "   'future': {'internet': [2, 0, 0, 0],\n",
       "    'iot': [0, 0, 1, 0],\n",
       "    'thing': [0, 2, 0, 0]},\n",
       "   'related': {'iot': [0, 1, 0, 0]},\n",
       "   'vision': {'iot': [0, 1, 0, 0]},\n",
       "   'city': {'iot': [0, 1, 0, 0]},\n",
       "   'unfolding': {'internet': [0, 0, 1, 0], 'thing': [0, 0, 0, 1]},\n",
       "   'study': {'iot': [0, 0, 1, 0]},\n",
       "   'case': {'iot': [0, 0, 0, 1]},\n",
       "   'open': {'iot': [0, 1, 0, 0],\n",
       "    'internet': [0, 0, 0, 1],\n",
       "    'thing': [0, 0, 1, 0]},\n",
       "   'service': {'internet': [0, 0, 0, 1], 'iot': [1, 0, 0, 0]},\n",
       "   'potential': {'iot': [0, 0, 0, 1],\n",
       "    'internet': [0, 1, 0, 0],\n",
       "    'thing': [0, 0, 1, 0]},\n",
       "   'ecosystem': {'iot': [0, 0, 0, 1]},\n",
       "   'approach': {'iot': [0, 1, 0, 0]},\n",
       "   'paradigm': {'internet': [0, 1, 0, 0], 'thing': [0, 0, 1, 0]},\n",
       "   'promotes': {'iot': [0, 0, 1, 0]},\n",
       "   'industrial': {'iot': [1, 0, 0, 0]}},\n",
       "  'weight': 1.0},\n",
       " {'text': {'device': {'iot': [1, 0, 0, 0],\n",
       "    'internet': [0, 0, 1, 0],\n",
       "    'thing': [0, 1, 0, 0]},\n",
       "   'data': {'iot': [0, 0, 1, 0]},\n",
       "   'challenge': {'iot': [1, 0, 0, 0]},\n",
       "   'perception': {'iot': [1, 0, 0, 0]},\n",
       "   'stream': {'iot': [0, 0, 0, 1]},\n",
       "   'based': {'internet': [0, 0, 0, 1]},\n",
       "   'resource': {'iot': [0, 0, 1, 0]},\n",
       "   'solution': {'iot': [0, 0, 0, 1]},\n",
       "   'online': {'thing': [0, 0, 0, 1],\n",
       "    'internet': [0, 0, 1, 0],\n",
       "    'iot': [0, 0, 0, 1]},\n",
       "   'constrained': {'iot': [0, 1, 0, 0]},\n",
       "   'continuous': {'iot': [0, 1, 0, 0]},\n",
       "   'answer': {'iot': [0, 0, 0, 1]},\n",
       "   'network': {'thing': [1, 0, 0, 0],\n",
       "    'internet': [0, 1, 0, 0],\n",
       "    'iot': [2, 0, 0, 0]},\n",
       "   'participate': {'iot': [0, 1, 0, 0],\n",
       "    'internet': [0, 0, 0, 1],\n",
       "    'thing': [0, 0, 1, 0]},\n",
       "   'additional': {'iot': [0, 1, 0, 0]},\n",
       "   'distributed': {'iot': [1, 0, 0, 1]},\n",
       "   'method': {'iot': [1, 0, 0, 0]},\n",
       "   'learning': {'iot': [0, 1, 0, 0]},\n",
       "   'open': {'iot': [0, 0, 1, 0], 'thing': [0, 0, 0, 1]},\n",
       "   'intrusion': {'thing': [0, 0, 1, 0],\n",
       "    'internet': [0, 1, 0, 0],\n",
       "    'iot': [0, 1, 0, 0]},\n",
       "   'layer': {'iot': [0, 1, 0, 0]},\n",
       "   'detection': {'thing': [0, 1, 0, 0],\n",
       "    'internet': [1, 0, 0, 0],\n",
       "    'iot': [0, 0, 1, 0]},\n",
       "   'machine': {'iot': [0, 0, 1, 0]}},\n",
       "  'weight': 1.0},\n",
       " {'text': {'issue': {'thing': [0, 1, 0, 1],\n",
       "    'internet': [1, 0, 0, 0],\n",
       "    'iot': [0, 0, 1, 0]},\n",
       "   'system': {'internet': [0, 1, 0, 0], 'thing': [1, 0, 0, 0]},\n",
       "   'device': {'thing': [0, 1, 0, 0],\n",
       "    'internet': [0, 0, 1, 0],\n",
       "    'iot': [2, 0, 0, 0]},\n",
       "   'extreme': {'iot': [0, 1, 0, 0],\n",
       "    'internet': [0, 0, 0, 1],\n",
       "    'thing': [0, 0, 1, 0]},\n",
       "   'peril': {'internet': [0, 0, 1, 0], 'thing': [0, 1, 0, 0]},\n",
       "   'employment': {'internet': [1, 0, 0, 0], 'thing': [0, 1, 0, 0]},\n",
       "   'layout': {'internet': [0, 0, 0, 1]},\n",
       "   'aspect': {'internet': [0, 0, 1, 0], 'thing': [0, 1, 0, 0]},\n",
       "   'challenge': {'iot': [0, 0, 1, 0], 'thing': [0, 0, 0, 1]},\n",
       "   'accordingly': {'internet': [0, 0, 0, 1]},\n",
       "   'identified': {'iot': [0, 0, 0, 1],\n",
       "    'internet': [0, 0, 0, 1],\n",
       "    'thing': [0, 0, 1, 0]},\n",
       "   'framework': {'thing': [0, 0, 0, 1],\n",
       "    'internet': [0, 0, 1, 0],\n",
       "    'iot': [0, 1, 0, 0]},\n",
       "   'engaging': {'internet': [0, 1, 0, 0], 'thing': [1, 0, 0, 0]},\n",
       "   'protect': {'iot': [1, 0, 0, 0]},\n",
       "   'various': {'internet': [0, 0, 1, 0], 'thing': [0, 0, 0, 1]},\n",
       "   'number': {'internet': [0, 1, 0, 0], 'thing': [0, 0, 1, 0]},\n",
       "   'day': {'iot': [0, 0, 1, 0],\n",
       "    'internet': [1, 0, 0, 0],\n",
       "    'thing': [0, 1, 0, 0]},\n",
       "   'transformed': {'iot': [1, 0, 0, 0],\n",
       "    'internet': [0, 0, 1, 0],\n",
       "    'thing': [0, 1, 0, 0]},\n",
       "   'paper': {'internet': [0, 0, 1, 0], 'thing': [0, 0, 0, 1]},\n",
       "   'ponder': {'iot': [0, 0, 1, 0], 'thing': [0, 0, 0, 1]},\n",
       "   'one': {'internet': [0, 0, 1, 0], 'thing': [0, 0, 0, 1]},\n",
       "   'enormous': {'internet': [0, 0, 1, 0], 'thing': [0, 0, 0, 1]},\n",
       "   'examination': {'internet': [0, 0, 0, 1]},\n",
       "   'give': {'internet': [0, 1, 0, 0], 'thing': [0, 0, 1, 0]},\n",
       "   'essentially': {'internet': [0, 1, 0, 0], 'thing': [1, 0, 0, 0]},\n",
       "   'rule': {'internet': [0, 1, 0, 0], 'thing': [0, 0, 1, 0]},\n",
       "   'created': {'iot': [0, 0, 0, 1]},\n",
       "   'stress': {'internet': [1, 0, 0, 0], 'thing': [0, 1, 0, 0]},\n",
       "   'survey': {'internet': [1, 0, 0, 0], 'thing': [0, 1, 0, 0]},\n",
       "   'life': {'internet': [0, 0, 0, 1], 'thing': [0, 0, 1, 0]},\n",
       "   'development': {'internet': [0, 0, 1, 0], 'thing': [0, 1, 0, 0]},\n",
       "   'security': {'internet': [0, 2, 0, 1],\n",
       "    'iot': [0, 1, 0, 1],\n",
       "    'thing': [0, 0, 3, 0]},\n",
       "   'protection': {'iot': [0, 0, 1, 0],\n",
       "    'internet': [1, 0, 0, 0],\n",
       "    'thing': [0, 1, 0, 0]}},\n",
       "  'weight': 1.0}]"
      ]
     },
     "execution_count": 11,
     "metadata": {},
     "output_type": "execute_result"
    }
   ],
   "source": [
    "unique_vecinity_list_by_doc = srex_new.get_unique_vecinity_dict_by_document(vecinity_matrix, limit_distance)\n",
    "unique_vecinity_list_by_doc"
   ]
  },
  {
   "cell_type": "code",
   "execution_count": 12,
   "metadata": {},
   "outputs": [],
   "source": [
    "terms_freq_list = srex_new.get_terms_frequency_list(unique_vecinity_list_by_doc)\n",
    "#terms_freq_list"
   ]
  },
  {
   "cell_type": "code",
   "execution_count": 13,
   "metadata": {},
   "outputs": [
    {
     "data": {
      "text/plain": [
       "[{'cellular': 4, 'device': 2, 'method': 2, 'multilayered': 2, 'host': 2},\n",
       " {'remotely': 6, 'accessible': 5, 'testbed': 5, 'assiut': 2, 'application': 2},\n",
       " {'blockchain': 4, 'widespread': 3, 'smart': 3, 'city': 3, 'application': 3},\n",
       " {'environment': 2, 'automation': 2, 'smart': 2, 'lab': 1},\n",
       " {'employed': 3, 'widely': 3, 'nowadays': 3, 'wireless': 2, 'different': 2},\n",
       " {'connection': 6, 'artificial': 2, 'shift': 2, 'alleviated': 2, 'effect': 2},\n",
       " {'driving': 3, 'next': 3, 'wave': 2, 'revolution': 2, 'business': 2},\n",
       " {'future': 5, 'dense': 3, 'open': 3, 'potential': 3, 'cyberphysical': 2},\n",
       " {'network': 4, 'device': 3, 'online': 3, 'participate': 3, 'intrusion': 3},\n",
       " {'security': 8, 'issue': 4, 'device': 4, 'extreme': 3, 'identified': 3}]"
      ]
     },
     "execution_count": 13,
     "metadata": {},
     "output_type": "execute_result"
    }
   ],
   "source": [
    "# Aplicar la función a cada diccionario en la lista\n",
    "first_sorted_terms_freq_list = srex_new.get_first_sorted_terms_frequency_list(terms_freq_list, nr_of_graph_terms)\n",
    "first_sorted_terms_freq_list"
   ]
  },
  {
   "cell_type": "code",
   "execution_count": 14,
   "metadata": {},
   "outputs": [
    {
     "data": {
      "text/plain": [
       "[{'cellular': {'frequency': 4, 'distance': 2.5},\n",
       "  'device': {'frequency': 2, 'distance': 2.5},\n",
       "  'method': {'frequency': 2, 'distance': 2.5},\n",
       "  'multilayered': {'frequency': 2, 'distance': 2.5},\n",
       "  'host': {'frequency': 2, 'distance': 2.5}},\n",
       " {'remotely': {'frequency': 6, 'distance': 2.5},\n",
       "  'accessible': {'frequency': 5, 'distance': 2.3333333333333335},\n",
       "  'testbed': {'frequency': 5, 'distance': 2.6666666666666665},\n",
       "  'assiut': {'frequency': 2, 'distance': 1.0},\n",
       "  'application': {'frequency': 2, 'distance': 1.0}},\n",
       " {'blockchain': {'frequency': 4, 'distance': 2.5},\n",
       "  'widespread': {'frequency': 3, 'distance': 4.0},\n",
       "  'smart': {'frequency': 3, 'distance': 1.0},\n",
       "  'city': {'frequency': 3, 'distance': 2.0},\n",
       "  'application': {'frequency': 3, 'distance': 3.0}},\n",
       " {'environment': {'frequency': 2, 'distance': 2.5},\n",
       "  'automation': {'frequency': 2, 'distance': 2.5},\n",
       "  'smart': {'frequency': 2, 'distance': 2.5},\n",
       "  'lab': {'frequency': 1, 'distance': 2.5}},\n",
       " {'employed': {'frequency': 3, 'distance': 2.0},\n",
       "  'widely': {'frequency': 3, 'distance': 1.0},\n",
       "  'nowadays': {'frequency': 3, 'distance': 3.0},\n",
       "  'wireless': {'frequency': 2, 'distance': 2.5},\n",
       "  'different': {'frequency': 2, 'distance': 3.0}},\n",
       " {'connection': {'frequency': 6, 'distance': 2.5},\n",
       "  'artificial': {'frequency': 2, 'distance': 2.5},\n",
       "  'shift': {'frequency': 2, 'distance': 2.5},\n",
       "  'alleviated': {'frequency': 2, 'distance': 2.5},\n",
       "  'effect': {'frequency': 2, 'distance': 2.5}},\n",
       " {'driving': {'frequency': 3, 'distance': 1.0},\n",
       "  'next': {'frequency': 3, 'distance': 2.0},\n",
       "  'wave': {'frequency': 2, 'distance': 3.0},\n",
       "  'revolution': {'frequency': 2, 'distance': 1.5},\n",
       "  'business': {'frequency': 2, 'distance': 1.0}},\n",
       " {'future': {'frequency': 5, 'distance': 3.0},\n",
       "  'dense': {'frequency': 3, 'distance': 1.0},\n",
       "  'open': {'frequency': 3, 'distance': 2.0},\n",
       "  'potential': {'frequency': 3, 'distance': 4.0},\n",
       "  'cyberphysical': {'frequency': 2, 'distance': 3.0}},\n",
       " {'network': {'frequency': 4, 'distance': 1.0},\n",
       "  'device': {'frequency': 3, 'distance': 1.0},\n",
       "  'online': {'frequency': 3, 'distance': 4.0},\n",
       "  'participate': {'frequency': 3, 'distance': 2.0},\n",
       "  'intrusion': {'frequency': 3, 'distance': 2.0}},\n",
       " {'security': {'frequency': 8, 'distance': 3.0},\n",
       "  'issue': {'frequency': 4, 'distance': 3.0},\n",
       "  'device': {'frequency': 4, 'distance': 1.0},\n",
       "  'extreme': {'frequency': 3, 'distance': 2.0},\n",
       "  'identified': {'frequency': 3, 'distance': 4.0}}]"
      ]
     },
     "execution_count": 14,
     "metadata": {},
     "output_type": "execute_result"
    }
   ],
   "source": [
    "most_freq_distance_list = srex_new.get_most_frequency_distance_list(first_sorted_terms_freq_list, unique_vecinity_list_by_doc, reference_terms[0], limit_distance)\n",
    "most_freq_distance_list"
   ]
  },
  {
   "cell_type": "code",
   "execution_count": 15,
   "metadata": {},
   "outputs": [],
   "source": [
    "doc_index = 9\n",
    "graph = srex_new.getGraphViz(reference_terms[0], most_freq_distance_list[doc_index], '0.7', 'deepskyblue')"
   ]
  },
  {
   "cell_type": "code",
   "execution_count": 16,
   "metadata": {},
   "outputs": [
    {
     "data": {
      "image/svg+xml": [
       "<?xml version=\"1.0\" encoding=\"UTF-8\" standalone=\"no\"?>\n",
       "<!DOCTYPE svg PUBLIC \"-//W3C//DTD SVG 1.1//EN\"\n",
       " \"http://www.w3.org/Graphics/SVG/1.1/DTD/svg11.dtd\">\n",
       "<!-- Generated by graphviz version 10.0.1 (20240210.2158)\n",
       " -->\n",
       "<!-- Title: G Pages: 1 -->\n",
       "<svg width=\"451pt\" height=\"630pt\"\n",
       " viewBox=\"0.00 0.00 450.84 630.22\" xmlns=\"http://www.w3.org/2000/svg\" xmlns:xlink=\"http://www.w3.org/1999/xlink\">\n",
       "<g id=\"graph0\" class=\"graph\" transform=\"scale(1 1) rotate(0) translate(4 626.22)\">\n",
       "<title>G</title>\n",
       "<polygon fill=\"white\" stroke=\"none\" points=\"-4,4 -4,-626.22 446.84,-626.22 446.84,4 -4,4\"/>\n",
       "<!-- 0 -->\n",
       "<g id=\"node1\" class=\"node\">\n",
       "<title>0</title>\n",
       "<ellipse fill=\"#c1cdcd\" stroke=\"black\" cx=\"267.42\" cy=\"-251.13\" rx=\"25.2\" ry=\"25.2\"/>\n",
       "<text text-anchor=\"middle\" x=\"267.42\" y=\"-247.26\" font-family=\"Times New Roman,serif\" font-size=\"10.00\">iot</text>\n",
       "</g>\n",
       "<!-- &#39;1&#39; -->\n",
       "<g id=\"node2\" class=\"node\">\n",
       "<title>&#39;1&#39;</title>\n",
       "<ellipse fill=\"none\" stroke=\"deepskyblue\" stroke-width=\"8\" cx=\"25.2\" cy=\"-185.76\" rx=\"25.2\" ry=\"25.2\"/>\n",
       "<text text-anchor=\"middle\" x=\"25.2\" y=\"-181.88\" font-family=\"Times New Roman,serif\" font-size=\"10.00\">security</text>\n",
       "</g>\n",
       "<!-- 0&#45;&#45;&#39;1&#39; -->\n",
       "<g id=\"edge1\" class=\"edge\">\n",
       "<title>0&#45;&#45;&#39;1&#39;</title>\n",
       "<path fill=\"none\" stroke=\"black\" d=\"M242.86,-244.51C197.52,-232.27 100.94,-206.2 53.16,-193.3\"/>\n",
       "<text text-anchor=\"middle\" x=\"139.39\" y=\"-221.35\" font-family=\"Times New Roman,serif\" font-size=\"14.00\">3.0</text>\n",
       "</g>\n",
       "<!-- &#39;2&#39; -->\n",
       "<g id=\"node3\" class=\"node\">\n",
       "<title>&#39;2&#39;</title>\n",
       "<ellipse fill=\"none\" stroke=\"deepskyblue\" stroke-width=\"4\" cx=\"330.93\" cy=\"-25.2\" rx=\"25.2\" ry=\"25.2\"/>\n",
       "<text text-anchor=\"middle\" x=\"330.93\" y=\"-21.32\" font-family=\"Times New Roman,serif\" font-size=\"10.00\">issue</text>\n",
       "</g>\n",
       "<!-- 0&#45;&#45;&#39;2&#39; -->\n",
       "<g id=\"edge2\" class=\"edge\">\n",
       "<title>0&#45;&#45;&#39;2&#39;</title>\n",
       "<path fill=\"none\" stroke=\"black\" d=\"M274.34,-226.53C286.43,-183.52 311.28,-95.1 323.63,-51.17\"/>\n",
       "<text text-anchor=\"middle\" x=\"290.36\" y=\"-141.3\" font-family=\"Times New Roman,serif\" font-size=\"14.00\">3.0</text>\n",
       "</g>\n",
       "<!-- &#39;3&#39; -->\n",
       "<g id=\"node4\" class=\"node\">\n",
       "<title>&#39;3&#39;</title>\n",
       "<ellipse fill=\"none\" stroke=\"deepskyblue\" stroke-width=\"4\" cx=\"223.37\" cy=\"-305.95\" rx=\"25.2\" ry=\"25.2\"/>\n",
       "<text text-anchor=\"middle\" x=\"223.37\" y=\"-302.08\" font-family=\"Times New Roman,serif\" font-size=\"10.00\">device</text>\n",
       "</g>\n",
       "<!-- 0&#45;&#45;&#39;3&#39; -->\n",
       "<g id=\"edge3\" class=\"edge\">\n",
       "<title>0&#45;&#45;&#39;3&#39;</title>\n",
       "<path fill=\"none\" stroke=\"black\" d=\"M251.52,-270.92C247.87,-275.46 243.98,-280.3 240.29,-284.89\"/>\n",
       "<text text-anchor=\"middle\" x=\"254.53\" y=\"-280.36\" font-family=\"Times New Roman,serif\" font-size=\"14.00\">1.0</text>\n",
       "</g>\n",
       "<!-- &#39;4&#39; -->\n",
       "<g id=\"node5\" class=\"node\">\n",
       "<title>&#39;4&#39;</title>\n",
       "<ellipse fill=\"none\" stroke=\"deepskyblue\" stroke-width=\"3\" cx=\"417.64\" cy=\"-289.14\" rx=\"25.2\" ry=\"25.2\"/>\n",
       "<text text-anchor=\"middle\" x=\"417.64\" y=\"-285.26\" font-family=\"Times New Roman,serif\" font-size=\"10.00\">extreme</text>\n",
       "</g>\n",
       "<!-- 0&#45;&#45;&#39;4&#39; -->\n",
       "<g id=\"edge4\" class=\"edge\">\n",
       "<title>0&#45;&#45;&#39;4&#39;</title>\n",
       "<path fill=\"none\" stroke=\"black\" d=\"M292.23,-257.41C319.72,-264.37 363.87,-275.54 391.79,-282.6\"/>\n",
       "<text text-anchor=\"middle\" x=\"333.38\" y=\"-272.45\" font-family=\"Times New Roman,serif\" font-size=\"14.00\">2.0</text>\n",
       "</g>\n",
       "<!-- &#39;5&#39; -->\n",
       "<g id=\"node6\" class=\"node\">\n",
       "<title>&#39;5&#39;</title>\n",
       "<ellipse fill=\"none\" stroke=\"deepskyblue\" stroke-width=\"3\" cx=\"232.96\" cy=\"-597.02\" rx=\"25.2\" ry=\"25.2\"/>\n",
       "<text text-anchor=\"middle\" x=\"232.96\" y=\"-593.14\" font-family=\"Times New Roman,serif\" font-size=\"10.00\">identified</text>\n",
       "</g>\n",
       "<!-- 0&#45;&#45;&#39;5&#39; -->\n",
       "<g id=\"edge5\" class=\"edge\">\n",
       "<title>0&#45;&#45;&#39;5&#39;</title>\n",
       "<path fill=\"none\" stroke=\"black\" d=\"M264.89,-276.57C258.55,-340.22 242.04,-505.91 235.6,-570.6\"/>\n",
       "<text text-anchor=\"middle\" x=\"241.62\" y=\"-426.03\" font-family=\"Times New Roman,serif\" font-size=\"14.00\">4.0</text>\n",
       "</g>\n",
       "</g>\n",
       "</svg>\n"
      ],
      "text/plain": [
       "<graphviz.graphs.Graph at 0x2291f6e3bf0>"
      ]
     },
     "execution_count": 16,
     "metadata": {},
     "output_type": "execute_result"
    }
   ],
   "source": [
    "graph"
   ]
  }
 ],
 "metadata": {
  "kernelspec": {
   "display_name": "Python 3",
   "language": "python",
   "name": "python3"
  },
  "language_info": {
   "codemirror_mode": {
    "name": "ipython",
    "version": 3
   },
   "file_extension": ".py",
   "mimetype": "text/x-python",
   "name": "python",
   "nbconvert_exporter": "python",
   "pygments_lexer": "ipython3",
   "version": "3.12.2"
  }
 },
 "nbformat": 4,
 "nbformat_minor": 4
}
