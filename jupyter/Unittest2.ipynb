{
 "cells": [
  {
   "cell_type": "markdown",
   "metadata": {},
   "source": [
    "# Testing SREX Classes"
   ]
  },
  {
   "cell_type": "markdown",
   "metadata": {},
   "source": [
    "## Load libraries"
   ]
  },
  {
   "cell_type": "code",
   "execution_count": 1,
   "metadata": {},
   "outputs": [
    {
     "name": "stderr",
     "output_type": "stream",
     "text": [
      "[nltk_data] Downloading package stopwords to\n",
      "[nltk_data]     C:\\Users\\kianu\\AppData\\Roaming\\nltk_data...\n",
      "[nltk_data]   Package stopwords is already up-to-date!\n",
      "[nltk_data] Downloading package punkt to\n",
      "[nltk_data]     C:\\Users\\kianu\\AppData\\Roaming\\nltk_data...\n",
      "[nltk_data]   Package punkt is already up-to-date!\n",
      "[nltk_data] Downloading package wordnet to\n",
      "[nltk_data]     C:\\Users\\kianu\\AppData\\Roaming\\nltk_data...\n",
      "[nltk_data]   Package wordnet is already up-to-date!\n",
      "[nltk_data] Downloading package omw-1.4 to\n",
      "[nltk_data]     C:\\Users\\kianu\\AppData\\Roaming\\nltk_data...\n",
      "[nltk_data]   Package omw-1.4 is already up-to-date!\n"
     ]
    },
    {
     "data": {
      "text/plain": [
       "True"
      ]
     },
     "execution_count": 1,
     "metadata": {},
     "output_type": "execute_result"
    }
   ],
   "source": [
    "import srex_new_classes as srex\n",
    "from stop_words import get_stop_words\n",
    "import nltk\n",
    "from nltk.corpus import stopwords\n",
    "\n",
    "#Download stopword\n",
    "nltk.download('stopwords') \n",
    "nltk.download('punkt') # Tokenizers\n",
    "nltk.download('wordnet') # Wordnet\n",
    "nltk.download('omw-1.4')"
   ]
  },
  {
   "cell_type": "markdown",
   "metadata": {},
   "source": [
    "# Initialize some variables"
   ]
  },
  {
   "cell_type": "code",
   "execution_count": 2,
   "metadata": {},
   "outputs": [],
   "source": [
    "# Stop Words\n",
    "stop_words_list = stopwords.words('english') #a small one\n",
    "newStopWords = get_stop_words('en') # a big one\n",
    "stop_words_list.extend(newStopWords) # all together"
   ]
  },
  {
   "cell_type": "markdown",
   "metadata": {},
   "source": [
    "## Define the documents/paragraphs and configure parameters"
   ]
  },
  {
   "cell_type": "code",
   "execution_count": 28,
   "metadata": {},
   "outputs": [],
   "source": [
    "query                    = 'network'\n",
    "ranking_weight_type      = 'linear' # it can be: 'none', 'linear' or 'inverse'\n",
    "lema                     = True\n",
    "stem                     = False\n",
    "summarize                = 'mean'   # it can be: 'mean' or 'median'\n",
    "nr_of_graph_terms        = 5\n",
    "limit_distance           = 4 \n",
    "include_reference_terms  = True\n",
    "\n",
    "text1 = 'perro hierarchical SIMkNN dual-index driven, children network we adopt hierarchical gato R-tree to store the topology of the road network and gato hierarchical topology grid model to manage the moving objects in non-uniform distribution perro'\n",
    "text2 = 'perro hierarchical SIMkNN dual-index driven, house network car adopt hierarchical gato R-tree to store the topology of the road network and gato hierarchical topology grid model to manage the moving objects in non-uniform distribution perro'\n",
    "text3 = 'perro hierarchical SIMkNN dual-index driven, echeverria network patricio adopt hierarchical gato R-tree to galeas the topology of the road network abel gato hierarchical topology grid model temuco manage galeas moving objects abel non-uniform patricio perro'\n",
    "text4 = 'ant hierarchical SIMkNN dual-index driven, echeverria network rain adopt hierarchical rain R-tree to galeas the topology of the road network abel gato hierarchical topology grid model rain manage galeas moving objects abel non-uniform patricio ant'\n",
    "title5 = 'A Scalable Method for in-Memory kNN Search over Moving Objects in Road Networks'\n",
    "abstract5 = 'Nowadays, many location-based applications require the ability of querying k-nearest neighbors over a very large scale of moving objects in road networks, e.g., taxi-calling and ride-sharing services. Traditional grid index with equal-sized cells can not adapt to the skewed distribution of moving objects in real scenarios. Thus, to obtain the fast querying response time, the grid needs to be split into more smaller cells which introduces the side-effect of higher memory cost, i.e., maintaining such a large volume of cells requires a much larger memory space at the server side. In this paper, we present SIMkNN, a scalable and in-memory kNN query processing technique. SIMkNN is dual-index driven, where we adopt a R-tree to store the topology of the road network and a hierarchical grid model to manage the moving objects in non-uniform distribution. To answer a kNN query in real time, SIMkNN adopts the strategy that incrementally enlarges the search area for network distance based nearest neighbor evaluation. It is far from trivial to perform the space expansion within the hierarchical grid index. For a given cell, we first define its neighbors in different directions, then propose a cell communication technique which allows each cell in the hierarchical grid index to be aware of its neighbors at anytime. Accordingly, an efficient space expansion algorithm to generate the estimation area is proposed. The experimental evaluation shows that SIMkNN outperforms the baseline algorithm in terms of time and memory efficiency.'\n",
    "\n",
    "list_of_articles_dicts = [{'abstract': text1}, \n",
    "                          {'abstract': text2}, \n",
    "                          {'abstract': text3}, \n",
    "                          {'abstract': text4},\n",
    "                          {'title': title5, 'abstract': abstract5}]\n",
    "\n",
    "#paragraph_text1 = 'house network cat car'\n",
    "#paragraph_text2 = 'house network cat'"
   ]
  },
  {
   "cell_type": "markdown",
   "metadata": {},
   "source": [
    "## Define sentence objects"
   ]
  },
  {
   "cell_type": "code",
   "execution_count": 29,
   "metadata": {},
   "outputs": [],
   "source": [
    "ranking = srex.Ranking(query, ranking_weight_type=ranking_weight_type, stop_words=stop_words_list, lemmatization=lema, stemming=stem)\n",
    "ranking.calculate_article_dictionaries_list(list_of_articles_dicts)"
   ]
  },
  {
   "cell_type": "markdown",
   "metadata": {},
   "source": [
    "## Calculate the Graphs"
   ]
  },
  {
   "cell_type": "code",
   "execution_count": 30,
   "metadata": {},
   "outputs": [],
   "source": [
    "ranking.generate_all_graphs(nr_of_graph_terms, limit_distance, include_reference_terms, summarize)"
   ]
  },
  {
   "cell_type": "markdown",
   "metadata": {},
   "source": [
    "## Plot the graphs"
   ]
  },
  {
   "cell_type": "code",
   "execution_count": 31,
   "metadata": {
    "slideshow": {
     "slide_type": "fragment"
    }
   },
   "outputs": [
    {
     "name": "stdout",
     "output_type": "stream",
     "text": [
      "SUBQUERY: network\n",
      "TERM: gato ; PONDERATION: 3.0 ; DISTANCE: 2.7\n",
      "TERM: hierarchical ; PONDERATION: 3.0 ; DISTANCE: 2.7\n",
      "TERM: store ; PONDERATION: 2.0 ; DISTANCE: 3.5\n",
      "TERM: topology ; PONDERATION: 2.0 ; DISTANCE: 2.5\n",
      "TERM: adopt ; PONDERATION: 1.0 ; DISTANCE: 1.0\n",
      "TERM: child ; PONDERATION: 1.0 ; DISTANCE: 1.0\n",
      "TERM: grid ; PONDERATION: 1.0 ; DISTANCE: 4.0\n",
      "TERM: driven ; PONDERATION: 1.0 ; DISTANCE: 2.0\n",
      "TERM: simknn ; PONDERATION: 1.0 ; DISTANCE: 3.0\n",
      "TERM: road ; PONDERATION: 1.0 ; DISTANCE: 1.0\n"
     ]
    },
    {
     "data": {
      "image/svg+xml": [
       "<?xml version=\"1.0\" encoding=\"UTF-8\" standalone=\"no\"?>\n",
       "<!DOCTYPE svg PUBLIC \"-//W3C//DTD SVG 1.1//EN\"\n",
       " \"http://www.w3.org/Graphics/SVG/1.1/DTD/svg11.dtd\">\n",
       "<!-- Generated by graphviz version 10.0.1 (20240210.2158)\n",
       " -->\n",
       "<!-- Title: G Pages: 1 -->\n",
       "<svg width=\"423pt\" height=\"451pt\"\n",
       " viewBox=\"0.00 0.00 423.01 450.85\" xmlns=\"http://www.w3.org/2000/svg\" xmlns:xlink=\"http://www.w3.org/1999/xlink\">\n",
       "<g id=\"graph0\" class=\"graph\" transform=\"scale(1 1) rotate(0) translate(4 446.85)\">\n",
       "<title>G</title>\n",
       "<polygon fill=\"white\" stroke=\"none\" points=\"-4,4 -4,-446.85 419.01,-446.85 419.01,4 -4,4\"/>\n",
       "<!-- 0 -->\n",
       "<g id=\"node1\" class=\"node\">\n",
       "<title>0</title>\n",
       "<ellipse fill=\"#c1cdcd\" stroke=\"black\" cx=\"243.09\" cy=\"-198.41\" rx=\"25.2\" ry=\"25.2\"/>\n",
       "<text text-anchor=\"middle\" x=\"243.09\" y=\"-194.54\" font-family=\"Times New Roman,serif\" font-size=\"10.00\">network</text>\n",
       "</g>\n",
       "<!-- &#39;1&#39; -->\n",
       "<g id=\"node2\" class=\"node\">\n",
       "<title>&#39;1&#39;</title>\n",
       "<ellipse fill=\"none\" stroke=\"deepskyblue\" stroke-width=\"3\" cx=\"389.81\" cy=\"-358.67\" rx=\"25.2\" ry=\"25.2\"/>\n",
       "<text text-anchor=\"middle\" x=\"389.81\" y=\"-354.79\" font-family=\"Times New Roman,serif\" font-size=\"10.00\">gato</text>\n",
       "</g>\n",
       "<!-- 0&#45;&#45;&#39;1&#39; -->\n",
       "<g id=\"edge1\" class=\"edge\">\n",
       "<title>0&#45;&#45;&#39;1&#39;</title>\n",
       "<path fill=\"none\" stroke=\"black\" d=\"M260.21,-217.11C288.18,-247.66 343.4,-307.98 371.88,-339.09\"/>\n",
       "<text text-anchor=\"middle\" x=\"307.42\" y=\"-280.55\" font-family=\"Times New Roman,serif\" font-size=\"14.00\">2.7</text>\n",
       "</g>\n",
       "<!-- &#39;2&#39; -->\n",
       "<g id=\"node3\" class=\"node\">\n",
       "<title>&#39;2&#39;</title>\n",
       "<ellipse fill=\"none\" stroke=\"deepskyblue\" stroke-width=\"3\" cx=\"97.44\" cy=\"-25.2\" rx=\"25.2\" ry=\"25.2\"/>\n",
       "<text text-anchor=\"middle\" x=\"97.44\" y=\"-21.32\" font-family=\"Times New Roman,serif\" font-size=\"10.00\">hierarchical</text>\n",
       "</g>\n",
       "<!-- 0&#45;&#45;&#39;2&#39; -->\n",
       "<g id=\"edge2\" class=\"edge\">\n",
       "<title>0&#45;&#45;&#39;2&#39;</title>\n",
       "<path fill=\"none\" stroke=\"black\" d=\"M226.67,-178.88C198.84,-145.79 142.72,-79.04 114.48,-45.46\"/>\n",
       "<text text-anchor=\"middle\" x=\"161.95\" y=\"-114.62\" font-family=\"Times New Roman,serif\" font-size=\"14.00\">2.7</text>\n",
       "</g>\n",
       "<!-- &#39;3&#39; -->\n",
       "<g id=\"node4\" class=\"node\">\n",
       "<title>&#39;3&#39;</title>\n",
       "<ellipse fill=\"none\" stroke=\"deepskyblue\" stroke-width=\"2\" cx=\"25.2\" cy=\"-417.65\" rx=\"25.2\" ry=\"25.2\"/>\n",
       "<text text-anchor=\"middle\" x=\"25.2\" y=\"-413.77\" font-family=\"Times New Roman,serif\" font-size=\"10.00\">store</text>\n",
       "</g>\n",
       "<!-- 0&#45;&#45;&#39;3&#39; -->\n",
       "<g id=\"edge3\" class=\"edge\">\n",
       "<title>0&#45;&#45;&#39;3&#39;</title>\n",
       "<path fill=\"none\" stroke=\"black\" d=\"M225.26,-216.35C184.5,-257.36 84.87,-357.61 43.58,-399.15\"/>\n",
       "<text text-anchor=\"middle\" x=\"125.8\" y=\"-310.2\" font-family=\"Times New Roman,serif\" font-size=\"14.00\">3.5</text>\n",
       "</g>\n",
       "<!-- &#39;4&#39; -->\n",
       "<g id=\"node5\" class=\"node\">\n",
       "<title>&#39;4&#39;</title>\n",
       "<ellipse fill=\"none\" stroke=\"deepskyblue\" stroke-width=\"2\" cx=\"385.03\" cy=\"-71.26\" rx=\"25.2\" ry=\"25.2\"/>\n",
       "<text text-anchor=\"middle\" x=\"385.03\" y=\"-67.38\" font-family=\"Times New Roman,serif\" font-size=\"10.00\">topology</text>\n",
       "</g>\n",
       "<!-- 0&#45;&#45;&#39;4&#39; -->\n",
       "<g id=\"edge4\" class=\"edge\">\n",
       "<title>0&#45;&#45;&#39;4&#39;</title>\n",
       "<path fill=\"none\" stroke=\"black\" d=\"M262.23,-181.26C289.32,-156.99 338.56,-112.88 365.73,-88.54\"/>\n",
       "<text text-anchor=\"middle\" x=\"305.36\" y=\"-137.35\" font-family=\"Times New Roman,serif\" font-size=\"14.00\">2.5</text>\n",
       "</g>\n",
       "<!-- &#39;5&#39; -->\n",
       "<g id=\"node6\" class=\"node\">\n",
       "<title>&#39;5&#39;</title>\n",
       "<ellipse fill=\"none\" stroke=\"deepskyblue\" cx=\"181.74\" cy=\"-230.02\" rx=\"25.2\" ry=\"25.2\"/>\n",
       "<text text-anchor=\"middle\" x=\"181.74\" y=\"-226.15\" font-family=\"Times New Roman,serif\" font-size=\"10.00\">adopt</text>\n",
       "</g>\n",
       "<!-- 0&#45;&#45;&#39;5&#39; -->\n",
       "<g id=\"edge5\" class=\"edge\">\n",
       "<title>0&#45;&#45;&#39;5&#39;</title>\n",
       "<path fill=\"none\" stroke=\"black\" d=\"M220.25,-210.18C215.07,-212.85 209.57,-215.68 204.4,-218.35\"/>\n",
       "<text text-anchor=\"middle\" x=\"208.01\" y=\"-200.96\" font-family=\"Times New Roman,serif\" font-size=\"14.00\">1.0</text>\n",
       "</g>\n",
       "</g>\n",
       "</svg>\n"
      ],
      "text/plain": [
       "<graphviz.graphs.Graph at 0x27be8952540>"
      ]
     },
     "execution_count": 31,
     "metadata": {},
     "output_type": "execute_result"
    }
   ],
   "source": [
    "g1 = ranking.get_document_by_ranking_position(1).get_graph()\n",
    "print(g1)\n",
    "visual_graph1 = g1.get_graph_viz('0.7', 'deepskyblue')\n",
    "visual_graph1"
   ]
  },
  {
   "cell_type": "code",
   "execution_count": 32,
   "metadata": {},
   "outputs": [
    {
     "name": "stdout",
     "output_type": "stream",
     "text": [
      "SUBQUERY: network\n",
      "TERM: gato ; PONDERATION: 2.8 ; DISTANCE: 3.0\n",
      "TERM: hierarchical ; PONDERATION: 2.8 ; DISTANCE: 3.0\n",
      "TERM: topology ; PONDERATION: 1.9 ; DISTANCE: 2.5\n",
      "TERM: store ; PONDERATION: 0.9 ; DISTANCE: 3.0\n",
      "TERM: house ; PONDERATION: 0.9 ; DISTANCE: 1.0\n",
      "TERM: adopt ; PONDERATION: 0.9 ; DISTANCE: 2.0\n",
      "TERM: grid ; PONDERATION: 0.9 ; DISTANCE: 4.0\n",
      "TERM: driven ; PONDERATION: 0.9 ; DISTANCE: 2.0\n",
      "TERM: car ; PONDERATION: 0.9 ; DISTANCE: 1.0\n",
      "TERM: simknn ; PONDERATION: 0.9 ; DISTANCE: 3.0\n",
      "TERM: road ; PONDERATION: 0.9 ; DISTANCE: 1.0\n"
     ]
    },
    {
     "data": {
      "image/svg+xml": [
       "<?xml version=\"1.0\" encoding=\"UTF-8\" standalone=\"no\"?>\n",
       "<!DOCTYPE svg PUBLIC \"-//W3C//DTD SVG 1.1//EN\"\n",
       " \"http://www.w3.org/Graphics/SVG/1.1/DTD/svg11.dtd\">\n",
       "<!-- Generated by graphviz version 10.0.1 (20240210.2158)\n",
       " -->\n",
       "<!-- Title: G Pages: 1 -->\n",
       "<svg width=\"487pt\" height=\"431pt\"\n",
       " viewBox=\"0.00 0.00 487.07 431.11\" xmlns=\"http://www.w3.org/2000/svg\" xmlns:xlink=\"http://www.w3.org/1999/xlink\">\n",
       "<g id=\"graph0\" class=\"graph\" transform=\"scale(1 1) rotate(0) translate(4 427.11)\">\n",
       "<title>G</title>\n",
       "<polygon fill=\"white\" stroke=\"none\" points=\"-4,4 -4,-427.11 483.07,-427.11 483.07,4 -4,4\"/>\n",
       "<!-- 0 -->\n",
       "<g id=\"node1\" class=\"node\">\n",
       "<title>0</title>\n",
       "<ellipse fill=\"#c1cdcd\" stroke=\"black\" cx=\"257.29\" cy=\"-233.71\" rx=\"25.2\" ry=\"25.2\"/>\n",
       "<text text-anchor=\"middle\" x=\"257.29\" y=\"-229.84\" font-family=\"Times New Roman,serif\" font-size=\"10.00\">network</text>\n",
       "</g>\n",
       "<!-- &#39;1&#39; -->\n",
       "<g id=\"node2\" class=\"node\">\n",
       "<title>&#39;1&#39;</title>\n",
       "<ellipse fill=\"none\" stroke=\"deepskyblue\" stroke-width=\"2.85\" cx=\"409.2\" cy=\"-25.2\" rx=\"25.2\" ry=\"25.2\"/>\n",
       "<text text-anchor=\"middle\" x=\"409.2\" y=\"-21.32\" font-family=\"Times New Roman,serif\" font-size=\"10.00\">gato</text>\n",
       "</g>\n",
       "<!-- 0&#45;&#45;&#39;1&#39; -->\n",
       "<g id=\"edge1\" class=\"edge\">\n",
       "<title>0&#45;&#45;&#39;1&#39;</title>\n",
       "<path fill=\"none\" stroke=\"black\" d=\"M272.41,-212.96C301.45,-173.09 364.75,-86.22 393.92,-46.18\"/>\n",
       "<text text-anchor=\"middle\" x=\"324.54\" y=\"-132.02\" font-family=\"Times New Roman,serif\" font-size=\"14.00\">3.0</text>\n",
       "</g>\n",
       "<!-- &#39;2&#39; -->\n",
       "<g id=\"node3\" class=\"node\">\n",
       "<title>&#39;2&#39;</title>\n",
       "<ellipse fill=\"none\" stroke=\"deepskyblue\" stroke-width=\"2.85\" cx=\"25.2\" cy=\"-108.86\" rx=\"25.2\" ry=\"25.2\"/>\n",
       "<text text-anchor=\"middle\" x=\"25.2\" y=\"-104.99\" font-family=\"Times New Roman,serif\" font-size=\"10.00\">hierarchical</text>\n",
       "</g>\n",
       "<!-- 0&#45;&#45;&#39;2&#39; -->\n",
       "<g id=\"edge2\" class=\"edge\">\n",
       "<title>0&#45;&#45;&#39;2&#39;</title>\n",
       "<path fill=\"none\" stroke=\"black\" d=\"M235.03,-221.74C190.9,-198 92.7,-145.17 48.07,-121.16\"/>\n",
       "<text text-anchor=\"middle\" x=\"132.93\" y=\"-173.9\" font-family=\"Times New Roman,serif\" font-size=\"14.00\">3.0</text>\n",
       "</g>\n",
       "<!-- &#39;3&#39; -->\n",
       "<g id=\"node4\" class=\"node\">\n",
       "<title>&#39;3&#39;</title>\n",
       "<ellipse fill=\"none\" stroke=\"deepskyblue\" stroke-width=\"1.9\" cx=\"154.03\" cy=\"-397.91\" rx=\"25.2\" ry=\"25.2\"/>\n",
       "<text text-anchor=\"middle\" x=\"154.03\" y=\"-394.03\" font-family=\"Times New Roman,serif\" font-size=\"10.00\">topology</text>\n",
       "</g>\n",
       "<!-- 0&#45;&#45;&#39;3&#39; -->\n",
       "<g id=\"edge3\" class=\"edge\">\n",
       "<title>0&#45;&#45;&#39;3&#39;</title>\n",
       "<path fill=\"none\" stroke=\"black\" d=\"M243.79,-255.18C224.05,-286.56 187.52,-344.64 167.69,-376.17\"/>\n",
       "<text text-anchor=\"middle\" x=\"197.12\" y=\"-318.13\" font-family=\"Times New Roman,serif\" font-size=\"14.00\">2.5</text>\n",
       "</g>\n",
       "<!-- &#39;4&#39; -->\n",
       "<g id=\"node5\" class=\"node\">\n",
       "<title>&#39;4&#39;</title>\n",
       "<ellipse fill=\"none\" stroke=\"deepskyblue\" stroke-width=\"0.95\" cx=\"453.87\" cy=\"-361.65\" rx=\"25.2\" ry=\"25.2\"/>\n",
       "<text text-anchor=\"middle\" x=\"453.87\" y=\"-357.77\" font-family=\"Times New Roman,serif\" font-size=\"10.00\">store</text>\n",
       "</g>\n",
       "<!-- 0&#45;&#45;&#39;4&#39; -->\n",
       "<g id=\"edge4\" class=\"edge\">\n",
       "<title>0&#45;&#45;&#39;4&#39;</title>\n",
       "<path fill=\"none\" stroke=\"black\" d=\"M278.7,-247.65C316.61,-272.32 395.1,-323.4 432.79,-347.93\"/>\n",
       "<text text-anchor=\"middle\" x=\"347.12\" y=\"-300.24\" font-family=\"Times New Roman,serif\" font-size=\"14.00\">3.0</text>\n",
       "</g>\n",
       "<!-- &#39;5&#39; -->\n",
       "<g id=\"node6\" class=\"node\">\n",
       "<title>&#39;5&#39;</title>\n",
       "<ellipse fill=\"none\" stroke=\"deepskyblue\" stroke-width=\"0.95\" cx=\"236.47\" cy=\"-168.4\" rx=\"25.2\" ry=\"25.2\"/>\n",
       "<text text-anchor=\"middle\" x=\"236.47\" y=\"-164.53\" font-family=\"Times New Roman,serif\" font-size=\"10.00\">house</text>\n",
       "</g>\n",
       "<!-- 0&#45;&#45;&#39;5&#39; -->\n",
       "<g id=\"edge5\" class=\"edge\">\n",
       "<title>0&#45;&#45;&#39;5&#39;</title>\n",
       "<path fill=\"none\" stroke=\"black\" d=\"M249.53,-209.39C247.73,-203.74 245.81,-197.72 244.02,-192.09\"/>\n",
       "<text text-anchor=\"middle\" x=\"238.15\" y=\"-203.19\" font-family=\"Times New Roman,serif\" font-size=\"14.00\">1.0</text>\n",
       "</g>\n",
       "</g>\n",
       "</svg>\n"
      ],
      "text/plain": [
       "<graphviz.graphs.Graph at 0x27be735f380>"
      ]
     },
     "execution_count": 32,
     "metadata": {},
     "output_type": "execute_result"
    }
   ],
   "source": [
    "g2 = ranking.get_document_by_ranking_position(2).get_graph()\n",
    "print(g2)\n",
    "visual_graph2 = g2.get_graph_viz('0.7', 'deepskyblue')\n",
    "visual_graph2"
   ]
  },
  {
   "cell_type": "code",
   "execution_count": 33,
   "metadata": {},
   "outputs": [
    {
     "name": "stdout",
     "output_type": "stream",
     "text": [
      "SUBQUERY: network\n",
      "TERM: gato ; PONDERATION: 2.7 ; DISTANCE: 3.3\n",
      "TERM: hierarchical ; PONDERATION: 2.7 ; DISTANCE: 3.3\n",
      "TERM: topology ; PONDERATION: 1.8 ; DISTANCE: 3.0\n",
      "TERM: adopt ; PONDERATION: 0.9 ; DISTANCE: 2.0\n",
      "TERM: abel ; PONDERATION: 0.9 ; DISTANCE: 1.0\n",
      "TERM: echeverria ; PONDERATION: 0.9 ; DISTANCE: 1.0\n",
      "TERM: driven ; PONDERATION: 0.9 ; DISTANCE: 2.0\n",
      "TERM: patricio ; PONDERATION: 0.9 ; DISTANCE: 1.0\n",
      "TERM: simknn ; PONDERATION: 0.9 ; DISTANCE: 3.0\n",
      "TERM: galea ; PONDERATION: 0.9 ; DISTANCE: 3.0\n",
      "TERM: road ; PONDERATION: 0.9 ; DISTANCE: 1.0\n"
     ]
    },
    {
     "data": {
      "image/svg+xml": [
       "<?xml version=\"1.0\" encoding=\"UTF-8\" standalone=\"no\"?>\n",
       "<!DOCTYPE svg PUBLIC \"-//W3C//DTD SVG 1.1//EN\"\n",
       " \"http://www.w3.org/Graphics/SVG/1.1/DTD/svg11.dtd\">\n",
       "<!-- Generated by graphviz version 10.0.1 (20240210.2158)\n",
       " -->\n",
       "<!-- Title: G Pages: 1 -->\n",
       "<svg width=\"492pt\" height=\"575pt\"\n",
       " viewBox=\"0.00 0.00 491.88 575.45\" xmlns=\"http://www.w3.org/2000/svg\" xmlns:xlink=\"http://www.w3.org/1999/xlink\">\n",
       "<g id=\"graph0\" class=\"graph\" transform=\"scale(1 1) rotate(0) translate(4 571.45)\">\n",
       "<title>G</title>\n",
       "<polygon fill=\"white\" stroke=\"none\" points=\"-4,4 -4,-571.45 487.88,-571.45 487.88,4 -4,4\"/>\n",
       "<!-- 0 -->\n",
       "<g id=\"node1\" class=\"node\">\n",
       "<title>0</title>\n",
       "<ellipse fill=\"#c1cdcd\" stroke=\"black\" cx=\"310.39\" cy=\"-289.74\" rx=\"25.2\" ry=\"25.2\"/>\n",
       "<text text-anchor=\"middle\" x=\"310.39\" y=\"-285.87\" font-family=\"Times New Roman,serif\" font-size=\"10.00\">network</text>\n",
       "</g>\n",
       "<!-- &#39;1&#39; -->\n",
       "<g id=\"node2\" class=\"node\">\n",
       "<title>&#39;1&#39;</title>\n",
       "<ellipse fill=\"none\" stroke=\"deepskyblue\" stroke-width=\"2.7\" cx=\"25.2\" cy=\"-287.29\" rx=\"25.2\" ry=\"25.2\"/>\n",
       "<text text-anchor=\"middle\" x=\"25.2\" y=\"-283.41\" font-family=\"Times New Roman,serif\" font-size=\"10.00\">gato</text>\n",
       "</g>\n",
       "<!-- 0&#45;&#45;&#39;1&#39; -->\n",
       "<g id=\"edge1\" class=\"edge\">\n",
       "<title>0&#45;&#45;&#39;1&#39;</title>\n",
       "<path fill=\"none\" stroke=\"black\" d=\"M284.83,-289.52C230.83,-289.06 105.62,-287.98 51.22,-287.51\"/>\n",
       "<text text-anchor=\"middle\" x=\"159.4\" y=\"-290.97\" font-family=\"Times New Roman,serif\" font-size=\"14.00\">3.3</text>\n",
       "</g>\n",
       "<!-- &#39;2&#39; -->\n",
       "<g id=\"node3\" class=\"node\">\n",
       "<title>&#39;2&#39;</title>\n",
       "<ellipse fill=\"none\" stroke=\"deepskyblue\" stroke-width=\"2.7\" cx=\"312.03\" cy=\"-25.2\" rx=\"25.2\" ry=\"25.2\"/>\n",
       "<text text-anchor=\"middle\" x=\"312.03\" y=\"-21.32\" font-family=\"Times New Roman,serif\" font-size=\"10.00\">hierarchical</text>\n",
       "</g>\n",
       "<!-- 0&#45;&#45;&#39;2&#39; -->\n",
       "<g id=\"edge2\" class=\"edge\">\n",
       "<title>0&#45;&#45;&#39;2&#39;</title>\n",
       "<path fill=\"none\" stroke=\"black\" d=\"M310.55,-264.38C310.86,-214.07 311.55,-102.14 311.87,-51.27\"/>\n",
       "<text text-anchor=\"middle\" x=\"302.58\" y=\"-160.27\" font-family=\"Times New Roman,serif\" font-size=\"14.00\">3.3</text>\n",
       "</g>\n",
       "<!-- &#39;3&#39; -->\n",
       "<g id=\"node4\" class=\"node\">\n",
       "<title>&#39;3&#39;</title>\n",
       "<ellipse fill=\"none\" stroke=\"deepskyblue\" stroke-width=\"1.8\" cx=\"360.3\" cy=\"-542.25\" rx=\"25.2\" ry=\"25.2\"/>\n",
       "<text text-anchor=\"middle\" x=\"360.3\" y=\"-538.38\" font-family=\"Times New Roman,serif\" font-size=\"10.00\">topology</text>\n",
       "</g>\n",
       "<!-- 0&#45;&#45;&#39;3&#39; -->\n",
       "<g id=\"edge3\" class=\"edge\">\n",
       "<title>0&#45;&#45;&#39;3&#39;</title>\n",
       "<path fill=\"none\" stroke=\"black\" d=\"M315.36,-314.88C324.92,-363.28 345.8,-468.9 355.35,-517.22\"/>\n",
       "<text text-anchor=\"middle\" x=\"326.73\" y=\"-418.5\" font-family=\"Times New Roman,serif\" font-size=\"14.00\">3.0</text>\n",
       "</g>\n",
       "<!-- &#39;4&#39; -->\n",
       "<g id=\"node5\" class=\"node\">\n",
       "<title>&#39;4&#39;</title>\n",
       "<ellipse fill=\"none\" stroke=\"deepskyblue\" stroke-width=\"0.9\" cx=\"458.68\" cy=\"-275.73\" rx=\"25.2\" ry=\"25.2\"/>\n",
       "<text text-anchor=\"middle\" x=\"458.68\" y=\"-271.85\" font-family=\"Times New Roman,serif\" font-size=\"10.00\">adopt</text>\n",
       "</g>\n",
       "<!-- 0&#45;&#45;&#39;4&#39; -->\n",
       "<g id=\"edge4\" class=\"edge\">\n",
       "<title>0&#45;&#45;&#39;4&#39;</title>\n",
       "<path fill=\"none\" stroke=\"black\" d=\"M335.88,-287.33C363.37,-284.73 406.84,-280.63 434.01,-278.06\"/>\n",
       "<text text-anchor=\"middle\" x=\"376.32\" y=\"-285.14\" font-family=\"Times New Roman,serif\" font-size=\"14.00\">2.0</text>\n",
       "</g>\n",
       "<!-- &#39;5&#39; -->\n",
       "<g id=\"node6\" class=\"node\">\n",
       "<title>&#39;5&#39;</title>\n",
       "<ellipse fill=\"none\" stroke=\"deepskyblue\" stroke-width=\"0.9\" cx=\"253.9\" cy=\"-329.52\" rx=\"25.2\" ry=\"25.2\"/>\n",
       "<text text-anchor=\"middle\" x=\"253.9\" y=\"-325.65\" font-family=\"Times New Roman,serif\" font-size=\"10.00\">abel</text>\n",
       "</g>\n",
       "<!-- 0&#45;&#45;&#39;5&#39; -->\n",
       "<g id=\"edge5\" class=\"edge\">\n",
       "<title>0&#45;&#45;&#39;5&#39;</title>\n",
       "<path fill=\"none\" stroke=\"black\" d=\"M289.68,-304.33C284.64,-307.88 279.25,-311.67 274.23,-315.2\"/>\n",
       "<text text-anchor=\"middle\" x=\"290.58\" y=\"-312.22\" font-family=\"Times New Roman,serif\" font-size=\"14.00\">1.0</text>\n",
       "</g>\n",
       "</g>\n",
       "</svg>\n"
      ],
      "text/plain": [
       "<graphviz.graphs.Graph at 0x27be8986990>"
      ]
     },
     "execution_count": 33,
     "metadata": {},
     "output_type": "execute_result"
    }
   ],
   "source": [
    "g3 = ranking.get_document_by_ranking_position(3).get_graph()\n",
    "print(g3)\n",
    "visual_graph3 = g3.get_graph_viz('0.7', 'deepskyblue')\n",
    "visual_graph3"
   ]
  },
  {
   "cell_type": "code",
   "execution_count": 34,
   "metadata": {},
   "outputs": [
    {
     "name": "stdout",
     "output_type": "stream",
     "text": [
      "SUBQUERY: network\n",
      "TERM: rain ; PONDERATION: 2.5 ; DISTANCE: 3.0\n",
      "TERM: hierarchical ; PONDERATION: 2.5 ; DISTANCE: 3.3\n",
      "TERM: topology ; PONDERATION: 1.7 ; DISTANCE: 3.0\n",
      "TERM: gato ; PONDERATION: 0.8 ; DISTANCE: 2.0\n",
      "TERM: adopt ; PONDERATION: 0.8 ; DISTANCE: 2.0\n",
      "TERM: abel ; PONDERATION: 0.8 ; DISTANCE: 1.0\n",
      "TERM: echeverria ; PONDERATION: 0.8 ; DISTANCE: 1.0\n",
      "TERM: driven ; PONDERATION: 0.8 ; DISTANCE: 2.0\n",
      "TERM: simknn ; PONDERATION: 0.8 ; DISTANCE: 3.0\n",
      "TERM: galea ; PONDERATION: 0.8 ; DISTANCE: 3.0\n",
      "TERM: road ; PONDERATION: 0.8 ; DISTANCE: 1.0\n"
     ]
    },
    {
     "data": {
      "image/svg+xml": [
       "<?xml version=\"1.0\" encoding=\"UTF-8\" standalone=\"no\"?>\n",
       "<!DOCTYPE svg PUBLIC \"-//W3C//DTD SVG 1.1//EN\"\n",
       " \"http://www.w3.org/Graphics/SVG/1.1/DTD/svg11.dtd\">\n",
       "<!-- Generated by graphviz version 10.0.1 (20240210.2158)\n",
       " -->\n",
       "<!-- Title: G Pages: 1 -->\n",
       "<svg width=\"436pt\" height=\"549pt\"\n",
       " viewBox=\"0.00 0.00 435.76 548.73\" xmlns=\"http://www.w3.org/2000/svg\" xmlns:xlink=\"http://www.w3.org/1999/xlink\">\n",
       "<g id=\"graph0\" class=\"graph\" transform=\"scale(1 1) rotate(0) translate(4 544.73)\">\n",
       "<title>G</title>\n",
       "<polygon fill=\"white\" stroke=\"none\" points=\"-4,4 -4,-544.73 431.76,-544.73 431.76,4 -4,4\"/>\n",
       "<!-- 0 -->\n",
       "<g id=\"node1\" class=\"node\">\n",
       "<title>0</title>\n",
       "<ellipse fill=\"#c1cdcd\" stroke=\"black\" cx=\"258.06\" cy=\"-298.19\" rx=\"25.2\" ry=\"25.2\"/>\n",
       "<text text-anchor=\"middle\" x=\"258.06\" y=\"-294.32\" font-family=\"Times New Roman,serif\" font-size=\"10.00\">network</text>\n",
       "</g>\n",
       "<!-- &#39;1&#39; -->\n",
       "<g id=\"node2\" class=\"node\">\n",
       "<title>&#39;1&#39;</title>\n",
       "<ellipse fill=\"none\" stroke=\"deepskyblue\" stroke-width=\"2.55\" cx=\"25.2\" cy=\"-214.51\" rx=\"25.2\" ry=\"25.2\"/>\n",
       "<text text-anchor=\"middle\" x=\"25.2\" y=\"-210.64\" font-family=\"Times New Roman,serif\" font-size=\"10.00\">rain</text>\n",
       "</g>\n",
       "<!-- 0&#45;&#45;&#39;1&#39; -->\n",
       "<g id=\"edge1\" class=\"edge\">\n",
       "<title>0&#45;&#45;&#39;1&#39;</title>\n",
       "<path fill=\"none\" stroke=\"black\" d=\"M234.02,-289.55C189.51,-273.56 94.74,-239.5 49.81,-223.36\"/>\n",
       "<text text-anchor=\"middle\" x=\"133.29\" y=\"-258.9\" font-family=\"Times New Roman,serif\" font-size=\"14.00\">3.0</text>\n",
       "</g>\n",
       "<!-- &#39;2&#39; -->\n",
       "<g id=\"node3\" class=\"node\">\n",
       "<title>&#39;2&#39;</title>\n",
       "<ellipse fill=\"none\" stroke=\"deepskyblue\" stroke-width=\"2.55\" cx=\"305.01\" cy=\"-25.2\" rx=\"25.2\" ry=\"25.2\"/>\n",
       "<text text-anchor=\"middle\" x=\"305.01\" y=\"-21.32\" font-family=\"Times New Roman,serif\" font-size=\"10.00\">hierarchical</text>\n",
       "</g>\n",
       "<!-- 0&#45;&#45;&#39;2&#39; -->\n",
       "<g id=\"edge2\" class=\"edge\">\n",
       "<title>0&#45;&#45;&#39;2&#39;</title>\n",
       "<path fill=\"none\" stroke=\"black\" d=\"M262.39,-273C271.31,-221.12 291.65,-102.89 300.62,-50.73\"/>\n",
       "<text text-anchor=\"middle\" x=\"272.88\" y=\"-164.31\" font-family=\"Times New Roman,serif\" font-size=\"14.00\">3.3</text>\n",
       "</g>\n",
       "<!-- &#39;3&#39; -->\n",
       "<g id=\"node4\" class=\"node\">\n",
       "<title>&#39;3&#39;</title>\n",
       "<ellipse fill=\"none\" stroke=\"deepskyblue\" stroke-width=\"1.7\" cx=\"397.52\" cy=\"-515.53\" rx=\"25.2\" ry=\"25.2\"/>\n",
       "<text text-anchor=\"middle\" x=\"397.52\" y=\"-511.66\" font-family=\"Times New Roman,serif\" font-size=\"10.00\">topology</text>\n",
       "</g>\n",
       "<!-- 0&#45;&#45;&#39;3&#39; -->\n",
       "<g id=\"edge3\" class=\"edge\">\n",
       "<title>0&#45;&#45;&#39;3&#39;</title>\n",
       "<path fill=\"none\" stroke=\"black\" d=\"M271.69,-319.43C298.35,-360.98 357.13,-452.59 383.84,-494.21\"/>\n",
       "<text text-anchor=\"middle\" x=\"319.14\" y=\"-409.27\" font-family=\"Times New Roman,serif\" font-size=\"14.00\">3.0</text>\n",
       "</g>\n",
       "<!-- &#39;4&#39; -->\n",
       "<g id=\"node5\" class=\"node\">\n",
       "<title>&#39;4&#39;</title>\n",
       "<ellipse fill=\"none\" stroke=\"deepskyblue\" stroke-width=\"0.85\" cx=\"402.56\" cy=\"-261.92\" rx=\"25.2\" ry=\"25.2\"/>\n",
       "<text text-anchor=\"middle\" x=\"402.56\" y=\"-258.05\" font-family=\"Times New Roman,serif\" font-size=\"10.00\">gato</text>\n",
       "</g>\n",
       "<!-- 0&#45;&#45;&#39;4&#39; -->\n",
       "<g id=\"edge4\" class=\"edge\">\n",
       "<title>0&#45;&#45;&#39;4&#39;</title>\n",
       "<path fill=\"none\" stroke=\"black\" d=\"M282.9,-291.96C309.69,-285.23 352.05,-274.6 378.53,-267.95\"/>\n",
       "<text text-anchor=\"middle\" x=\"322.09\" y=\"-282.41\" font-family=\"Times New Roman,serif\" font-size=\"14.00\">2.0</text>\n",
       "</g>\n",
       "<!-- &#39;5&#39; -->\n",
       "<g id=\"node6\" class=\"node\">\n",
       "<title>&#39;5&#39;</title>\n",
       "<ellipse fill=\"none\" stroke=\"deepskyblue\" stroke-width=\"0.85\" cx=\"163.44\" cy=\"-414.87\" rx=\"25.2\" ry=\"25.2\"/>\n",
       "<text text-anchor=\"middle\" x=\"163.44\" y=\"-411\" font-family=\"Times New Roman,serif\" font-size=\"10.00\">adopt</text>\n",
       "</g>\n",
       "<!-- 0&#45;&#45;&#39;5&#39; -->\n",
       "<g id=\"edge5\" class=\"edge\">\n",
       "<title>0&#45;&#45;&#39;5&#39;</title>\n",
       "<path fill=\"none\" stroke=\"black\" d=\"M242.01,-317.98C224.5,-339.57 196.67,-373.9 179.26,-395.37\"/>\n",
       "<text text-anchor=\"middle\" x=\"202.01\" y=\"-359.13\" font-family=\"Times New Roman,serif\" font-size=\"14.00\">2.0</text>\n",
       "</g>\n",
       "</g>\n",
       "</svg>\n"
      ],
      "text/plain": [
       "<graphviz.graphs.Graph at 0x27be72c74d0>"
      ]
     },
     "execution_count": 34,
     "metadata": {},
     "output_type": "execute_result"
    }
   ],
   "source": [
    "g4 = ranking.get_document_by_ranking_position(4).get_graph()\n",
    "print(g4)\n",
    "visual_graph4 = g4.get_graph_viz('0.7', 'deepskyblue')\n",
    "visual_graph4"
   ]
  },
  {
   "cell_type": "markdown",
   "metadata": {},
   "source": [
    "## Calculate Similarity"
   ]
  },
  {
   "cell_type": "code",
   "execution_count": 35,
   "metadata": {},
   "outputs": [
    {
     "data": {
      "text/plain": [
       "1.0"
      ]
     },
     "execution_count": 35,
     "metadata": {},
     "output_type": "execute_result"
    }
   ],
   "source": [
    "similarity0 = g1.get_cosine_similarity(g1)\n",
    "similarity0"
   ]
  },
  {
   "cell_type": "code",
   "execution_count": 36,
   "metadata": {},
   "outputs": [
    {
     "data": {
      "text/plain": [
       "0.9671707945560485"
      ]
     },
     "execution_count": 36,
     "metadata": {},
     "output_type": "execute_result"
    }
   ],
   "source": [
    "similarity1 = g1.get_cosine_similarity(g2)\n",
    "similarity1"
   ]
  },
  {
   "cell_type": "code",
   "execution_count": 37,
   "metadata": {},
   "outputs": [
    {
     "data": {
      "text/plain": [
       "0.6557450996618941"
      ]
     },
     "execution_count": 37,
     "metadata": {},
     "output_type": "execute_result"
    }
   ],
   "source": [
    "similarity2 = g1.get_cosine_similarity(g3)\n",
    "similarity2"
   ]
  },
  {
   "cell_type": "code",
   "execution_count": 38,
   "metadata": {},
   "outputs": [
    {
     "data": {
      "text/plain": [
       "0.5949574537482146"
      ]
     },
     "execution_count": 38,
     "metadata": {},
     "output_type": "execute_result"
    }
   ],
   "source": [
    "similarity3 = g1.get_cosine_similarity(g4)\n",
    "similarity3"
   ]
  },
  {
   "cell_type": "markdown",
   "metadata": {},
   "source": [
    "## Merge graphs"
   ]
  },
  {
   "cell_type": "code",
   "execution_count": 39,
   "metadata": {},
   "outputs": [
    {
     "name": "stdout",
     "output_type": "stream",
     "text": [
      "SUBQUERY: network\n",
      "TERM: hierarchical ; PONDERATION: 11.9 ; DISTANCE: 2.9\n",
      "TERM: gato ; PONDERATION: 9.4 ; DISTANCE: 2.9\n",
      "TERM: topology ; PONDERATION: 8.2 ; DISTANCE: 2.7\n",
      "TERM: road ; PONDERATION: 6.1 ; DISTANCE: 1.0\n",
      "TERM: adopt ; PONDERATION: 4.5 ; DISTANCE: 2.1\n",
      "TERM: store ; PONDERATION: 3.8 ; DISTANCE: 3.3\n",
      "TERM: driven ; PONDERATION: 3.7 ; DISTANCE: 2.0\n",
      "TERM: simknn ; PONDERATION: 3.7 ; DISTANCE: 3.0\n",
      "TERM: grid ; PONDERATION: 2.8 ; DISTANCE: 3.4\n",
      "TERM: rain ; PONDERATION: 2.5 ; DISTANCE: 3.0\n",
      "TERM: abel ; PONDERATION: 1.8 ; DISTANCE: 1.0\n",
      "TERM: echeverria ; PONDERATION: 1.8 ; DISTANCE: 1.0\n",
      "TERM: galea ; PONDERATION: 1.8 ; DISTANCE: 3.0\n",
      "TERM: moving ; PONDERATION: 1.6 ; DISTANCE: 3.0\n",
      "TERM: object ; PONDERATION: 1.6 ; DISTANCE: 2.0\n",
      "TERM: search ; PONDERATION: 1.6 ; DISTANCE: 3.0\n",
      "TERM: child ; PONDERATION: 1.0 ; DISTANCE: 1.0\n",
      "TERM: car ; PONDERATION: 0.9 ; DISTANCE: 1.0\n",
      "TERM: house ; PONDERATION: 0.9 ; DISTANCE: 1.0\n",
      "TERM: patricio ; PONDERATION: 0.9 ; DISTANCE: 1.0\n",
      "TERM: neighbor ; PONDERATION: 0.8 ; DISTANCE: 4.0\n",
      "TERM: nearest ; PONDERATION: 0.8 ; DISTANCE: 3.0\n",
      "TERM: service ; PONDERATION: 0.8 ; DISTANCE: 1.0\n",
      "TERM: distance ; PONDERATION: 0.8 ; DISTANCE: 1.0\n",
      "TERM: scale ; PONDERATION: 0.8 ; DISTANCE: 4.0\n",
      "TERM: model ; PONDERATION: 0.8 ; DISTANCE: 3.0\n",
      "TERM: incrementally ; PONDERATION: 0.8 ; DISTANCE: 4.0\n",
      "TERM: based ; PONDERATION: 0.8 ; DISTANCE: 2.0\n",
      "TERM: manage ; PONDERATION: 0.8 ; DISTANCE: 4.0\n",
      "TERM: area ; PONDERATION: 0.8 ; DISTANCE: 1.0\n",
      "TERM: enlarges ; PONDERATION: 0.8 ; DISTANCE: 3.0\n"
     ]
    },
    {
     "data": {
      "image/svg+xml": [
       "<?xml version=\"1.0\" encoding=\"UTF-8\" standalone=\"no\"?>\n",
       "<!DOCTYPE svg PUBLIC \"-//W3C//DTD SVG 1.1//EN\"\n",
       " \"http://www.w3.org/Graphics/SVG/1.1/DTD/svg11.dtd\">\n",
       "<!-- Generated by graphviz version 10.0.1 (20240210.2158)\n",
       " -->\n",
       "<!-- Title: G Pages: 1 -->\n",
       "<svg width=\"443pt\" height=\"431pt\"\n",
       " viewBox=\"0.00 0.00 443.29 431.09\" xmlns=\"http://www.w3.org/2000/svg\" xmlns:xlink=\"http://www.w3.org/1999/xlink\">\n",
       "<g id=\"graph0\" class=\"graph\" transform=\"scale(1 1) rotate(0) translate(4 427.09)\">\n",
       "<title>G</title>\n",
       "<polygon fill=\"white\" stroke=\"none\" points=\"-4,4 -4,-427.09 439.29,-427.09 439.29,4 -4,4\"/>\n",
       "<!-- 0 -->\n",
       "<g id=\"node1\" class=\"node\">\n",
       "<title>0</title>\n",
       "<ellipse fill=\"#c1cdcd\" stroke=\"black\" cx=\"227.74\" cy=\"-251.43\" rx=\"25.2\" ry=\"25.2\"/>\n",
       "<text text-anchor=\"middle\" x=\"227.74\" y=\"-247.55\" font-family=\"Times New Roman,serif\" font-size=\"10.00\">network</text>\n",
       "</g>\n",
       "<!-- &#39;1&#39; -->\n",
       "<g id=\"node2\" class=\"node\">\n",
       "<title>&#39;1&#39;</title>\n",
       "<ellipse fill=\"none\" stroke=\"deepskyblue\" stroke-width=\"11.9\" cx=\"25.2\" cy=\"-140.17\" rx=\"25.2\" ry=\"25.2\"/>\n",
       "<text text-anchor=\"middle\" x=\"25.2\" y=\"-136.3\" font-family=\"Times New Roman,serif\" font-size=\"10.00\">hierarchical</text>\n",
       "</g>\n",
       "<!-- 0&#45;&#45;&#39;1&#39; -->\n",
       "<g id=\"edge1\" class=\"edge\">\n",
       "<title>0&#45;&#45;&#39;1&#39;</title>\n",
       "<path fill=\"none\" stroke=\"black\" d=\"M205.29,-239.1C167.7,-218.45 92.18,-176.96 51.92,-154.84\"/>\n",
       "<text text-anchor=\"middle\" x=\"119.98\" y=\"-199.42\" font-family=\"Times New Roman,serif\" font-size=\"14.00\">2.9</text>\n",
       "</g>\n",
       "<!-- &#39;2&#39; -->\n",
       "<g id=\"node3\" class=\"node\">\n",
       "<title>&#39;2&#39;</title>\n",
       "<ellipse fill=\"none\" stroke=\"deepskyblue\" stroke-width=\"9.4\" cx=\"338.84\" cy=\"-25.2\" rx=\"25.2\" ry=\"25.2\"/>\n",
       "<text text-anchor=\"middle\" x=\"338.84\" y=\"-21.32\" font-family=\"Times New Roman,serif\" font-size=\"10.00\">gato</text>\n",
       "</g>\n",
       "<!-- 0&#45;&#45;&#39;2&#39; -->\n",
       "<g id=\"edge2\" class=\"edge\">\n",
       "<title>0&#45;&#45;&#39;2&#39;</title>\n",
       "<path fill=\"none\" stroke=\"black\" d=\"M239.01,-228.49C259.75,-186.25 303.87,-96.42 325.84,-51.67\"/>\n",
       "<text text-anchor=\"middle\" x=\"273.8\" y=\"-142.53\" font-family=\"Times New Roman,serif\" font-size=\"14.00\">2.9</text>\n",
       "</g>\n",
       "<!-- &#39;3&#39; -->\n",
       "<g id=\"node4\" class=\"node\">\n",
       "<title>&#39;3&#39;</title>\n",
       "<ellipse fill=\"none\" stroke=\"deepskyblue\" stroke-width=\"8.2\" cx=\"410.09\" cy=\"-397.89\" rx=\"25.2\" ry=\"25.2\"/>\n",
       "<text text-anchor=\"middle\" x=\"410.09\" y=\"-394.01\" font-family=\"Times New Roman,serif\" font-size=\"10.00\">topology</text>\n",
       "</g>\n",
       "<!-- 0&#45;&#45;&#39;3&#39; -->\n",
       "<g id=\"edge3\" class=\"edge\">\n",
       "<title>0&#45;&#45;&#39;3&#39;</title>\n",
       "<path fill=\"none\" stroke=\"black\" d=\"M247.61,-267.38C281.76,-294.81 351.41,-350.75 387.41,-379.67\"/>\n",
       "<text text-anchor=\"middle\" x=\"308.88\" y=\"-325.97\" font-family=\"Times New Roman,serif\" font-size=\"14.00\">2.7</text>\n",
       "</g>\n",
       "<!-- &#39;4&#39; -->\n",
       "<g id=\"node5\" class=\"node\">\n",
       "<title>&#39;4&#39;</title>\n",
       "<ellipse fill=\"none\" stroke=\"deepskyblue\" stroke-width=\"6.1\" cx=\"291.93\" cy=\"-226.91\" rx=\"25.2\" ry=\"25.2\"/>\n",
       "<text text-anchor=\"middle\" x=\"291.93\" y=\"-223.03\" font-family=\"Times New Roman,serif\" font-size=\"10.00\">road</text>\n",
       "</g>\n",
       "<!-- 0&#45;&#45;&#39;4&#39; -->\n",
       "<g id=\"edge4\" class=\"edge\">\n",
       "<title>0&#45;&#45;&#39;4&#39;</title>\n",
       "<path fill=\"none\" stroke=\"black\" d=\"M251.64,-242.3C256.21,-240.55 261.01,-238.72 265.64,-236.95\"/>\n",
       "<text text-anchor=\"middle\" x=\"258.64\" y=\"-226.32\" font-family=\"Times New Roman,serif\" font-size=\"14.00\">1.0</text>\n",
       "</g>\n",
       "<!-- &#39;5&#39; -->\n",
       "<g id=\"node6\" class=\"node\">\n",
       "<title>&#39;5&#39;</title>\n",
       "<ellipse fill=\"none\" stroke=\"deepskyblue\" stroke-width=\"4.5\" cx=\"140.1\" cy=\"-384.63\" rx=\"25.2\" ry=\"25.2\"/>\n",
       "<text text-anchor=\"middle\" x=\"140.1\" y=\"-380.76\" font-family=\"Times New Roman,serif\" font-size=\"10.00\">adopt</text>\n",
       "</g>\n",
       "<!-- 0&#45;&#45;&#39;5&#39; -->\n",
       "<g id=\"edge5\" class=\"edge\">\n",
       "<title>0&#45;&#45;&#39;5&#39;</title>\n",
       "<path fill=\"none\" stroke=\"black\" d=\"M213.66,-272.83C197.6,-297.25 171.43,-337.01 155.02,-361.95\"/>\n",
       "<text text-anchor=\"middle\" x=\"175.72\" y=\"-319.84\" font-family=\"Times New Roman,serif\" font-size=\"14.00\">2.1</text>\n",
       "</g>\n",
       "</g>\n",
       "</svg>\n"
      ],
      "text/plain": [
       "<graphviz.graphs.Graph at 0x27be893c950>"
      ]
     },
     "execution_count": 39,
     "metadata": {},
     "output_type": "execute_result"
    }
   ],
   "source": [
    "ranking_graph = ranking.get_graph()\n",
    "print(ranking_graph)\n",
    "visual_ranking_graph = ranking_graph.get_graph_viz('0.7', 'deepskyblue')\n",
    "visual_ranking_graph"
   ]
  },
  {
   "cell_type": "code",
   "execution_count": 40,
   "metadata": {},
   "outputs": [
    {
     "name": "stdout",
     "output_type": "stream",
     "text": [
      "SUBQUERY: network\n",
      "TERM: road ; PONDERATION: 2.4 ; DISTANCE: 1.0\n",
      "TERM: search ; PONDERATION: 1.6 ; DISTANCE: 3.0\n",
      "TERM: moving ; PONDERATION: 1.6 ; DISTANCE: 3.0\n",
      "TERM: object ; PONDERATION: 1.6 ; DISTANCE: 2.0\n",
      "TERM: service ; PONDERATION: 0.8 ; DISTANCE: 1.0\n",
      "TERM: scale ; PONDERATION: 0.8 ; DISTANCE: 4.0\n",
      "TERM: store ; PONDERATION: 0.8 ; DISTANCE: 3.0\n",
      "TERM: topology ; PONDERATION: 0.8 ; DISTANCE: 2.0\n",
      "TERM: adopt ; PONDERATION: 0.8 ; DISTANCE: 4.0\n",
      "TERM: grid ; PONDERATION: 0.8 ; DISTANCE: 2.0\n",
      "TERM: model ; PONDERATION: 0.8 ; DISTANCE: 3.0\n",
      "TERM: manage ; PONDERATION: 0.8 ; DISTANCE: 4.0\n",
      "TERM: hierarchical ; PONDERATION: 0.8 ; DISTANCE: 1.0\n",
      "TERM: neighbor ; PONDERATION: 0.8 ; DISTANCE: 4.0\n",
      "TERM: nearest ; PONDERATION: 0.8 ; DISTANCE: 3.0\n",
      "TERM: distance ; PONDERATION: 0.8 ; DISTANCE: 1.0\n",
      "TERM: incrementally ; PONDERATION: 0.8 ; DISTANCE: 4.0\n",
      "TERM: based ; PONDERATION: 0.8 ; DISTANCE: 2.0\n",
      "TERM: area ; PONDERATION: 0.8 ; DISTANCE: 1.0\n",
      "TERM: enlarges ; PONDERATION: 0.8 ; DISTANCE: 3.0\n"
     ]
    },
    {
     "data": {
      "image/svg+xml": [
       "<?xml version=\"1.0\" encoding=\"UTF-8\" standalone=\"no\"?>\n",
       "<!DOCTYPE svg PUBLIC \"-//W3C//DTD SVG 1.1//EN\"\n",
       " \"http://www.w3.org/Graphics/SVG/1.1/DTD/svg11.dtd\">\n",
       "<!-- Generated by graphviz version 10.0.1 (20240210.2158)\n",
       " -->\n",
       "<!-- Title: G Pages: 1 -->\n",
       "<svg width=\"344pt\" height=\"504pt\"\n",
       " viewBox=\"0.00 0.00 344.34 504.21\" xmlns=\"http://www.w3.org/2000/svg\" xmlns:xlink=\"http://www.w3.org/1999/xlink\">\n",
       "<g id=\"graph0\" class=\"graph\" transform=\"scale(1 1) rotate(0) translate(4 500.21)\">\n",
       "<title>G</title>\n",
       "<polygon fill=\"white\" stroke=\"none\" points=\"-4,4 -4,-500.21 340.34,-500.21 340.34,4 -4,4\"/>\n",
       "<!-- 0 -->\n",
       "<g id=\"node1\" class=\"node\">\n",
       "<title>0</title>\n",
       "<ellipse fill=\"#c1cdcd\" stroke=\"black\" cx=\"161.8\" cy=\"-242.62\" rx=\"25.2\" ry=\"25.2\"/>\n",
       "<text text-anchor=\"middle\" x=\"161.8\" y=\"-238.75\" font-family=\"Times New Roman,serif\" font-size=\"10.00\">network</text>\n",
       "</g>\n",
       "<!-- &#39;1&#39; -->\n",
       "<g id=\"node2\" class=\"node\">\n",
       "<title>&#39;1&#39;</title>\n",
       "<ellipse fill=\"none\" stroke=\"deepskyblue\" stroke-width=\"2.4\" cx=\"194.73\" cy=\"-177.22\" rx=\"25.2\" ry=\"25.2\"/>\n",
       "<text text-anchor=\"middle\" x=\"194.73\" y=\"-173.34\" font-family=\"Times New Roman,serif\" font-size=\"10.00\">road</text>\n",
       "</g>\n",
       "<!-- 0&#45;&#45;&#39;1&#39; -->\n",
       "<g id=\"edge1\" class=\"edge\">\n",
       "<title>0&#45;&#45;&#39;1&#39;</title>\n",
       "<path fill=\"none\" stroke=\"black\" d=\"M173.32,-219.75C176.51,-213.41 179.97,-206.53 183.16,-200.19\"/>\n",
       "<text text-anchor=\"middle\" x=\"186.87\" y=\"-212.42\" font-family=\"Times New Roman,serif\" font-size=\"14.00\">1.0</text>\n",
       "</g>\n",
       "<!-- &#39;2&#39; -->\n",
       "<g id=\"node3\" class=\"node\">\n",
       "<title>&#39;2&#39;</title>\n",
       "<ellipse fill=\"none\" stroke=\"deepskyblue\" stroke-width=\"1.6\" cx=\"25.2\" cy=\"-25.2\" rx=\"25.2\" ry=\"25.2\"/>\n",
       "<text text-anchor=\"middle\" x=\"25.2\" y=\"-21.32\" font-family=\"Times New Roman,serif\" font-size=\"10.00\">search</text>\n",
       "</g>\n",
       "<!-- 0&#45;&#45;&#39;2&#39; -->\n",
       "<g id=\"edge2\" class=\"edge\">\n",
       "<title>0&#45;&#45;&#39;2&#39;</title>\n",
       "<path fill=\"none\" stroke=\"black\" d=\"M148.2,-220.98C122.02,-179.31 64.88,-88.36 38.74,-46.75\"/>\n",
       "<text text-anchor=\"middle\" x=\"84.85\" y=\"-136.32\" font-family=\"Times New Roman,serif\" font-size=\"14.00\">3.0</text>\n",
       "</g>\n",
       "<!-- &#39;3&#39; -->\n",
       "<g id=\"node4\" class=\"node\">\n",
       "<title>&#39;3&#39;</title>\n",
       "<ellipse fill=\"none\" stroke=\"deepskyblue\" stroke-width=\"1.6\" cx=\"59.88\" cy=\"-471.01\" rx=\"25.2\" ry=\"25.2\"/>\n",
       "<text text-anchor=\"middle\" x=\"59.88\" y=\"-467.13\" font-family=\"Times New Roman,serif\" font-size=\"10.00\">moving</text>\n",
       "</g>\n",
       "<!-- 0&#45;&#45;&#39;3&#39; -->\n",
       "<g id=\"edge3\" class=\"edge\">\n",
       "<title>0&#45;&#45;&#39;3&#39;</title>\n",
       "<path fill=\"none\" stroke=\"black\" d=\"M151.46,-265.78C131.93,-309.55 89.8,-403.97 70.24,-447.79\"/>\n",
       "<text text-anchor=\"middle\" x=\"102.23\" y=\"-359.23\" font-family=\"Times New Roman,serif\" font-size=\"14.00\">3.0</text>\n",
       "</g>\n",
       "<!-- &#39;4&#39; -->\n",
       "<g id=\"node5\" class=\"node\">\n",
       "<title>&#39;4&#39;</title>\n",
       "<ellipse fill=\"none\" stroke=\"deepskyblue\" stroke-width=\"1.6\" cx=\"311.14\" cy=\"-299\" rx=\"25.2\" ry=\"25.2\"/>\n",
       "<text text-anchor=\"middle\" x=\"311.14\" y=\"-295.13\" font-family=\"Times New Roman,serif\" font-size=\"10.00\">object</text>\n",
       "</g>\n",
       "<!-- 0&#45;&#45;&#39;4&#39; -->\n",
       "<g id=\"edge4\" class=\"edge\">\n",
       "<title>0&#45;&#45;&#39;4&#39;</title>\n",
       "<path fill=\"none\" stroke=\"black\" d=\"M185.79,-251.68C213.66,-262.2 259.36,-279.46 287.2,-289.97\"/>\n",
       "<text text-anchor=\"middle\" x=\"227.87\" y=\"-273.27\" font-family=\"Times New Roman,serif\" font-size=\"14.00\">2.0</text>\n",
       "</g>\n",
       "<!-- &#39;5&#39; -->\n",
       "<g id=\"node6\" class=\"node\">\n",
       "<title>&#39;5&#39;</title>\n",
       "<ellipse fill=\"none\" stroke=\"deepskyblue\" stroke-width=\"0.8\" cx=\"91.58\" cy=\"-259.46\" rx=\"25.2\" ry=\"25.2\"/>\n",
       "<text text-anchor=\"middle\" x=\"91.58\" y=\"-255.59\" font-family=\"Times New Roman,serif\" font-size=\"10.00\">service</text>\n",
       "</g>\n",
       "<!-- 0&#45;&#45;&#39;5&#39; -->\n",
       "<g id=\"edge5\" class=\"edge\">\n",
       "<title>0&#45;&#45;&#39;5&#39;</title>\n",
       "<path fill=\"none\" stroke=\"black\" d=\"M136.84,-248.61C130.06,-250.23 122.73,-251.99 115.98,-253.61\"/>\n",
       "<text text-anchor=\"middle\" x=\"126.41\" y=\"-237.81\" font-family=\"Times New Roman,serif\" font-size=\"14.00\">1.0</text>\n",
       "</g>\n",
       "</g>\n",
       "</svg>\n"
      ],
      "text/plain": [
       "<graphviz.graphs.Graph at 0x27be89653a0>"
      ]
     },
     "execution_count": 40,
     "metadata": {},
     "output_type": "execute_result"
    }
   ],
   "source": [
    "g5 = ranking.get_document_by_ranking_position(5).get_graph()\n",
    "print(g5)\n",
    "visual_graph5 = g5.get_graph_viz('0.7', 'deepskyblue')\n",
    "visual_graph5"
   ]
  }
 ],
 "metadata": {
  "kernelspec": {
   "display_name": "Python 3",
   "language": "python",
   "name": "python3"
  },
  "language_info": {
   "codemirror_mode": {
    "name": "ipython",
    "version": 3
   },
   "file_extension": ".py",
   "mimetype": "text/x-python",
   "name": "python",
   "nbconvert_exporter": "python",
   "pygments_lexer": "ipython3",
   "version": "3.12.2"
  }
 },
 "nbformat": 4,
 "nbformat_minor": 4
}
