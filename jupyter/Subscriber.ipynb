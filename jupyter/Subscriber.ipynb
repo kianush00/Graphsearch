{
 "cells": [
  {
   "cell_type": "code",
   "execution_count": 17,
   "metadata": {},
   "outputs": [],
   "source": [
    "import random\n",
    "import pandas as pd\n",
    "from paho.mqtt import client as mqtt_client"
   ]
  },
  {
   "cell_type": "code",
   "execution_count": 18,
   "metadata": {},
   "outputs": [],
   "source": [
    "rows = []"
   ]
  },
  {
   "cell_type": "code",
   "execution_count": 19,
   "metadata": {},
   "outputs": [],
   "source": [
    "broker = 'piyawn.cmcc.ufro.cl' #'200.10.22.102'\n",
    "port = 1883 # No cifrado\n",
    "#port = 8883 # cifrado\n",
    "topic = \"/apr/chapo/patricio\"\n",
    "# generate client ID with pub prefix randomly\n",
    "client_id = f'python-mqtt-{random.randint(0, 100)}'"
   ]
  },
  {
   "cell_type": "code",
   "execution_count": 20,
   "metadata": {},
   "outputs": [],
   "source": [
    "def connect_mqtt() -> mqtt_client:\n",
    "    def on_connect(client, userdata, flags, rc):\n",
    "        if rc == 0:\n",
    "            print(\"Connected to MQTT Broker!\")\n",
    "        else:\n",
    "            print(\"Failed to connect, return code %d\\n\", rc)\n",
    "    client = mqtt_client.Client(client_id)\n",
    "    client.username_pw_set('user', password='jaPmxJ9Ni')\n",
    "    client.on_connect = on_connect\n",
    "    client.connect(broker, port)\n",
    "    return client"
   ]
  },
  {
   "cell_type": "code",
   "execution_count": 21,
   "metadata": {},
   "outputs": [],
   "source": [
    "def subscribe(client: mqtt_client):\n",
    "    def on_message(client, userdata, msg):\n",
    "        print(f\"Received `{msg.payload.decode()}` from `{msg.topic}` topic\")\n",
    "        \n",
    "        with open('data.txt','a+') as f:\n",
    "         f.write(msg.payload.decode() + \"\\n\")\n",
    "    client.subscribe(topic)\n",
    "    client.on_message = on_message"
   ]
  },
  {
   "cell_type": "code",
   "execution_count": 22,
   "metadata": {},
   "outputs": [],
   "source": [
    "client = connect_mqtt()"
   ]
  },
  {
   "cell_type": "code",
   "execution_count": 23,
   "metadata": {},
   "outputs": [],
   "source": [
    "subscribe(client)"
   ]
  },
  {
   "cell_type": "code",
   "execution_count": null,
   "metadata": {},
   "outputs": [
    {
     "name": "stdout",
     "output_type": "stream",
     "text": [
      "Connected to MQTT Broker!\n",
      "Received `{\"temperature\":\"21.00\",\"humidity\":\"33.00\"}` from `/apr/chapo/patricio` topic\n",
      "Received `{\"temperature\":\"21.00\",\"humidity\":\"34.00\"}` from `/apr/chapo/patricio` topic\n",
      "Received `{\"temperature\":\"21.00\",\"humidity\":\"31.00\"}` from `/apr/chapo/patricio` topic\n",
      "Received `{\"temperature\":\"21.00\",\"humidity\":\"33.00\"}` from `/apr/chapo/patricio` topic\n",
      "Received `{\"temperature\":\"21.00\",\"humidity\":\"31.00\"}` from `/apr/chapo/patricio` topic\n",
      "Received `{\"temperature\":\"21.00\",\"humidity\":\"31.00\"}` from `/apr/chapo/patricio` topic\n",
      "Received `{\"temperature\":\"21.00\",\"humidity\":\"32.00\"}` from `/apr/chapo/patricio` topic\n",
      "Received `{\"temperature\":\"21.00\",\"humidity\":\"34.00\"}` from `/apr/chapo/patricio` topic\n",
      "Received `{\"temperature\":\"21.00\",\"humidity\":\"32.00\"}` from `/apr/chapo/patricio` topic\n",
      "Received `{\"temperature\":\"21.00\",\"humidity\":\"32.00\"}` from `/apr/chapo/patricio` topic\n",
      "Received `{\"temperature\":\"21.00\",\"humidity\":\"31.00\"}` from `/apr/chapo/patricio` topic\n",
      "Received `{\"temperature\":\"21.00\",\"humidity\":\"32.00\"}` from `/apr/chapo/patricio` topic\n",
      "Received `{\"temperature\":\"21.00\",\"humidity\":\"34.00\"}` from `/apr/chapo/patricio` topic\n",
      "Received `{\"temperature\":\"21.00\",\"humidity\":\"32.00\"}` from `/apr/chapo/patricio` topic\n",
      "Received `{\"temperature\":\"21.00\",\"humidity\":\"34.00\"}` from `/apr/chapo/patricio` topic\n",
      "Received `{\"temperature\":\"21.00\",\"humidity\":\"34.00\"}` from `/apr/chapo/patricio` topic\n",
      "Received `{\"temperature\":\"21.00\",\"humidity\":\"34.00\"}` from `/apr/chapo/patricio` topic\n",
      "Received `{\"temperature\":\"21.00\",\"humidity\":\"32.00\"}` from `/apr/chapo/patricio` topic\n",
      "Received `{\"temperature\":\"21.00\",\"humidity\":\"32.00\"}` from `/apr/chapo/patricio` topic\n",
      "Received `{\"temperature\":\"21.00\",\"humidity\":\"32.00\"}` from `/apr/chapo/patricio` topic\n",
      "Received `{\"temperature\":\"21.00\",\"humidity\":\"32.00\"}` from `/apr/chapo/patricio` topic\n",
      "Received `{\"temperature\":\"21.00\",\"humidity\":\"34.00\"}` from `/apr/chapo/patricio` topic\n",
      "Received `{\"temperature\":\"21.00\",\"humidity\":\"34.00\"}` from `/apr/chapo/patricio` topic\n",
      "Received `{\"temperature\":\"21.00\",\"humidity\":\"34.00\"}` from `/apr/chapo/patricio` topic\n",
      "Received `{\"temperature\":\"21.00\",\"humidity\":\"34.00\"}` from `/apr/chapo/patricio` topic\n",
      "Received `{\"temperature\":\"21.00\",\"humidity\":\"34.00\"}` from `/apr/chapo/patricio` topic\n",
      "Received `{\"temperature\":\"21.00\",\"humidity\":\"32.00\"}` from `/apr/chapo/patricio` topic\n",
      "Received `{\"temperature\":\"21.00\",\"humidity\":\"34.00\"}` from `/apr/chapo/patricio` topic\n",
      "Received `{\"temperature\":\"21.00\",\"humidity\":\"32.00\"}` from `/apr/chapo/patricio` topic\n",
      "Received `{\"temperature\":\"21.00\",\"humidity\":\"32.00\"}` from `/apr/chapo/patricio` topic\n",
      "Received `{\"temperature\":\"21.00\",\"humidity\":\"32.00\"}` from `/apr/chapo/patricio` topic\n",
      "Received `{\"temperature\":\"21.00\",\"humidity\":\"35.00\"}` from `/apr/chapo/patricio` topic\n",
      "Received `{\"temperature\":\"21.00\",\"humidity\":\"33.00\"}` from `/apr/chapo/patricio` topic\n",
      "Received `{\"temperature\":\"21.00\",\"humidity\":\"32.00\"}` from `/apr/chapo/patricio` topic\n",
      "Received `{\"temperature\":\"21.00\",\"humidity\":\"35.00\"}` from `/apr/chapo/patricio` topic\n",
      "Received `{\"temperature\":\"21.00\",\"humidity\":\"35.00\"}` from `/apr/chapo/patricio` topic\n",
      "Received `{\"temperature\":\"21.00\",\"humidity\":\"33.00\"}` from `/apr/chapo/patricio` topic\n",
      "Received `{\"temperature\":\"21.00\",\"humidity\":\"32.00\"}` from `/apr/chapo/patricio` topic\n",
      "Received `{\"temperature\":\"21.00\",\"humidity\":\"35.00\"}` from `/apr/chapo/patricio` topic\n",
      "Received `{\"temperature\":\"21.00\",\"humidity\":\"33.00\"}` from `/apr/chapo/patricio` topic\n",
      "Received `{\"temperature\":\"21.00\",\"humidity\":\"35.00\"}` from `/apr/chapo/patricio` topic\n",
      "Received `{\"temperature\":\"22.00\",\"humidity\":\"33.00\"}` from `/apr/chapo/patricio` topic\n",
      "Received `{\"temperature\":\"21.00\",\"humidity\":\"35.00\"}` from `/apr/chapo/patricio` topic\n",
      "Received `{\"temperature\":\"22.00\",\"humidity\":\"35.00\"}` from `/apr/chapo/patricio` topic\n",
      "Received `{\"temperature\":\"21.00\",\"humidity\":\"33.00\"}` from `/apr/chapo/patricio` topic\n",
      "Received `{\"temperature\":\"21.00\",\"humidity\":\"33.00\"}` from `/apr/chapo/patricio` topic\n",
      "Received `{\"temperature\":\"21.00\",\"humidity\":\"35.00\"}` from `/apr/chapo/patricio` topic\n",
      "Received `{\"temperature\":\"22.00\",\"humidity\":\"35.00\"}` from `/apr/chapo/patricio` topic\n",
      "Received `{\"temperature\":\"22.00\",\"humidity\":\"35.00\"}` from `/apr/chapo/patricio` topic\n",
      "Received `{\"temperature\":\"22.00\",\"humidity\":\"32.00\"}` from `/apr/chapo/patricio` topic\n",
      "Received `{\"temperature\":\"22.00\",\"humidity\":\"35.00\"}` from `/apr/chapo/patricio` topic\n",
      "Received `{\"temperature\":\"22.00\",\"humidity\":\"33.00\"}` from `/apr/chapo/patricio` topic\n",
      "Received `{\"temperature\":\"22.00\",\"humidity\":\"35.00\"}` from `/apr/chapo/patricio` topic\n",
      "Received `{\"temperature\":\"22.00\",\"humidity\":\"33.00\"}` from `/apr/chapo/patricio` topic\n",
      "Received `{\"temperature\":\"22.00\",\"humidity\":\"33.00\"}` from `/apr/chapo/patricio` topic\n",
      "Received `{\"temperature\":\"22.00\",\"humidity\":\"35.00\"}` from `/apr/chapo/patricio` topic\n",
      "Received `{\"temperature\":\"22.00\",\"humidity\":\"33.00\"}` from `/apr/chapo/patricio` topic\n",
      "Received `{\"temperature\":\"22.00\",\"humidity\":\"33.00\"}` from `/apr/chapo/patricio` topic\n",
      "Received `{\"temperature\":\"22.00\",\"humidity\":\"33.00\"}` from `/apr/chapo/patricio` topic\n",
      "Received `{\"temperature\":\"22.00\",\"humidity\":\"35.00\"}` from `/apr/chapo/patricio` topic\n",
      "Received `{\"temperature\":\"22.00\",\"humidity\":\"36.00\"}` from `/apr/chapo/patricio` topic\n",
      "Received `{\"temperature\":\"22.00\",\"humidity\":\"36.00\"}` from `/apr/chapo/patricio` topic\n",
      "Received `{\"temperature\":\"22.00\",\"humidity\":\"35.00\"}` from `/apr/chapo/patricio` topic\n",
      "Received `{\"temperature\":\"22.00\",\"humidity\":\"35.00\"}` from `/apr/chapo/patricio` topic\n",
      "Received `{\"temperature\":\"22.00\",\"humidity\":\"33.00\"}` from `/apr/chapo/patricio` topic\n",
      "Received `{\"temperature\":\"22.00\",\"humidity\":\"33.00\"}` from `/apr/chapo/patricio` topic\n",
      "Received `{\"temperature\":\"22.00\",\"humidity\":\"36.00\"}` from `/apr/chapo/patricio` topic\n",
      "Received `{\"temperature\":\"22.00\",\"humidity\":\"35.00\"}` from `/apr/chapo/patricio` topic\n",
      "Received `{\"temperature\":\"22.00\",\"humidity\":\"35.00\"}` from `/apr/chapo/patricio` topic\n",
      "Received `{\"temperature\":\"22.00\",\"humidity\":\"33.00\"}` from `/apr/chapo/patricio` topic\n",
      "Received `{\"temperature\":\"22.00\",\"humidity\":\"33.00\"}` from `/apr/chapo/patricio` topic\n",
      "Received `{\"temperature\":\"22.00\",\"humidity\":\"32.00\"}` from `/apr/chapo/patricio` topic\n",
      "Received `{\"temperature\":\"22.00\",\"humidity\":\"35.00\"}` from `/apr/chapo/patricio` topic\n",
      "Received `{\"temperature\":\"22.00\",\"humidity\":\"34.00\"}` from `/apr/chapo/patricio` topic\n",
      "Received `{\"temperature\":\"22.00\",\"humidity\":\"32.00\"}` from `/apr/chapo/patricio` topic\n"
     ]
    }
   ],
   "source": [
    "client.loop_forever()"
   ]
  },
  {
   "cell_type": "code",
   "execution_count": null,
   "metadata": {},
   "outputs": [],
   "source": []
  },
  {
   "cell_type": "code",
   "execution_count": null,
   "metadata": {},
   "outputs": [],
   "source": []
  }
 ],
 "metadata": {
  "kernelspec": {
   "display_name": "srex",
   "language": "python",
   "name": "srex"
  },
  "language_info": {
   "codemirror_mode": {
    "name": "ipython",
    "version": 3
   },
   "file_extension": ".py",
   "mimetype": "text/x-python",
   "name": "python",
   "nbconvert_exporter": "python",
   "pygments_lexer": "ipython3",
   "version": "3.8.5"
  }
 },
 "nbformat": 4,
 "nbformat_minor": 4
}
