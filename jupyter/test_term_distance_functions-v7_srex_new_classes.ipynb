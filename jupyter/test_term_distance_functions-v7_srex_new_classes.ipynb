{
 "cells": [
  {
   "cell_type": "markdown",
   "metadata": {},
   "source": [
    "# Testing GraphSearch Distance Concepts"
   ]
  },
  {
   "cell_type": "markdown",
   "metadata": {},
   "source": [
    "## Load Libraries"
   ]
  },
  {
   "cell_type": "code",
   "execution_count": 1,
   "metadata": {},
   "outputs": [
    {
     "name": "stderr",
     "output_type": "stream",
     "text": [
      "[nltk_data] Downloading package stopwords to\n",
      "[nltk_data]     C:\\Users\\kianu\\AppData\\Roaming\\nltk_data...\n",
      "[nltk_data]   Package stopwords is already up-to-date!\n",
      "[nltk_data] Downloading package punkt to\n",
      "[nltk_data]     C:\\Users\\kianu\\AppData\\Roaming\\nltk_data...\n",
      "[nltk_data]   Package punkt is already up-to-date!\n",
      "[nltk_data] Downloading package wordnet to\n",
      "[nltk_data]     C:\\Users\\kianu\\AppData\\Roaming\\nltk_data...\n",
      "[nltk_data]   Package wordnet is already up-to-date!\n"
     ]
    },
    {
     "data": {
      "text/plain": [
       "True"
      ]
     },
     "execution_count": 1,
     "metadata": {},
     "output_type": "execute_result"
    }
   ],
   "source": [
    "import srex_new_classes\n",
    "from srex_new_classes import BooleanOperation, Operation\n",
    "from stop_words import get_stop_words\n",
    "import nltk\n",
    "from nltk.corpus import stopwords\n",
    "\n",
    "#Download stopword\n",
    "nltk.download('stopwords') \n",
    "nltk.download('punkt') # Tokenizers\n",
    "nltk.download('wordnet') # Wordnet"
   ]
  },
  {
   "cell_type": "markdown",
   "metadata": {},
   "source": [
    "## Initialize some variables"
   ]
  },
  {
   "cell_type": "code",
   "execution_count": 2,
   "metadata": {},
   "outputs": [],
   "source": [
    "# Stop Words\n",
    "stop_words_list = stopwords.words('english') #a small one\n",
    "newStopWords = get_stop_words('en') # a big one\n",
    "stop_words_list.extend(newStopWords) # all together"
   ]
  },
  {
   "cell_type": "code",
   "execution_count": 3,
   "metadata": {},
   "outputs": [],
   "source": [
    "query                    = 'internet of things'\n",
    "reference_terms          = BooleanOperation(Operation.UNION, [\"iot\", \"internet of things\"])\n",
    "nr_search_results        = 10\n",
    "\n",
    "ranking_weight_type      = 'linear' # it can be: 'none', 'linear' or 'inverse'\n",
    "lema                     = True\n",
    "stem                     = False\n",
    "sumarize                 = 'none' \n",
    "nr_of_graph_terms        = 5\n",
    "limit_distance           = 4 \n",
    "include_reference_terms  = True\n",
    "format_adjacent_refterms = True"
   ]
  },
  {
   "cell_type": "code",
   "execution_count": 4,
   "metadata": {},
   "outputs": [],
   "source": [
    "ranking = srex_new_classes.Ranking(query_text=query, reference_terms=reference_terms, nr_search_results=nr_search_results, ranking_weight_type=ranking_weight_type,\n",
    "                                   stop_words=stop_words_list, lema=lema, stem=stem)"
   ]
  },
  {
   "cell_type": "code",
   "execution_count": 5,
   "metadata": {},
   "outputs": [],
   "source": [
    "ranking.set_attributes_to_all_graphs_and_calculate_vicinity_matrix(nr_of_graph_terms, limit_distance, include_reference_terms, format_adjacent_refterms)"
   ]
  },
  {
   "cell_type": "code",
   "execution_count": 6,
   "metadata": {},
   "outputs": [
    {
     "name": "stdout",
     "output_type": "stream",
     "text": [
      "doc: 8767227\n",
      "sentence processed text: {'internet': {'thing': [1.0, 0.0, 0.0, 0.0]}, 'thing': {'internet': [1.0, 0.0, 0.0, 0.0]}, 'security': {'internet': [0.0, 1.0, 0.0, 0.0], 'thing': [1.0, 0.0, 0.0, 0.0]}, 'multilayered': {'internet': [0.0, 0.0, 1.0, 0.0], 'thing': [0.0, 1.0, 0.0, 0.0]}, 'method': {'internet': [0.0, 0.0, 0.0, 1.0], 'thing': [0.0, 0.0, 1.0, 0.0]}, 'end': {'thing': [0.0, 0.0, 0.0, 1.0]}}\n",
      "sentence processed text: {'data': {'internet': [0.0, 0.0, 0.0, 1.0]}, 'transport': {'internet': [0.0, 0.0, 1.0, 0.0], 'thing': [0.0, 0.0, 0.0, 1.0]}, 'cellular': {'internet': [0.0, 1.0, 0.0, 1.0], 'thing': [0.0, 0.0, 2.0, 0.0]}, 'connected': {'internet': [1.0, 0.0, 0.0, 0.0], 'thing': [0.0, 1.0, 0.0, 0.0]}, 'internet': {'thing': [1.0, 0.0, 0.0, 0.0]}, 'thing': {'internet': [1.0, 0.0, 0.0, 0.0]}, 'device': {'internet': [0.0, 1.0, 0.0, 0.0], 'thing': [1.0, 0.0, 0.0, 0.0]}, 'host': {'internet': [0.0, 0.0, 1.0, 0.0], 'thing': [0.0, 1.0, 0.0, 0.0]}, 'network': {'thing': [0.0, 0.0, 0.0, 1.0]}}\n",
      "sentence processed text: {}\n",
      "doc: 8620157\n",
      "sentence processed text: {'assiut': {'iot': [0.95, 0.0, 0.0, 0.0]}, 'iot': {'internet': [0.0, 0.0, 0.0, 0.95]}, 'remotely': {'iot': [0.95, 0.0, 0.0, 0.0], 'internet': [0.0, 0.0, 0.95, 0.0], 'thing': [0.0, 0.0, 0.0, 0.95]}, 'accessible': {'iot': [0.0, 0.95, 0.0, 0.0], 'internet': [0.0, 0.95, 0.0, 0.0], 'thing': [0.0, 0.0, 0.95, 0.0]}, 'testbed': {'iot': [0.0, 0.0, 0.95, 0.0], 'internet': [0.95, 0.0, 0.0, 0.0], 'thing': [0.0, 0.95, 0.0, 0.0]}, 'internet': {'iot': [0.0, 0.0, 0.0, 0.95], 'thing': [0.95, 0.0, 0.0, 0.0]}, 'thing': {'internet': [0.95, 0.0, 0.0, 0.0]}}\n",
      "sentence processed text: {}\n",
      "sentence processed text: {'introduce': {'iot': [0.0, 0.0, 0.0, 0.95]}, 'basic': {'iot': [0.0, 0.0, 0.95, 0.0]}, 'architecture': {'iot': [0.0, 0.95, 0.0, 0.0]}, 'assiut': {'iot': [0.95, 0.0, 0.0, 0.0]}, 'remotely': {'iot': [0.95, 0.0, 0.0, 0.95]}, 'accessible': {'iot': [0.0, 0.95, 0.95, 0.0]}, 'testbed': {'iot': [0.0, 0.95, 0.95, 0.0]}, 'designed': {'iot': [0.95, 0.0, 0.0, 0.95]}, 'application': {'iot': [0.95, 0.0, 0.0, 0.0]}}\n",
      "sentence processed text: {'experiment': {'iot': [0.0, 0.95, 0.0, 0.0]}, 'remotely': {'iot': [0.0, 0.0, 0.0, 0.95]}, 'implement': {'iot': [0.0, 0.0, 0.95, 0.0]}, 'related': {'iot': [0.95, 0.0, 0.0, 0.0]}, 'application': {'iot': [0.95, 0.0, 0.0, 0.0]}}\n",
      "sentence processed text: {}\n",
      "sentence processed text: {}\n",
      "doc: 8906043\n",
      "sentence processed text: {'tornado': {'internet': [0.0, 0.0, 0.0, 0.9]}, 'enabling': {'internet': [0.0, 0.0, 0.9, 0.0], 'thing': [0.0, 0.0, 0.0, 0.9]}, 'blockchain': {'internet': [0.0, 0.9, 0.0, 0.0], 'thing': [0.0, 0.0, 0.9, 0.0]}, 'heterogeneous': {'internet': [0.9, 0.0, 0.0, 0.0], 'thing': [0.0, 0.9, 0.0, 0.0]}, 'internet': {'thing': [0.9, 0.0, 0.0, 0.0]}, 'thing': {'internet': [0.9, 0.0, 0.0, 0.0]}, 'approach': {'internet': [0.0, 0.9, 0.0, 0.0], 'thing': [0.9, 0.0, 0.0, 0.0]}}\n",
      "sentence processed text: {'widespread': {'iot': [0.0, 0.0, 0.0, 0.9], 'internet': [0.0, 0.9, 0.0, 0.0], 'thing': [0.0, 0.0, 0.9, 0.0]}, 'application': {'iot': [0.0, 0.0, 0.9, 0.0], 'internet': [0.9, 0.0, 0.0, 0.0], 'thing': [0.0, 0.9, 0.0, 0.0]}, 'internet': {'iot': [0.0, 0.9, 0.0, 0.0], 'thing': [0.9, 0.0, 0.0, 0.0]}, 'thing': {'iot': [0.9, 0.0, 0.0, 0.0], 'internet': [0.9, 0.0, 0.0, 0.0]}, 'iot': {'internet': [0.0, 0.9, 0.0, 0.0], 'thing': [0.9, 0.0, 0.0, 0.0]}, 'smart': {'iot': [0.9, 0.0, 0.0, 0.0], 'internet': [0.0, 0.0, 0.9, 0.0], 'thing': [0.0, 0.9, 0.0, 0.0]}, 'city': {'iot': [0.0, 0.9, 0.0, 0.0], 'internet': [0.0, 0.0, 0.0, 0.9], 'thing': [0.0, 0.0, 0.9, 0.0]}, 'business': {'iot': [0.0, 0.0, 0.9, 0.0], 'thing': [0.0, 0.0, 0.0, 0.9]}, 'healthcare': {'iot': [0.0, 0.0, 0.0, 0.9]}}\n",
      "sentence processed text: {'data': {'iot': [0.0, 0.0, 0.0, 0.9]}, 'processing': {'iot': [0.0, 0.0, 0.9, 0.0]}, 'restrict': {'iot': [0.0, 0.9, 0.0, 0.0]}, 'deployment': {'iot': [0.9, 0.0, 0.0, 0.0]}, 'scenario': {'iot': [0.9, 0.0, 0.0, 0.0]}}\n",
      "sentence processed text: {'blockchain': {'iot': [0.0, 0.0, 0.0, 0.9]}, 'accommodate': {'iot': [0.0, 0.0, 0.9, 0.0]}, 'wimpy': {'iot': [0.0, 0.9, 0.0, 0.0]}, 'brawny': {'iot': [0.9, 0.0, 0.0, 0.0]}, 'device': {'iot': [0.9, 0.0, 0.0, 0.0]}}\n",
      "sentence processed text: {'blockchain': {'iot': [0.9, 0.0, 0.0, 0.0]}, 'corresponding': {'iot': [0.0, 0.0, 0.0, 0.9]}, 'algorithm': {'iot': [0.0, 0.0, 0.9, 0.0]}, 'enable': {'iot': [0.0, 0.9, 0.0, 0.0]}}\n",
      "sentence processed text: {}\n",
      "sentence processed text: {'address': {'iot': [0.0, 0.0, 0.9, 0.0]}, 'huge': {'iot': [0.0, 0.9, 0.0, 0.0]}, 'heterogeneity': {'iot': [0.9, 0.0, 0.0, 0.0]}, 'novel': {'iot': [0.9, 0.0, 0.0, 0.0]}, 'consensus': {'iot': [0.0, 0.9, 0.0, 0.0]}, 'mechanism': {'iot': [0.0, 0.0, 0.9, 0.0]}, 'named': {'iot': [0.0, 0.0, 0.0, 0.9]}}\n",
      "sentence processed text: {'protocol': {'iot': [0.0, 0.0, 0.0, 0.9]}, 'improving': {'iot': [0.0, 0.0, 0.9, 0.0]}, 'resource': {'iot': [0.0, 0.9, 0.0, 0.0]}, 'efficiency': {'iot': [0.9, 0.0, 0.0, 0.0]}, 'device': {'iot': [0.9, 0.0, 0.0, 0.0]}}\n",
      "sentence processed text: {}\n",
      "sentence processed text: {}\n",
      "sentence processed text: {}\n",
      "doc: 9759899\n",
      "sentence processed text: {'internet': {'thing': [0.85, 0.0, 0.0, 0.0]}, 'thing': {'internet': [0.85, 0.0, 0.0, 0.0]}, 'environment': {'internet': [0.0, 0.85, 0.0, 0.0], 'thing': [0.85, 0.0, 0.0, 0.0]}, 'automation': {'internet': [0.0, 0.0, 0.85, 0.0], 'thing': [0.0, 0.85, 0.0, 0.0]}, 'smart': {'internet': [0.0, 0.0, 0.0, 0.85], 'thing': [0.0, 0.0, 0.85, 0.0]}, 'lab': {'thing': [0.0, 0.0, 0.0, 0.85]}}\n",
      "sentence processed text: {}\n",
      "sentence processed text: {}\n",
      "sentence processed text: {}\n",
      "sentence processed text: {}\n",
      "sentence processed text: {}\n",
      "sentence processed text: {}\n",
      "doc: 9406548\n",
      "sentence processed text: {'detection': {'internet': [0.0, 0.0, 0.0, 0.8]}, 'approach': {'internet': [0.0, 0.0, 0.8, 0.0], 'thing': [0.0, 0.0, 0.0, 0.8]}, 'wireless': {'internet': [0.0, 0.8, 0.0, 0.0], 'thing': [0.0, 0.0, 0.8, 0.0]}, 'sensor': {'internet': [0.8, 0.0, 0.0, 0.0], 'thing': [0.0, 0.8, 0.0, 0.0]}, 'internet': {'thing': [0.8, 0.0, 0.0, 0.0]}, 'thing': {'internet': [0.8, 0.0, 0.0, 0.0]}}\n",
      "sentence processed text: {'nowadays': {'iot': [0.0, 0.0, 0.8, 0.0], 'internet': [0.8, 0.0, 0.0, 0.0], 'thing': [0.0, 0.8, 0.0, 0.0]}, 'internet': {'iot': [0.0, 0.8, 0.0, 0.0], 'thing': [0.8, 0.0, 0.0, 0.0]}, 'thing': {'iot': [0.8, 0.0, 0.0, 0.0], 'internet': [0.8, 0.0, 0.0, 0.0]}, 'iot': {'internet': [0.0, 0.8, 0.0, 0.0], 'thing': [0.8, 0.0, 0.0, 0.0]}, 'widely': {'iot': [0.8, 0.0, 0.0, 0.0], 'internet': [0.0, 0.0, 0.8, 0.0], 'thing': [0.0, 0.8, 0.0, 0.0]}, 'employed': {'iot': [0.0, 0.8, 0.0, 0.0], 'internet': [0.0, 0.0, 0.0, 0.8], 'thing': [0.0, 0.0, 0.8, 0.0]}, 'different': {'iot': [0.0, 0.0, 0.8, 0.0], 'thing': [0.0, 0.0, 0.0, 0.8]}, 'application': {'iot': [0.0, 0.0, 0.0, 0.8]}}\n",
      "sentence processed text: {'harsh': {'iot': [0.0, 0.0, 0.0, 0.8]}, 'environmental': {'iot': [0.0, 0.0, 0.8, 0.0]}, 'interference': {'iot': [0.0, 0.8, 0.0, 0.0]}, 'deception': {'iot': [0.8, 0.0, 0.0, 0.0]}, 'data': {'iot': [0.8, 0.0, 0.0, 0.0]}, 'normally': {'iot': [0.0, 0.8, 0.0, 0.0]}, 'apt': {'iot': [0.0, 0.0, 0.8, 0.0]}, 'imperfect': {'iot': [0.0, 0.0, 0.0, 0.8]}}\n",
      "sentence processed text: {}\n",
      "sentence processed text: {}\n",
      "doc: 9390061\n",
      "sentence processed text: {'intelligent': {'internet': [0.75, 0.0, 0.0, 0.0], 'thing': [0.0, 0.75, 0.0, 0.0]}, 'internet': {'thing': [0.75, 0.0, 0.0, 0.0]}, 'thing': {'internet': [0.75, 0.0, 0.0, 0.0]}, 'service': {'internet': [0.0, 0.75, 0.0, 0.0], 'thing': [0.75, 0.0, 0.0, 0.0]}, 'based': {'internet': [0.0, 0.0, 0.75, 0.0], 'thing': [0.0, 0.75, 0.0, 0.0]}, 'artificial': {'internet': [0.0, 0.0, 0.0, 0.75], 'thing': [0.0, 0.0, 0.75, 0.0]}, 'intelligence': {'thing': [0.0, 0.0, 0.0, 0.75]}}\n",
      "sentence processed text: {}\n",
      "sentence processed text: {'internet': {'thing': [0.75, 0.0, 0.0, 0.0]}, 'connection': {'internet': [0.75, 0.75, 0.75, 0.0], 'thing': [0.75, 0.75, 0.0, 0.75]}, 'shift': {'internet': [0.0, 0.75, 0.0, 0.0], 'thing': [0.0, 0.0, 0.75, 0.0]}, 'thing': {'internet': [0.75, 0.0, 0.0, 0.0]}}\n",
      "sentence processed text: {}\n",
      "sentence processed text: {}\n",
      "sentence processed text: {'application': {'internet': [0.75, 0.0, 0.0, 0.0], 'thing': [0.0, 0.75, 0.0, 0.0]}, 'internet': {'thing': [0.75, 0.0, 0.0, 0.0]}, 'thing': {'internet': [0.75, 0.0, 0.0, 0.0]}, 'alleviated': {'internet': [0.0, 0.75, 0.0, 0.0], 'thing': [0.75, 0.0, 0.0, 0.0]}, 'negative': {'internet': [0.0, 0.0, 0.75, 0.0], 'thing': [0.0, 0.75, 0.0, 0.0]}, 'effect': {'internet': [0.0, 0.0, 0.0, 0.75], 'thing': [0.0, 0.0, 0.75, 0.0]}, 'epidemic': {'thing': [0.0, 0.0, 0.0, 0.75]}}\n",
      "doc: 8835419\n",
      "sentence processed text: {'making': {'internet': [0.7, 0.0, 0.0, 0.0], 'thing': [0.0, 0.7, 0.0, 0.0]}, 'internet': {'thing': [0.7, 0.0, 0.0, 0.0]}, 'thing': {'internet': [0.7, 0.0, 0.0, 0.0]}, 'real': {'internet': [0.0, 0.7, 0.0, 0.0], 'thing': [0.7, 0.0, 0.0, 0.0]}}\n",
      "sentence processed text: {'internet': {'iot': [0.0, 0.7, 0.0, 0.0], 'thing': [0.7, 0.0, 0.0, 0.0]}, 'thing': {'iot': [0.7, 0.0, 0.0, 0.0], 'internet': [0.7, 0.0, 0.0, 0.0]}, 'iot': {'internet': [0.0, 0.7, 0.0, 0.0], 'thing': [0.7, 0.0, 0.0, 0.0]}, 'driving': {'iot': [0.7, 0.0, 0.0, 0.0], 'internet': [0.0, 0.0, 0.7, 0.0], 'thing': [0.0, 0.7, 0.0, 0.0]}, 'next': {'iot': [0.0, 0.7, 0.0, 0.0], 'internet': [0.0, 0.0, 0.0, 0.7], 'thing': [0.0, 0.0, 0.7, 0.0]}, 'wave': {'iot': [0.0, 0.0, 0.7, 0.0], 'thing': [0.0, 0.0, 0.0, 0.7]}, 'innovation': {'iot': [0.0, 0.0, 0.0, 0.7]}}\n",
      "sentence processed text: {'revolution': {'iot': [0.7, 0.0, 0.0, 0.0]}, 'called': {'iot': [0.0, 0.7, 0.0, 0.0]}, 'promise': {'iot': [0.0, 0.0, 0.7, 0.0]}, 'major': {'iot': [0.0, 0.0, 0.0, 0.7]}}\n",
      "sentence processed text: {'article': {'iot': [0.0, 0.0, 0.0, 0.7]}, 'take': {'iot': [0.0, 0.0, 0.7, 0.0]}, 'fresh': {'iot': [0.0, 0.7, 0.0, 0.0]}, 'look': {'iot': [0.7, 0.0, 0.0, 0.0]}, 'business': {'iot': [0.7, 0.0, 0.0, 0.0]}, 'revolution': {'iot': [0.0, 0.7, 0.0, 0.0]}, 'driven': {'iot': [0.0, 0.0, 0.7, 0.0]}, 'technology': {'iot': [0.0, 0.0, 0.0, 0.7]}}\n",
      "sentence processed text: {'business': {'iot': [0.7, 0.0, 0.0, 0.0]}, 'considered': {'iot': [0.0, 0.0, 0.0, 0.7]}, 'choice': {'iot': [0.0, 0.0, 0.7, 0.0]}, 'made': {'iot': [0.0, 0.7, 0.0, 0.0]}, 'adoption': {'iot': [0.7, 0.0, 0.0, 0.0]}}\n",
      "sentence processed text: {}\n",
      "doc: 8355174\n",
      "sentence processed text: {'service': {'internet': [0.0, 0.0, 0.0, 0.65]}, 'novel': {'internet': [0.0, 0.0, 0.65, 0.0], 'thing': [0.0, 0.0, 0.0, 0.65]}, 'paradigm': {'internet': [0.0, 0.65, 0.0, 0.0], 'thing': [0.0, 0.0, 0.65, 0.0]}, 'future': {'internet': [0.65, 0.0, 0.0, 0.0], 'thing': [0.0, 0.65, 0.0, 0.0]}, 'internet': {'thing': [0.65, 0.0, 0.0, 0.0]}, 'thing': {'internet': [0.65, 0.0, 0.0, 0.0]}}\n",
      "sentence processed text: {'importance': {'internet': [0.0, 0.0, 0.0, 0.65]}, 'unfolding': {'internet': [0.0, 0.0, 0.65, 0.0], 'thing': [0.0, 0.0, 0.0, 0.65]}, 'potential': {'iot': [0.0, 0.0, 0.0, 0.65], 'internet': [0.0, 0.65, 0.0, 0.0], 'thing': [0.0, 0.0, 0.65, 0.0]}, 'future': {'iot': [0.0, 0.0, 0.65, 0.0], 'internet': [0.65, 0.0, 0.0, 0.0], 'thing': [0.0, 0.65, 0.0, 0.0]}, 'internet': {'iot': [0.0, 0.65, 0.0, 0.0], 'thing': [0.65, 0.0, 0.0, 0.0]}, 'thing': {'iot': [0.65, 0.0, 0.0, 0.0], 'internet': [0.65, 0.0, 0.0, 0.0]}, 'iot': {'internet': [0.0, 0.65, 0.0, 0.0], 'thing': [0.65, 0.0, 0.0, 0.0]}, 'dense': {'iot': [0.65, 0.0, 0.0, 0.0], 'internet': [0.0, 0.0, 0.65, 0.0], 'thing': [0.0, 0.65, 0.0, 0.0]}, 'open': {'iot': [0.0, 0.65, 0.0, 0.0], 'internet': [0.0, 0.0, 0.0, 0.65], 'thing': [0.0, 0.0, 0.65, 0.0]}, 'cyberphysical': {'iot': [0.0, 0.0, 0.65, 0.0], 'thing': [0.0, 0.0, 0.0, 0.65]}, 'ecosystem': {'iot': [0.0, 0.0, 0.0, 0.65]}}\n",
      "sentence processed text: {'paper': {'iot': [0.0, 0.0, 0.0, 0.65]}, 'promotes': {'iot': [0.0, 0.0, 0.65, 0.0]}, 'vision': {'iot': [0.0, 0.65, 0.0, 0.0]}, 'opportunistic': {'iot': [0.65, 0.0, 0.0, 0.0]}, 'service': {'iot': [0.65, 0.0, 0.0, 0.0]}, 'approach': {'iot': [0.0, 0.65, 0.0, 0.0]}, 'modeling': {'iot': [0.0, 0.0, 0.65, 0.0]}, 'according': {'iot': [0.0, 0.0, 0.0, 0.65]}}\n",
      "sentence processed text: {'case': {'iot': [0.0, 0.0, 0.0, 0.65]}, 'study': {'iot': [0.0, 0.0, 0.65, 0.0]}, 'related': {'iot': [0.0, 0.65, 0.0, 0.0]}, 'industrial': {'iot': [0.65, 0.0, 0.0, 0.0]}, 'smart': {'iot': [0.65, 0.0, 0.0, 0.0]}, 'city': {'iot': [0.0, 0.65, 0.0, 0.0]}, 'scenario': {'iot': [0.0, 0.0, 0.65, 0.0]}}\n",
      "doc: 9058410\n",
      "sentence processed text: {'based': {'internet': [0.0, 0.0, 0.0, 0.6]}, 'online': {'internet': [0.0, 0.0, 0.6, 0.0], 'thing': [0.0, 0.0, 0.0, 0.6]}, 'intrusion': {'internet': [0.0, 0.6, 0.0, 0.0], 'thing': [0.0, 0.0, 0.6, 0.0]}, 'detection': {'internet': [0.6, 0.0, 0.0, 0.0], 'thing': [0.0, 0.6, 0.0, 0.0]}, 'internet': {'thing': [0.6, 0.0, 0.0, 0.0]}, 'thing': {'internet': [0.6, 0.0, 0.0, 0.0]}, 'network': {'internet': [0.0, 0.6, 0.0, 0.0], 'thing': [0.6, 0.0, 0.0, 0.0]}}\n",
      "sentence processed text: {'internet': {'iot': [0.0, 0.6, 0.0, 0.0], 'thing': [0.6, 0.0, 0.0, 0.0]}, 'thing': {'iot': [0.6, 0.0, 0.0, 0.0], 'internet': [0.6, 0.0, 0.0, 0.0]}, 'iot': {'internet': [0.0, 0.6, 0.0, 0.0], 'thing': [0.6, 0.0, 0.0, 0.0]}, 'device': {'iot': [0.6, 0.0, 0.0, 0.0], 'internet': [0.0, 0.0, 0.6, 0.0], 'thing': [0.0, 0.6, 0.0, 0.0]}, 'participate': {'iot': [0.0, 0.6, 0.0, 0.0], 'internet': [0.0, 0.0, 0.0, 0.6], 'thing': [0.0, 0.0, 0.6, 0.0]}, 'open': {'iot': [0.0, 0.0, 0.6, 0.0], 'thing': [0.0, 0.0, 0.0, 0.6]}, 'distributed': {'iot': [0.0, 0.0, 0.0, 0.6]}}\n",
      "sentence processed text: {}\n",
      "sentence processed text: {'additional': {'iot': [0.0, 0.6, 0.0, 0.0]}, 'challenge': {'iot': [0.6, 0.0, 0.0, 0.0]}, 'network': {'iot': [0.6, 0.0, 0.0, 0.0]}, 'continuous': {'iot': [0.0, 0.6, 0.0, 0.0]}, 'data': {'iot': [0.0, 0.0, 0.6, 0.0]}, 'stream': {'iot': [0.0, 0.0, 0.0, 0.6]}}\n",
      "sentence processed text: {'online': {'iot': [0.0, 0.0, 0.0, 0.6]}, 'machine': {'iot': [0.0, 0.0, 0.6, 0.0]}, 'learning': {'iot': [0.0, 0.6, 0.0, 0.0]}, 'method': {'iot': [0.6, 0.0, 0.0, 0.0]}, 'network': {'iot': [0.6, 0.0, 0.0, 0.0]}, 'intrusion': {'iot': [0.0, 0.6, 0.0, 0.0]}, 'detection': {'iot': [0.0, 0.0, 0.6, 0.0]}, 'answer': {'iot': [0.0, 0.0, 0.0, 0.6]}}\n",
      "sentence processed text: {'solution': {'iot': [0.0, 0.0, 0.0, 0.6]}, 'resource': {'iot': [0.0, 0.0, 0.6, 0.0]}, 'constrained': {'iot': [0.0, 0.6, 0.0, 0.0]}, 'distributed': {'iot': [0.6, 0.0, 0.0, 0.0]}, 'perception': {'iot': [0.6, 0.0, 0.0, 0.0]}, 'layer': {'iot': [0.0, 0.6, 0.0, 0.0]}}\n",
      "sentence processed text: {}\n",
      "doc: 8668121\n",
      "sentence processed text: {'framework': {'internet': [0.0, 0.0, 0.55, 0.0], 'thing': [0.0, 0.0, 0.0, 0.55]}, 'security': {'iot': [0.0, 0.0, 0.0, 0.55], 'internet': [0.0, 0.55, 0.0, 0.0], 'thing': [0.0, 0.0, 0.55, 0.0]}, 'protection': {'iot': [0.0, 0.0, 0.55, 0.0], 'internet': [0.55, 0.0, 0.0, 0.0], 'thing': [0.0, 0.55, 0.0, 0.0]}, 'internet': {'iot': [0.0, 0.55, 0.0, 0.0], 'thing': [0.55, 0.0, 0.0, 0.0]}, 'thing': {'iot': [0.55, 0.0, 0.0, 0.0], 'internet': [0.55, 0.0, 0.0, 0.0]}, 'iot': {'internet': [0.0, 0.55, 0.0, 0.0], 'thing': [0.55, 0.0, 0.0, 0.0]}, 'device': {'iot': [0.55, 0.0, 0.0, 0.0], 'internet': [0.0, 0.0, 0.55, 0.0], 'thing': [0.0, 0.55, 0.0, 0.0]}}\n",
      "sentence processed text: {'day': {'iot': [0.0, 0.0, 0.55, 0.0], 'internet': [0.55, 0.0, 0.0, 0.0], 'thing': [0.0, 0.55, 0.0, 0.0]}, 'internet': {'iot': [0.0, 0.55, 0.0, 0.0], 'thing': [0.55, 0.0, 0.0, 0.0]}, 'thing': {'iot': [0.55, 0.0, 0.0, 0.0], 'internet': [0.55, 0.0, 0.0, 0.0]}, 'iot': {'internet': [0.0, 0.55, 0.0, 0.0], 'thing': [0.55, 0.0, 0.0, 0.0]}, 'transformed': {'iot': [0.55, 0.0, 0.0, 0.0], 'internet': [0.0, 0.0, 0.55, 0.0], 'thing': [0.0, 0.55, 0.0, 0.0]}, 'extreme': {'iot': [0.0, 0.55, 0.0, 0.0], 'internet': [0.0, 0.0, 0.0, 0.55], 'thing': [0.0, 0.0, 0.55, 0.0]}, 'ponder': {'iot': [0.0, 0.0, 0.55, 0.0], 'thing': [0.0, 0.0, 0.0, 0.55]}, 'created': {'iot': [0.0, 0.0, 0.0, 0.55]}}\n",
      "sentence processed text: {'examination': {'internet': [0.0, 0.0, 0.0, 0.55]}, 'paper': {'internet': [0.0, 0.0, 0.55, 0.0], 'thing': [0.0, 0.0, 0.0, 0.55]}, 'give': {'internet': [0.0, 0.55, 0.0, 0.0], 'thing': [0.0, 0.0, 0.55, 0.0]}, 'survey': {'internet': [0.55, 0.0, 0.0, 0.0], 'thing': [0.0, 0.55, 0.0, 0.0]}, 'internet': {'thing': [0.55, 0.0, 0.0, 0.0]}, 'thing': {'internet': [0.55, 0.0, 0.0, 0.0]}, 'engaging': {'internet': [0.0, 0.55, 0.0, 0.0], 'thing': [0.55, 0.0, 0.0, 0.0]}, 'development': {'internet': [0.0, 0.0, 0.55, 0.0], 'thing': [0.0, 0.55, 0.0, 0.0]}, 'security': {'internet': [0.0, 0.0, 0.0, 0.55], 'thing': [0.0, 0.0, 0.55, 0.0]}, 'issue': {'thing': [0.0, 0.0, 0.0, 0.55]}}\n",
      "sentence processed text: {'enormous': {'internet': [0.0, 0.0, 0.55, 0.0], 'thing': [0.0, 0.0, 0.0, 0.55]}, 'number': {'internet': [0.0, 0.55, 0.0, 0.0], 'thing': [0.0, 0.0, 0.55, 0.0]}, 'employment': {'internet': [0.55, 0.0, 0.0, 0.0], 'thing': [0.0, 0.55, 0.0, 0.0]}, 'internet': {'thing': [0.55, 0.0, 0.0, 0.0]}, 'thing': {'internet': [0.55, 0.0, 0.0, 0.0]}, 'essentially': {'internet': [0.0, 0.55, 0.0, 0.0], 'thing': [0.55, 0.0, 0.0, 0.0]}, 'aspect': {'internet': [0.0, 0.0, 0.55, 0.0], 'thing': [0.0, 0.55, 0.0, 0.0]}, 'life': {'internet': [0.0, 0.0, 0.0, 0.55], 'thing': [0.0, 0.0, 0.55, 0.0]}}\n",
      "sentence processed text: {'accordingly': {'internet': [0.0, 0.0, 0.0, 0.55]}, 'one': {'internet': [0.0, 0.0, 0.55, 0.0], 'thing': [0.0, 0.0, 0.0, 0.55]}, 'rule': {'internet': [0.0, 0.55, 0.0, 0.0], 'thing': [0.0, 0.0, 0.55, 0.0]}, 'issue': {'internet': [0.55, 0.0, 0.0, 0.0], 'thing': [0.0, 0.55, 0.0, 0.0]}, 'internet': {'thing': [0.55, 0.0, 0.0, 0.0]}, 'thing': {'internet': [0.55, 0.0, 0.0, 0.0]}}\n",
      "sentence processed text: {'layout': {'internet': [0.0, 0.0, 0.0, 0.55]}, 'various': {'internet': [0.0, 0.0, 0.55, 0.0], 'thing': [0.0, 0.0, 0.0, 0.55]}, 'security': {'iot': [0.0, 0.55, 0.0, 0.0], 'internet': [0.0, 0.55, 0.0, 0.0], 'thing': [0.0, 0.0, 0.55, 0.0]}, 'stress': {'internet': [0.55, 0.0, 0.0, 0.0], 'thing': [0.0, 0.55, 0.0, 0.0]}, 'internet': {'thing': [0.55, 0.0, 0.0, 0.0]}, 'thing': {'internet': [0.55, 0.0, 0.0, 0.0]}, 'system': {'internet': [0.0, 0.55, 0.0, 0.0], 'thing': [0.55, 0.0, 0.0, 0.0]}, 'peril': {'internet': [0.0, 0.0, 0.55, 0.0], 'thing': [0.0, 0.55, 0.0, 0.0]}, 'identified': {'iot': [0.0, 0.0, 0.0, 0.55], 'internet': [0.0, 0.0, 0.0, 0.55], 'thing': [0.0, 0.0, 0.55, 0.0]}, 'challenge': {'iot': [0.0, 0.0, 0.55, 0.0], 'thing': [0.0, 0.0, 0.0, 0.55]}, 'framework': {'iot': [0.0, 0.55, 0.0, 0.0]}, 'protect': {'iot': [0.55, 0.0, 0.0, 0.0]}, 'device': {'iot': [0.55, 0.0, 0.0, 0.0]}, 'issue': {'iot': [0.0, 0.0, 0.55, 0.0]}}\n"
     ]
    }
   ],
   "source": [
    "for d in ranking.get_documents():\n",
    "    print(f\"doc: {d.get_doc_id()}\")\n",
    "    for s in d.get_sentences():\n",
    "        print(f\"sentence processed text: {s.get_vicinity_matrix()}\")"
   ]
  },
  {
   "cell_type": "code",
   "execution_count": 7,
   "metadata": {},
   "outputs": [
    {
     "ename": "TypeError",
     "evalue": "'NoneType' object is not iterable",
     "output_type": "error",
     "traceback": [
      "\u001b[1;31m---------------------------------------------------------------------------\u001b[0m",
      "\u001b[1;31mTypeError\u001b[0m                                 Traceback (most recent call last)",
      "Cell \u001b[1;32mIn[7], line 1\u001b[0m\n\u001b[1;32m----> 1\u001b[0m \u001b[43mranking\u001b[49m\u001b[38;5;241;43m.\u001b[39;49m\u001b[43mgenerate_nodes_of_all_graphs\u001b[49m\u001b[43m(\u001b[49m\u001b[43m)\u001b[49m\n",
      "File \u001b[1;32mc:\\Users\\kianu\\Desktop\\Graphsearch\\jupyter\\srex_new_classes.py:810\u001b[0m, in \u001b[0;36mRanking.generate_nodes_of_all_graphs\u001b[1;34m(self)\u001b[0m\n\u001b[0;32m    805\u001b[0m \u001b[38;5;250m\u001b[39m\u001b[38;5;124;03m\"\"\"\u001b[39;00m\n\u001b[0;32m    806\u001b[0m \u001b[38;5;124;03mGenerate all the nodes associated with the graphs from both the ranking and all the documents along with their \u001b[39;00m\n\u001b[0;32m    807\u001b[0m \u001b[38;5;124;03msentences, based on the reference terms\u001b[39;00m\n\u001b[0;32m    808\u001b[0m \u001b[38;5;124;03m\"\"\"\u001b[39;00m\n\u001b[0;32m    809\u001b[0m \u001b[38;5;28;01mfor\u001b[39;00m document \u001b[38;5;129;01min\u001b[39;00m \u001b[38;5;28mself\u001b[39m\u001b[38;5;241m.\u001b[39m__documents:\n\u001b[1;32m--> 810\u001b[0m     \u001b[43mdocument\u001b[49m\u001b[38;5;241;43m.\u001b[39;49m\u001b[43mgenerate_graph_nodes_of_doc_and_sentences\u001b[49m\u001b[43m(\u001b[49m\u001b[43m)\u001b[49m\n",
      "File \u001b[1;32mc:\\Users\\kianu\\Desktop\\Graphsearch\\jupyter\\srex_new_classes.py:638\u001b[0m, in \u001b[0;36mDocument.generate_graph_nodes_of_doc_and_sentences\u001b[1;34m(self)\u001b[0m\n\u001b[0;32m    633\u001b[0m \u001b[38;5;250m\u001b[39m\u001b[38;5;124;03m\"\"\"\u001b[39;00m\n\u001b[0;32m    634\u001b[0m \u001b[38;5;124;03mGenerate all the nodes associated with the document graphs, along with the graphs of their\u001b[39;00m\n\u001b[0;32m    635\u001b[0m \u001b[38;5;124;03msentences, based on their reference terms\u001b[39;00m\n\u001b[0;32m    636\u001b[0m \u001b[38;5;124;03m\"\"\"\u001b[39;00m\n\u001b[0;32m    637\u001b[0m \u001b[38;5;28;01mfor\u001b[39;00m sentence \u001b[38;5;129;01min\u001b[39;00m \u001b[38;5;28mself\u001b[39m\u001b[38;5;241m.\u001b[39m__sentences:\n\u001b[1;32m--> 638\u001b[0m     \u001b[43msentence\u001b[49m\u001b[38;5;241;43m.\u001b[39;49m\u001b[43mgenerate_graph_nodes_of_sentence\u001b[49m\u001b[43m(\u001b[49m\u001b[43m)\u001b[49m\n",
      "File \u001b[1;32mc:\\Users\\kianu\\Desktop\\Graphsearch\\jupyter\\srex_new_classes.py:241\u001b[0m, in \u001b[0;36mSentence.generate_graph_nodes_of_sentence\u001b[1;34m(self)\u001b[0m\n\u001b[0;32m    236\u001b[0m \u001b[38;5;250m\u001b[39m\u001b[38;5;124;03m\"\"\"\u001b[39;00m\n\u001b[0;32m    237\u001b[0m \u001b[38;5;124;03mGenerate nodes to all the graphs associated with the sentence, based on \u001b[39;00m\n\u001b[0;32m    238\u001b[0m \u001b[38;5;124;03mtheir isolated reference terms\u001b[39;00m\n\u001b[0;32m    239\u001b[0m \u001b[38;5;124;03m\"\"\"\u001b[39;00m\n\u001b[0;32m    240\u001b[0m \u001b[38;5;28;01mfor\u001b[39;00m graph \u001b[38;5;129;01min\u001b[39;00m \u001b[38;5;28mself\u001b[39m\u001b[38;5;241m.\u001b[39m__graphs:\n\u001b[1;32m--> 241\u001b[0m     \u001b[38;5;28;43mself\u001b[39;49m\u001b[38;5;241;43m.\u001b[39;49m\u001b[43m__generate_graph_nodes\u001b[49m\u001b[43m(\u001b[49m\u001b[43mgraph\u001b[49m\u001b[43m)\u001b[49m\n",
      "File \u001b[1;32mc:\\Users\\kianu\\Desktop\\Graphsearch\\jupyter\\srex_new_classes.py:267\u001b[0m, in \u001b[0;36mSentence.__generate_graph_nodes\u001b[1;34m(self, graph)\u001b[0m\n\u001b[0;32m    265\u001b[0m distance_calculation_list \u001b[38;5;241m=\u001b[39m []\n\u001b[0;32m    266\u001b[0m \u001b[38;5;66;03m# Construct a list of distances multiplied by its frequencies\u001b[39;00m\n\u001b[1;32m--> 267\u001b[0m \u001b[38;5;28;01mfor\u001b[39;00m idx, freq_mult_by_weight \u001b[38;5;129;01min\u001b[39;00m \u001b[38;5;28;43menumerate\u001b[39;49m\u001b[43m(\u001b[49m\u001b[43mlist_of_freq_by_distance\u001b[49m\u001b[43m)\u001b[49m:\n\u001b[0;32m    268\u001b[0m     frequency \u001b[38;5;241m=\u001b[39m \u001b[38;5;28mround\u001b[39m(freq_mult_by_weight \u001b[38;5;241m/\u001b[39m \u001b[38;5;28mself\u001b[39m\u001b[38;5;241m.\u001b[39m__weight)\n\u001b[0;32m    269\u001b[0m     distance_calculation_list\u001b[38;5;241m.\u001b[39mextend([idx\u001b[38;5;241m+\u001b[39m\u001b[38;5;241m1\u001b[39m] \u001b[38;5;241m*\u001b[39m frequency)\n",
      "\u001b[1;31mTypeError\u001b[0m: 'NoneType' object is not iterable"
     ]
    }
   ],
   "source": [
    "ranking.generate_nodes_of_all_graphs()"
   ]
  }
 ],
 "metadata": {
  "kernelspec": {
   "display_name": "Python 3",
   "language": "python",
   "name": "python3"
  },
  "language_info": {
   "codemirror_mode": {
    "name": "ipython",
    "version": 3
   },
   "file_extension": ".py",
   "mimetype": "text/x-python",
   "name": "python",
   "nbconvert_exporter": "python",
   "pygments_lexer": "ipython3",
   "version": "3.12.2"
  }
 },
 "nbformat": 4,
 "nbformat_minor": 4
}
