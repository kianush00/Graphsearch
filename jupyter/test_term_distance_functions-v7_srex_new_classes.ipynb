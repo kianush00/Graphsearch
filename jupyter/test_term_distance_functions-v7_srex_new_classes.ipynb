{
 "cells": [
  {
   "cell_type": "markdown",
   "metadata": {},
   "source": [
    "# Testing GraphSearch Distance Concepts"
   ]
  },
  {
   "cell_type": "markdown",
   "metadata": {},
   "source": [
    "## Load Libraries"
   ]
  },
  {
   "cell_type": "code",
   "execution_count": 1,
   "metadata": {},
   "outputs": [
    {
     "name": "stderr",
     "output_type": "stream",
     "text": [
      "[nltk_data] Downloading package stopwords to\n",
      "[nltk_data]     C:\\Users\\kianu\\AppData\\Roaming\\nltk_data...\n",
      "[nltk_data]   Package stopwords is already up-to-date!\n",
      "[nltk_data] Downloading package punkt to\n",
      "[nltk_data]     C:\\Users\\kianu\\AppData\\Roaming\\nltk_data...\n",
      "[nltk_data]   Package punkt is already up-to-date!\n",
      "[nltk_data] Downloading package wordnet to\n",
      "[nltk_data]     C:\\Users\\kianu\\AppData\\Roaming\\nltk_data...\n",
      "[nltk_data]   Package wordnet is already up-to-date!\n",
      "[nltk_data] Downloading package omw-1.4 to\n",
      "[nltk_data]     C:\\Users\\kianu\\AppData\\Roaming\\nltk_data...\n",
      "[nltk_data]   Package omw-1.4 is already up-to-date!\n"
     ]
    },
    {
     "data": {
      "text/plain": [
       "True"
      ]
     },
     "execution_count": 1,
     "metadata": {},
     "output_type": "execute_result"
    }
   ],
   "source": [
    "import srex_new_classes\n",
    "from stop_words import get_stop_words\n",
    "import nltk\n",
    "from nltk.corpus import stopwords\n",
    "\n",
    "#Download stopword\n",
    "nltk.download('stopwords') \n",
    "nltk.download('punkt') # Tokenizers\n",
    "nltk.download('wordnet') # Wordnet\n",
    "nltk.download('omw-1.4')"
   ]
  },
  {
   "cell_type": "markdown",
   "metadata": {},
   "source": [
    "## Initialize some variables"
   ]
  },
  {
   "cell_type": "code",
   "execution_count": 2,
   "metadata": {},
   "outputs": [],
   "source": [
    "# Stop Words\n",
    "stop_words_list = stopwords.words('english') #a small one\n",
    "newStopWords = get_stop_words('en') # a big one\n",
    "stop_words_list.extend(newStopWords) # all together"
   ]
  },
  {
   "cell_type": "code",
   "execution_count": 3,
   "metadata": {},
   "outputs": [],
   "source": [
    "query                    = '\"internet of things\" OR iot'\n",
    "#query                    = '(((literature OR document OR information OR data) AND (retrieval OR retrieve)) OR (search AND engine)) AND (query AND (expansion OR refinement OR reformulation))'\n",
    "nr_search_results        = 10\n",
    "\n",
    "ranking_weight_type      = 'linear' # it can be: 'none', 'linear' or 'inverse'\n",
    "lema                     = True\n",
    "stem                     = False\n",
    "summarize                = 'mean'   # it can be: 'mean' or 'median'\n",
    "nr_of_graph_terms        = 10\n",
    "limit_distance           = 4 \n",
    "include_reference_terms  = True"
   ]
  },
  {
   "cell_type": "code",
   "execution_count": 4,
   "metadata": {},
   "outputs": [],
   "source": [
    "ranking = srex_new_classes.Ranking(query, nr_search_results, ranking_weight_type, stop_words_list, lema, stem)"
   ]
  },
  {
   "cell_type": "code",
   "execution_count": 5,
   "metadata": {},
   "outputs": [],
   "source": [
    "ranking.generate_all_graphs(nr_of_graph_terms, limit_distance, include_reference_terms, summarize)"
   ]
  },
  {
   "cell_type": "code",
   "execution_count": 6,
   "metadata": {},
   "outputs": [
    {
     "name": "stdout",
     "output_type": "stream",
     "text": [
      "TITLE: Information Retrieval in Search Engines Using Pseudo Relevance Feedback Mechanism (id:8899424)\n",
      "txt: information retrieval search engine using pseudo relevance feedback mechanism\n",
      "txt: online data generation increasing rapidly due technological development\n",
      "txt: order handle huge volume data big data methodology used widely\n",
      "txt: though big data able process huge data issue including information storage data management retrieving data\n",
      "txt: big data data retrieval issue method data retrieval implementation environment differs\n",
      "txt: though data mining become evolving technology requires optimal retrieval mechanism extract data information retrieval method turn effectively perform data retrieval term speed accuracy need implemented\n",
      "txt: topic relevance mechanism used retrieve appropriate document repository document ranked based user preference using feedback mechanism\n",
      "txt: hence accuracy retrieved document improved\n",
      "TITLE: An Improved Sentence Embeddings based Information Retrieval Technique using Query Reformulation (id:10141788)\n",
      "txt: improved sentence embeddings based information retrieval technique using query reformulation\n",
      "txt: information retrieval ir field study focus gathering organizing storing analyzing accessing information\n",
      "txt: used application searching information required internet\n",
      "txt: selection ranking relevant web document satisfy user information need response user query important task associated ir\n",
      "txt: better comprehend user intent create efficient query initial query reformulated adding new term\n",
      "txt: semantic technique proposed researcher past demand significant amount trained labeled data well user intervention scarce hard capture difficult maintain\n",
      "txt: general technique ignored contextual information well word order cause problem like data sparsity latitudinal explosion\n",
      "txt: \n",
      "txt: \n",
      "txt: help search engine comprehend context intent different aspect user text\n",
      "txt: paper sentence embedding model based query reformulation qr proposed improving document ranking performance using universal sentence encoder use cosine similarity measure\n",
      "txt: four standard datasets cacm cisi adi medline used perform experiment\n",
      "txt: outcome demonstrate superior performance qr system sbert sentence embedding model adi cisi cacm medline datasets respectively\n",
      "TITLE: Using Query Reformulation to Compare Learning Behaviors in Web Search Engines (id:8820932)\n",
      "txt: using query reformulation compare learning behavior web search engine\n",
      "txt: web search engine gained importance tool capable connecting informal formal learning aiding individual retrieving relevant information formulation modification query\n",
      "txt: understand difference query state transition becomes increasingly important make optimization search engine result according educational us need possible\n",
      "txt: paper introduces eskip taxonomy query state classification framework validated experiment involving two different query log datasets\n",
      "txt: enables comparison behavior user search knowledge learner user performing transactional factual search web search engine\n",
      "TITLE: Combining Parts of Speech, Term Proximity, and Query Expansion for Document Retrieval (id:8665507)\n",
      "txt: combining part speech term proximity query expansion document retrieval\n",
      "txt: document retrieval system recover document database order according perceived relevance user search query\n",
      "txt: difficult task machine accomplish exists semantic gap meaning term user literal query user true intention\n",
      "txt: main goal study modify okapi bm25 document retrieval system improve search result textual query unstructured textual corpus\n",
      "txt: research hypothesizes okapi bm25 taking full advantage structure text inside document\n",
      "txt: structure hold valuable semantic information used increase model accuracy\n",
      "txt: modification account term part speech proximity pair related term proximity term respect location document query expansion used augment okapi bm25\n",
      "txt: \n",
      "txt: \n",
      "TITLE: Information Retrieval based Improvising Search using Automatic Query Expansion (id:9388573)\n",
      "txt: information retrieval based improvising search using automatic query expansion\n",
      "txt: current search engine like google yahoo give search result indeed user facing problem information retrieval\n",
      "txt: \n",
      "txt: petabyte information available internet\n",
      "txt: huge available data naïve user becomes hectic distinguish relevant irrelevant information individual interest\n",
      "txt: also another reason getting irrelevant information incompatibility term user using keywords present document\n",
      "txt: query expansion adding keyword original query\n",
      "txt: main issue query expansion selection appropriate term user original query\n",
      "txt: vocabulary database help solve issue\n",
      "txt: identification similar word language entity similar meaning done vocabulary frequently incorporated information retrieval system\n",
      "txt: thesaurus used across large area information retrieval also many application natural language processing\n",
      "txt: work improve performance search query bm25 model used query expansion\n",
      "txt: \n",
      "txt: \n",
      "txt: \n",
      "TITLE: Query Expansion for Bangla Search Engine Pipilika (id:9231043)\n",
      "txt: query expansion bangla search engine pipilika\n",
      "txt: query expansion aim extend user query related term improving search result search engine like google pipilika bangla search engine etc\n",
      "txt: paper query expansion method proposed pipilika select expanded word added search key make search result accurate efficient\n",
      "txt: collected document corpus data ranked using bm25 document ranking method\n",
      "txt: method selects additional word ranked document top syntagmatic relation search key\n",
      "txt: generates similar word additional word search keywords using word2vec cbow model semantic similarity original word\n",
      "txt: add similar word search key additional word\n",
      "txt: finally expanded query generated\n",
      "txt: help search engine capture user requirement better search result\n",
      "txt: \n",
      "TITLE: Query Reformulation for Task-Oriented Web Searches (id:6040862)\n",
      "txt: query reformulation web search\n",
      "txt: web search driven information need intend accomplishment specific task\n",
      "txt: information need determined topical subject query\n",
      "txt: search task determined user motif induce submission query\n",
      "txt: search\n",
      "txt: though exist numerous study assist searcher specify query expressive underlying information need little done help searcher specify query describe task pursue via search\n",
      "txt: paper propose query reformulation method empower web search\n",
      "txt: given query method start identification term serve descriptor potential search task query represents\n",
      "txt: based identified term generates query explicitly verbalize possible search task\n",
      "txt: query reformulations presented user order select one best suit search intention\n",
      "TITLE: Query Expansion in Information Retrieval for Urdu Language (id:8464762)\n",
      "txt: query expansion information retrieval urdu language\n",
      "txt: information retrieval system need upgraded constantly meet challenge posed advanced user query search system becoming sophisticated time\n",
      "txt: problem addressed extensively recent time several research community achieve quick relevant outcome\n",
      "txt: one approach augment query automatic query expansion increase precision information retrieval even cut result query\n",
      "txt: approach tested present urdu data collection obtained via different expansion model kl bo1 bo2\n",
      "txt: current collection quite large size compared existing urdu datasets\n",
      "txt: comprises document trecschemes 52 topic relevance assessment\n",
      "txt: paper emphasize enhance retrieval model using query expansion never done urdu text\n",
      "txt: however show deep analysis initial expanded query brings fascinating insight avail future research domain\n",
      "TITLE: Research on Semantic Query Expansion with Temporal Information (id:7120642)\n",
      "txt: research semantic query expansion temporal information\n",
      "txt: temporal information essential attribute web page publish time content time web page\n",
      "txt: however major search engine view temporal information web page ignored relationship keywords time phrase\n",
      "txt: \n",
      "txt: built query expansion model based temporal information\n",
      "txt: experiment result showed user query based temporal information better simple semantic query expansion capability query expression query procession\n",
      "TITLE: A collaborative search with query expansion and result re-ranking (id:6141382)\n",
      "txt: collaborative search query expansion result\n",
      "txt: web search engine become resource pool people gain information\n",
      "txt: always aim achieving goal delivering relevant information user\n",
      "txt: due exponential growth information imprecise query search engine meet user information requirement\n",
      "txt: user reframe query get desired information\n",
      "txt: also result listed based user search context\n",
      "txt: personalization search result satisfies need user\n",
      "txt: paper present approach capture user preference order provide query suggestion\n",
      "txt: web search personalization using collaborative filtering adapts generic search engine need community user\n",
      "txt: main objective work improve retrieval information expanding user query rank result list based user domain interest\n"
     ]
    }
   ],
   "source": [
    "for d in ranking.get_documents():\n",
    "    print(f\"TITLE: {d.get_title()} (id:{d.get_doc_id()})\")\n",
    "    for s in d.get_sentences():\n",
    "        print(f\"txt: {s.get_preprocessed_text()}\")"
   ]
  },
  {
   "cell_type": "code",
   "execution_count": 7,
   "metadata": {},
   "outputs": [
    {
     "name": "stdout",
     "output_type": "stream",
     "text": [
      "doc: Information Retrieval in Search Engines Using Pseudo Relevance Feedback Mechanism\n",
      "vecinity matrix: {'information': {'retrieval': [1.0, 0.0, 0.0, 0.0], 'search': [0.0, 1.0, 0.0, 0.0], 'engine': [0.0, 0.0, 1.0, 0.0]}, 'retrieval': {'information': [1.0, 0.0, 0.0, 0.0], 'search': [1.0, 0.0, 0.0, 0.0], 'engine': [0.0, 1.0, 0.0, 0.0]}, 'search': {'information': [0.0, 1.0, 0.0, 0.0], 'retrieval': [1.0, 0.0, 0.0, 0.0], 'engine': [1.0, 0.0, 0.0, 0.0]}, 'engine': {'information': [0.0, 0.0, 1.0, 0.0], 'retrieval': [0.0, 1.0, 0.0, 0.0], 'search': [1.0, 0.0, 0.0, 0.0]}, 'using': {'information': [0.0, 0.0, 0.0, 1.0], 'retrieval': [0.0, 0.0, 1.0, 0.0], 'search': [0.0, 1.0, 0.0, 0.0], 'engine': [1.0, 0.0, 0.0, 0.0]}, 'pseudo': {'retrieval': [0.0, 0.0, 0.0, 1.0], 'search': [0.0, 0.0, 1.0, 0.0], 'engine': [0.0, 1.0, 0.0, 0.0]}, 'relevance': {'search': [0.0, 0.0, 0.0, 1.0], 'engine': [0.0, 0.0, 1.0, 0.0]}, 'feedback': {'engine': [0.0, 0.0, 0.0, 1.0]}}\n",
      "vecinity matrix: {'online': {'data': [1.0, 0.0, 0.0, 0.0]}, 'generation': {'data': [1.0, 0.0, 0.0, 0.0]}, 'increasing': {'data': [0.0, 1.0, 0.0, 0.0]}, 'rapidly': {'data': [0.0, 0.0, 1.0, 0.0]}, 'due': {'data': [0.0, 0.0, 0.0, 1.0]}}\n",
      "vecinity matrix: {'order': {'data': [0.0, 0.0, 0.0, 1.0]}, 'handle': {'data': [0.0, 0.0, 1.0, 0.0]}, 'huge': {'data': [0.0, 1.0, 0.0, 1.0]}, 'volume': {'data': [1.0, 0.0, 1.0, 0.0]}, 'big': {'data': [2.0, 0.0, 0.0, 0.0]}, 'methodology': {'data': [1.0, 0.0, 1.0, 0.0]}, 'used': {'data': [0.0, 1.0, 0.0, 1.0]}, 'widely': {'data': [0.0, 0.0, 1.0, 0.0]}}\n",
      "vecinity matrix: {'though': {'data': [0.0, 1.0, 0.0, 0.0]}, 'big': {'data': [1.0, 0.0, 0.0, 0.0]}, 'data': {'information': [0.0, 1.0, 1.0, 0.0]}, 'able': {'data': [1.0, 0.0, 1.0, 0.0]}, 'process': {'data': [0.0, 2.0, 0.0, 0.0]}, 'huge': {'information': [0.0, 0.0, 0.0, 1.0], 'data': [1.0, 0.0, 1.0, 0.0]}, 'issue': {'information': [0.0, 1.0, 0.0, 0.0], 'data': [1.0, 0.0, 0.0, 1.0]}, 'including': {'information': [1.0, 0.0, 0.0, 0.0], 'data': [0.0, 1.0, 1.0, 0.0]}, 'information': {'data': [0.0, 1.0, 1.0, 0.0]}, 'storage': {'information': [1.0, 0.0, 0.0, 0.0], 'data': [1.0, 0.0, 0.0, 2.0]}, 'management': {'information': [0.0, 0.0, 1.0, 0.0], 'data': [1.0, 1.0, 0.0, 0.0]}, 'retrieving': {'information': [0.0, 0.0, 0.0, 1.0], 'data': [1.0, 1.0, 0.0, 0.0]}}\n",
      "vecinity matrix: {'big': {'data': [1.0, 1.0, 0.0, 0.0], 'retrieval': [0.0, 0.0, 1.0, 0.0]}, 'data': {'retrieval': [2.0, 1.0, 1.0, 0.0]}, 'retrieval': {'data': [2.0, 1.0, 1.0, 0.0]}, 'issue': {'data': [0.0, 2.0, 1.0, 0.0], 'retrieval': [1.0, 0.0, 1.0, 0.0]}, 'method': {'data': [1.0, 0.0, 1.0, 1.0], 'retrieval': [0.0, 2.0, 0.0, 0.0]}, 'implementation': {'data': [0.0, 1.0, 0.0, 0.0], 'retrieval': [1.0, 0.0, 0.0, 0.0]}, 'environment': {'data': [0.0, 0.0, 1.0, 0.0], 'retrieval': [0.0, 1.0, 0.0, 0.0]}, 'differs': {'data': [0.0, 0.0, 0.0, 1.0], 'retrieval': [0.0, 0.0, 1.0, 0.0]}}\n",
      "vecinity matrix: {'though': {'data': [1.0, 0.0, 0.0, 0.0]}, 'data': {'information': [1.0, 0.0, 0.0, 0.0], 'retrieval': [1.0, 1.0, 1.0, 0.0]}, 'mining': {'data': [1.0, 0.0, 0.0, 0.0]}, 'become': {'data': [0.0, 1.0, 0.0, 0.0]}, 'evolving': {'data': [0.0, 0.0, 1.0, 0.0], 'retrieval': [0.0, 0.0, 0.0, 1.0]}, 'technology': {'data': [0.0, 0.0, 0.0, 1.0], 'retrieval': [0.0, 0.0, 1.0, 0.0]}, 'requires': {'retrieval': [0.0, 1.0, 0.0, 0.0]}, 'optimal': {'data': [0.0, 0.0, 0.0, 1.0], 'retrieval': [1.0, 0.0, 0.0, 0.0]}, 'retrieval': {'information': [1.0, 0.0, 0.0, 1.0], 'data': [1.0, 1.0, 1.0, 0.0]}, 'mechanism': {'information': [0.0, 0.0, 1.0, 0.0], 'data': [0.0, 1.0, 0.0, 0.0], 'retrieval': [1.0, 0.0, 0.0, 1.0]}, 'extract': {'information': [0.0, 1.0, 0.0, 0.0], 'data': [1.0, 0.0, 0.0, 0.0], 'retrieval': [0.0, 1.0, 1.0, 0.0]}, 'information': {'data': [1.0, 0.0, 0.0, 0.0], 'retrieval': [1.0, 0.0, 0.0, 1.0]}, 'method': {'information': [0.0, 1.0, 0.0, 0.0], 'data': [0.0, 0.0, 1.0, 1.0], 'retrieval': [1.0, 0.0, 0.0, 0.0]}, 'turn': {'information': [0.0, 0.0, 1.0, 0.0], 'data': [0.0, 0.0, 1.0, 1.0], 'retrieval': [0.0, 1.0, 0.0, 1.0]}, 'effectively': {'information': [0.0, 0.0, 0.0, 1.0], 'data': [0.0, 1.0, 0.0, 0.0], 'retrieval': [0.0, 0.0, 2.0, 0.0]}, 'perform': {'data': [1.0, 0.0, 0.0, 0.0], 'retrieval': [0.0, 1.0, 0.0, 1.0]}, 'term': {'data': [0.0, 1.0, 0.0, 0.0], 'retrieval': [1.0, 0.0, 0.0, 0.0]}, 'speed': {'data': [0.0, 0.0, 1.0, 0.0], 'retrieval': [0.0, 1.0, 0.0, 0.0]}, 'accuracy': {'data': [0.0, 0.0, 0.0, 1.0], 'retrieval': [0.0, 0.0, 1.0, 0.0]}, 'need': {'retrieval': [0.0, 0.0, 0.0, 1.0]}}\n",
      "vecinity matrix: {'topic': {'retrieve': [0.0, 0.0, 0.0, 1.0]}, 'relevance': {'retrieve': [0.0, 0.0, 1.0, 0.0]}, 'mechanism': {'document': [0.0, 0.0, 0.0, 1.0], 'retrieve': [0.0, 1.0, 0.0, 0.0]}, 'used': {'document': [0.0, 0.0, 1.0, 0.0], 'retrieve': [1.0, 0.0, 0.0, 0.0]}, 'retrieve': {'document': [0.0, 1.0, 0.0, 1.0]}, 'appropriate': {'document': [1.0, 0.0, 1.0, 0.0], 'retrieve': [1.0, 0.0, 0.0, 0.0]}, 'document': {'retrieve': [0.0, 1.0, 0.0, 1.0]}, 'repository': {'document': [2.0, 0.0, 0.0, 0.0], 'retrieve': [0.0, 0.0, 1.0, 0.0]}, 'ranked': {'document': [1.0, 0.0, 1.0, 0.0]}, 'based': {'document': [0.0, 1.0, 0.0, 1.0]}, 'user': {'document': [0.0, 0.0, 1.0, 0.0]}, 'preference': {'document': [0.0, 0.0, 0.0, 1.0]}}\n",
      "vecinity matrix: {'hence': {'document': [0.0, 0.0, 1.0, 0.0]}, 'accuracy': {'document': [0.0, 1.0, 0.0, 0.0]}, 'retrieved': {'document': [1.0, 0.0, 0.0, 0.0]}, 'improved': {'document': [1.0, 0.0, 0.0, 0.0]}}\n",
      "doc: An Improved Sentence Embeddings based Information Retrieval Technique using Query Reformulation\n",
      "vecinity matrix: {'improved': {'information': [0.0, 0.0, 0.0, 0.975]}, 'sentence': {'information': [0.0, 0.0, 0.975, 0.0], 'retrieval': [0.0, 0.0, 0.0, 0.975]}, 'embeddings': {'information': [0.0, 0.975, 0.0, 0.0], 'retrieval': [0.0, 0.0, 0.975, 0.0]}, 'based': {'information': [0.975, 0.0, 0.0, 0.0], 'retrieval': [0.0, 0.975, 0.0, 0.0]}, 'information': {'retrieval': [0.975, 0.0, 0.0, 0.0], 'query': [0.0, 0.0, 0.0, 0.975]}, 'retrieval': {'information': [0.975, 0.0, 0.0, 0.0], 'query': [0.0, 0.0, 0.975, 0.0], 'reformulation': [0.0, 0.0, 0.0, 0.975]}, 'technique': {'information': [0.0, 0.975, 0.0, 0.0], 'retrieval': [0.975, 0.0, 0.0, 0.0], 'query': [0.0, 0.975, 0.0, 0.0], 'reformulation': [0.0, 0.0, 0.975, 0.0]}, 'using': {'information': [0.0, 0.0, 0.975, 0.0], 'retrieval': [0.0, 0.975, 0.0, 0.0], 'query': [0.975, 0.0, 0.0, 0.0], 'reformulation': [0.0, 0.975, 0.0, 0.0]}, 'query': {'information': [0.0, 0.0, 0.0, 0.975], 'retrieval': [0.0, 0.0, 0.975, 0.0], 'reformulation': [0.975, 0.0, 0.0, 0.0]}, 'reformulation': {'retrieval': [0.0, 0.0, 0.0, 0.975], 'query': [0.975, 0.0, 0.0, 0.0]}}\n",
      "vecinity matrix: {'information': {'retrieval': [0.975, 0.0, 0.0, 0.0]}, 'retrieval': {'information': [0.975, 0.0, 0.0, 0.0]}, 'ir': {'information': [0.0, 0.975, 0.0, 0.0], 'retrieval': [0.975, 0.0, 0.0, 0.0]}, 'field': {'information': [0.0, 0.0, 0.975, 0.0], 'retrieval': [0.0, 0.975, 0.0, 0.0]}, 'study': {'information': [0.0, 0.0, 0.0, 0.975], 'retrieval': [0.0, 0.0, 0.975, 0.0]}, 'focus': {'retrieval': [0.0, 0.0, 0.0, 0.975]}, 'organizing': {'information': [0.0, 0.0, 0.0, 0.975]}, 'storing': {'information': [0.0, 0.0, 0.975, 0.0]}, 'analyzing': {'information': [0.0, 0.975, 0.0, 0.0]}, 'accessing': {'information': [0.975, 0.0, 0.0, 0.0]}}\n",
      "vecinity matrix: {'used': {'information': [0.0, 0.0, 0.975, 0.0]}, 'application': {'information': [0.0, 0.975, 0.0, 0.0]}, 'searching': {'information': [0.975, 0.0, 0.0, 0.0]}, 'required': {'information': [0.975, 0.0, 0.0, 0.0]}, 'internet': {'information': [0.0, 0.975, 0.0, 0.0]}}\n",
      "vecinity matrix: {'selection': {'document': [0.0, 0.0, 0.0, 0.975]}, 'ranking': {'document': [0.0, 0.0, 0.975, 0.0]}, 'relevant': {'document': [0.0, 0.975, 0.0, 0.0]}, 'web': {'document': [0.975, 0.0, 0.0, 0.0], 'information': [0.0, 0.0, 0.0, 0.975]}, 'document': {'information': [0.0, 0.0, 0.975, 0.0]}, 'satisfy': {'document': [0.975, 0.0, 0.0, 0.0], 'information': [0.0, 0.975, 0.0, 0.0]}, 'user': {'document': [0.0, 0.975, 0.0, 0.0], 'information': [0.975, 0.0, 0.975, 0.0], 'query': [0.975, 0.0, 0.0, 0.0]}, 'information': {'document': [0.0, 0.0, 0.975, 0.0], 'query': [0.0, 0.0, 0.0, 0.975]}, 'need': {'document': [0.0, 0.0, 0.0, 0.975], 'information': [0.975, 0.0, 0.0, 0.0], 'query': [0.0, 0.0, 0.975, 0.0]}, 'response': {'information': [0.0, 0.975, 0.0, 0.0], 'query': [0.0, 0.975, 0.0, 0.0]}, 'query': {'information': [0.0, 0.0, 0.0, 0.975]}, 'important': {'query': [0.975, 0.0, 0.0, 0.0]}, 'task': {'query': [0.0, 0.975, 0.0, 0.0]}, 'associated': {'query': [0.0, 0.0, 0.975, 0.0]}, 'ir': {'query': [0.0, 0.0, 0.0, 0.975]}}\n",
      "vecinity matrix: {'user': {'query': [0.0, 0.0, 0.0, 0.975]}, 'intent': {'query': [0.0, 0.0, 0.975, 0.0]}, 'create': {'query': [0.0, 0.975, 0.0, 0.975]}, 'efficient': {'query': [0.975, 0.0, 0.975, 0.0]}, 'initial': {'query': [1.95, 0.0, 0.0, 0.0]}, 'reformulated': {'query': [0.975, 0.0, 0.975, 0.0]}, 'adding': {'query': [0.0, 0.975, 0.0, 0.975]}, 'new': {'query': [0.0, 0.0, 0.975, 0.0]}, 'term': {'query': [0.0, 0.0, 0.0, 0.975]}}\n",
      "vecinity matrix: {'significant': {'data': [0.0, 0.0, 0.0, 0.975]}, 'amount': {'data': [0.0, 0.0, 0.975, 0.0]}, 'trained': {'data': [0.0, 0.975, 0.0, 0.0]}, 'labeled': {'data': [0.975, 0.0, 0.0, 0.0]}, 'well': {'data': [0.975, 0.0, 0.0, 0.0]}, 'user': {'data': [0.0, 0.975, 0.0, 0.0]}, 'intervention': {'data': [0.0, 0.0, 0.975, 0.0]}, 'scarce': {'data': [0.0, 0.0, 0.0, 0.975]}}\n",
      "vecinity matrix: {'general': {'information': [0.0, 0.0, 0.0, 0.975]}, 'technique': {'information': [0.0, 0.0, 0.975, 0.0]}, 'ignored': {'information': [0.0, 0.975, 0.0, 0.0]}, 'contextual': {'information': [0.975, 0.0, 0.0, 0.0]}, 'well': {'information': [0.975, 0.0, 0.0, 0.0]}, 'word': {'information': [0.0, 0.975, 0.0, 0.0]}, 'order': {'information': [0.0, 0.0, 0.975, 0.0], 'data': [0.0, 0.0, 0.0, 0.975]}, 'cause': {'information': [0.0, 0.0, 0.0, 0.975], 'data': [0.0, 0.0, 0.975, 0.0]}, 'problem': {'data': [0.0, 0.975, 0.0, 0.0]}, 'like': {'data': [0.975, 0.0, 0.0, 0.0]}, 'sparsity': {'data': [0.975, 0.0, 0.0, 0.0]}, 'latitudinal': {'data': [0.0, 0.975, 0.0, 0.0]}, 'explosion': {'data': [0.0, 0.0, 0.975, 0.0]}}\n",
      "vecinity matrix: {}\n",
      "vecinity matrix: {}\n",
      "vecinity matrix: {'help': {'search': [0.975, 0.0, 0.0, 0.0], 'engine': [0.0, 0.975, 0.0, 0.0]}, 'search': {'engine': [0.975, 0.0, 0.0, 0.0]}, 'engine': {'search': [0.975, 0.0, 0.0, 0.0]}, 'comprehend': {'search': [0.0, 0.975, 0.0, 0.0], 'engine': [0.975, 0.0, 0.0, 0.0]}, 'context': {'search': [0.0, 0.0, 0.975, 0.0], 'engine': [0.0, 0.975, 0.0, 0.0]}, 'intent': {'search': [0.0, 0.0, 0.0, 0.975], 'engine': [0.0, 0.0, 0.975, 0.0]}, 'different': {'engine': [0.0, 0.0, 0.0, 0.975]}}\n",
      "vecinity matrix: {'sentence': {'query': [0.0, 0.0, 0.0, 0.975]}, 'embedding': {'query': [0.0, 0.0, 0.975, 0.0], 'reformulation': [0.0, 0.0, 0.0, 0.975]}, 'model': {'query': [0.0, 0.975, 0.0, 0.0], 'reformulation': [0.0, 0.0, 0.975, 0.0]}, 'based': {'query': [0.975, 0.0, 0.0, 0.0], 'reformulation': [0.0, 0.975, 0.0, 0.0]}, 'query': {'reformulation': [0.975, 0.0, 0.0, 0.0]}, 'reformulation': {'document': [0.0, 0.0, 0.0, 0.975], 'query': [0.975, 0.0, 0.0, 0.0]}, 'qr': {'document': [0.0, 0.0, 0.975, 0.0], 'query': [0.0, 0.975, 0.0, 0.0], 'reformulation': [0.975, 0.0, 0.0, 0.0]}, 'proposed': {'document': [0.0, 0.975, 0.0, 0.0], 'query': [0.0, 0.0, 0.975, 0.0], 'reformulation': [0.0, 0.975, 0.0, 0.0]}, 'improving': {'document': [0.975, 0.0, 0.0, 0.0], 'query': [0.0, 0.0, 0.0, 0.975], 'reformulation': [0.0, 0.0, 0.975, 0.0]}, 'document': {'reformulation': [0.0, 0.0, 0.0, 0.975]}, 'ranking': {'document': [0.975, 0.0, 0.0, 0.0]}, 'performance': {'document': [0.0, 0.975, 0.0, 0.0]}, 'using': {'document': [0.0, 0.0, 0.975, 0.0]}, 'universal': {'document': [0.0, 0.0, 0.0, 0.975]}}\n",
      "vecinity matrix: {}\n",
      "vecinity matrix: {}\n",
      "doc: Using Query Reformulation to Compare Learning Behaviors in Web Search Engines\n",
      "vecinity matrix: {'using': {'query': [0.95, 0.0, 0.0, 0.0], 'reformulation': [0.0, 0.95, 0.0, 0.0]}, 'query': {'reformulation': [0.95, 0.0, 0.0, 0.0]}, 'reformulation': {'query': [0.95, 0.0, 0.0, 0.0]}, 'compare': {'search': [0.0, 0.0, 0.0, 0.95], 'query': [0.0, 0.95, 0.0, 0.0], 'reformulation': [0.95, 0.0, 0.0, 0.0]}, 'learning': {'search': [0.0, 0.0, 0.95, 0.0], 'engine': [0.0, 0.0, 0.0, 0.95], 'query': [0.0, 0.0, 0.95, 0.0], 'reformulation': [0.0, 0.95, 0.0, 0.0]}, 'behavior': {'search': [0.0, 0.95, 0.0, 0.0], 'engine': [0.0, 0.0, 0.95, 0.0], 'query': [0.0, 0.0, 0.0, 0.95], 'reformulation': [0.0, 0.0, 0.95, 0.0]}, 'web': {'search': [0.95, 0.0, 0.0, 0.0], 'engine': [0.0, 0.95, 0.0, 0.0], 'reformulation': [0.0, 0.0, 0.0, 0.95]}, 'search': {'engine': [0.95, 0.0, 0.0, 0.0]}, 'engine': {'search': [0.95, 0.0, 0.0, 0.0]}}\n",
      "vecinity matrix: {'web': {'search': [0.95, 0.0, 0.0, 0.0], 'engine': [0.0, 0.95, 0.0, 0.0]}, 'search': {'engine': [0.95, 0.0, 0.0, 0.0]}, 'engine': {'search': [0.95, 0.0, 0.0, 0.0]}, 'gained': {'search': [0.0, 0.95, 0.0, 0.0], 'engine': [0.95, 0.0, 0.0, 0.0]}, 'importance': {'search': [0.0, 0.0, 0.95, 0.0], 'engine': [0.0, 0.95, 0.0, 0.0]}, 'tool': {'search': [0.0, 0.0, 0.0, 0.95], 'engine': [0.0, 0.0, 0.95, 0.0]}, 'capable': {'engine': [0.0, 0.0, 0.0, 0.95]}, 'aiding': {'information': [0.0, 0.0, 0.0, 0.95]}, 'individual': {'information': [0.0, 0.0, 0.95, 0.0]}, 'retrieving': {'information': [0.0, 0.95, 0.0, 0.0]}, 'relevant': {'information': [0.95, 0.0, 0.0, 0.0], 'query': [0.0, 0.0, 0.0, 0.95]}, 'information': {'query': [0.0, 0.0, 0.95, 0.0]}, 'formulation': {'information': [0.95, 0.0, 0.0, 0.0], 'query': [0.0, 0.95, 0.0, 0.0]}, 'modification': {'information': [0.0, 0.95, 0.0, 0.0], 'query': [0.95, 0.0, 0.0, 0.0]}, 'query': {'information': [0.0, 0.0, 0.95, 0.0]}}\n",
      "vecinity matrix: {'understand': {'query': [0.0, 0.95, 0.0, 0.0]}, 'difference': {'query': [0.95, 0.0, 0.0, 0.0]}, 'state': {'query': [0.95, 0.0, 0.0, 0.0]}, 'transition': {'query': [0.0, 0.95, 0.0, 0.0]}, 'becomes': {'query': [0.0, 0.0, 0.95, 0.0]}, 'increasingly': {'search': [0.0, 0.0, 0.0, 0.95], 'query': [0.0, 0.0, 0.0, 0.95]}, 'important': {'search': [0.0, 0.0, 0.95, 0.0], 'engine': [0.0, 0.0, 0.0, 0.95]}, 'make': {'search': [0.0, 0.95, 0.0, 0.0], 'engine': [0.0, 0.0, 0.95, 0.0]}, 'optimization': {'search': [0.95, 0.0, 0.0, 0.0], 'engine': [0.0, 0.95, 0.0, 0.0]}, 'search': {'engine': [0.95, 0.0, 0.0, 0.0]}, 'engine': {'search': [0.95, 0.0, 0.0, 0.0]}, 'result': {'search': [0.0, 0.95, 0.0, 0.0], 'engine': [0.95, 0.0, 0.0, 0.0]}, 'according': {'search': [0.0, 0.0, 0.95, 0.0], 'engine': [0.0, 0.95, 0.0, 0.0]}, 'educational': {'search': [0.0, 0.0, 0.0, 0.95], 'engine': [0.0, 0.0, 0.95, 0.0]}, 'us': {'engine': [0.0, 0.0, 0.0, 0.95]}}\n",
      "vecinity matrix: {'paper': {'query': [0.0, 0.0, 0.0, 0.95]}, 'introduces': {'query': [0.0, 0.0, 0.95, 0.0]}, 'eskip': {'query': [0.0, 0.95, 0.0, 0.0]}, 'taxonomy': {'query': [0.95, 0.0, 0.0, 0.0]}, 'state': {'query': [0.95, 0.0, 0.0, 0.0]}, 'classification': {'query': [0.0, 0.95, 0.0, 0.0]}, 'framework': {'query': [0.0, 0.0, 0.95, 0.0]}, 'validated': {'query': [0.0, 0.0, 0.0, 0.95]}, 'experiment': {'query': [0.0, 0.0, 0.0, 0.95]}, 'involving': {'query': [0.0, 0.0, 0.95, 0.0]}, 'two': {'query': [0.0, 0.95, 0.0, 0.0]}, 'different': {'query': [0.95, 0.0, 0.0, 0.0]}, 'log': {'query': [0.95, 0.0, 0.0, 0.0]}, 'datasets': {'query': [0.0, 0.95, 0.0, 0.0]}}\n",
      "vecinity matrix: {'enables': {'search': [0.0, 0.0, 0.0, 0.95]}, 'comparison': {'search': [0.0, 0.0, 0.95, 0.0]}, 'behavior': {'search': [0.0, 0.95, 0.0, 0.0]}, 'user': {'search': [0.95, 0.0, 0.95, 0.95]}, 'search': {'engine': [0.95, 0.0, 0.95, 0.0]}, 'knowledge': {'search': [0.95, 0.0, 0.0, 0.0]}, 'learner': {'search': [0.0, 0.95, 0.0, 0.0]}, 'performing': {'search': [0.0, 0.0, 0.95, 0.95]}, 'transactional': {'search': [0.0, 0.95, 0.0, 0.95]}, 'factual': {'search': [0.95, 0.0, 0.95, 0.0], 'engine': [0.0, 0.0, 0.0, 0.95]}, 'web': {'search': [1.9, 0.0, 0.0, 0.0], 'engine': [0.0, 0.95, 0.0, 0.0]}, 'engine': {'search': [0.95, 0.0, 0.95, 0.0]}}\n",
      "doc: Combining Parts of Speech, Term Proximity, and Query Expansion for Document Retrieval\n",
      "vecinity matrix: {'part': {'query': [0.0, 0.0, 0.0, 0.925]}, 'speech': {'query': [0.0, 0.0, 0.925, 0.0], 'expansion': [0.0, 0.0, 0.0, 0.925]}, 'term': {'document': [0.0, 0.0, 0.0, 0.925], 'query': [0.0, 0.925, 0.0, 0.0], 'expansion': [0.0, 0.0, 0.925, 0.0]}, 'proximity': {'document': [0.0, 0.0, 0.925, 0.0], 'retrieval': [0.0, 0.0, 0.0, 0.925], 'query': [0.925, 0.0, 0.0, 0.0], 'expansion': [0.0, 0.925, 0.0, 0.0]}, 'query': {'document': [0.0, 0.925, 0.0, 0.0], 'retrieval': [0.0, 0.0, 0.925, 0.0], 'expansion': [0.925, 0.0, 0.0, 0.0]}, 'expansion': {'document': [0.925, 0.0, 0.0, 0.0], 'retrieval': [0.0, 0.925, 0.0, 0.0], 'query': [0.925, 0.0, 0.0, 0.0]}, 'document': {'retrieval': [0.925, 0.0, 0.0, 0.0], 'query': [0.0, 0.925, 0.0, 0.0], 'expansion': [0.925, 0.0, 0.0, 0.0]}, 'retrieval': {'document': [0.925, 0.0, 0.0, 0.0], 'query': [0.0, 0.0, 0.925, 0.0], 'expansion': [0.0, 0.925, 0.0, 0.0]}}\n",
      "vecinity matrix: {'document': {'retrieval': [0.925, 0.0, 0.925, 0.0]}, 'retrieval': {'document': [0.925, 0.0, 0.925, 0.0]}, 'system': {'document': [0.0, 1.85, 0.0, 0.0], 'retrieval': [0.925, 0.0, 0.0, 0.0]}, 'recover': {'document': [0.925, 0.0, 0.925, 0.0], 'retrieval': [0.0, 0.925, 0.0, 0.0]}, 'database': {'document': [0.925, 0.0, 0.0, 0.0], 'retrieval': [0.0, 0.0, 0.0, 0.925]}, 'order': {'document': [0.0, 0.925, 0.0, 0.0]}, 'according': {'document': [0.0, 0.0, 0.925, 0.0], 'search': [0.0, 0.0, 0.0, 0.925]}, 'perceived': {'document': [0.0, 0.0, 0.0, 0.925], 'search': [0.0, 0.0, 0.925, 0.0], 'query': [0.0, 0.0, 0.0, 0.925]}, 'relevance': {'search': [0.0, 0.925, 0.0, 0.0], 'query': [0.0, 0.0, 0.925, 0.0]}, 'user': {'search': [0.925, 0.0, 0.0, 0.0], 'query': [0.0, 0.925, 0.0, 0.0]}, 'search': {'query': [0.925, 0.0, 0.0, 0.0]}, 'query': {'search': [0.925, 0.0, 0.0, 0.0]}}\n",
      "vecinity matrix: {'meaning': {'query': [0.0, 0.0, 0.0, 0.925]}, 'term': {'query': [0.0, 0.0, 0.925, 0.0]}, 'user': {'query': [0.925, 0.925, 0.0, 0.0]}, 'literal': {'query': [0.925, 0.0, 0.0, 0.0]}, 'true': {'query': [0.0, 0.925, 0.0, 0.0]}, 'intention': {'query': [0.0, 0.0, 0.925, 0.0]}}\n",
      "vecinity matrix: {'study': {'document': [0.0, 0.0, 0.0, 0.925]}, 'modify': {'document': [0.0, 0.0, 0.925, 0.0], 'retrieval': [0.0, 0.0, 0.0, 0.925]}, 'okapi': {'document': [0.0, 0.925, 0.0, 0.0], 'retrieval': [0.0, 0.0, 0.925, 0.0]}, 'bm25': {'document': [0.925, 0.0, 0.0, 0.0], 'retrieval': [0.0, 0.925, 0.0, 0.0]}, 'document': {'retrieval': [0.925, 0.0, 0.0, 0.0], 'search': [0.0, 0.0, 0.0, 0.925]}, 'retrieval': {'document': [0.925, 0.0, 0.0, 0.0], 'search': [0.0, 0.0, 0.925, 0.0]}, 'system': {'document': [0.0, 0.925, 0.0, 0.0], 'retrieval': [0.925, 0.0, 0.0, 0.0], 'search': [0.0, 0.925, 0.0, 0.0]}, 'improve': {'document': [0.0, 0.0, 0.925, 0.0], 'retrieval': [0.0, 0.925, 0.0, 0.0], 'search': [0.925, 0.0, 0.0, 0.0], 'query': [0.0, 0.0, 0.0, 0.925]}, 'search': {'document': [0.0, 0.0, 0.0, 0.925], 'retrieval': [0.0, 0.0, 0.925, 0.0], 'query': [0.0, 0.0, 0.925, 0.0]}, 'result': {'retrieval': [0.0, 0.0, 0.0, 0.925], 'search': [0.925, 0.0, 0.0, 0.0], 'query': [0.0, 0.925, 0.0, 0.0]}, 'textual': {'search': [0.0, 0.925, 0.0, 0.0], 'query': [0.925, 0.925, 0.0, 0.0]}, 'query': {'search': [0.0, 0.0, 0.925, 0.0]}, 'unstructured': {'search': [0.0, 0.0, 0.0, 0.925], 'query': [0.925, 0.0, 0.0, 0.0]}, 'corpus': {'query': [0.0, 0.0, 0.925, 0.0]}}\n",
      "vecinity matrix: {'advantage': {'document': [0.0, 0.0, 0.0, 0.925]}, 'structure': {'document': [0.0, 0.0, 0.925, 0.0]}, 'text': {'document': [0.0, 0.925, 0.0, 0.0]}, 'inside': {'document': [0.925, 0.0, 0.0, 0.0]}}\n",
      "vecinity matrix: {'structure': {'information': [0.0, 0.0, 0.0, 0.925]}, 'hold': {'information': [0.0, 0.0, 0.925, 0.0]}, 'valuable': {'information': [0.0, 0.925, 0.0, 0.0]}, 'semantic': {'information': [0.925, 0.0, 0.0, 0.0]}, 'used': {'information': [0.925, 0.0, 0.0, 0.0]}, 'increase': {'information': [0.0, 0.925, 0.0, 0.0]}, 'model': {'information': [0.0, 0.0, 0.925, 0.0]}, 'accuracy': {'information': [0.0, 0.0, 0.0, 0.925]}}\n",
      "vecinity matrix: {'term': {'document': [0.0, 0.0, 0.925, 0.0], 'query': [0.0, 0.0, 0.0, 0.925]}, 'proximity': {'document': [0.0, 0.0, 0.0, 0.925]}, 'respect': {'document': [0.0, 0.925, 0.0, 0.0], 'query': [0.0, 0.0, 0.925, 0.0], 'expansion': [0.0, 0.0, 0.0, 0.925]}, 'location': {'document': [0.925, 0.0, 0.0, 0.0], 'query': [0.0, 0.925, 0.0, 0.0], 'expansion': [0.0, 0.0, 0.925, 0.0]}, 'document': {'query': [0.925, 0.0, 0.0, 0.0], 'expansion': [0.0, 0.925, 0.0, 0.0]}, 'query': {'document': [0.925, 0.0, 0.0, 0.0], 'expansion': [0.925, 0.0, 0.0, 0.0]}, 'expansion': {'document': [0.0, 0.925, 0.0, 0.0], 'query': [0.925, 0.0, 0.0, 0.0]}, 'used': {'document': [0.0, 0.0, 0.925, 0.0], 'query': [0.0, 0.925, 0.0, 0.0], 'expansion': [0.925, 0.0, 0.0, 0.0]}, 'augment': {'document': [0.0, 0.0, 0.0, 0.925], 'query': [0.0, 0.0, 0.925, 0.0], 'expansion': [0.0, 0.925, 0.0, 0.0]}, 'okapi': {'query': [0.0, 0.0, 0.0, 0.925], 'expansion': [0.0, 0.0, 0.925, 0.0]}, 'bm25': {'expansion': [0.0, 0.0, 0.0, 0.925]}}\n",
      "vecinity matrix: {}\n",
      "vecinity matrix: {}\n",
      "doc: Information Retrieval based Improvising Search using Automatic Query Expansion\n",
      "vecinity matrix: {'information': {'retrieval': [0.9, 0.0, 0.0, 0.0], 'search': [0.0, 0.0, 0.0, 0.9]}, 'retrieval': {'information': [0.9, 0.0, 0.0, 0.0], 'search': [0.0, 0.0, 0.9, 0.0]}, 'based': {'information': [0.0, 0.9, 0.0, 0.0], 'retrieval': [0.9, 0.0, 0.0, 0.0], 'search': [0.0, 0.9, 0.0, 0.0]}, 'improvising': {'information': [0.0, 0.0, 0.9, 0.0], 'retrieval': [0.0, 0.9, 0.0, 0.0], 'search': [0.9, 0.0, 0.0, 0.0], 'query': [0.0, 0.0, 0.0, 0.9]}, 'search': {'information': [0.0, 0.0, 0.0, 0.9], 'retrieval': [0.0, 0.0, 0.9, 0.0], 'query': [0.0, 0.0, 0.9, 0.0], 'expansion': [0.0, 0.0, 0.0, 0.9]}, 'using': {'retrieval': [0.0, 0.0, 0.0, 0.9], 'search': [0.9, 0.0, 0.0, 0.0], 'query': [0.0, 0.9, 0.0, 0.0], 'expansion': [0.0, 0.0, 0.9, 0.0]}, 'automatic': {'search': [0.0, 0.9, 0.0, 0.0], 'query': [0.9, 0.0, 0.0, 0.0], 'expansion': [0.0, 0.9, 0.0, 0.0]}, 'query': {'search': [0.0, 0.0, 0.9, 0.0], 'expansion': [0.9, 0.0, 0.0, 0.0]}, 'expansion': {'search': [0.0, 0.0, 0.0, 0.9], 'query': [0.9, 0.0, 0.0, 0.0]}}\n",
      "vecinity matrix: {'current': {'search': [0.9, 0.0, 0.0, 0.0], 'engine': [0.0, 0.9, 0.0, 0.0]}, 'search': {'engine': [0.9, 0.0, 0.0, 0.0]}, 'engine': {'search': [0.9, 0.0, 0.0, 0.0]}, 'like': {'search': [0.0, 0.9, 0.0, 0.9], 'engine': [0.9, 0.0, 0.0, 0.0]}, 'google': {'search': [0.0, 0.0, 1.8, 0.0], 'engine': [0.0, 0.9, 0.0, 0.0]}, 'yahoo': {'search': [0.0, 0.9, 0.0, 0.9], 'engine': [0.0, 0.0, 0.9, 0.0]}, 'give': {'search': [0.9, 0.0, 0.0, 0.0], 'engine': [0.0, 0.0, 0.0, 0.9]}, 'result': {'search': [0.9, 0.0, 0.0, 0.0]}, 'indeed': {'information': [0.0, 0.0, 0.0, 0.9], 'search': [0.0, 0.9, 0.0, 0.0]}, 'user': {'information': [0.0, 0.0, 0.9, 0.0], 'retrieval': [0.0, 0.0, 0.0, 0.9], 'search': [0.0, 0.0, 0.9, 0.0]}, 'facing': {'information': [0.0, 0.9, 0.0, 0.0], 'retrieval': [0.0, 0.0, 0.9, 0.0], 'search': [0.0, 0.0, 0.0, 0.9]}, 'problem': {'information': [0.9, 0.0, 0.0, 0.0], 'retrieval': [0.0, 0.9, 0.0, 0.0]}, 'information': {'retrieval': [0.9, 0.0, 0.0, 0.0]}, 'retrieval': {'information': [0.9, 0.0, 0.0, 0.0]}}\n",
      "vecinity matrix: {}\n",
      "vecinity matrix: {'petabyte': {'information': [0.9, 0.0, 0.0, 0.0]}, 'available': {'information': [0.9, 0.0, 0.0, 0.0]}, 'internet': {'information': [0.0, 0.9, 0.0, 0.0]}}\n",
      "vecinity matrix: {'huge': {'data': [0.0, 0.9, 0.0, 0.0]}, 'available': {'data': [0.9, 0.0, 0.0, 0.0]}, 'naïve': {'data': [0.9, 0.0, 0.0, 0.0]}, 'user': {'data': [0.0, 0.9, 0.0, 0.0]}, 'becomes': {'data': [0.0, 0.0, 0.9, 0.0]}, 'hectic': {'information': [0.0, 0.0, 0.0, 0.9], 'data': [0.0, 0.0, 0.0, 0.9]}, 'distinguish': {'information': [0.0, 0.0, 0.9, 0.0]}, 'relevant': {'information': [0.0, 0.9, 0.0, 0.0]}, 'irrelevant': {'information': [0.9, 0.0, 0.0, 0.0]}, 'individual': {'information': [0.9, 0.0, 0.0, 0.0]}, 'interest': {'information': [0.0, 0.9, 0.0, 0.0]}}\n",
      "vecinity matrix: {'another': {'information': [0.0, 0.0, 0.0, 0.9]}, 'reason': {'information': [0.0, 0.0, 0.9, 0.0]}, 'getting': {'information': [0.0, 0.9, 0.0, 0.0]}, 'irrelevant': {'information': [0.9, 0.0, 0.0, 0.0]}, 'incompatibility': {'information': [0.9, 0.0, 0.0, 0.0]}, 'term': {'information': [0.0, 0.9, 0.0, 0.0]}, 'user': {'document': [0.0, 0.0, 0.0, 0.9], 'information': [0.0, 0.0, 0.9, 0.0]}, 'using': {'document': [0.0, 0.0, 0.9, 0.0], 'information': [0.0, 0.0, 0.0, 0.9]}, 'keywords': {'document': [0.0, 0.9, 0.0, 0.0]}, 'present': {'document': [0.9, 0.0, 0.0, 0.0]}}\n",
      "vecinity matrix: {'query': {'expansion': [0.9, 0.0, 0.0, 0.9]}, 'expansion': {'query': [0.9, 0.0, 0.0, 0.9]}, 'adding': {'query': [0.0, 0.9, 0.9, 0.0], 'expansion': [0.9, 0.0, 0.0, 0.0]}, 'keyword': {'query': [0.0, 0.9, 0.9, 0.0], 'expansion': [0.0, 0.9, 0.0, 0.0]}, 'original': {'query': [0.9, 0.0, 0.0, 0.9], 'expansion': [0.0, 0.0, 0.9, 0.0]}}\n",
      "vecinity matrix: {'main': {'query': [0.0, 0.9, 0.0, 0.0], 'expansion': [0.0, 0.0, 0.9, 0.0]}, 'issue': {'query': [0.9, 0.0, 0.0, 0.0], 'expansion': [0.0, 0.9, 0.0, 0.0]}, 'query': {'expansion': [0.9, 0.0, 0.0, 0.0]}, 'expansion': {'query': [0.9, 0.0, 0.0, 0.0]}, 'selection': {'query': [0.0, 0.9, 0.0, 0.0], 'expansion': [0.9, 0.0, 0.0, 0.0]}, 'appropriate': {'query': [0.0, 0.0, 0.9, 0.9], 'expansion': [0.0, 0.9, 0.0, 0.0]}, 'term': {'query': [0.0, 0.0, 0.9, 0.9], 'expansion': [0.0, 0.0, 0.9, 0.0]}, 'user': {'query': [0.0, 0.9, 0.0, 0.0], 'expansion': [0.0, 0.0, 0.0, 0.9]}, 'original': {'query': [0.9, 0.0, 0.0, 0.0]}}\n",
      "vecinity matrix: {}\n",
      "vecinity matrix: {'done': {'information': [0.0, 0.0, 0.0, 0.9]}, 'vocabulary': {'information': [0.0, 0.0, 0.9, 0.0], 'retrieval': [0.0, 0.0, 0.0, 0.9]}, 'frequently': {'information': [0.0, 0.9, 0.0, 0.0], 'retrieval': [0.0, 0.0, 0.9, 0.0]}, 'incorporated': {'information': [0.9, 0.0, 0.0, 0.0], 'retrieval': [0.0, 0.9, 0.0, 0.0]}, 'information': {'retrieval': [0.9, 0.0, 0.0, 0.0]}, 'retrieval': {'information': [0.9, 0.0, 0.0, 0.0]}, 'system': {'information': [0.0, 0.9, 0.0, 0.0], 'retrieval': [0.9, 0.0, 0.0, 0.0]}}\n",
      "vecinity matrix: {'used': {'information': [0.0, 0.0, 0.0, 0.9]}, 'across': {'information': [0.0, 0.0, 0.9, 0.0], 'retrieval': [0.0, 0.0, 0.0, 0.9]}, 'large': {'information': [0.0, 0.9, 0.0, 0.0], 'retrieval': [0.0, 0.0, 0.9, 0.0]}, 'area': {'information': [0.9, 0.0, 0.0, 0.0], 'retrieval': [0.0, 0.9, 0.0, 0.0]}, 'information': {'retrieval': [0.9, 0.0, 0.0, 0.0]}, 'retrieval': {'information': [0.9, 0.0, 0.0, 0.0]}, 'also': {'information': [0.0, 0.9, 0.0, 0.0], 'retrieval': [0.9, 0.0, 0.0, 0.0]}, 'many': {'information': [0.0, 0.0, 0.9, 0.0], 'retrieval': [0.0, 0.9, 0.0, 0.0]}, 'application': {'information': [0.0, 0.0, 0.0, 0.9], 'retrieval': [0.0, 0.0, 0.9, 0.0]}, 'natural': {'retrieval': [0.0, 0.0, 0.0, 0.9]}}\n",
      "vecinity matrix: {'work': {'search': [0.0, 0.0, 0.9, 0.0], 'query': [0.0, 0.0, 0.0, 0.9]}, 'improve': {'search': [0.0, 0.9, 0.0, 0.0], 'query': [0.0, 0.0, 0.9, 0.0]}, 'performance': {'search': [0.9, 0.0, 0.0, 0.0], 'query': [0.0, 0.9, 0.0, 0.0]}, 'search': {'query': [0.9, 0.0, 0.0, 0.0]}, 'query': {'search': [0.9, 0.0, 0.0, 0.0], 'expansion': [0.9, 0.0, 0.0, 0.0]}, 'bm25': {'search': [0.0, 0.9, 0.0, 0.0], 'query': [0.9, 0.0, 0.9, 0.0], 'expansion': [0.0, 0.0, 0.0, 0.9]}, 'model': {'search': [0.0, 0.0, 0.9, 0.0], 'query': [0.0, 1.8, 0.0, 0.0], 'expansion': [0.0, 0.0, 0.9, 0.0]}, 'used': {'search': [0.0, 0.0, 0.0, 0.9], 'query': [0.9, 0.0, 0.9, 0.0], 'expansion': [0.0, 0.9, 0.0, 0.0]}, 'expansion': {'query': [0.9, 0.0, 0.0, 0.0]}}\n",
      "vecinity matrix: {}\n",
      "vecinity matrix: {}\n",
      "vecinity matrix: {}\n",
      "doc: Query Expansion for Bangla Search Engine Pipilika\n",
      "vecinity matrix: {'query': {'search': [0.0, 0.0, 0.875, 0.0], 'engine': [0.0, 0.0, 0.0, 0.875], 'expansion': [0.875, 0.0, 0.0, 0.0]}, 'expansion': {'search': [0.0, 0.875, 0.0, 0.0], 'engine': [0.0, 0.0, 0.875, 0.0], 'query': [0.875, 0.0, 0.0, 0.0]}, 'bangla': {'search': [0.875, 0.0, 0.0, 0.0], 'engine': [0.0, 0.875, 0.0, 0.0], 'query': [0.0, 0.875, 0.0, 0.0], 'expansion': [0.875, 0.0, 0.0, 0.0]}, 'search': {'engine': [0.875, 0.0, 0.0, 0.0], 'query': [0.0, 0.0, 0.875, 0.0], 'expansion': [0.0, 0.875, 0.0, 0.0]}, 'engine': {'search': [0.875, 0.0, 0.0, 0.0], 'query': [0.0, 0.0, 0.0, 0.875], 'expansion': [0.0, 0.0, 0.875, 0.0]}, 'pipilika': {'search': [0.0, 0.875, 0.0, 0.0], 'engine': [0.875, 0.0, 0.0, 0.0], 'expansion': [0.0, 0.0, 0.0, 0.875]}}\n",
      "vecinity matrix: {'query': {'search': [0.0, 0.0, 0.0, 0.875], 'expansion': [0.875, 0.0, 0.0, 0.875]}, 'expansion': {'query': [0.875, 0.0, 0.0, 0.875]}, 'aim': {'query': [0.0, 0.875, 0.875, 0.0], 'expansion': [0.875, 0.0, 0.0, 0.0]}, 'extend': {'query': [0.0, 0.875, 0.875, 0.0], 'expansion': [0.0, 0.875, 0.0, 0.0]}, 'user': {'query': [0.875, 0.0, 0.0, 0.875], 'expansion': [0.0, 0.0, 0.875, 0.0]}, 'related': {'search': [0.0, 0.0, 0.875, 0.0], 'query': [0.875, 0.0, 0.0, 0.0]}, 'term': {'search': [0.0, 0.875, 0.0, 0.875], 'query': [0.0, 0.875, 0.0, 0.0]}, 'improving': {'search': [0.875, 0.0, 0.875, 0.0], 'engine': [0.0, 0.0, 0.0, 0.875], 'query': [0.0, 0.0, 0.875, 0.0]}, 'search': {'engine': [1.75, 0.0, 0.875, 0.0], 'query': [0.0, 0.0, 0.0, 0.875]}, 'result': {'search': [1.75, 0.0, 0.0, 0.0], 'engine': [0.0, 0.875, 0.0, 0.0]}, 'engine': {'search': [1.75, 0.0, 0.875, 0.0]}, 'like': {'search': [0.0, 0.875, 0.0, 1.75], 'engine': [0.875, 0.0, 0.0, 0.0]}, 'google': {'search': [0.0, 0.0, 1.75, 0.0], 'engine': [0.0, 0.875, 0.0, 0.875]}, 'pipilika': {'search': [0.0, 0.875, 0.0, 0.875], 'engine': [0.0, 0.0, 1.75, 0.0]}, 'bangla': {'search': [0.875, 0.0, 0.0, 0.0], 'engine': [0.0, 0.875, 0.0, 0.875]}, 'etc': {'search': [0.0, 0.875, 0.0, 0.0], 'engine': [0.875, 0.0, 0.0, 0.0]}}\n",
      "vecinity matrix: {'paper': {'query': [0.875, 0.0, 0.0, 0.0], 'expansion': [0.0, 0.875, 0.0, 0.0]}, 'query': {'expansion': [0.875, 0.0, 0.0, 0.0]}, 'expansion': {'query': [0.875, 0.0, 0.0, 0.0]}, 'method': {'query': [0.0, 0.875, 0.0, 0.0], 'expansion': [0.875, 0.0, 0.0, 0.0]}, 'proposed': {'query': [0.0, 0.0, 0.875, 0.0], 'expansion': [0.0, 0.875, 0.0, 0.0]}, 'pipilika': {'query': [0.0, 0.0, 0.0, 0.875], 'expansion': [0.0, 0.0, 0.875, 0.0]}, 'select': {'search': [0.0, 0.0, 0.0, 0.875], 'expansion': [0.0, 0.0, 0.0, 0.875]}, 'expanded': {'search': [0.0, 0.0, 0.875, 0.0]}, 'word': {'search': [0.0, 0.875, 0.0, 0.0]}, 'added': {'search': [0.875, 0.0, 0.0, 0.875]}, 'key': {'search': [0.875, 0.875, 0.0, 0.0]}, 'make': {'search': [0.875, 0.875, 0.0, 0.0]}, 'result': {'search': [0.875, 0.0, 0.0, 0.875]}, 'accurate': {'search': [0.0, 0.875, 0.0, 0.0]}, 'efficient': {'search': [0.0, 0.0, 0.875, 0.0]}}\n",
      "vecinity matrix: {'collected': {'document': [0.875, 0.0, 0.0, 0.0], 'data': [0.0, 0.0, 0.875, 0.0]}, 'document': {'data': [0.0, 0.875, 0.0, 0.875]}, 'corpus': {'document': [0.875, 0.0, 0.0, 0.0], 'data': [0.875, 0.0, 0.0, 0.0]}, 'data': {'document': [0.0, 0.875, 0.0, 0.875]}, 'ranked': {'document': [0.0, 0.0, 1.75, 0.0], 'data': [0.875, 0.0, 0.0, 0.0]}, 'using': {'document': [0.0, 0.875, 0.0, 0.875], 'data': [0.0, 0.875, 0.0, 0.0]}, 'bm25': {'document': [0.875, 0.0, 0.0, 0.0], 'data': [0.0, 0.0, 0.875, 0.0]}, 'ranking': {'document': [0.875, 0.0, 0.0, 0.0]}, 'method': {'document': [0.0, 0.875, 0.0, 0.0]}}\n",
      "vecinity matrix: {'selects': {'document': [0.0, 0.0, 0.0, 0.875]}, 'additional': {'document': [0.0, 0.0, 0.875, 0.0]}, 'word': {'document': [0.0, 0.875, 0.0, 0.0]}, 'ranked': {'document': [0.875, 0.0, 0.0, 0.0]}, 'document': {'search': [0.0, 0.0, 0.0, 0.875]}, 'top': {'document': [0.875, 0.0, 0.0, 0.0], 'search': [0.0, 0.0, 0.875, 0.0]}, 'syntagmatic': {'document': [0.0, 0.875, 0.0, 0.0], 'search': [0.0, 0.875, 0.0, 0.0]}, 'relation': {'document': [0.0, 0.0, 0.875, 0.0], 'search': [0.875, 0.0, 0.0, 0.0]}, 'search': {'document': [0.0, 0.0, 0.0, 0.875]}, 'key': {'search': [0.875, 0.0, 0.0, 0.0]}}\n",
      "vecinity matrix: {'similar': {'search': [0.0, 0.0, 0.0, 0.875]}, 'word': {'search': [0.875, 0.0, 0.875, 0.0]}, 'additional': {'search': [0.0, 0.875, 0.0, 0.0]}, 'keywords': {'search': [0.875, 0.0, 0.0, 0.0]}, 'using': {'search': [0.0, 0.875, 0.0, 0.0]}, 'word2vec': {'search': [0.0, 0.0, 0.875, 0.0]}, 'cbow': {'search': [0.0, 0.0, 0.0, 0.875]}}\n",
      "vecinity matrix: {'add': {'search': [0.0, 0.0, 0.875, 0.0]}, 'similar': {'search': [0.0, 0.875, 0.0, 0.0]}, 'word': {'search': [0.875, 0.0, 0.875, 0.0]}, 'key': {'search': [0.875, 0.0, 0.0, 0.0]}, 'additional': {'search': [0.0, 0.875, 0.0, 0.0]}}\n",
      "vecinity matrix: {'finally': {'query': [0.0, 0.875, 0.0, 0.0]}, 'expanded': {'query': [0.875, 0.0, 0.0, 0.0]}, 'generated': {'query': [0.875, 0.0, 0.0, 0.0]}}\n",
      "vecinity matrix: {'help': {'search': [0.875, 0.0, 0.0, 0.0], 'engine': [0.0, 0.875, 0.0, 0.0]}, 'search': {'engine': [0.875, 0.0, 0.0, 0.0]}, 'engine': {'search': [0.875, 0.0, 0.0, 0.0]}, 'capture': {'search': [0.0, 0.875, 0.0, 0.875], 'engine': [0.875, 0.0, 0.0, 0.0]}, 'user': {'search': [0.0, 0.0, 1.75, 0.0], 'engine': [0.0, 0.875, 0.0, 0.0]}, 'requirement': {'search': [0.0, 0.875, 0.0, 0.875], 'engine': [0.0, 0.0, 0.875, 0.0]}, 'better': {'search': [0.875, 0.0, 0.0, 0.0], 'engine': [0.0, 0.0, 0.0, 0.875]}, 'result': {'search': [0.875, 0.0, 0.0, 0.0]}}\n",
      "vecinity matrix: {}\n",
      "doc: Query Reformulation for Task-Oriented Web Searches\n",
      "vecinity matrix: {'query': {'search': [0.0, 0.0, 0.85, 0.0], 'reformulation': [0.85, 0.0, 0.0, 0.0]}, 'reformulation': {'search': [0.0, 0.85, 0.0, 0.0], 'query': [0.85, 0.0, 0.0, 0.0]}, 'web': {'search': [0.85, 0.0, 0.0, 0.0], 'query': [0.0, 0.85, 0.0, 0.0], 'reformulation': [0.85, 0.0, 0.0, 0.0]}, 'search': {'query': [0.0, 0.0, 0.85, 0.0], 'reformulation': [0.0, 0.85, 0.0, 0.0]}}\n",
      "vecinity matrix: {'web': {'information': [0.0, 0.0, 0.85, 0.0], 'search': [0.85, 0.0, 0.0, 0.0]}, 'search': {'information': [0.0, 0.85, 0.0, 0.0]}, 'driven': {'information': [0.85, 0.0, 0.0, 0.0], 'search': [0.85, 0.0, 0.0, 0.0]}, 'information': {'search': [0.0, 0.85, 0.0, 0.0]}, 'need': {'information': [0.85, 0.0, 0.0, 0.0], 'search': [0.0, 0.0, 0.85, 0.0]}, 'intend': {'information': [0.0, 0.85, 0.0, 0.0], 'search': [0.0, 0.0, 0.0, 0.85]}, 'accomplishment': {'information': [0.0, 0.0, 0.85, 0.0]}, 'specific': {'information': [0.0, 0.0, 0.0, 0.85]}}\n",
      "vecinity matrix: {'need': {'information': [0.85, 0.0, 0.0, 0.0], 'query': [0.0, 0.0, 0.0, 0.85]}, 'determined': {'information': [0.0, 0.85, 0.0, 0.0], 'query': [0.0, 0.0, 0.85, 0.0]}, 'topical': {'information': [0.0, 0.0, 0.85, 0.0], 'query': [0.0, 0.85, 0.0, 0.0]}, 'subject': {'information': [0.0, 0.0, 0.0, 0.85], 'query': [0.85, 0.0, 0.0, 0.0]}}\n",
      "vecinity matrix: {'task': {'search': [0.85, 0.0, 0.0, 0.0]}, 'determined': {'search': [0.0, 0.85, 0.0, 0.0]}, 'user': {'search': [0.0, 0.0, 0.85, 0.0], 'query': [0.0, 0.0, 0.0, 0.85]}, 'motif': {'search': [0.0, 0.0, 0.0, 0.85], 'query': [0.0, 0.0, 0.85, 0.0]}, 'induce': {'query': [0.0, 0.85, 0.0, 0.0]}, 'submission': {'query': [0.85, 0.0, 0.0, 0.0]}}\n",
      "vecinity matrix: {}\n",
      "vecinity matrix: {'study': {'query': [0.0, 0.0, 0.0, 0.85]}, 'assist': {'query': [0.0, 0.0, 0.85, 0.0]}, 'searcher': {'query': [0.0, 1.7, 0.0, 0.0]}, 'specify': {'information': [0.0, 0.0, 0.0, 0.85], 'query': [1.7, 0.0, 0.0, 0.0]}, 'query': {'information': [0.0, 0.0, 0.85, 0.0]}, 'expressive': {'information': [0.0, 0.85, 0.0, 0.0], 'query': [0.85, 0.0, 0.0, 0.0]}, 'underlying': {'information': [0.85, 0.0, 0.0, 0.0], 'query': [0.0, 0.85, 0.0, 0.0]}, 'information': {'query': [0.0, 0.0, 0.85, 0.0]}, 'need': {'information': [0.85, 0.0, 0.0, 0.0], 'query': [0.0, 0.0, 0.0, 0.85]}, 'little': {'information': [0.0, 0.85, 0.0, 0.0]}, 'done': {'information': [0.0, 0.0, 0.85, 0.0], 'query': [0.0, 0.0, 0.0, 0.85]}, 'help': {'information': [0.0, 0.0, 0.0, 0.85], 'query': [0.0, 0.0, 0.85, 0.0]}, 'describe': {'search': [0.0, 0.0, 0.0, 0.85], 'query': [0.85, 0.0, 0.0, 0.0]}, 'task': {'search': [0.0, 0.0, 0.85, 0.0], 'query': [0.0, 0.85, 0.0, 0.0]}, 'pursue': {'search': [0.0, 0.85, 0.0, 0.0], 'query': [0.0, 0.0, 0.85, 0.0]}, 'via': {'search': [0.85, 0.0, 0.0, 0.0], 'query': [0.0, 0.0, 0.0, 0.85]}}\n",
      "vecinity matrix: {'paper': {'query': [0.0, 0.85, 0.0, 0.0], 'reformulation': [0.0, 0.0, 0.85, 0.0]}, 'propose': {'query': [0.85, 0.0, 0.0, 0.0], 'reformulation': [0.0, 0.85, 0.0, 0.0]}, 'query': {'reformulation': [0.85, 0.0, 0.0, 0.0]}, 'reformulation': {'search': [0.0, 0.0, 0.0, 0.85], 'query': [0.85, 0.0, 0.0, 0.0]}, 'method': {'search': [0.0, 0.0, 0.85, 0.0], 'query': [0.0, 0.85, 0.0, 0.0], 'reformulation': [0.85, 0.0, 0.0, 0.0]}, 'empower': {'search': [0.0, 0.85, 0.0, 0.0], 'query': [0.0, 0.0, 0.85, 0.0], 'reformulation': [0.0, 0.85, 0.0, 0.0]}, 'web': {'search': [0.85, 0.0, 0.0, 0.0], 'query': [0.0, 0.0, 0.0, 0.85], 'reformulation': [0.0, 0.0, 0.85, 0.0]}, 'search': {'reformulation': [0.0, 0.0, 0.0, 0.85]}}\n",
      "vecinity matrix: {'given': {'query': [0.85, 0.0, 0.0, 0.0]}, 'query': {'search': [0.0, 0.85, 0.0, 0.0]}, 'method': {'query': [0.85, 0.0, 0.0, 0.0]}, 'start': {'query': [0.0, 0.85, 0.0, 0.0]}, 'identification': {'query': [0.0, 0.0, 0.85, 0.0]}, 'term': {'search': [0.0, 0.0, 0.0, 0.85], 'query': [0.0, 0.0, 0.0, 0.85]}, 'serve': {'search': [0.0, 0.0, 0.85, 0.0]}, 'descriptor': {'search': [0.0, 0.85, 0.0, 0.0], 'query': [0.0, 0.0, 0.0, 0.85]}, 'potential': {'search': [0.85, 0.0, 0.0, 0.0], 'query': [0.0, 0.0, 0.85, 0.0]}, 'search': {'query': [0.0, 0.85, 0.0, 0.0]}, 'task': {'search': [0.85, 0.0, 0.0, 0.0], 'query': [0.85, 0.0, 0.0, 0.0]}, 'represents': {'search': [0.0, 0.0, 0.85, 0.0], 'query': [0.85, 0.0, 0.0, 0.0]}}\n",
      "vecinity matrix: {'based': {'query': [0.0, 0.0, 0.0, 0.85]}, 'identified': {'query': [0.0, 0.0, 0.85, 0.0]}, 'term': {'query': [0.0, 0.85, 0.0, 0.0]}, 'generates': {'query': [0.85, 0.0, 0.0, 0.0]}, 'query': {'search': [0.0, 0.0, 0.0, 0.85]}, 'explicitly': {'search': [0.0, 0.0, 0.85, 0.0], 'query': [0.85, 0.0, 0.0, 0.0]}, 'verbalize': {'search': [0.0, 0.85, 0.0, 0.0], 'query': [0.0, 0.85, 0.0, 0.0]}, 'possible': {'search': [0.85, 0.0, 0.0, 0.0], 'query': [0.0, 0.0, 0.85, 0.0]}, 'search': {'query': [0.0, 0.0, 0.0, 0.85]}, 'task': {'search': [0.85, 0.0, 0.0, 0.0]}}\n",
      "vecinity matrix: {'reformulations': {'query': [0.85, 0.0, 0.0, 0.0]}, 'presented': {'query': [0.0, 0.85, 0.0, 0.0]}, 'user': {'query': [0.0, 0.0, 0.85, 0.0]}, 'order': {'query': [0.0, 0.0, 0.0, 0.85]}, 'select': {'search': [0.0, 0.0, 0.0, 0.85]}, 'one': {'search': [0.0, 0.0, 0.85, 0.0]}, 'best': {'search': [0.0, 0.85, 0.0, 0.0]}, 'suit': {'search': [0.85, 0.0, 0.0, 0.0]}, 'intention': {'search': [0.85, 0.0, 0.0, 0.0]}}\n",
      "doc: Query Expansion in Information Retrieval for Urdu Language\n",
      "vecinity matrix: {'query': {'information': [0.0, 0.825, 0.0, 0.0], 'retrieval': [0.0, 0.0, 0.825, 0.0], 'expansion': [0.825, 0.0, 0.0, 0.0]}, 'expansion': {'information': [0.825, 0.0, 0.0, 0.0], 'retrieval': [0.0, 0.825, 0.0, 0.0], 'query': [0.825, 0.0, 0.0, 0.0]}, 'information': {'retrieval': [0.825, 0.0, 0.0, 0.0], 'query': [0.0, 0.825, 0.0, 0.0], 'expansion': [0.825, 0.0, 0.0, 0.0]}, 'retrieval': {'information': [0.825, 0.0, 0.0, 0.0], 'query': [0.0, 0.0, 0.825, 0.0], 'expansion': [0.0, 0.825, 0.0, 0.0]}, 'urdu': {'information': [0.0, 0.825, 0.0, 0.0], 'retrieval': [0.825, 0.0, 0.0, 0.0], 'query': [0.0, 0.0, 0.0, 0.825], 'expansion': [0.0, 0.0, 0.825, 0.0]}, 'language': {'information': [0.0, 0.0, 0.825, 0.0], 'retrieval': [0.0, 0.825, 0.0, 0.0], 'expansion': [0.0, 0.0, 0.0, 0.825]}}\n",
      "vecinity matrix: {'information': {'retrieval': [0.825, 0.0, 0.0, 0.0]}, 'retrieval': {'information': [0.825, 0.0, 0.0, 0.0]}, 'system': {'information': [0.0, 0.825, 0.0, 0.0], 'retrieval': [0.825, 0.0, 0.0, 0.0], 'search': [0.825, 0.0, 0.0, 0.0], 'query': [0.0, 0.825, 0.0, 0.0]}, 'need': {'information': [0.0, 0.0, 0.825, 0.0], 'retrieval': [0.0, 0.825, 0.0, 0.0]}, 'upgraded': {'information': [0.0, 0.0, 0.0, 0.825], 'retrieval': [0.0, 0.0, 0.825, 0.0]}, 'constantly': {'retrieval': [0.0, 0.0, 0.0, 0.825]}, 'challenge': {'query': [0.0, 0.0, 0.0, 0.825]}, 'posed': {'search': [0.0, 0.0, 0.0, 0.825], 'query': [0.0, 0.0, 0.825, 0.0]}, 'advanced': {'search': [0.0, 0.0, 0.825, 0.0], 'query': [0.0, 0.825, 0.0, 0.0]}, 'user': {'search': [0.0, 0.825, 0.0, 0.0], 'query': [0.825, 0.0, 0.0, 0.0]}, 'query': {'search': [0.825, 0.0, 0.0, 0.0]}, 'search': {'query': [0.825, 0.0, 0.0, 0.0]}, 'becoming': {'search': [0.0, 0.825, 0.0, 0.0], 'query': [0.0, 0.0, 0.825, 0.0]}, 'sophisticated': {'search': [0.0, 0.0, 0.825, 0.0], 'query': [0.0, 0.0, 0.0, 0.825]}, 'time': {'search': [0.0, 0.0, 0.0, 0.825]}}\n",
      "vecinity matrix: {}\n",
      "vecinity matrix: {'one': {'query': [0.0, 0.0, 0.825, 0.0]}, 'approach': {'query': [0.0, 0.825, 0.0, 0.825]}, 'augment': {'query': [0.825, 0.0, 0.825, 0.0], 'expansion': [0.0, 0.0, 0.0, 0.825]}, 'query': {'information': [0.0, 0.0, 0.0, 0.825], 'retrieval': [0.0, 0.0, 0.0, 0.825], 'expansion': [0.825, 0.0, 0.825, 0.0]}, 'automatic': {'query': [1.65, 0.0, 0.0, 0.0], 'expansion': [0.0, 0.825, 0.0, 0.0]}, 'expansion': {'information': [0.0, 0.0, 0.825, 0.0], 'retrieval': [0.0, 0.0, 0.0, 0.825], 'query': [0.825, 0.0, 0.825, 0.0]}, 'increase': {'information': [0.0, 0.825, 0.0, 0.0], 'retrieval': [0.0, 0.0, 0.825, 0.0], 'query': [0.0, 0.825, 0.0, 0.825], 'expansion': [0.825, 0.0, 0.0, 0.0]}, 'precision': {'information': [0.825, 0.0, 0.0, 0.0], 'retrieval': [0.0, 0.825, 0.0, 0.0], 'query': [0.0, 0.0, 0.825, 0.0], 'expansion': [0.0, 0.825, 0.0, 0.0]}, 'information': {'retrieval': [0.825, 0.0, 0.0, 0.0], 'query': [0.0, 0.0, 0.0, 0.825], 'expansion': [0.0, 0.0, 0.825, 0.0]}, 'retrieval': {'information': [0.825, 0.0, 0.0, 0.0], 'query': [0.0, 0.0, 0.0, 0.825], 'expansion': [0.0, 0.0, 0.0, 0.825]}, 'even': {'information': [0.0, 0.825, 0.0, 0.0], 'retrieval': [0.825, 0.0, 0.0, 0.0], 'query': [0.0, 0.0, 0.825, 0.0]}, 'cut': {'information': [0.0, 0.0, 0.825, 0.0], 'retrieval': [0.0, 0.825, 0.0, 0.0], 'query': [0.0, 0.825, 0.0, 0.0]}, 'result': {'information': [0.0, 0.0, 0.0, 0.825], 'retrieval': [0.0, 0.0, 0.825, 0.0], 'query': [0.825, 0.0, 0.0, 0.0]}}\n",
      "vecinity matrix: {'approach': {'data': [0.0, 0.0, 0.0, 0.825]}, 'tested': {'data': [0.0, 0.0, 0.825, 0.0]}, 'present': {'data': [0.0, 0.825, 0.0, 0.0]}, 'urdu': {'data': [0.825, 0.0, 0.0, 0.0]}, 'collection': {'data': [0.825, 0.0, 0.0, 0.0], 'expansion': [0.0, 0.0, 0.0, 0.825]}, 'obtained': {'data': [0.0, 0.825, 0.0, 0.0], 'expansion': [0.0, 0.0, 0.825, 0.0]}, 'via': {'data': [0.0, 0.0, 0.825, 0.0], 'expansion': [0.0, 0.825, 0.0, 0.0]}, 'different': {'data': [0.0, 0.0, 0.0, 0.825], 'expansion': [0.825, 0.0, 0.0, 0.0]}, 'model': {'expansion': [0.825, 0.0, 0.0, 0.0]}, 'kl': {'expansion': [0.0, 0.825, 0.0, 0.0]}, 'bo1': {'expansion': [0.0, 0.0, 0.825, 0.0]}, 'bo2': {'expansion': [0.0, 0.0, 0.0, 0.825]}}\n",
      "vecinity matrix: {}\n",
      "vecinity matrix: {'comprises': {'document': [0.825, 0.0, 0.0, 0.0]}, 'trecschemes': {'document': [0.825, 0.0, 0.0, 0.0]}, '52': {'document': [0.0, 0.825, 0.0, 0.0]}, 'topic': {'document': [0.0, 0.0, 0.825, 0.0]}, 'relevance': {'document': [0.0, 0.0, 0.0, 0.825]}}\n",
      "vecinity matrix: {'paper': {'retrieval': [0.0, 0.0, 0.825, 0.0]}, 'emphasize': {'retrieval': [0.0, 0.825, 0.0, 0.0]}, 'enhance': {'retrieval': [0.825, 0.0, 0.0, 0.0], 'query': [0.0, 0.0, 0.0, 0.825]}, 'retrieval': {'query': [0.0, 0.0, 0.825, 0.0], 'expansion': [0.0, 0.0, 0.0, 0.825]}, 'model': {'retrieval': [0.825, 0.0, 0.0, 0.0], 'query': [0.0, 0.825, 0.0, 0.0], 'expansion': [0.0, 0.0, 0.825, 0.0]}, 'using': {'retrieval': [0.0, 0.825, 0.0, 0.0], 'query': [0.825, 0.0, 0.0, 0.0], 'expansion': [0.0, 0.825, 0.0, 0.0]}, 'query': {'retrieval': [0.0, 0.0, 0.825, 0.0], 'expansion': [0.825, 0.0, 0.0, 0.0]}, 'expansion': {'retrieval': [0.0, 0.0, 0.0, 0.825], 'query': [0.825, 0.0, 0.0, 0.0]}, 'never': {'query': [0.0, 0.825, 0.0, 0.0], 'expansion': [0.825, 0.0, 0.0, 0.0]}, 'done': {'query': [0.0, 0.0, 0.825, 0.0], 'expansion': [0.0, 0.825, 0.0, 0.0]}, 'urdu': {'query': [0.0, 0.0, 0.0, 0.825], 'expansion': [0.0, 0.0, 0.825, 0.0]}, 'text': {'expansion': [0.0, 0.0, 0.0, 0.825]}}\n",
      "vecinity matrix: {'deep': {'query': [0.0, 0.0, 0.0, 0.825]}, 'analysis': {'query': [0.0, 0.0, 0.825, 0.0]}, 'initial': {'query': [0.0, 0.825, 0.0, 0.0]}, 'expanded': {'query': [0.825, 0.0, 0.0, 0.0]}, 'brings': {'query': [0.825, 0.0, 0.0, 0.0]}, 'fascinating': {'query': [0.0, 0.825, 0.0, 0.0]}, 'insight': {'query': [0.0, 0.0, 0.825, 0.0]}, 'avail': {'query': [0.0, 0.0, 0.0, 0.825]}}\n",
      "doc: Research on Semantic Query Expansion with Temporal Information\n",
      "vecinity matrix: {'research': {'query': [0.0, 0.8, 0.0, 0.0], 'expansion': [0.0, 0.0, 0.8, 0.0]}, 'semantic': {'information': [0.0, 0.0, 0.0, 0.8], 'query': [0.8, 0.0, 0.0, 0.0], 'expansion': [0.0, 0.8, 0.0, 0.0]}, 'query': {'information': [0.0, 0.0, 0.8, 0.0], 'expansion': [0.8, 0.0, 0.0, 0.0]}, 'expansion': {'information': [0.0, 0.8, 0.0, 0.0], 'query': [0.8, 0.0, 0.0, 0.0]}, 'temporal': {'information': [0.8, 0.0, 0.0, 0.0], 'query': [0.0, 0.8, 0.0, 0.0], 'expansion': [0.8, 0.0, 0.0, 0.0]}, 'information': {'query': [0.0, 0.0, 0.8, 0.0], 'expansion': [0.0, 0.8, 0.0, 0.0]}}\n",
      "vecinity matrix: {'temporal': {'information': [0.8, 0.0, 0.0, 0.0]}, 'essential': {'information': [0.8, 0.0, 0.0, 0.0]}, 'attribute': {'information': [0.0, 0.8, 0.0, 0.0]}, 'web': {'information': [0.0, 0.0, 0.8, 0.0]}, 'page': {'information': [0.0, 0.0, 0.0, 0.8]}}\n",
      "vecinity matrix: {'however': {'search': [0.0, 0.8, 0.0, 0.0], 'engine': [0.0, 0.0, 0.8, 0.0]}, 'major': {'search': [0.8, 0.0, 0.0, 0.0], 'engine': [0.0, 0.8, 0.0, 0.0]}, 'search': {'information': [0.0, 0.0, 0.0, 0.8], 'engine': [0.8, 0.0, 0.0, 0.0]}, 'engine': {'information': [0.0, 0.0, 0.8, 0.0], 'search': [0.8, 0.0, 0.0, 0.0]}, 'view': {'information': [0.0, 0.8, 0.0, 0.0], 'search': [0.0, 0.8, 0.0, 0.0], 'engine': [0.8, 0.0, 0.0, 0.0]}, 'temporal': {'information': [0.8, 0.0, 0.0, 0.0], 'search': [0.0, 0.0, 0.8, 0.0], 'engine': [0.0, 0.8, 0.0, 0.0]}, 'information': {'search': [0.0, 0.0, 0.0, 0.8], 'engine': [0.0, 0.0, 0.8, 0.0]}, 'web': {'information': [0.8, 0.0, 0.0, 0.0], 'engine': [0.0, 0.0, 0.0, 0.8]}, 'page': {'information': [0.0, 0.8, 0.0, 0.0]}, 'ignored': {'information': [0.0, 0.0, 0.8, 0.0]}, 'relationship': {'information': [0.0, 0.0, 0.0, 0.8]}}\n",
      "vecinity matrix: {}\n",
      "vecinity matrix: {'built': {'query': [0.8, 0.0, 0.0, 0.0], 'expansion': [0.0, 0.8, 0.0, 0.0]}, 'query': {'expansion': [0.8, 0.0, 0.0, 0.0]}, 'expansion': {'information': [0.0, 0.0, 0.0, 0.8], 'query': [0.8, 0.0, 0.0, 0.0]}, 'model': {'information': [0.0, 0.0, 0.8, 0.0], 'query': [0.0, 0.8, 0.0, 0.0], 'expansion': [0.8, 0.0, 0.0, 0.0]}, 'based': {'information': [0.0, 0.8, 0.0, 0.0], 'query': [0.0, 0.0, 0.8, 0.0], 'expansion': [0.0, 0.8, 0.0, 0.0]}, 'temporal': {'information': [0.8, 0.0, 0.0, 0.0], 'query': [0.0, 0.0, 0.0, 0.8], 'expansion': [0.0, 0.0, 0.8, 0.0]}, 'information': {'expansion': [0.0, 0.0, 0.0, 0.8]}}\n",
      "vecinity matrix: {'experiment': {'query': [0.0, 0.0, 0.0, 0.8]}, 'result': {'query': [0.0, 0.0, 0.8, 0.0]}, 'showed': {'query': [0.0, 0.8, 0.0, 0.0]}, 'user': {'information': [0.0, 0.0, 0.0, 0.8], 'query': [0.8, 0.0, 0.0, 0.0]}, 'query': {'information': [0.0, 0.0, 0.8, 0.8], 'expansion': [0.8, 0.8, 0.0, 0.8]}, 'based': {'information': [0.0, 0.8, 0.0, 0.0], 'query': [0.8, 0.0, 0.0, 0.0]}, 'temporal': {'information': [0.8, 0.0, 0.0, 0.0], 'query': [0.0, 0.8, 0.0, 0.0]}, 'information': {'query': [0.0, 0.0, 0.8, 0.8]}, 'better': {'information': [0.8, 0.0, 0.0, 0.0], 'query': [0.0, 0.0, 0.8, 0.8], 'expansion': [0.0, 0.0, 0.0, 0.8]}, 'simple': {'information': [0.0, 0.8, 0.0, 0.0], 'query': [0.0, 0.8, 0.0, 0.0], 'expansion': [0.0, 0.0, 0.8, 0.0]}, 'semantic': {'information': [0.0, 0.0, 0.8, 0.0], 'query': [0.8, 0.0, 0.0, 0.8], 'expansion': [0.0, 0.8, 0.0, 0.0]}, 'expansion': {'query': [0.8, 0.8, 0.0, 0.8]}, 'capability': {'query': [0.8, 0.8, 0.8, 0.0], 'expansion': [0.8, 0.0, 0.0, 0.0]}, 'expression': {'query': [1.6, 0.0, 0.0, 0.8], 'expansion': [0.0, 0.0, 0.8, 0.0]}, 'procession': {'query': [0.8, 0.0, 0.8, 0.0]}}\n",
      "doc: A collaborative search with query expansion and result re-ranking\n",
      "vecinity matrix: {'collaborative': {'search': [0.775, 0.0, 0.0, 0.0], 'query': [0.0, 0.775, 0.0, 0.0], 'expansion': [0.0, 0.0, 0.775, 0.0]}, 'search': {'query': [0.775, 0.0, 0.0, 0.0], 'expansion': [0.0, 0.775, 0.0, 0.0]}, 'query': {'search': [0.775, 0.0, 0.0, 0.0], 'expansion': [0.775, 0.0, 0.0, 0.0]}, 'expansion': {'search': [0.0, 0.775, 0.0, 0.0], 'query': [0.775, 0.0, 0.0, 0.0]}, 'result': {'search': [0.0, 0.0, 0.775, 0.0], 'query': [0.0, 0.775, 0.0, 0.0], 'expansion': [0.775, 0.0, 0.0, 0.0]}}\n",
      "vecinity matrix: {'web': {'search': [0.775, 0.0, 0.0, 0.0], 'engine': [0.0, 0.775, 0.0, 0.0]}, 'search': {'engine': [0.775, 0.0, 0.0, 0.0]}, 'engine': {'search': [0.775, 0.0, 0.0, 0.0]}, 'become': {'search': [0.0, 0.775, 0.0, 0.0], 'engine': [0.775, 0.0, 0.0, 0.0]}, 'resource': {'information': [0.0, 0.0, 0.0, 0.775], 'search': [0.0, 0.0, 0.775, 0.0], 'engine': [0.0, 0.775, 0.0, 0.0]}, 'pool': {'information': [0.0, 0.0, 0.775, 0.0], 'search': [0.0, 0.0, 0.0, 0.775], 'engine': [0.0, 0.0, 0.775, 0.0]}, 'people': {'information': [0.0, 0.775, 0.0, 0.0], 'engine': [0.0, 0.0, 0.0, 0.775]}, 'gain': {'information': [0.775, 0.0, 0.0, 0.0]}}\n",
      "vecinity matrix: {'achieving': {'information': [0.0, 0.0, 0.0, 0.775]}, 'goal': {'information': [0.0, 0.0, 0.775, 0.0]}, 'delivering': {'information': [0.0, 0.775, 0.0, 0.0]}, 'relevant': {'information': [0.775, 0.0, 0.0, 0.0]}, 'user': {'information': [0.775, 0.0, 0.0, 0.0]}}\n",
      "vecinity matrix: {'due': {'information': [0.0, 0.0, 0.775, 0.0]}, 'exponential': {'information': [0.0, 0.775, 0.0, 0.0], 'query': [0.0, 0.0, 0.0, 0.775]}, 'growth': {'information': [0.775, 0.0, 0.0, 0.0], 'search': [0.0, 0.0, 0.0, 0.775], 'query': [0.0, 0.0, 0.775, 0.0]}, 'information': {'search': [0.0, 0.0, 0.775, 0.775], 'engine': [0.0, 0.0, 0.775, 0.775], 'query': [0.0, 0.775, 0.0, 0.0]}, 'imprecise': {'information': [0.775, 0.0, 0.0, 0.0], 'search': [0.0, 0.775, 0.0, 0.0], 'engine': [0.0, 0.0, 0.775, 0.0], 'query': [0.775, 0.0, 0.0, 0.0]}, 'query': {'information': [0.0, 0.775, 0.0, 0.0], 'search': [0.775, 0.0, 0.0, 0.0], 'engine': [0.0, 0.775, 0.0, 0.0]}, 'search': {'information': [0.0, 0.0, 0.775, 0.775], 'engine': [0.775, 0.0, 0.0, 0.0], 'query': [0.775, 0.0, 0.0, 0.0]}, 'engine': {'information': [0.0, 0.0, 0.775, 0.775], 'search': [0.775, 0.0, 0.0, 0.0], 'query': [0.0, 0.775, 0.0, 0.0]}, 'meet': {'information': [0.0, 0.775, 0.0, 0.0], 'search': [0.0, 0.775, 0.0, 0.0], 'engine': [0.775, 0.0, 0.0, 0.0], 'query': [0.0, 0.0, 0.775, 0.0]}, 'user': {'information': [0.775, 0.0, 0.0, 0.0], 'search': [0.0, 0.0, 0.775, 0.0], 'engine': [0.0, 0.775, 0.0, 0.0], 'query': [0.0, 0.0, 0.0, 0.775]}, 'requirement': {'information': [0.775, 0.0, 0.0, 0.0], 'engine': [0.0, 0.0, 0.0, 0.775]}}\n",
      "vecinity matrix: {'user': {'query': [0.0, 0.775, 0.0, 0.0]}, 'reframe': {'information': [0.0, 0.0, 0.0, 0.775], 'query': [0.775, 0.0, 0.0, 0.0]}, 'query': {'information': [0.0, 0.0, 0.775, 0.0]}, 'get': {'information': [0.0, 0.775, 0.0, 0.0], 'query': [0.775, 0.0, 0.0, 0.0]}, 'desired': {'information': [0.775, 0.0, 0.0, 0.0], 'query': [0.0, 0.775, 0.0, 0.0]}, 'information': {'query': [0.0, 0.0, 0.775, 0.0]}}\n",
      "vecinity matrix: {'result': {'search': [0.0, 0.0, 0.0, 0.775]}, 'listed': {'search': [0.0, 0.0, 0.775, 0.0]}, 'based': {'search': [0.0, 0.775, 0.0, 0.0]}, 'user': {'search': [0.775, 0.0, 0.0, 0.0]}, 'context': {'search': [0.775, 0.0, 0.0, 0.0]}}\n",
      "vecinity matrix: {'personalization': {'search': [0.775, 0.0, 0.0, 0.0]}, 'result': {'search': [0.775, 0.0, 0.0, 0.0]}, 'satisfies': {'search': [0.0, 0.775, 0.0, 0.0]}, 'need': {'search': [0.0, 0.0, 0.775, 0.0]}, 'user': {'search': [0.0, 0.0, 0.0, 0.775]}}\n",
      "vecinity matrix: {'user': {'query': [0.0, 0.0, 0.0, 0.775]}, 'preference': {'query': [0.0, 0.0, 0.775, 0.0]}, 'order': {'query': [0.0, 0.775, 0.0, 0.0]}, 'provide': {'query': [0.775, 0.0, 0.0, 0.0]}, 'suggestion': {'query': [0.775, 0.0, 0.0, 0.0]}}\n",
      "vecinity matrix: {'web': {'search': [0.775, 0.0, 0.0, 0.0]}, 'search': {'engine': [0.775, 0.0, 0.0, 0.0]}, 'personalization': {'search': [0.775, 0.0, 0.0, 0.0]}, 'using': {'search': [0.0, 0.775, 0.0, 0.0]}, 'collaborative': {'search': [0.0, 0.0, 0.775, 0.775]}, 'filtering': {'search': [0.0, 0.0, 0.775, 0.775], 'engine': [0.0, 0.0, 0.0, 0.775]}, 'adapts': {'search': [0.0, 0.775, 0.0, 0.0], 'engine': [0.0, 0.0, 0.775, 0.0]}, 'generic': {'search': [0.775, 0.0, 0.0, 0.0], 'engine': [0.0, 0.775, 0.0, 0.0]}, 'engine': {'search': [0.775, 0.0, 0.0, 0.0]}, 'need': {'search': [0.0, 0.775, 0.0, 0.0], 'engine': [0.775, 0.0, 0.0, 0.0]}, 'community': {'search': [0.0, 0.0, 0.775, 0.0], 'engine': [0.0, 0.775, 0.0, 0.0]}, 'user': {'search': [0.0, 0.0, 0.0, 0.775], 'engine': [0.0, 0.0, 0.775, 0.0]}}\n",
      "vecinity matrix: {'main': {'retrieval': [0.0, 0.0, 0.0, 0.775]}, 'objective': {'information': [0.0, 0.0, 0.0, 0.775], 'retrieval': [0.0, 0.0, 0.775, 0.0]}, 'work': {'information': [0.0, 0.0, 0.775, 0.0], 'retrieval': [0.0, 0.775, 0.0, 0.0]}, 'improve': {'information': [0.0, 0.775, 0.0, 0.0], 'retrieval': [0.775, 0.0, 0.0, 0.0]}, 'retrieval': {'information': [0.775, 0.0, 0.0, 0.0], 'query': [0.0, 0.0, 0.0, 0.775]}, 'information': {'retrieval': [0.775, 0.0, 0.0, 0.0], 'query': [0.0, 0.0, 0.775, 0.0]}, 'expanding': {'information': [0.775, 0.0, 0.0, 0.0], 'retrieval': [0.0, 0.775, 0.0, 0.0], 'query': [0.0, 0.775, 0.0, 0.0]}, 'user': {'information': [0.0, 0.775, 0.0, 0.0], 'retrieval': [0.0, 0.0, 0.775, 0.0], 'query': [0.775, 0.0, 0.0, 0.0]}, 'query': {'information': [0.0, 0.0, 0.775, 0.0], 'retrieval': [0.0, 0.0, 0.0, 0.775]}, 'rank': {'information': [0.0, 0.0, 0.0, 0.775], 'query': [0.775, 0.0, 0.0, 0.0]}, 'result': {'query': [0.0, 0.775, 0.0, 0.0]}, 'list': {'query': [0.0, 0.0, 0.775, 0.0]}, 'based': {'query': [0.0, 0.0, 0.0, 0.775]}}\n"
     ]
    }
   ],
   "source": [
    "for d in ranking.get_documents():\n",
    "    print(f\"doc: {d.get_title()}\")\n",
    "    for s in d.get_sentences():\n",
    "        print(f\"vecinity matrix: {s.get_vicinity_matrix()}\")"
   ]
  },
  {
   "cell_type": "code",
   "execution_count": 8,
   "metadata": {},
   "outputs": [
    {
     "name": "stdout",
     "output_type": "stream",
     "text": [
      "SUBQUERY: (((((literature OR document) OR information) OR data) AND (retrieval OR retrieve)) OR (search AND engine)) AND (query AND ((expansion OR refinement) OR reformulation))\n",
      "TERM: increase ; PONDERATION: 4.1 ; DISTANCE: 2.4\n",
      "TERM: using ; PONDERATION: 3.9 ; DISTANCE: 2.0\n",
      "TERM: technique ; PONDERATION: 3.9 ; DISTANCE: 2.0\n",
      "TERM: learning ; PONDERATION: 3.8 ; DISTANCE: 3.0\n",
      "TERM: behavior ; PONDERATION: 3.8 ; DISTANCE: 3.0\n",
      "TERM: proximity ; PONDERATION: 3.7 ; DISTANCE: 2.5\n",
      "TERM: search ; PONDERATION: 3.6 ; DISTANCE: 3.5\n",
      "TERM: bangla ; PONDERATION: 3.5 ; DISTANCE: 1.5\n",
      "TERM: urdu ; PONDERATION: 3.3 ; DISTANCE: 2.5\n",
      "TERM: precision ; PONDERATION: 3.3 ; DISTANCE: 2.0\n"
     ]
    }
   ],
   "source": [
    "#Show graphs from the ranking class\n",
    "print(ranking.get_graph())"
   ]
  },
  {
   "cell_type": "code",
   "execution_count": 9,
   "metadata": {},
   "outputs": [
    {
     "name": "stderr",
     "output_type": "stream",
     "text": [
      "Warning: node '0', graph 'G' size too small for label\n"
     ]
    },
    {
     "data": {
      "image/svg+xml": [
       "<?xml version=\"1.0\" encoding=\"UTF-8\" standalone=\"no\"?>\n",
       "<!DOCTYPE svg PUBLIC \"-//W3C//DTD SVG 1.1//EN\"\n",
       " \"http://www.w3.org/Graphics/SVG/1.1/DTD/svg11.dtd\">\n",
       "<!-- Generated by graphviz version 10.0.1 (20240210.2158)\n",
       " -->\n",
       "<!-- Title: G Pages: 1 -->\n",
       "<svg width=\"58pt\" height=\"58pt\"\n",
       " viewBox=\"0.00 0.00 58.40 58.40\" xmlns=\"http://www.w3.org/2000/svg\" xmlns:xlink=\"http://www.w3.org/1999/xlink\">\n",
       "<g id=\"graph0\" class=\"graph\" transform=\"scale(1 1) rotate(0) translate(4 54.4)\">\n",
       "<title>G</title>\n",
       "<polygon fill=\"white\" stroke=\"none\" points=\"-4,4 -4,-54.4 54.4,-54.4 54.4,4 -4,4\"/>\n",
       "<!-- 0 -->\n",
       "<g id=\"node1\" class=\"node\">\n",
       "<title>0</title>\n",
       "<ellipse fill=\"#c1cdcd\" stroke=\"black\" cx=\"25.2\" cy=\"-25.2\" rx=\"25.2\" ry=\"25.2\"/>\n",
       "<text text-anchor=\"middle\" x=\"25.2\" y=\"-21.32\" font-family=\"Times New Roman,serif\" font-size=\"10.00\">(((((literature OR document) OR information) OR data) AND (retrieval OR retrieve)) OR (search AND engine)) AND (query AND ((expansion OR refinement) OR reformulation))</text>\n",
       "</g>\n",
       "</g>\n",
       "</svg>\n"
      ],
      "text/plain": [
       "<graphviz.graphs.Graph at 0x24fca3c3170>"
      ]
     },
     "execution_count": 9,
     "metadata": {},
     "output_type": "execute_result"
    }
   ],
   "source": [
    "visual_graph1 = ranking.get_document_by_ranking_position(1).get_graph().get_graph_viz('0.7', 'deepskyblue')\n",
    "visual_graph1"
   ]
  },
  {
   "cell_type": "code",
   "execution_count": 10,
   "metadata": {},
   "outputs": [
    {
     "name": "stderr",
     "output_type": "stream",
     "text": [
      "Warning: node '0', graph 'G' size too small for label\n"
     ]
    },
    {
     "data": {
      "image/svg+xml": [
       "<?xml version=\"1.0\" encoding=\"UTF-8\" standalone=\"no\"?>\n",
       "<!DOCTYPE svg PUBLIC \"-//W3C//DTD SVG 1.1//EN\"\n",
       " \"http://www.w3.org/Graphics/SVG/1.1/DTD/svg11.dtd\">\n",
       "<!-- Generated by graphviz version 10.0.1 (20240210.2158)\n",
       " -->\n",
       "<!-- Title: G Pages: 1 -->\n",
       "<svg width=\"196pt\" height=\"307pt\"\n",
       " viewBox=\"0.00 0.00 196.09 306.70\" xmlns=\"http://www.w3.org/2000/svg\" xmlns:xlink=\"http://www.w3.org/1999/xlink\">\n",
       "<g id=\"graph0\" class=\"graph\" transform=\"scale(1 1) rotate(0) translate(4 302.7)\">\n",
       "<title>G</title>\n",
       "<polygon fill=\"white\" stroke=\"none\" points=\"-4,4 -4,-302.7 192.09,-302.7 192.09,4 -4,4\"/>\n",
       "<!-- 0 -->\n",
       "<g id=\"node1\" class=\"node\">\n",
       "<title>0</title>\n",
       "<ellipse fill=\"#c1cdcd\" stroke=\"black\" cx=\"68.63\" cy=\"-135.22\" rx=\"25.2\" ry=\"25.2\"/>\n",
       "<text text-anchor=\"middle\" x=\"68.63\" y=\"-131.34\" font-family=\"Times New Roman,serif\" font-size=\"10.00\">(((((literature OR document) OR information) OR data) AND (retrieval OR retrieve)) OR (search AND engine)) AND (query AND ((expansion OR refinement) OR reformulation))</text>\n",
       "</g>\n",
       "<!-- &#39;1&#39; -->\n",
       "<g id=\"node2\" class=\"node\">\n",
       "<title>&#39;1&#39;</title>\n",
       "<ellipse fill=\"none\" stroke=\"deepskyblue\" stroke-width=\"3.9\" cx=\"25.2\" cy=\"-273.5\" rx=\"25.2\" ry=\"25.2\"/>\n",
       "<text text-anchor=\"middle\" x=\"25.2\" y=\"-269.62\" font-family=\"Times New Roman,serif\" font-size=\"10.00\">using</text>\n",
       "</g>\n",
       "<!-- 0&#45;&#45;&#39;1&#39; -->\n",
       "<g id=\"edge1\" class=\"edge\">\n",
       "<title>0&#45;&#45;&#39;1&#39;</title>\n",
       "<path fill=\"none\" stroke=\"black\" d=\"M60.97,-159.62C53.13,-184.59 41,-223.19 33.08,-248.4\"/>\n",
       "<text text-anchor=\"middle\" x=\"38.4\" y=\"-206.46\" font-family=\"Times New Roman,serif\" font-size=\"14.00\">2.0</text>\n",
       "</g>\n",
       "<!-- &#39;2&#39; -->\n",
       "<g id=\"node3\" class=\"node\">\n",
       "<title>&#39;2&#39;</title>\n",
       "<ellipse fill=\"none\" stroke=\"deepskyblue\" stroke-width=\"3.9\" cx=\"162.89\" cy=\"-25.2\" rx=\"25.2\" ry=\"25.2\"/>\n",
       "<text text-anchor=\"middle\" x=\"162.89\" y=\"-21.32\" font-family=\"Times New Roman,serif\" font-size=\"10.00\">technique</text>\n",
       "</g>\n",
       "<!-- 0&#45;&#45;&#39;2&#39; -->\n",
       "<g id=\"edge2\" class=\"edge\">\n",
       "<title>0&#45;&#45;&#39;2&#39;</title>\n",
       "<path fill=\"none\" stroke=\"black\" d=\"M85.27,-115.8C102.28,-95.94 128.6,-65.22 145.78,-45.16\"/>\n",
       "<text text-anchor=\"middle\" x=\"106.9\" y=\"-82.93\" font-family=\"Times New Roman,serif\" font-size=\"14.00\">2.0</text>\n",
       "</g>\n",
       "</g>\n",
       "</svg>\n"
      ],
      "text/plain": [
       "<graphviz.graphs.Graph at 0x24fca029760>"
      ]
     },
     "execution_count": 10,
     "metadata": {},
     "output_type": "execute_result"
    }
   ],
   "source": [
    "visual_graph2 = ranking.get_document_by_ranking_position(2).get_graph().get_graph_viz('0.7', 'deepskyblue')\n",
    "visual_graph2"
   ]
  },
  {
   "cell_type": "code",
   "execution_count": 18,
   "metadata": {},
   "outputs": [
    {
     "name": "stderr",
     "output_type": "stream",
     "text": [
      "Warning: node '0', graph 'G' size too small for label\n"
     ]
    },
    {
     "data": {
      "image/svg+xml": [
       "<?xml version=\"1.0\" encoding=\"UTF-8\" standalone=\"no\"?>\n",
       "<!DOCTYPE svg PUBLIC \"-//W3C//DTD SVG 1.1//EN\"\n",
       " \"http://www.w3.org/Graphics/SVG/1.1/DTD/svg11.dtd\">\n",
       "<!-- Generated by graphviz version 10.0.1 (20240210.2158)\n",
       " -->\n",
       "<!-- Title: G Pages: 1 -->\n",
       "<svg width=\"491pt\" height=\"495pt\"\n",
       " viewBox=\"0.00 0.00 490.98 495.37\" xmlns=\"http://www.w3.org/2000/svg\" xmlns:xlink=\"http://www.w3.org/1999/xlink\">\n",
       "<g id=\"graph0\" class=\"graph\" transform=\"scale(1 1) rotate(0) translate(4 491.37)\">\n",
       "<title>G</title>\n",
       "<polygon fill=\"white\" stroke=\"none\" points=\"-4,4 -4,-491.37 486.98,-491.37 486.98,4 -4,4\"/>\n",
       "<!-- 0 -->\n",
       "<g id=\"node1\" class=\"node\">\n",
       "<title>0</title>\n",
       "<ellipse fill=\"#c1cdcd\" stroke=\"black\" cx=\"227.89\" cy=\"-208.62\" rx=\"25.2\" ry=\"25.2\"/>\n",
       "<text text-anchor=\"middle\" x=\"227.89\" y=\"-204.75\" font-family=\"Times New Roman,serif\" font-size=\"10.00\">(((((literature OR document) OR information) OR data) AND (retrieval OR retrieve)) OR (search AND engine)) AND (query AND ((expansion OR refinement) OR reformulation))</text>\n",
       "</g>\n",
       "<!-- &#39;1&#39; -->\n",
       "<g id=\"node2\" class=\"node\">\n",
       "<title>&#39;1&#39;</title>\n",
       "<ellipse fill=\"none\" stroke=\"deepskyblue\" stroke-width=\"4.12\" cx=\"48.43\" cy=\"-283.15\" rx=\"25.2\" ry=\"25.2\"/>\n",
       "<text text-anchor=\"middle\" x=\"48.43\" y=\"-279.28\" font-family=\"Times New Roman,serif\" font-size=\"10.00\">increase</text>\n",
       "</g>\n",
       "<!-- 0&#45;&#45;&#39;1&#39; -->\n",
       "<g id=\"edge1\" class=\"edge\">\n",
       "<title>0&#45;&#45;&#39;1&#39;</title>\n",
       "<path fill=\"none\" stroke=\"black\" d=\"M204.43,-218.36C170.51,-232.45 108.05,-258.39 73.34,-272.81\"/>\n",
       "<text text-anchor=\"middle\" x=\"130.26\" y=\"-248.04\" font-family=\"Times New Roman,serif\" font-size=\"14.00\">2.4</text>\n",
       "</g>\n",
       "<!-- &#39;2&#39; -->\n",
       "<g id=\"node3\" class=\"node\">\n",
       "<title>&#39;2&#39;</title>\n",
       "<ellipse fill=\"none\" stroke=\"deepskyblue\" stroke-width=\"3.9\" cx=\"388.87\" cy=\"-213.87\" rx=\"25.2\" ry=\"25.2\"/>\n",
       "<text text-anchor=\"middle\" x=\"388.87\" y=\"-210\" font-family=\"Times New Roman,serif\" font-size=\"10.00\">using</text>\n",
       "</g>\n",
       "<!-- 0&#45;&#45;&#39;2&#39; -->\n",
       "<g id=\"edge2\" class=\"edge\">\n",
       "<title>0&#45;&#45;&#39;2&#39;</title>\n",
       "<path fill=\"none\" stroke=\"black\" d=\"M253.4,-209.45C283.19,-210.42 332.22,-212.02 362.41,-213.01\"/>\n",
       "<text text-anchor=\"middle\" x=\"299.28\" y=\"-213.68\" font-family=\"Times New Roman,serif\" font-size=\"14.00\">2.0</text>\n",
       "</g>\n",
       "<!-- &#39;3&#39; -->\n",
       "<g id=\"node4\" class=\"node\">\n",
       "<title>&#39;3&#39;</title>\n",
       "<ellipse fill=\"none\" stroke=\"deepskyblue\" stroke-width=\"3.9\" cx=\"255.44\" cy=\"-347.93\" rx=\"25.2\" ry=\"25.2\"/>\n",
       "<text text-anchor=\"middle\" x=\"255.44\" y=\"-344.05\" font-family=\"Times New Roman,serif\" font-size=\"10.00\">technique</text>\n",
       "</g>\n",
       "<!-- 0&#45;&#45;&#39;3&#39; -->\n",
       "<g id=\"edge3\" class=\"edge\">\n",
       "<title>0&#45;&#45;&#39;3&#39;</title>\n",
       "<path fill=\"none\" stroke=\"black\" d=\"M232.82,-233.53C237.74,-258.41 245.28,-296.52 250.28,-321.82\"/>\n",
       "<text text-anchor=\"middle\" x=\"232.92\" y=\"-280.12\" font-family=\"Times New Roman,serif\" font-size=\"14.00\">2.0</text>\n",
       "</g>\n",
       "<!-- &#39;4&#39; -->\n",
       "<g id=\"node5\" class=\"node\">\n",
       "<title>&#39;4&#39;</title>\n",
       "<ellipse fill=\"none\" stroke=\"deepskyblue\" stroke-width=\"3.8\" cx=\"457.78\" cy=\"-372.68\" rx=\"25.2\" ry=\"25.2\"/>\n",
       "<text text-anchor=\"middle\" x=\"457.78\" y=\"-368.8\" font-family=\"Times New Roman,serif\" font-size=\"10.00\">learning</text>\n",
       "</g>\n",
       "<!-- 0&#45;&#45;&#39;4&#39; -->\n",
       "<g id=\"edge4\" class=\"edge\">\n",
       "<title>0&#45;&#45;&#39;4&#39;</title>\n",
       "<path fill=\"none\" stroke=\"black\" d=\"M248.7,-223.47C292.14,-254.47 392.08,-325.79 436.19,-357.27\"/>\n",
       "<text text-anchor=\"middle\" x=\"333.82\" y=\"-292.82\" font-family=\"Times New Roman,serif\" font-size=\"14.00\">3.0</text>\n",
       "</g>\n",
       "<!-- &#39;5&#39; -->\n",
       "<g id=\"node6\" class=\"node\">\n",
       "<title>&#39;5&#39;</title>\n",
       "<ellipse fill=\"none\" stroke=\"deepskyblue\" stroke-width=\"3.8\" cx=\"129.91\" cy=\"-462.17\" rx=\"25.2\" ry=\"25.2\"/>\n",
       "<text text-anchor=\"middle\" x=\"129.91\" y=\"-458.3\" font-family=\"Times New Roman,serif\" font-size=\"10.00\">behavior</text>\n",
       "</g>\n",
       "<!-- 0&#45;&#45;&#39;5&#39; -->\n",
       "<g id=\"edge5\" class=\"edge\">\n",
       "<title>0&#45;&#45;&#39;5&#39;</title>\n",
       "<path fill=\"none\" stroke=\"black\" d=\"M218.68,-232.47C200.1,-280.55 158.32,-388.66 139.46,-437.45\"/>\n",
       "<text text-anchor=\"middle\" x=\"170.45\" y=\"-337.41\" font-family=\"Times New Roman,serif\" font-size=\"14.00\">3.0</text>\n",
       "</g>\n",
       "<!-- &#39;6&#39; -->\n",
       "<g id=\"node7\" class=\"node\">\n",
       "<title>&#39;6&#39;</title>\n",
       "<ellipse fill=\"none\" stroke=\"deepskyblue\" stroke-width=\"3.7\" cx=\"384.46\" cy=\"-25.2\" rx=\"25.2\" ry=\"25.2\"/>\n",
       "<text text-anchor=\"middle\" x=\"384.46\" y=\"-21.32\" font-family=\"Times New Roman,serif\" font-size=\"10.00\">proximity</text>\n",
       "</g>\n",
       "<!-- 0&#45;&#45;&#39;6&#39; -->\n",
       "<g id=\"edge6\" class=\"edge\">\n",
       "<title>0&#45;&#45;&#39;6&#39;</title>\n",
       "<path fill=\"none\" stroke=\"black\" d=\"M244.35,-189.34C274.19,-154.39 336.91,-80.9 367.27,-45.33\"/>\n",
       "<text text-anchor=\"middle\" x=\"314.44\" y=\"-119.79\" font-family=\"Times New Roman,serif\" font-size=\"14.00\">2.5</text>\n",
       "</g>\n",
       "<!-- &#39;7&#39; -->\n",
       "<g id=\"node8\" class=\"node\">\n",
       "<title>&#39;7&#39;</title>\n",
       "<ellipse fill=\"none\" stroke=\"deepskyblue\" stroke-width=\"3.5\" cx=\"265.7\" cy=\"-121.49\" rx=\"25.2\" ry=\"25.2\"/>\n",
       "<text text-anchor=\"middle\" x=\"265.7\" y=\"-117.62\" font-family=\"Times New Roman,serif\" font-size=\"10.00\">bangla</text>\n",
       "</g>\n",
       "<!-- 0&#45;&#45;&#39;7&#39; -->\n",
       "<g id=\"edge7\" class=\"edge\">\n",
       "<title>0&#45;&#45;&#39;7&#39;</title>\n",
       "<path fill=\"none\" stroke=\"black\" d=\"M238.02,-185.27C243.32,-173.07 249.79,-158.16 255.14,-145.82\"/>\n",
       "<text text-anchor=\"middle\" x=\"237.96\" y=\"-168\" font-family=\"Times New Roman,serif\" font-size=\"14.00\">1.5</text>\n",
       "</g>\n",
       "<!-- &#39;8&#39; -->\n",
       "<g id=\"node9\" class=\"node\">\n",
       "<title>&#39;8&#39;</title>\n",
       "<ellipse fill=\"none\" stroke=\"deepskyblue\" stroke-width=\"3.3\" cx=\"25.2\" cy=\"-119\" rx=\"25.2\" ry=\"25.2\"/>\n",
       "<text text-anchor=\"middle\" x=\"25.2\" y=\"-115.12\" font-family=\"Times New Roman,serif\" font-size=\"10.00\">urdu</text>\n",
       "</g>\n",
       "<!-- 0&#45;&#45;&#39;8&#39; -->\n",
       "<g id=\"edge8\" class=\"edge\">\n",
       "<title>0&#45;&#45;&#39;8&#39;</title>\n",
       "<path fill=\"none\" stroke=\"black\" d=\"M204.64,-198.34C165.96,-181.24 88.76,-147.1 49.44,-129.71\"/>\n",
       "<text text-anchor=\"middle\" x=\"118.41\" y=\"-166.48\" font-family=\"Times New Roman,serif\" font-size=\"14.00\">2.5</text>\n",
       "</g>\n",
       "<!-- &#39;9&#39; -->\n",
       "<g id=\"node10\" class=\"node\">\n",
       "<title>&#39;9&#39;</title>\n",
       "<ellipse fill=\"none\" stroke=\"deepskyblue\" stroke-width=\"3.3\" cx=\"161.94\" cy=\"-50.31\" rx=\"25.2\" ry=\"25.2\"/>\n",
       "<text text-anchor=\"middle\" x=\"161.94\" y=\"-46.43\" font-family=\"Times New Roman,serif\" font-size=\"10.00\">precision</text>\n",
       "</g>\n",
       "<!-- 0&#45;&#45;&#39;9&#39; -->\n",
       "<g id=\"edge9\" class=\"edge\">\n",
       "<title>0&#45;&#45;&#39;9&#39;</title>\n",
       "<path fill=\"none\" stroke=\"black\" d=\"M218.02,-184.92C205.69,-155.33 184.71,-104.98 172.2,-74.95\"/>\n",
       "<text text-anchor=\"middle\" x=\"186.49\" y=\"-132.39\" font-family=\"Times New Roman,serif\" font-size=\"14.00\">2.0</text>\n",
       "</g>\n",
       "</g>\n",
       "</svg>\n"
      ],
      "text/plain": [
       "<graphviz.graphs.Graph at 0x24fcf7fb8c0>"
      ]
     },
     "execution_count": 18,
     "metadata": {},
     "output_type": "execute_result"
    }
   ],
   "source": [
    "visual_graph = ranking.get_graph().get_graph_viz('0.7', 'deepskyblue')\n",
    "visual_graph"
   ]
  },
  {
   "cell_type": "code",
   "execution_count": 12,
   "metadata": {},
   "outputs": [
    {
     "data": {
      "text/plain": [
       "0.35702902674725095"
      ]
     },
     "execution_count": 12,
     "metadata": {},
     "output_type": "execute_result"
    }
   ],
   "source": [
    "ranking.get_graph().get_cosine_similarity(ranking.get_document_by_ranking_position(2).get_graph())"
   ]
  }
 ],
 "metadata": {
  "kernelspec": {
   "display_name": "py312",
   "language": "python",
   "name": "python3"
  },
  "language_info": {
   "codemirror_mode": {
    "name": "ipython",
    "version": 3
   },
   "file_extension": ".py",
   "mimetype": "text/x-python",
   "name": "python",
   "nbconvert_exporter": "python",
   "pygments_lexer": "ipython3",
   "version": "3.12.2"
  }
 },
 "nbformat": 4,
 "nbformat_minor": 4
}
