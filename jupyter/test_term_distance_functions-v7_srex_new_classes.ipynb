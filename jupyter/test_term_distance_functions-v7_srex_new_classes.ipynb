{
 "cells": [
  {
   "cell_type": "markdown",
   "metadata": {},
   "source": [
    "# Testing GraphSearch Distance Concepts"
   ]
  },
  {
   "cell_type": "markdown",
   "metadata": {},
   "source": [
    "## Load Libraries"
   ]
  },
  {
   "cell_type": "code",
   "execution_count": 1,
   "metadata": {},
   "outputs": [
    {
     "name": "stderr",
     "output_type": "stream",
     "text": [
      "[nltk_data] Downloading package stopwords to\n",
      "[nltk_data]     C:\\Users\\kianu\\AppData\\Roaming\\nltk_data...\n",
      "[nltk_data]   Package stopwords is already up-to-date!\n",
      "[nltk_data] Downloading package punkt to\n",
      "[nltk_data]     C:\\Users\\kianu\\AppData\\Roaming\\nltk_data...\n",
      "[nltk_data]   Package punkt is already up-to-date!\n",
      "[nltk_data] Downloading package wordnet to\n",
      "[nltk_data]     C:\\Users\\kianu\\AppData\\Roaming\\nltk_data...\n",
      "[nltk_data]   Package wordnet is already up-to-date!\n"
     ]
    },
    {
     "data": {
      "text/plain": [
       "True"
      ]
     },
     "execution_count": 1,
     "metadata": {},
     "output_type": "execute_result"
    }
   ],
   "source": [
    "import srex_new_classes\n",
    "from srex_new_classes import BooleanOperation, Operation\n",
    "from stop_words import get_stop_words\n",
    "import nltk\n",
    "from nltk.corpus import stopwords\n",
    "\n",
    "#Download stopword\n",
    "nltk.download('stopwords') \n",
    "nltk.download('punkt') # Tokenizers\n",
    "nltk.download('wordnet') # Wordnet"
   ]
  },
  {
   "cell_type": "markdown",
   "metadata": {},
   "source": [
    "## Initialize some variables"
   ]
  },
  {
   "cell_type": "code",
   "execution_count": 2,
   "metadata": {},
   "outputs": [],
   "source": [
    "# Stop Words\n",
    "stop_words_list = stopwords.words('english') #a small one\n",
    "newStopWords = get_stop_words('en') # a big one\n",
    "stop_words_list.extend(newStopWords) # all together"
   ]
  },
  {
   "cell_type": "code",
   "execution_count": 3,
   "metadata": {},
   "outputs": [],
   "source": [
    "query                    = 'internet of things'\n",
    "reference_terms          = BooleanOperation(Operation.UNION, [\"iot\", \"internet of things\"])\n",
    "nr_search_results        = 10\n",
    "\n",
    "ranking_weight_type      = 'linear' # it can be: 'none', 'linear' or 'inverse'\n",
    "lema                     = True\n",
    "stem                     = False\n",
    "sumarize                 = 'none' \n",
    "nr_of_graph_terms        = 5\n",
    "limit_distance           = 4 \n",
    "include_reference_terms  = True\n",
    "format_adjacent_refterms = True"
   ]
  },
  {
   "cell_type": "code",
   "execution_count": 4,
   "metadata": {},
   "outputs": [],
   "source": [
    "ranking = srex_new_classes.Ranking(query_text=query, reference_terms=reference_terms, nr_search_results=nr_search_results, ranking_weight_type=ranking_weight_type,\n",
    "                                   stop_words=stop_words_list, lema=lema, stem=stem)"
   ]
  },
  {
   "cell_type": "code",
   "execution_count": 5,
   "metadata": {},
   "outputs": [],
   "source": [
    "ranking.set_graph_attributes_to_ranking_and_documents(nr_of_graph_terms, limit_distance, include_reference_terms, format_adjacent_refterms)"
   ]
  },
  {
   "cell_type": "code",
   "execution_count": 6,
   "metadata": {},
   "outputs": [
    {
     "name": "stdout",
     "output_type": "stream",
     "text": [
      "internet thing security multilayered method end end data communication cellular network\n",
      "aim paper put forth multilayered method securing data transport cellular connected internet thing device host cellular network\n",
      "\n",
      "assiut iot remotely accessible testbed internet thing\n",
      "\n",
      "paper introduce basic architecture assiut iot remotely accessible testbed designed iot application\n",
      "testbed adopts experiment service eaas model provides suitable easy way remotely implement experiment related iot application\n",
      "\n",
      "\n",
      "tornado enabling blockchain heterogeneous internet thing approach\n",
      "widespread application internet thing iot smart city business healthcare security data device becomes major concern\n",
      "although blockchain effectively enhance network security achieve fault tolerance huge resource consumption limited performance data processing restrict deployment iot scenario\n",
      "observing heterogeneity resource constraint intend make blockchain accommodate wimpy brawny iot device\n",
      "article present tornado blockchain system based ledger corresponding algorithm enable blockchain iot\n",
      "\n",
      "address huge heterogeneity iot novel consensus mechanism named work developed\n",
      "moreover propose greedy subtree s2ghost protocol improving resource efficiency iot device\n",
      "\n",
      "\n",
      "\n",
      "internet thing environment automation smart lab practical approach\n",
      "\n",
      "\n",
      "\n",
      "\n",
      "\n",
      "\n",
      "anomaly data detection approach wireless sensor internet thing\n",
      "nowadays internet thing iot widely employed different application health care manufacturing weather forecasting\n",
      "however due sensor sensitivity potential harsh environmental interference deception iot data normally apt imperfect erroneous\n",
      "\n",
      "\n",
      "intelligent internet thing service based artificial intelligence technology\n",
      "\n",
      "future help artificial intelligence technology big data technology 5g new technology increase internet usage focus internet connection shift connection internet thing connection\n",
      "\n",
      "\n",
      "application internet thing alleviated negative effect epidemic made important contribution economic development\n",
      "making internet thing real\n",
      "internet thing iot driving next wave innovation business model technology\n",
      "iot revolution called promise major driver economic activity many business coming onboard approached business technology perspective together desired outcome may always achieved\n",
      "article take fresh look iot business revolution driven technology\n",
      "key contribution definition business technology driver need considered choice made adoption iot business\n",
      "\n",
      "opportunistic cyberphysical service novel paradigm future internet thing\n",
      "service paramount importance unfolding potential future internet thing iot dense open cyberphysical ecosystem human conventional computing system daily object straightforwardly interoperate\n",
      "summarizing previous contribution novel research context paper promotes vision opportunistic iot service approach modeling according opportunistic property\n",
      "effectiveness flexibility illustrated mean two case study related industrial iot smart city scenario\n",
      "practical application machine learning based online intrusion detection internet thing network\n",
      "internet thing iot device participate open distributed perception layer vulnerability cyber attack becoming key concern data privacy service availability\n",
      "\n",
      "additional challenge iot network continuous data stream due variable nature likely experience concept drift\n",
      "research aimed review practical application online machine learning method iot network intrusion detection answer question resource efficient architecture provided online learning architecture introduced related id approach reviewed evaluated\n",
      "online learning provides potential memory time efficient architecture adapt concept drift perform anomaly detection providing solution resource constrained distributed iot perception layer\n",
      "\n",
      "framework security protection internet thing iot device\n",
      "day internet thing iot transformed extreme ponder created stride practically field human life\n",
      "examination paper give survey internet thing engaging development security issue creating application remote progression\n",
      "enormous number employment internet thing essentially aspect life\n",
      "therapeutic administration collaboration generation organize organization savvy condition social application et cetera thusly security fundamental stress remote framework accordingly one rule issue internet thing\n",
      "following paper provide layout various security stress internet thing system peril identified challenge framework protect iot device security issue\n"
     ]
    }
   ],
   "source": [
    "for d in ranking.get_documents():\n",
    "    for s in d.get_sentences():\n",
    "        print(s.get_processed_text())"
   ]
  }
 ],
 "metadata": {
  "kernelspec": {
   "display_name": "Python 3",
   "language": "python",
   "name": "python3"
  },
  "language_info": {
   "codemirror_mode": {
    "name": "ipython",
    "version": 3
   },
   "file_extension": ".py",
   "mimetype": "text/x-python",
   "name": "python",
   "nbconvert_exporter": "python",
   "pygments_lexer": "ipython3",
   "version": "3.12.2"
  }
 },
 "nbformat": 4,
 "nbformat_minor": 4
}
