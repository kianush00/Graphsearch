{
 "cells": [
  {
   "cell_type": "markdown",
   "metadata": {},
   "source": [
    "# Testing GraphSearch Distance Concepts"
   ]
  },
  {
   "cell_type": "markdown",
   "metadata": {},
   "source": [
    "## Load Libraries"
   ]
  },
  {
   "cell_type": "code",
   "execution_count": 1,
   "metadata": {},
   "outputs": [
    {
     "name": "stderr",
     "output_type": "stream",
     "text": [
      "[nltk_data] Downloading package stopwords to\n",
      "[nltk_data]     C:\\Users\\kianu\\AppData\\Roaming\\nltk_data...\n",
      "[nltk_data]   Package stopwords is already up-to-date!\n",
      "[nltk_data] Downloading package punkt to\n",
      "[nltk_data]     C:\\Users\\kianu\\AppData\\Roaming\\nltk_data...\n",
      "[nltk_data]   Package punkt is already up-to-date!\n",
      "[nltk_data] Downloading package wordnet to\n",
      "[nltk_data]     C:\\Users\\kianu\\AppData\\Roaming\\nltk_data...\n",
      "[nltk_data]   Package wordnet is already up-to-date!\n"
     ]
    },
    {
     "data": {
      "text/plain": [
       "True"
      ]
     },
     "execution_count": 1,
     "metadata": {},
     "output_type": "execute_result"
    }
   ],
   "source": [
    "import srex_new_classes\n",
    "from srex_new_classes import BooleanOperation, Operation\n",
    "from stop_words import get_stop_words\n",
    "import nltk\n",
    "from nltk.corpus import stopwords\n",
    "\n",
    "#Download stopword\n",
    "nltk.download('stopwords') \n",
    "nltk.download('punkt') # Tokenizers\n",
    "nltk.download('wordnet') # Wordnet"
   ]
  },
  {
   "cell_type": "markdown",
   "metadata": {},
   "source": [
    "## Initialize some variables"
   ]
  },
  {
   "cell_type": "code",
   "execution_count": 2,
   "metadata": {},
   "outputs": [],
   "source": [
    "# Stop Words\n",
    "stop_words_list = stopwords.words('english') #a small one\n",
    "newStopWords = get_stop_words('en') # a big one\n",
    "stop_words_list.extend(newStopWords) # all together"
   ]
  },
  {
   "cell_type": "code",
   "execution_count": 3,
   "metadata": {},
   "outputs": [],
   "source": [
    "query                    = 'internet of things'\n",
    "reference_terms          = BooleanOperation(Operation.UNION, [\"iot\", \"internet of things\"])\n",
    "nr_search_results        = 10\n",
    "\n",
    "ranking_weight_type      = 'linear' # it can be: 'none', 'linear' or 'inverse'\n",
    "lema                     = True\n",
    "stem                     = False\n",
    "sumarize                 = 'none' \n",
    "nr_of_graph_terms        = 5\n",
    "limit_distance           = 4 \n",
    "include_reference_terms  = True"
   ]
  },
  {
   "cell_type": "code",
   "execution_count": 4,
   "metadata": {},
   "outputs": [],
   "source": [
    "ranking = srex_new_classes.Ranking(query_text=query, reference_terms=reference_terms, nr_search_results=nr_search_results, ranking_weight_type=ranking_weight_type,\n",
    "                                   stop_words=stop_words_list, lema=lema, stem=stem)"
   ]
  },
  {
   "cell_type": "code",
   "execution_count": 5,
   "metadata": {},
   "outputs": [],
   "source": [
    "ranking.set_attributes_to_all_graphs_and_calculate_vicinity_matrix(nr_of_graph_terms, limit_distance, include_reference_terms)"
   ]
  },
  {
   "cell_type": "code",
   "execution_count": 6,
   "metadata": {},
   "outputs": [
    {
     "name": "stdout",
     "output_type": "stream",
     "text": [
      "doc: 8767227\n",
      "vecinity matrix: {'security': {'internetthing': [1.0, 0.0, 0.0, 0.0]}, 'multilayered': {'internetthing': [0.0, 1.0, 0.0, 0.0]}, 'method': {'internetthing': [0.0, 0.0, 1.0, 0.0]}, 'end': {'internetthing': [0.0, 0.0, 0.0, 1.0]}}\n",
      "vecinity matrix: {'data': {'internetthing': [0.0, 0.0, 0.0, 1.0]}, 'transport': {'internetthing': [0.0, 0.0, 1.0, 0.0]}, 'cellular': {'internetthing': [0.0, 1.0, 1.0, 0.0]}, 'connected': {'internetthing': [1.0, 0.0, 0.0, 0.0]}, 'device': {'internetthing': [1.0, 0.0, 0.0, 0.0]}, 'host': {'internetthing': [0.0, 1.0, 0.0, 0.0]}, 'network': {'internetthing': [0.0, 0.0, 0.0, 1.0]}}\n",
      "vecinity matrix: {}\n",
      "doc: 8620157\n",
      "vecinity matrix: {'assiut': {'iot': [0.95, 0.0, 0.0, 0.0]}, 'iot': {'internetthing': [0.0, 0.0, 0.0, 0.95]}, 'remotely': {'iot': [0.95, 0.0, 0.0, 0.0], 'internetthing': [0.0, 0.0, 0.95, 0.0]}, 'accessible': {'iot': [0.0, 0.95, 0.0, 0.0], 'internetthing': [0.0, 0.95, 0.0, 0.0]}, 'testbed': {'iot': [0.0, 0.0, 0.95, 0.0], 'internetthing': [0.95, 0.0, 0.0, 0.0]}, 'internetthing': {'iot': [0.0, 0.0, 0.0, 0.95]}}\n",
      "vecinity matrix: {}\n",
      "vecinity matrix: {'introduce': {'iot': [0.0, 0.0, 0.0, 0.95]}, 'basic': {'iot': [0.0, 0.0, 0.95, 0.0]}, 'architecture': {'iot': [0.0, 0.95, 0.0, 0.0]}, 'assiut': {'iot': [0.95, 0.0, 0.0, 0.0]}, 'remotely': {'iot': [0.95, 0.0, 0.0, 0.95]}, 'accessible': {'iot': [0.0, 0.95, 0.95, 0.0]}, 'testbed': {'iot': [0.0, 0.95, 0.95, 0.0]}, 'designed': {'iot': [0.95, 0.0, 0.0, 0.95]}, 'application': {'iot': [0.95, 0.0, 0.0, 0.0]}}\n",
      "vecinity matrix: {'experiment': {'iot': [0.0, 0.95, 0.0, 0.0]}, 'remotely': {'iot': [0.0, 0.0, 0.0, 0.95]}, 'implement': {'iot': [0.0, 0.0, 0.95, 0.0]}, 'related': {'iot': [0.95, 0.0, 0.0, 0.0]}, 'application': {'iot': [0.95, 0.0, 0.0, 0.0]}}\n",
      "vecinity matrix: {}\n",
      "vecinity matrix: {}\n",
      "doc: 8906043\n",
      "vecinity matrix: {'tornado': {'internetthing': [0.0, 0.0, 0.0, 0.9]}, 'enabling': {'internetthing': [0.0, 0.0, 0.9, 0.0]}, 'blockchain': {'internetthing': [0.0, 0.9, 0.0, 0.0]}, 'heterogeneous': {'internetthing': [0.9, 0.0, 0.0, 0.0]}, 'approach': {'internetthing': [0.9, 0.0, 0.0, 0.0]}}\n",
      "vecinity matrix: {'widespread': {'iot': [0.0, 0.0, 0.9, 0.0], 'internetthing': [0.0, 0.9, 0.0, 0.0]}, 'application': {'iot': [0.0, 0.9, 0.0, 0.0], 'internetthing': [0.9, 0.0, 0.0, 0.0]}, 'internetthing': {'iot': [0.9, 0.0, 0.0, 0.0]}, 'iot': {'internetthing': [0.9, 0.0, 0.0, 0.0]}, 'smart': {'iot': [0.9, 0.0, 0.0, 0.0], 'internetthing': [0.0, 0.9, 0.0, 0.0]}, 'city': {'iot': [0.0, 0.9, 0.0, 0.0], 'internetthing': [0.0, 0.0, 0.9, 0.0]}, 'business': {'iot': [0.0, 0.0, 0.9, 0.0], 'internetthing': [0.0, 0.0, 0.0, 0.9]}, 'healthcare': {'iot': [0.0, 0.0, 0.0, 0.9]}}\n",
      "vecinity matrix: {'data': {'iot': [0.0, 0.0, 0.0, 0.9]}, 'processing': {'iot': [0.0, 0.0, 0.9, 0.0]}, 'restrict': {'iot': [0.0, 0.9, 0.0, 0.0]}, 'deployment': {'iot': [0.9, 0.0, 0.0, 0.0]}, 'scenario': {'iot': [0.9, 0.0, 0.0, 0.0]}}\n",
      "vecinity matrix: {'blockchain': {'iot': [0.0, 0.0, 0.0, 0.9]}, 'accommodate': {'iot': [0.0, 0.0, 0.9, 0.0]}, 'wimpy': {'iot': [0.0, 0.9, 0.0, 0.0]}, 'brawny': {'iot': [0.9, 0.0, 0.0, 0.0]}, 'device': {'iot': [0.9, 0.0, 0.0, 0.0]}}\n",
      "vecinity matrix: {'blockchain': {'iot': [0.9, 0.0, 0.0, 0.0]}, 'corresponding': {'iot': [0.0, 0.0, 0.0, 0.9]}, 'algorithm': {'iot': [0.0, 0.0, 0.9, 0.0]}, 'enable': {'iot': [0.0, 0.9, 0.0, 0.0]}}\n",
      "vecinity matrix: {}\n",
      "vecinity matrix: {'address': {'iot': [0.0, 0.0, 0.9, 0.0]}, 'huge': {'iot': [0.0, 0.9, 0.0, 0.0]}, 'heterogeneity': {'iot': [0.9, 0.0, 0.0, 0.0]}, 'novel': {'iot': [0.9, 0.0, 0.0, 0.0]}, 'consensus': {'iot': [0.0, 0.9, 0.0, 0.0]}, 'mechanism': {'iot': [0.0, 0.0, 0.9, 0.0]}, 'named': {'iot': [0.0, 0.0, 0.0, 0.9]}}\n",
      "vecinity matrix: {'protocol': {'iot': [0.0, 0.0, 0.0, 0.9]}, 'improving': {'iot': [0.0, 0.0, 0.9, 0.0]}, 'resource': {'iot': [0.0, 0.9, 0.0, 0.0]}, 'efficiency': {'iot': [0.9, 0.0, 0.0, 0.0]}, 'device': {'iot': [0.9, 0.0, 0.0, 0.0]}}\n",
      "vecinity matrix: {}\n",
      "vecinity matrix: {}\n",
      "vecinity matrix: {}\n",
      "doc: 9759899\n",
      "vecinity matrix: {'environment': {'internetthing': [0.85, 0.0, 0.0, 0.0]}, 'automation': {'internetthing': [0.0, 0.85, 0.0, 0.0]}, 'smart': {'internetthing': [0.0, 0.0, 0.85, 0.0]}, 'lab': {'internetthing': [0.0, 0.0, 0.0, 0.85]}}\n",
      "vecinity matrix: {}\n",
      "vecinity matrix: {}\n",
      "vecinity matrix: {}\n",
      "vecinity matrix: {}\n",
      "vecinity matrix: {}\n",
      "vecinity matrix: {}\n",
      "doc: 9406548\n",
      "vecinity matrix: {'detection': {'internetthing': [0.0, 0.0, 0.0, 0.8]}, 'approach': {'internetthing': [0.0, 0.0, 0.8, 0.0]}, 'wireless': {'internetthing': [0.0, 0.8, 0.0, 0.0]}, 'sensor': {'internetthing': [0.8, 0.0, 0.0, 0.0]}}\n",
      "vecinity matrix: {'nowadays': {'iot': [0.0, 0.8, 0.0, 0.0], 'internetthing': [0.8, 0.0, 0.0, 0.0]}, 'internetthing': {'iot': [0.8, 0.0, 0.0, 0.0]}, 'iot': {'internetthing': [0.8, 0.0, 0.0, 0.0]}, 'widely': {'iot': [0.8, 0.0, 0.0, 0.0], 'internetthing': [0.0, 0.8, 0.0, 0.0]}, 'employed': {'iot': [0.0, 0.8, 0.0, 0.0], 'internetthing': [0.0, 0.0, 0.8, 0.0]}, 'different': {'iot': [0.0, 0.0, 0.8, 0.0], 'internetthing': [0.0, 0.0, 0.0, 0.8]}, 'application': {'iot': [0.0, 0.0, 0.0, 0.8]}}\n",
      "vecinity matrix: {'harsh': {'iot': [0.0, 0.0, 0.0, 0.8]}, 'environmental': {'iot': [0.0, 0.0, 0.8, 0.0]}, 'interference': {'iot': [0.0, 0.8, 0.0, 0.0]}, 'deception': {'iot': [0.8, 0.0, 0.0, 0.0]}, 'data': {'iot': [0.8, 0.0, 0.0, 0.0]}, 'normally': {'iot': [0.0, 0.8, 0.0, 0.0]}, 'apt': {'iot': [0.0, 0.0, 0.8, 0.0]}, 'imperfect': {'iot': [0.0, 0.0, 0.0, 0.8]}}\n",
      "vecinity matrix: {}\n",
      "vecinity matrix: {}\n",
      "doc: 9390061\n",
      "vecinity matrix: {'intelligent': {'internetthing': [0.75, 0.0, 0.0, 0.0]}, 'service': {'internetthing': [0.75, 0.0, 0.0, 0.0]}, 'based': {'internetthing': [0.0, 0.75, 0.0, 0.0]}, 'artificial': {'internetthing': [0.0, 0.0, 0.75, 0.0]}, 'intelligence': {'internetthing': [0.0, 0.0, 0.0, 0.75]}}\n",
      "vecinity matrix: {}\n",
      "vecinity matrix: {'internet': {'internetthing': [0.0, 0.0, 0.0, 0.75]}, 'connection': {'internetthing': [1.5, 0.0, 0.75, 0.0]}, 'shift': {'internetthing': [0.0, 0.75, 0.0, 0.0]}}\n",
      "vecinity matrix: {}\n",
      "vecinity matrix: {}\n",
      "vecinity matrix: {'application': {'internetthing': [0.75, 0.0, 0.0, 0.0]}, 'alleviated': {'internetthing': [0.75, 0.0, 0.0, 0.0]}, 'negative': {'internetthing': [0.0, 0.75, 0.0, 0.0]}, 'effect': {'internetthing': [0.0, 0.0, 0.75, 0.0]}, 'epidemic': {'internetthing': [0.0, 0.0, 0.0, 0.75]}}\n",
      "doc: 8835419\n",
      "vecinity matrix: {'making': {'internetthing': [0.7, 0.0, 0.0, 0.0]}, 'real': {'internetthing': [0.7, 0.0, 0.0, 0.0]}}\n",
      "vecinity matrix: {'internetthing': {'iot': [0.7, 0.0, 0.0, 0.0]}, 'iot': {'internetthing': [0.7, 0.0, 0.0, 0.0]}, 'driving': {'iot': [0.7, 0.0, 0.0, 0.0], 'internetthing': [0.0, 0.7, 0.0, 0.0]}, 'next': {'iot': [0.0, 0.7, 0.0, 0.0], 'internetthing': [0.0, 0.0, 0.7, 0.0]}, 'wave': {'iot': [0.0, 0.0, 0.7, 0.0], 'internetthing': [0.0, 0.0, 0.0, 0.7]}, 'innovation': {'iot': [0.0, 0.0, 0.0, 0.7]}}\n",
      "vecinity matrix: {'revolution': {'iot': [0.7, 0.0, 0.0, 0.0]}, 'called': {'iot': [0.0, 0.7, 0.0, 0.0]}, 'promise': {'iot': [0.0, 0.0, 0.7, 0.0]}, 'major': {'iot': [0.0, 0.0, 0.0, 0.7]}}\n",
      "vecinity matrix: {'article': {'iot': [0.0, 0.0, 0.0, 0.7]}, 'take': {'iot': [0.0, 0.0, 0.7, 0.0]}, 'fresh': {'iot': [0.0, 0.7, 0.0, 0.0]}, 'look': {'iot': [0.7, 0.0, 0.0, 0.0]}, 'business': {'iot': [0.7, 0.0, 0.0, 0.0]}, 'revolution': {'iot': [0.0, 0.7, 0.0, 0.0]}, 'driven': {'iot': [0.0, 0.0, 0.7, 0.0]}, 'technology': {'iot': [0.0, 0.0, 0.0, 0.7]}}\n",
      "vecinity matrix: {'business': {'iot': [0.7, 0.0, 0.0, 0.0]}, 'considered': {'iot': [0.0, 0.0, 0.0, 0.7]}, 'choice': {'iot': [0.0, 0.0, 0.7, 0.0]}, 'made': {'iot': [0.0, 0.7, 0.0, 0.0]}, 'adoption': {'iot': [0.7, 0.0, 0.0, 0.0]}}\n",
      "vecinity matrix: {}\n",
      "doc: 8355174\n",
      "vecinity matrix: {'service': {'internetthing': [0.0, 0.0, 0.0, 0.65]}, 'novel': {'internetthing': [0.0, 0.0, 0.65, 0.0]}, 'paradigm': {'internetthing': [0.0, 0.65, 0.0, 0.0]}, 'future': {'internetthing': [0.65, 0.0, 0.0, 0.0]}}\n",
      "vecinity matrix: {'importance': {'internetthing': [0.0, 0.0, 0.0, 0.65]}, 'unfolding': {'iot': [0.0, 0.0, 0.0, 0.65], 'internetthing': [0.0, 0.0, 0.65, 0.0]}, 'potential': {'iot': [0.0, 0.0, 0.65, 0.0], 'internetthing': [0.0, 0.65, 0.0, 0.0]}, 'future': {'iot': [0.0, 0.65, 0.0, 0.0], 'internetthing': [0.65, 0.0, 0.0, 0.0]}, 'internetthing': {'iot': [0.65, 0.0, 0.0, 0.0]}, 'iot': {'internetthing': [0.65, 0.0, 0.0, 0.0]}, 'dense': {'iot': [0.65, 0.0, 0.0, 0.0], 'internetthing': [0.0, 0.65, 0.0, 0.0]}, 'open': {'iot': [0.0, 0.65, 0.0, 0.0], 'internetthing': [0.0, 0.0, 0.65, 0.0]}, 'cyberphysical': {'iot': [0.0, 0.0, 0.65, 0.0], 'internetthing': [0.0, 0.0, 0.0, 0.65]}, 'ecosystem': {'iot': [0.0, 0.0, 0.0, 0.65]}}\n",
      "vecinity matrix: {'paper': {'iot': [0.0, 0.0, 0.0, 0.65]}, 'promotes': {'iot': [0.0, 0.0, 0.65, 0.0]}, 'vision': {'iot': [0.0, 0.65, 0.0, 0.0]}, 'opportunistic': {'iot': [0.65, 0.0, 0.0, 0.0]}, 'service': {'iot': [0.65, 0.0, 0.0, 0.0]}, 'approach': {'iot': [0.0, 0.65, 0.0, 0.0]}, 'modeling': {'iot': [0.0, 0.0, 0.65, 0.0]}, 'according': {'iot': [0.0, 0.0, 0.0, 0.65]}}\n",
      "vecinity matrix: {'case': {'iot': [0.0, 0.0, 0.0, 0.65]}, 'study': {'iot': [0.0, 0.0, 0.65, 0.0]}, 'related': {'iot': [0.0, 0.65, 0.0, 0.0]}, 'industrial': {'iot': [0.65, 0.0, 0.0, 0.0]}, 'smart': {'iot': [0.65, 0.0, 0.0, 0.0]}, 'city': {'iot': [0.0, 0.65, 0.0, 0.0]}, 'scenario': {'iot': [0.0, 0.0, 0.65, 0.0]}}\n",
      "doc: 9058410\n",
      "vecinity matrix: {'based': {'internetthing': [0.0, 0.0, 0.0, 0.6]}, 'online': {'internetthing': [0.0, 0.0, 0.6, 0.0]}, 'intrusion': {'internetthing': [0.0, 0.6, 0.0, 0.0]}, 'detection': {'internetthing': [0.6, 0.0, 0.0, 0.0]}, 'network': {'internetthing': [0.6, 0.0, 0.0, 0.0]}}\n",
      "vecinity matrix: {'internetthing': {'iot': [0.6, 0.0, 0.0, 0.0]}, 'iot': {'internetthing': [0.6, 0.0, 0.0, 0.0]}, 'device': {'iot': [0.6, 0.0, 0.0, 0.0], 'internetthing': [0.0, 0.6, 0.0, 0.0]}, 'participate': {'iot': [0.0, 0.6, 0.0, 0.0], 'internetthing': [0.0, 0.0, 0.6, 0.0]}, 'open': {'iot': [0.0, 0.0, 0.6, 0.0], 'internetthing': [0.0, 0.0, 0.0, 0.6]}, 'distributed': {'iot': [0.0, 0.0, 0.0, 0.6]}}\n",
      "vecinity matrix: {}\n",
      "vecinity matrix: {'additional': {'iot': [0.0, 0.6, 0.0, 0.0]}, 'challenge': {'iot': [0.6, 0.0, 0.0, 0.0]}, 'network': {'iot': [0.6, 0.0, 0.0, 0.0]}, 'continuous': {'iot': [0.0, 0.6, 0.0, 0.0]}, 'data': {'iot': [0.0, 0.0, 0.6, 0.0]}, 'stream': {'iot': [0.0, 0.0, 0.0, 0.6]}}\n",
      "vecinity matrix: {'online': {'iot': [0.0, 0.0, 0.0, 0.6]}, 'machine': {'iot': [0.0, 0.0, 0.6, 0.0]}, 'learning': {'iot': [0.0, 0.6, 0.0, 0.0]}, 'method': {'iot': [0.6, 0.0, 0.0, 0.0]}, 'network': {'iot': [0.6, 0.0, 0.0, 0.0]}, 'intrusion': {'iot': [0.0, 0.6, 0.0, 0.0]}, 'detection': {'iot': [0.0, 0.0, 0.6, 0.0]}, 'answer': {'iot': [0.0, 0.0, 0.0, 0.6]}}\n",
      "vecinity matrix: {'solution': {'iot': [0.0, 0.0, 0.0, 0.6]}, 'resource': {'iot': [0.0, 0.0, 0.6, 0.0]}, 'constrained': {'iot': [0.0, 0.6, 0.0, 0.0]}, 'distributed': {'iot': [0.6, 0.0, 0.0, 0.0]}, 'perception': {'iot': [0.6, 0.0, 0.0, 0.0]}, 'layer': {'iot': [0.0, 0.6, 0.0, 0.0]}}\n",
      "vecinity matrix: {}\n",
      "doc: 8668121\n",
      "vecinity matrix: {'framework': {'iot': [0.0, 0.0, 0.0, 0.55], 'internetthing': [0.0, 0.0, 0.55, 0.0]}, 'security': {'iot': [0.0, 0.0, 0.55, 0.0], 'internetthing': [0.0, 0.55, 0.0, 0.0]}, 'protection': {'iot': [0.0, 0.55, 0.0, 0.0], 'internetthing': [0.55, 0.0, 0.0, 0.0]}, 'internetthing': {'iot': [0.55, 0.0, 0.0, 0.0]}, 'iot': {'internetthing': [0.55, 0.0, 0.0, 0.0]}, 'device': {'iot': [0.55, 0.0, 0.0, 0.0], 'internetthing': [0.0, 0.55, 0.0, 0.0]}}\n",
      "vecinity matrix: {'day': {'iot': [0.0, 0.55, 0.0, 0.0], 'internetthing': [0.55, 0.0, 0.0, 0.0]}, 'internetthing': {'iot': [0.55, 0.0, 0.0, 0.0]}, 'iot': {'internetthing': [0.55, 0.0, 0.0, 0.0]}, 'transformed': {'iot': [0.55, 0.0, 0.0, 0.0], 'internetthing': [0.0, 0.55, 0.0, 0.0]}, 'extreme': {'iot': [0.0, 0.55, 0.0, 0.0], 'internetthing': [0.0, 0.0, 0.55, 0.0]}, 'ponder': {'iot': [0.0, 0.0, 0.55, 0.0], 'internetthing': [0.0, 0.0, 0.0, 0.55]}, 'created': {'iot': [0.0, 0.0, 0.0, 0.55]}}\n",
      "vecinity matrix: {'examination': {'internetthing': [0.0, 0.0, 0.0, 0.55]}, 'paper': {'internetthing': [0.0, 0.0, 0.55, 0.0]}, 'give': {'internetthing': [0.0, 0.55, 0.0, 0.0]}, 'survey': {'internetthing': [0.55, 0.0, 0.0, 0.0]}, 'engaging': {'internetthing': [0.55, 0.0, 0.0, 0.0]}, 'development': {'internetthing': [0.0, 0.55, 0.0, 0.0]}, 'security': {'internetthing': [0.0, 0.0, 0.55, 0.0]}, 'issue': {'internetthing': [0.0, 0.0, 0.0, 0.55]}}\n",
      "vecinity matrix: {'enormous': {'internetthing': [0.0, 0.0, 0.55, 0.0]}, 'number': {'internetthing': [0.0, 0.55, 0.0, 0.0]}, 'employment': {'internetthing': [0.55, 0.0, 0.0, 0.0]}, 'essentially': {'internetthing': [0.55, 0.0, 0.0, 0.0]}, 'aspect': {'internetthing': [0.0, 0.55, 0.0, 0.0]}, 'life': {'internetthing': [0.0, 0.0, 0.55, 0.0]}}\n",
      "vecinity matrix: {'accordingly': {'internetthing': [0.0, 0.0, 0.0, 0.55]}, 'one': {'internetthing': [0.0, 0.0, 0.55, 0.0]}, 'rule': {'internetthing': [0.0, 0.55, 0.0, 0.0]}, 'issue': {'internetthing': [0.55, 0.0, 0.0, 0.0]}}\n",
      "vecinity matrix: {'layout': {'internetthing': [0.0, 0.0, 0.0, 0.55]}, 'various': {'internetthing': [0.0, 0.0, 0.55, 0.0]}, 'security': {'iot': [0.0, 0.55, 0.0, 0.0], 'internetthing': [0.0, 0.55, 0.0, 0.0]}, 'stress': {'internetthing': [0.55, 0.0, 0.0, 0.0]}, 'system': {'internetthing': [0.55, 0.0, 0.0, 0.0]}, 'peril': {'internetthing': [0.0, 0.55, 0.0, 0.0]}, 'identified': {'iot': [0.0, 0.0, 0.0, 0.55], 'internetthing': [0.0, 0.0, 0.55, 0.0]}, 'challenge': {'iot': [0.0, 0.0, 0.55, 0.0], 'internetthing': [0.0, 0.0, 0.0, 0.55]}, 'framework': {'iot': [0.0, 0.55, 0.0, 0.0]}, 'protect': {'iot': [0.55, 0.0, 0.0, 0.0]}, 'device': {'iot': [0.55, 0.0, 0.0, 0.0]}, 'issue': {'iot': [0.0, 0.0, 0.55, 0.0]}}\n"
     ]
    }
   ],
   "source": [
    "for d in ranking.get_documents():\n",
    "    print(f\"doc: {d.get_doc_id()}\")\n",
    "    for s in d.get_sentences():\n",
    "        print(f\"vecinity matrix: {s.get_vicinity_matrix()}\")"
   ]
  },
  {
   "cell_type": "code",
   "execution_count": 7,
   "metadata": {},
   "outputs": [],
   "source": [
    "ranking.generate_nodes_of_all_graphs()"
   ]
  }
 ],
 "metadata": {
  "kernelspec": {
   "display_name": "Python 3",
   "language": "python",
   "name": "python3"
  },
  "language_info": {
   "codemirror_mode": {
    "name": "ipython",
    "version": 3
   },
   "file_extension": ".py",
   "mimetype": "text/x-python",
   "name": "python",
   "nbconvert_exporter": "python",
   "pygments_lexer": "ipython3",
   "version": "3.12.2"
  }
 },
 "nbformat": 4,
 "nbformat_minor": 4
}
