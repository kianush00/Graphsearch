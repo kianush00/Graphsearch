{
 "cells": [
  {
   "cell_type": "markdown",
   "metadata": {},
   "source": [
    "# Testing GraphSearch Distance Concepts"
   ]
  },
  {
   "cell_type": "markdown",
   "metadata": {},
   "source": [
    "## Load Libraries"
   ]
  },
  {
   "cell_type": "code",
   "execution_count": 1,
   "metadata": {},
   "outputs": [
    {
     "name": "stderr",
     "output_type": "stream",
     "text": [
      "[nltk_data] Downloading package stopwords to\n",
      "[nltk_data]     C:\\Users\\kianu\\AppData\\Roaming\\nltk_data...\n",
      "[nltk_data]   Package stopwords is already up-to-date!\n",
      "[nltk_data] Downloading package punkt to\n",
      "[nltk_data]     C:\\Users\\kianu\\AppData\\Roaming\\nltk_data...\n",
      "[nltk_data]   Package punkt is already up-to-date!\n",
      "[nltk_data] Downloading package wordnet to\n",
      "[nltk_data]     C:\\Users\\kianu\\AppData\\Roaming\\nltk_data...\n",
      "[nltk_data]   Package wordnet is already up-to-date!\n"
     ]
    },
    {
     "data": {
      "text/plain": [
       "True"
      ]
     },
     "execution_count": 1,
     "metadata": {},
     "output_type": "execute_result"
    }
   ],
   "source": [
    "import srex_new_classes\n",
    "from stop_words import get_stop_words\n",
    "import nltk\n",
    "from nltk.corpus import stopwords\n",
    "\n",
    "#Download stopword\n",
    "nltk.download('stopwords') \n",
    "nltk.download('punkt') # Tokenizers\n",
    "nltk.download('wordnet') # Wordnet"
   ]
  },
  {
   "cell_type": "markdown",
   "metadata": {},
   "source": [
    "## Initialize some variables"
   ]
  },
  {
   "cell_type": "code",
   "execution_count": 2,
   "metadata": {},
   "outputs": [],
   "source": [
    "# Stop Words\n",
    "stop_words_list = stopwords.words('english') #a small one\n",
    "newStopWords = get_stop_words('en') # a big one\n",
    "stop_words_list.extend(newStopWords) # all together"
   ]
  },
  {
   "cell_type": "code",
   "execution_count": 3,
   "metadata": {},
   "outputs": [],
   "source": [
    "query                    = 'internet of things'\n",
    "reference_terms          = ['iot', 'internet of things']\n",
    "nr_search_results        = 10\n",
    "\n",
    "ranking_weight_type      = 'linear' # it can be: 'none', 'linear' or 'inverse'\n",
    "lema                     = True\n",
    "stem                     = False\n",
    "sumarize                 = 'none' \n",
    "nr_of_graph_terms        = 5\n",
    "limit_distance           = 4 \n",
    "include_reference_terms  = True\n",
    "format_adjacent_refterms = True"
   ]
  },
  {
   "cell_type": "code",
   "execution_count": 4,
   "metadata": {},
   "outputs": [
    {
     "name": "stdout",
     "output_type": "stream",
     "text": [
      "defaultdict(<class 'list'>, {'internet': [0], 'thing': [1], 'security': [2], 'multilayered': [3], 'method': [4], 'end': [5, 6], 'data': [7], 'communication': [8], 'cellular': [9], 'network': [10]})\n",
      "defaultdict(<class 'list'>, {'aim': [0], 'paper': [1], 'put': [2], 'forth': [3], 'multilayered': [4], 'method': [5], 'securing': [6], 'data': [7], 'transport': [8], 'cellular': [9, 15], 'connected': [10], 'internet': [11], 'thing': [12], 'device': [13], 'host': [14], 'network': [16]})\n",
      "defaultdict(<class 'list'>, {'method': [0], 'employ': [1], 'many': [2], 'interlocking': [3], 'security': [4], 'element': [5], 'described': [6], 'paper': [7], 'implemented': [8], 'totality': [9], 'provide': [10], 'highly': [11], 'secure': [12], 'connectivity': [13], 'solution': [14]})\n",
      "defaultdict(<class 'list'>, {'assiut': [0], 'iot': [1], 'remotely': [2], 'accessible': [3], 'testbed': [4], 'internet': [5], 'thing': [6]})\n",
      "defaultdict(<class 'list'>, {'internet': [0], 'thins': [1], 'paradigm': [2], 'thing': [3], 'device': [4, 14], 'communicate': [5], 'cloud': [6], 'platform': [7], 'perform': [8], 'set': [9], 'task': [10], 'includes': [11], 'monitoring': [12], 'controlling': [13], 'surrounding': [15], 'environment': [16]})\n",
      "defaultdict(<class 'list'>, {'paper': [0], 'introduce': [1], 'basic': [2], 'architecture': [3], 'assiut': [4], 'iot': [5, 10], 'remotely': [6], 'accessible': [7], 'testbed': [8], 'designed': [9], 'application': [11]})\n",
      "defaultdict(<class 'list'>, {'testbed': [0], 'adopts': [1], 'experiment': [2, 12], 'service': [3], 'eaas': [4], 'model': [5], 'provides': [6], 'suitable': [7], 'easy': [8], 'way': [9], 'remotely': [10], 'implement': [11], 'related': [13], 'iot': [14], 'application': [15]})\n",
      "defaultdict(<class 'list'>, {'provide': [0], 'detail': [1], 'testbed': [2], 'design': [3], 'architecture': [4], 'hardware': [5], 'software': [6], 'point': [7], 'view': [8]})\n",
      "defaultdict(<class 'list'>, {'also': [0], 'provide': [1], 'example': [2], 'experiment': [3], 'implemented': [4], 'using': [5], 'testbed': [6]})\n",
      "defaultdict(<class 'list'>, {'tornado': [0], 'enabling': [1], 'blockchain': [2], 'heterogeneous': [3], 'internet': [4], 'thing': [5], 'approach': [6]})\n",
      "defaultdict(<class 'list'>, {'widespread': [0], 'application': [1], 'internet': [2], 'thing': [3], 'iot': [4], 'smart': [5], 'city': [6], 'business': [7], 'healthcare': [8], 'security': [9], 'data': [10], 'device': [11], 'becomes': [12], 'major': [13], 'concern': [14]})\n",
      "defaultdict(<class 'list'>, {'although': [0], 'blockchain': [1], 'effectively': [2], 'enhance': [3], 'network': [4], 'security': [5], 'achieve': [6], 'fault': [7], 'tolerance': [8], 'huge': [9], 'resource': [10], 'consumption': [11], 'limited': [12], 'performance': [13], 'data': [14], 'processing': [15], 'restrict': [16], 'deployment': [17], 'iot': [18], 'scenario': [19]})\n",
      "defaultdict(<class 'list'>, {'observing': [0], 'heterogeneity': [1], 'resource': [2], 'constraint': [3], 'intend': [4], 'make': [5], 'blockchain': [6], 'accommodate': [7], 'wimpy': [8], 'brawny': [9], 'iot': [10], 'device': [11]})\n",
      "defaultdict(<class 'list'>, {'article': [0], 'present': [1], 'tornado': [2], 'blockchain': [3, 10], 'system': [4], 'based': [5], 'ledger': [6], 'corresponding': [7], 'algorithm': [8], 'enable': [9], 'iot': [11]})\n",
      "defaultdict(<class 'list'>, {'specifically': [0], 'first': [1], 'design': [2], 'chain': [3], 'architecture': [4], 'novel': [5], 'data': [6], 'structure': [7], 'promoting': [8], 'network': [9], 'scalability': [10]})\n",
      "defaultdict(<class 'list'>, {'address': [0], 'huge': [1], 'heterogeneity': [2], 'iot': [3], 'novel': [4], 'consensus': [5], 'mechanism': [6], 'named': [7], 'work': [8], 'developed': [9]})\n",
      "defaultdict(<class 'list'>, {'moreover': [0], 'propose': [1], 'greedy': [2], 'subtree': [3], 's2ghost': [4], 'protocol': [5], 'improving': [6], 'resource': [7], 'efficiency': [8], 'iot': [9], 'device': [10]})\n",
      "defaultdict(<class 'list'>, {'additionally': [0], 'dynamic': [1], 'weight': [2], 'assignment': [3], 'mechanism': [4], 's2ghost': [5], 'contributes': [6], 'reflect': [7], 'trustworthiness': [8], 'data': [9], 'device': [10]})\n",
      "defaultdict(<class 'list'>, {'extensive': [0], 'experiment': [1], 'demonstrate': [2], 'tornado': [3], 'achieve': [4], 'maximum': [5], 'throughput': [6], 'transaction': [7], 'per': [8], 'second': [9]})\n",
      "defaultdict(<class 'list'>, {'optimization': [0], 'propagation': [1], 'latency': [2], 'resource': [3], 'efficiency': [4], 'respectively': [5]})\n",
      "defaultdict(<class 'list'>, {'internet': [0], 'thing': [1], 'environment': [2], 'automation': [3], 'smart': [4], 'lab': [5], 'practical': [6], 'approach': [7]})\n",
      "defaultdict(<class 'list'>, {'work': [0], 'present': [1], 'automation': [2], 'platform': [3], 'development': [4], 'aiming': [5], 'smart': [6, 8, 10], 'house': [7], 'office': [9], 'lab': [11], 'application': [12]})\n",
      "defaultdict(<class 'list'>, {'platform': [0], 'comprises': [1], 'hardware': [2], 'control': [3], 'module': [4], 'mobile': [5], 'application': [6], 'database': [7], 'mqtt': [8], 'broker': [9], 'server': [10]})\n",
      "defaultdict(<class 'list'>, {'hardware': [0], 'module': [1], 'allow': [2], 'automating': [3], 'air': [4], 'conditioning': [5], 'setup': [6], 'internal': [7], 'lighting': [8], 'open': [9], 'closed': [10], 'curtain': [11], 'door': [12], 'access': [13], 'control': [14]})\n",
      "defaultdict(<class 'list'>, {'mobile': [0], 'application': [1], 'address': [2], 'command': [3], 'sent': [4], 'hardware': [5], 'module': [6], 'broker': [7], 'server': [8]})\n",
      "defaultdict(<class 'list'>, {'platform': [0], 'integrates': [1], 'different': [2], 'control': [3], 'function': [4], 'turn': [5], 'conventional': [6], 'environment': [7], 'smart': [8]})\n",
      "defaultdict(<class 'list'>, {'exploit': [0], 'approach': [1], 'electronic': [2], 'device': [3], 'providing': [4], 'easy': [5], 'implementation': [6], 'compared': [7], 'market': [8], 'product': [9]})\n",
      "defaultdict(<class 'list'>, {'anomaly': [0], 'data': [1], 'detection': [2], 'approach': [3], 'wireless': [4], 'sensor': [5], 'internet': [6], 'thing': [7]})\n",
      "defaultdict(<class 'list'>, {'nowadays': [0], 'internet': [1], 'thing': [2], 'iot': [3], 'widely': [4], 'employed': [5], 'different': [6], 'application': [7], 'health': [8], 'care': [9], 'manufacturing': [10], 'weather': [11], 'forecasting': [12]})\n",
      "defaultdict(<class 'list'>, {'however': [0], 'due': [1], 'sensor': [2], 'sensitivity': [3], 'potential': [4], 'harsh': [5], 'environmental': [6], 'interference': [7], 'deception': [8], 'iot': [9], 'data': [10], 'normally': [11], 'apt': [12], 'imperfect': [13], 'erroneous': [14]})\n",
      "defaultdict(<class 'list'>, {'paper': [0], 'present': [1], 'approach': [2], 'based': [3], 'gaussian': [4], 'mixture': [5], 'model': [6], 'fuzzy': [7], 'measure': [8], 'detect': [9], 'anomalous': [10], 'data': [11], 'without': [12], 'prior': [13], 'knowledge': [14], 'training': [15], 'overcome': [16], 'adverse': [17], 'issue': [18]})\n",
      "defaultdict(<class 'list'>, {'experimental': [0], 'result': [1], 'demonstrate': [2], 'proposed': [3], 'approach': [4], 'efficient': [5], 'effective': [6], 'detecting': [7], 'anomaly': [8], 'data': [9], 'achieves': [10], 'detection': [11], 'accuracy': [12], 'ranging': [13], '93': [14], '100': [15]})\n",
      "defaultdict(<class 'list'>, {'intelligent': [0], 'internet': [1], 'thing': [2], 'service': [3], 'based': [4], 'artificial': [5], 'intelligence': [6], 'technology': [7]})\n",
      "defaultdict(<class 'list'>, {'global': [0], 'internet': [1], 'industry': [2], 'becoming': [3, 11], 'mature': [4], 'showing': [5], 'vigorous': [6], 'development': [7, 16], 'potential': [8], 'vitality': [9], 'gradually': [10], 'important': [12], 'part': [13], 'promoting': [14], 'economic': [15], 'challenge': [17]})\n",
      "defaultdict(<class 'list'>, {'future': [0], 'help': [1], 'artificial': [2], 'intelligence': [3], 'technology': [4, 7, 10], 'big': [5], 'data': [6], '5g': [8], 'new': [9], 'increase': [11], 'internet': [12, 15, 19], 'usage': [13], 'focus': [14], 'connection': [16, 18, 21], 'shift': [17], 'thing': [20]})\n",
      "defaultdict(<class 'list'>, {'since': [0], '2020': [1], 'novel': [2], 'coronavirus': [3], 'pneumonia': [4], 'outbreak': [5], 'spread': [6], 'worldwide': [7], 'brought': [8], 'great': [9], 'challenge': [10], 'global': [11], 'economy': [12], 'society': [13]})\n",
      "defaultdict(<class 'list'>, {'internet': [0], 'played': [1], 'important': [2], 'role': [3], 'resumption': [4], 'work': [5], 'production': [6], 'economic': [7], 'recovery': [8], 'maintenance': [9], 'social': [10], 'operation': [11]})\n",
      "defaultdict(<class 'list'>, {'application': [0], 'internet': [1], 'thing': [2], 'alleviated': [3], 'negative': [4], 'effect': [5], 'epidemic': [6], 'made': [7], 'important': [8], 'contribution': [9], 'economic': [10], 'development': [11]})\n",
      "defaultdict(<class 'list'>, {'making': [0], 'internet': [1], 'thing': [2], 'real': [3]})\n",
      "defaultdict(<class 'list'>, {'internet': [0], 'thing': [1], 'iot': [2], 'driving': [3], 'next': [4], 'wave': [5], 'innovation': [6], 'business': [7], 'model': [8], 'technology': [9]})\n",
      "defaultdict(<class 'list'>, {'iot': [0], 'revolution': [1], 'called': [2], 'promise': [3], 'major': [4], 'driver': [5], 'economic': [6], 'activity': [7], 'many': [8], 'business': [9, 13], 'coming': [10], 'onboard': [11], 'approached': [12], 'technology': [14], 'perspective': [15], 'together': [16], 'desired': [17], 'outcome': [18], 'may': [19], 'always': [20], 'achieved': [21]})\n",
      "defaultdict(<class 'list'>, {'article': [0], 'take': [1], 'fresh': [2], 'look': [3], 'iot': [4], 'business': [5], 'revolution': [6], 'driven': [7], 'technology': [8]})\n",
      "defaultdict(<class 'list'>, {'key': [0], 'contribution': [1], 'definition': [2], 'business': [3, 12], 'technology': [4], 'driver': [5], 'need': [6], 'considered': [7], 'choice': [8], 'made': [9], 'adoption': [10], 'iot': [11]})\n",
      "defaultdict(<class 'list'>, {'provide': [0, 8], 'case': [1], 'study': [2], 'actual': [3], 'business': [4, 7, 11], 'successfully': [5], 'transformed': [6], 'example': [9], 'key': [10], 'technology': [12], 'driver': [13], 'considered': [14]})\n",
      "defaultdict(<class 'list'>, {'opportunistic': [0], 'cyberphysical': [1], 'service': [2], 'novel': [3], 'paradigm': [4], 'future': [5], 'internet': [6], 'thing': [7]})\n",
      "defaultdict(<class 'list'>, {'service': [0], 'paramount': [1], 'importance': [2], 'unfolding': [3], 'potential': [4], 'future': [5], 'internet': [6], 'thing': [7], 'iot': [8], 'dense': [9], 'open': [10], 'cyberphysical': [11], 'ecosystem': [12], 'human': [13], 'conventional': [14], 'computing': [15], 'system': [16], 'daily': [17], 'object': [18], 'straightforwardly': [19], 'interoperate': [20]})\n",
      "defaultdict(<class 'list'>, {'summarizing': [0], 'previous': [1], 'contribution': [2], 'novel': [3], 'research': [4], 'context': [5], 'paper': [6], 'promotes': [7], 'vision': [8], 'opportunistic': [9, 15], 'iot': [10], 'service': [11], 'approach': [12], 'modeling': [13], 'according': [14], 'property': [16]})\n",
      "defaultdict(<class 'list'>, {'effectiveness': [0], 'flexibility': [1], 'illustrated': [2], 'mean': [3], 'two': [4], 'case': [5], 'study': [6], 'related': [7], 'industrial': [8], 'iot': [9], 'smart': [10], 'city': [11], 'scenario': [12]})\n",
      "defaultdict(<class 'list'>, {'practical': [0], 'application': [1], 'machine': [2], 'learning': [3], 'based': [4], 'online': [5], 'intrusion': [6], 'detection': [7], 'internet': [8], 'thing': [9], 'network': [10]})\n",
      "defaultdict(<class 'list'>, {'internet': [0], 'thing': [1], 'iot': [2], 'device': [3], 'participate': [4], 'open': [5], 'distributed': [6], 'perception': [7], 'layer': [8], 'vulnerability': [9], 'cyber': [10], 'attack': [11], 'becoming': [12], 'key': [13], 'concern': [14], 'data': [15], 'privacy': [16], 'service': [17], 'availability': [18]})\n",
      "defaultdict(<class 'list'>, {'perception': [0], 'layer': [1], 'provides': [2], 'unique': [3], 'challenge': [4], 'intrusion': [5], 'detection': [6], 'resource': [7], 'constrained': [8], 'network': [9], 'distributed': [10]})\n",
      "defaultdict(<class 'list'>, {'additional': [0], 'challenge': [1], 'iot': [2], 'network': [3], 'continuous': [4], 'data': [5], 'stream': [6], 'due': [7], 'variable': [8], 'nature': [9], 'likely': [10], 'experience': [11], 'concept': [12], 'drift': [13]})\n",
      "defaultdict(<class 'list'>, {'research': [0], 'aimed': [1], 'review': [2], 'practical': [3], 'application': [4], 'online': [5, 19], 'machine': [6], 'learning': [7, 20], 'method': [8], 'iot': [9], 'network': [10], 'intrusion': [11], 'detection': [12], 'answer': [13], 'question': [14], 'resource': [15], 'efficient': [16], 'architecture': [17, 21], 'provided': [18], 'introduced': [22], 'related': [23], 'id': [24], 'approach': [25], 'reviewed': [26], 'evaluated': [27]})\n",
      "defaultdict(<class 'list'>, {'online': [0], 'learning': [1], 'provides': [2], 'potential': [3], 'memory': [4], 'time': [5], 'efficient': [6], 'architecture': [7], 'adapt': [8], 'concept': [9], 'drift': [10], 'perform': [11], 'anomaly': [12], 'detection': [13], 'providing': [14], 'solution': [15], 'resource': [16], 'constrained': [17], 'distributed': [18], 'iot': [19], 'perception': [20], 'layer': [21]})\n",
      "defaultdict(<class 'list'>, {'future': [0], 'research': [1], 'focus': [2], 'addressing': [3], 'class': [4, 11], 'imbalance': [5], 'data': [6], 'stream': [7], 'ensure': [8], 'minority': [9], 'attack': [10], 'missed': [12]})\n",
      "defaultdict(<class 'list'>, {'framework': [0], 'security': [1], 'protection': [2], 'internet': [3], 'thing': [4], 'iot': [5], 'device': [6]})\n",
      "defaultdict(<class 'list'>, {'day': [0], 'internet': [1], 'thing': [2], 'iot': [3], 'transformed': [4], 'extreme': [5], 'ponder': [6], 'created': [7], 'stride': [8], 'practically': [9], 'field': [10], 'human': [11], 'life': [12]})\n",
      "defaultdict(<class 'list'>, {'examination': [0], 'paper': [1], 'give': [2], 'survey': [3], 'internet': [4], 'thing': [5], 'engaging': [6], 'development': [7], 'security': [8], 'issue': [9], 'creating': [10], 'application': [11], 'remote': [12], 'progression': [13]})\n",
      "defaultdict(<class 'list'>, {'enormous': [0], 'number': [1], 'employment': [2], 'internet': [3], 'thing': [4], 'essentially': [5], 'aspect': [6], 'life': [7]})\n",
      "defaultdict(<class 'list'>, {'therapeutic': [0], 'administration': [1], 'collaboration': [2], 'generation': [3], 'organize': [4], 'organization': [5], 'savvy': [6], 'condition': [7], 'social': [8], 'application': [9], 'et': [10], 'cetera': [11], 'thusly': [12], 'security': [13], 'fundamental': [14], 'stress': [15], 'remote': [16], 'framework': [17], 'accordingly': [18], 'one': [19], 'rule': [20], 'issue': [21], 'internet': [22], 'thing': [23]})\n",
      "defaultdict(<class 'list'>, {'following': [0], 'paper': [1], 'provide': [2], 'layout': [3], 'various': [4], 'security': [5, 17], 'stress': [6], 'internet': [7], 'thing': [8], 'system': [9], 'peril': [10], 'identified': [11], 'challenge': [12], 'framework': [13], 'protect': [14], 'iot': [15], 'device': [16], 'issue': [18]})\n"
     ]
    }
   ],
   "source": [
    "ranking = srex_new_classes.Ranking(query_text=query, reference_terms=reference_terms, nr_search_results=nr_search_results, ranking_weight_type=ranking_weight_type,\n",
    "                                   stop_words=stop_words_list, lema=lema, stem=stem)"
   ]
  },
  {
   "cell_type": "code",
   "execution_count": 5,
   "metadata": {},
   "outputs": [],
   "source": [
    "ranking.set_graph_attributes_to_ranking_and_documents(nr_of_graph_terms, limit_distance, include_reference_terms, format_adjacent_refterms)"
   ]
  }
 ],
 "metadata": {
  "kernelspec": {
   "display_name": "Python 3",
   "language": "python",
   "name": "python3"
  },
  "language_info": {
   "codemirror_mode": {
    "name": "ipython",
    "version": 3
   },
   "file_extension": ".py",
   "mimetype": "text/x-python",
   "name": "python",
   "nbconvert_exporter": "python",
   "pygments_lexer": "ipython3",
   "version": "3.12.2"
  }
 },
 "nbformat": 4,
 "nbformat_minor": 4
}
